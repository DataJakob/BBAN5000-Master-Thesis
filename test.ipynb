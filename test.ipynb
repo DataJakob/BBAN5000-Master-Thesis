{
 "cells": [
  {
   "cell_type": "markdown",
   "metadata": {},
   "source": [
    "<h1> Main.ipynb </h1>\n",
    "<h2> 1. Import libraries and modules </h2>"
   ]
  },
  {
   "cell_type": "code",
   "execution_count": 1,
   "metadata": {},
   "outputs": [],
   "source": [
    "import numpy as np\n",
    "import pandas as pd\n",
    "\n",
    "from src.Data_Retriever import DataRetrieverNew as DatRet\n",
    "\n",
    "from src.Optimization.Markowitz_PT import MarkowitzPT as MPT\n",
    "\n",
    "from src.Optimization.Environment import PortfolioEnvironment as PorEnv\n",
    "from src.Optimization.RLModelCompilation import RL_Model as RLM\n",
    "# from src.Optimization.NeuralNet import CustomCNNExtractor \n",
    "\n",
    "from src.Result.Menchero_OGA import MencheroOGA as MOGA\n",
    "from src.Result.IndPortResults import GenerateResult as GR\n",
    "from src.Result.OverviewResults import ResultConveyor as RC\n",
    "\n",
    "import time\n",
    "\n",
    "import warnings\n",
    "warnings.filterwarnings('ignore')"
   ]
  },
  {
   "cell_type": "markdown",
   "metadata": {},
   "source": [
    "<h2> 2. Define operating variables </h2>"
   ]
  },
  {
   "cell_type": "code",
   "execution_count": 2,
   "metadata": {},
   "outputs": [],
   "source": [
    "trading_n = 400\n",
    "history_usage = 504\n",
    "n_sectors = 6\n",
    "n_stocks_per_sector = 4\n",
    "\n",
    "# For RL algorithm\n",
    "history_usage_RL = 40\n",
    "rolling_reward_window = 40"
   ]
  },
  {
   "cell_type": "markdown",
   "metadata": {},
   "source": [
    "<h2> 3. Define stock dataframe </h2>"
   ]
  },
  {
   "cell_type": "code",
   "execution_count": 3,
   "metadata": {},
   "outputs": [],
   "source": [
    "ticker_df =  pd.DataFrame({\n",
    "    \"Petroleum\": [\"EQNR.OL\", \"SUBC.OL\", \"BWO.OL\"],\n",
    "    \"Food\": [\"ORK.OL\", \"MOWI.OL\", \"LSG.OL\"],\n",
    "    \"Materials\": [\"NHY.OL\", \"YAR.OL\", \"RECSI.OL\"],\n",
    "    \"Technologies\": [\"TEL.OL\", \"NOD.OL\", \"ATEA.OL\"],\n",
    "    \"Financial\": [\"STB.OL\", \"DNB.OL\", \"AKER.OL\"],\n",
    "    \"Shipping\":[\"SNI.OL\", \"BELCO.OL\", \"ODF.OL\"]\n",
    "})"
   ]
  },
  {
   "cell_type": "markdown",
   "metadata": {},
   "source": [
    "<h2> 4. Define ESG array </h2>"
   ]
  },
  {
   "cell_type": "code",
   "execution_count": 4,
   "metadata": {},
   "outputs": [],
   "source": [
    "esg_scores = np.array([36.6, 17.9, 18, \n",
    "                18, 23.2, 29.2, \n",
    "                15.7, 25.4, 25.6, # Del this\n",
    "                19.8, 13.8, 18.1, \n",
    "                17.3, 14, 12.3, \n",
    "                21.2, 26.8, 24.9\n",
    "                ])"
   ]
  },
  {
   "cell_type": "markdown",
   "metadata": {},
   "source": [
    "<h2> 5.-7. (Non-necessary for reproducability) </h2>\n",
    "<h3>Data retrieval</h3>\n",
    "<h3>Benchmark optimization (MPT)</h3>\n",
    "<h3>RL optimization x4</h3>\n",
    "<br>\n",
    "All of the data has been generated an stored in csvs. Therefore, I can comment out the code lines below."
   ]
  },
  {
   "cell_type": "code",
   "execution_count": 5,
   "metadata": {},
   "outputs": [
    {
     "name": "stdout",
     "output_type": "stream",
     "text": [
      "YF.download() has changed argument auto_adjust default to True\n"
     ]
    },
    {
     "name": "stderr",
     "output_type": "stream",
     "text": [
      "[*********************100%***********************]  1 of 1 completed\n",
      "[*********************100%***********************]  1 of 1 completed\n",
      "[*********************100%***********************]  1 of 1 completed\n",
      "[*********************100%***********************]  1 of 1 completed\n",
      "[*********************100%***********************]  1 of 1 completed\n",
      "[*********************100%***********************]  1 of 1 completed\n",
      "[*********************100%***********************]  1 of 1 completed\n",
      "[*********************100%***********************]  1 of 1 completed\n",
      "[*********************100%***********************]  1 of 1 completed\n",
      "[*********************100%***********************]  1 of 1 completed\n",
      "[*********************100%***********************]  1 of 1 completed\n",
      "[*********************100%***********************]  1 of 1 completed\n",
      "[*********************100%***********************]  1 of 1 completed\n",
      "[*********************100%***********************]  1 of 1 completed\n",
      "[*********************100%***********************]  1 of 1 completed\n",
      "[*********************100%***********************]  1 of 1 completed\n",
      "[*********************100%***********************]  1 of 1 completed\n",
      "[*********************100%***********************]  1 of 1 completed\n"
     ]
    },
    {
     "name": "stdout",
     "output_type": "stream",
     "text": [
      "--- Data retrieved successfully ---\n"
     ]
    }
   ],
   "source": [
    "# Retrieve data from yf API: y-m-d\n",
    "data = DatRet(\"2006-07-01\", \"2025-03-31\", ticker_df)\n",
    "# In function below, set log=True to check for data availability\n",
    "data.retrieve_data()"
   ]
  },
  {
   "cell_type": "code",
   "execution_count": 6,
   "metadata": {},
   "outputs": [],
   "source": [
    "# Generate benchmark weights thorugh MPT using Sharpe ratio\n",
    "# # benchmark = MPT(history_usage, trading_n)\n",
    "# IMPORTANT: In order to see  the effect of the weights, algo exclude last observation from optimization\n",
    "# # benchmark.frequency_optimizing()"
   ]
  },
  {
   "cell_type": "code",
   "execution_count": 7,
   "metadata": {},
   "outputs": [],
   "source": [
    "# objectives = [\"Return\", \"Sharpe\", \"Sortino\", \"Sterling\", \"Return\", \"Sharpe\", \"Sortino\", \"Sterling\"]\n",
    "# esg_compliancy = [True, True, True, True, False, False, False, False]\n",
    "# # objectives = [\"Sharpe\"]\n",
    "# # esg_compliancy = [True]\n",
    "\n",
    "# for i in range(len(objectives)):\n",
    "#     reinforcement = RLM(esg_scores, \n",
    "#                         objective=objectives[i],\n",
    "#                         history_usage=history_usage_RL,\n",
    "#                         rolling_reward_window=rolling_reward_window,\n",
    "#                         total_timesteps=200,\n",
    "#                         esg_compliancy=esg_compliancy[i],\n",
    "#                         )\n",
    "#     reinforcement.train_model()\n",
    "#     reinforcement.test_model()"
   ]
  },
  {
   "cell_type": "markdown",
   "metadata": {},
   "source": [
    "<h2> 8. Attribution analysis </h2>"
   ]
  },
  {
   "cell_type": "code",
   "execution_count": 8,
   "metadata": {},
   "outputs": [],
   "source": [
    "# paths = [\"Return_esg_True\", \"Sharpe_esg_True\",\n",
    "#          \"Sortino_esg_True\",\"Sterling_esg_True\",\n",
    "#          \"Return_esg_False\", \"Sharpe_esg_False\",\n",
    "#          \"Sortino_esg_False\",\"Sterling_esg_False\",]\n",
    "\n",
    "# analysis_list = []\n",
    "# for i in range(len(paths)):\n",
    "#     att_anal = GR(paths[i],\n",
    "#             n_sectors, n_stocks_per_sector,\n",
    "#             trading_n,\n",
    "#             esg_scores, \n",
    "#             ticker_df.columns)\n",
    "#     att_anal.friple_frequency_analysis()\n",
    "#     analysis_list.append(att_anal)"
   ]
  },
  {
   "cell_type": "markdown",
   "metadata": {},
   "source": [
    "<h2> 9. Overview  Result Analysis </h2>"
   ]
  },
  {
   "cell_type": "code",
   "execution_count": 9,
   "metadata": {},
   "outputs": [],
   "source": [
    "# theta = RC(analysis_list, trading_n)\n",
    "# theta.convey_results()"
   ]
  },
  {
   "cell_type": "markdown",
   "metadata": {},
   "source": [
    "<h1> 10. Ad-hoc </h1>"
   ]
  },
  {
   "cell_type": "code",
   "execution_count": 10,
   "metadata": {},
   "outputs": [],
   "source": [
    "# ret = pd.read_csv(\"Data/Input/StockReturns.csv\")\n",
    "# weights = pd.read_csv(\"Data/RL_weights_Sharpe_esg_false.csv\")\n",
    "\n",
    "# train_set = ret.iloc[:int(0.85*len(ret))]\n",
    "# test_set = ret.iloc[int(0.85*len(ret)):]"
   ]
  },
  {
   "cell_type": "code",
   "execution_count": null,
   "metadata": {},
   "outputs": [],
   "source": []
  },
  {
   "cell_type": "code",
   "execution_count": 11,
   "metadata": {},
   "outputs": [],
   "source": [
    "# import pandas as pd\n",
    "# import numpy as np\n",
    "# import yfinance as yf"
   ]
  },
  {
   "cell_type": "code",
   "execution_count": 12,
   "metadata": {},
   "outputs": [],
   "source": [
    "start_date = \"2006-07-01\"\n",
    "end_date = \"2024-03-31\""
   ]
  },
  {
   "cell_type": "code",
   "execution_count": 13,
   "metadata": {},
   "outputs": [],
   "source": [
    "# class DataRetrieverNew:\n",
    "\n",
    "#     def __init__(self, start_date, end_date, ticker_df):\n",
    "#         \"\"\"\n",
    "#         doc string\n",
    "#         \"\"\"\n",
    "#         self.start_date = start_date\n",
    "#         self.end_date = end_date\n",
    "#         self.ticker_list = np.array(ticker_df).flatten()\n",
    "\n",
    "#         self.master_daterange = pd.Series(np.repeat(pd.date_range(start=self.start_date, end=self.end_date, freq=\"B\"), 2), name=\"Date\")\n",
    "#         self.return_df = pd.DataFrame(index=self.master_daterange)\n",
    "#         self.volume_df = pd.DataFrame(index=self.master_daterange)\n",
    "#         self.rolling_return_df = pd.DataFrame(index=self.master_daterange)\n",
    "#         self.rolling_volatility_df = pd.DataFrame(index=self.master_daterange)\n",
    "\n",
    "\n",
    "#     def z_score(self, arr: np.array):\n",
    "#         \"\"\"\n",
    "#         doc string\n",
    "#         \"\"\"\n",
    "#         z_score_arr = (arr - np.mean(arr)) / np.std(arr)\n",
    "\n",
    "#         return z_score_arr\n",
    "\n",
    "\n",
    "\n",
    "#     def retrieve_data(self):\n",
    "#         \"\"\"\n",
    "#         doc string\n",
    "#         \"\"\"\n",
    "#         for i in range(0, len(self.ticker_list), 1):\n",
    "#             stock_data = yf.download(self.ticker_list[i], start=start_date, end=end_date)\n",
    "\n",
    "#             date_df = pd.DataFrame(index=self.master_daterange)\n",
    "#             open = stock_data[\"Open\"]\n",
    "#             individual_df = pd.merge(date_df, open, on=\"Date\", how=\"left\")\n",
    "#             inter_df = pd.merge(date_df, stock_data[\"Close\"], on=\"Date\", how=\"left\")\n",
    "#             individual_df[self.ticker_list[i]].iloc[1::2] = inter_df[self.ticker_list[i]].iloc[::2]\n",
    "#             return_series = individual_df.interpolate().ffill().bfill()\n",
    "#             vol_series = pd.merge(date_df, stock_data[\"Volume\"], on=\"Date\", how=\"left\")\n",
    "\n",
    "#             self.return_df[self.ticker_list[i]] = return_series[self.ticker_list[i]]\n",
    "#             self.volume_df[self.ticker_list[i]] = self.z_score(vol_series[self.ticker_list[i]])\n",
    "#             self.rolling_return_df[self.ticker_list[i]] = return_series[self.ticker_list[i]].rolling(40).mean().bfill()\n",
    "#             self.return_df[self.ticker_list[i]] = return_series[self.ticker_list[i]].rolling(40).std().bfill()\n",
    "        \n",
    "#         master_df = pd.concat([self.return_df, self.volume_df, self.rolling_return_df, self.rolling_volatility_df], axis = 1)\n",
    "#         master_df.to_csv(\"Mix.csv\", index=False)\n",
    "\n",
    "#         print(\"--- Data retrieved successfully ---\")"
   ]
  },
  {
   "cell_type": "code",
   "execution_count": 14,
   "metadata": {},
   "outputs": [],
   "source": [
    "# hotel = DataRetrieverNew(start_date,end_date, [\"EQNR.OL\", \"SNI.OL\"] )\n",
    "# hotel.retrieve_data()"
   ]
  }
 ],
 "metadata": {
  "kernelspec": {
   "display_name": "MyVenv",
   "language": "python",
   "name": "python3"
  },
  "language_info": {
   "codemirror_mode": {
    "name": "ipython",
    "version": 3
   },
   "file_extension": ".py",
   "mimetype": "text/x-python",
   "name": "python",
   "nbconvert_exporter": "python",
   "pygments_lexer": "ipython3",
   "version": "3.11.8"
  }
 },
 "nbformat": 4,
 "nbformat_minor": 2
}
