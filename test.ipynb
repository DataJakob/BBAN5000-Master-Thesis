{
 "cells": [
  {
   "cell_type": "markdown",
   "metadata": {},
   "source": [
    "<h1> Main.ipynb </h1>\n",
    "<h2> 1. Import libraries and modules </h2>"
   ]
  },
  {
   "cell_type": "code",
   "execution_count": 1,
   "metadata": {},
   "outputs": [],
   "source": [
    "import numpy as np\n",
    "import pandas as pd \n",
    "import matplotlib.pyplot as plt\n",
    "\n",
    "\n",
    "from src.Data_Retriever import DataRetriever as DatRet\n",
    "\n",
    "from src.Optimization.Markowitz_PT import MarkowitzPT as MPT\n",
    "\n",
    "# from src.Optimization.Environment import PortfolioEnvironment as PorEnv\n",
    "# from src.Optimization.RLModelCompilation import RL_Model as RLM\n",
    "from src.Optimization.NeuralNet import CustomNeuralNet as CusNN\n",
    "from src.Optimization.NeuralNet import CustomSACPolicy as CSACP\n",
    "\n",
    "from src.Result.Menchero_OGA import MencheroOGA as MOGA\n",
    "from src.Result.IndPortResults import GenerateResult as GR\n",
    "from src.Result.OverviewResults import ResultConveyor as RC"
   ]
  },
  {
   "cell_type": "code",
   "execution_count": null,
   "metadata": {},
   "outputs": [],
   "source": []
  },
  {
   "cell_type": "markdown",
   "metadata": {},
   "source": [
    "<h2> 2. Define operating variables </h2>"
   ]
  },
  {
   "cell_type": "code",
   "execution_count": 4,
   "metadata": {},
   "outputs": [],
   "source": [
    "# Define necessary non-fixed variables\n",
    "trading_n = 30\n",
    "history_usage = 100\n",
    "n_sectors = 6\n",
    "n_stocks_per_sector = 4\n",
    "\n",
    "# For RL algorithm\n",
    "history_usage_RL = 10"
   ]
  },
  {
   "cell_type": "markdown",
   "metadata": {},
   "source": [
    "<h2> 3. Define stock dataframe </h2>"
   ]
  },
  {
   "cell_type": "code",
   "execution_count": 5,
   "metadata": {},
   "outputs": [
    {
     "data": {
      "text/html": [
       "<div>\n",
       "<style scoped>\n",
       "    .dataframe tbody tr th:only-of-type {\n",
       "        vertical-align: middle;\n",
       "    }\n",
       "\n",
       "    .dataframe tbody tr th {\n",
       "        vertical-align: top;\n",
       "    }\n",
       "\n",
       "    .dataframe thead th {\n",
       "        text-align: right;\n",
       "    }\n",
       "</style>\n",
       "<table border=\"1\" class=\"dataframe\">\n",
       "  <thead>\n",
       "    <tr style=\"text-align: right;\">\n",
       "      <th></th>\n",
       "      <th>Petroleum</th>\n",
       "      <th>Seafood (food)</th>\n",
       "      <th>Materials</th>\n",
       "      <th>Technologies</th>\n",
       "      <th>Financial</th>\n",
       "      <th>Shipping</th>\n",
       "    </tr>\n",
       "  </thead>\n",
       "  <tbody>\n",
       "    <tr>\n",
       "      <th>0</th>\n",
       "      <td>EQNR.OL</td>\n",
       "      <td>ORK.OL</td>\n",
       "      <td>NHY.OL</td>\n",
       "      <td>TEL.OL</td>\n",
       "      <td>STB.OL</td>\n",
       "      <td>WAWI.OL</td>\n",
       "    </tr>\n",
       "    <tr>\n",
       "      <th>1</th>\n",
       "      <td>AKRBP.OL</td>\n",
       "      <td>MOWI.OL</td>\n",
       "      <td>YAR.OL</td>\n",
       "      <td>NOD.OL</td>\n",
       "      <td>DNB.OL</td>\n",
       "      <td>SNI.OL</td>\n",
       "    </tr>\n",
       "    <tr>\n",
       "      <th>2</th>\n",
       "      <td>SUBC.OL</td>\n",
       "      <td>SALM.OL</td>\n",
       "      <td>RECSI.OL</td>\n",
       "      <td>ATEA.OL</td>\n",
       "      <td>GJF.OL</td>\n",
       "      <td>BELCO.OL</td>\n",
       "    </tr>\n",
       "    <tr>\n",
       "      <th>3</th>\n",
       "      <td>BWO.OL</td>\n",
       "      <td>LSG.OL</td>\n",
       "      <td>BRG.OL</td>\n",
       "      <td>BOUV.OL</td>\n",
       "      <td>AKER.OL</td>\n",
       "      <td>ODF.OL</td>\n",
       "    </tr>\n",
       "  </tbody>\n",
       "</table>\n",
       "</div>"
      ],
      "text/plain": [
       "  Petroleum Seafood (food) Materials Technologies Financial  Shipping\n",
       "0   EQNR.OL         ORK.OL    NHY.OL       TEL.OL    STB.OL   WAWI.OL\n",
       "1  AKRBP.OL        MOWI.OL    YAR.OL       NOD.OL    DNB.OL    SNI.OL\n",
       "2   SUBC.OL        SALM.OL  RECSI.OL      ATEA.OL    GJF.OL  BELCO.OL\n",
       "3    BWO.OL         LSG.OL    BRG.OL      BOUV.OL   AKER.OL    ODF.OL"
      ]
     },
     "execution_count": 5,
     "metadata": {},
     "output_type": "execute_result"
    }
   ],
   "source": [
    "# Defining stock pool\n",
    "ticker_df =  pd.DataFrame()\n",
    "ticker_df[\"Petroleum\"] = [\"EQNR.OL\", \"AKRBP.OL\", \"SUBC.OL\", \"BWO.OL\",]\n",
    "ticker_df[\"Seafood (food)\"] = [\"ORK.OL\", \"MOWI.OL\", \"SALM.OL\", \"LSG.OL\"]\n",
    "ticker_df[\"Materials\"] = [\"NHY.OL\", \"YAR.OL\", \"RECSI.OL\", \"BRG.OL\"]\n",
    "ticker_df[\"Technologies\"] = [\"TEL.OL\", \"NOD.OL\", \"ATEA.OL\", \"BOUV.OL\"]\n",
    "ticker_df[\"Financial\"] = [\"STB.OL\", \"DNB.OL\", \"GJF.OL\", \"AKER.OL\"]\n",
    "ticker_df[\"Shipping\"] = [\"WAWI.OL\", \"SNI.OL\", \"BELCO.OL\", \"ODF.OL\"]\n",
    "ticker_df"
   ]
  },
  {
   "cell_type": "markdown",
   "metadata": {},
   "source": [
    "<h2> 4. Define ESG array </h2>"
   ]
  },
  {
   "cell_type": "code",
   "execution_count": 6,
   "metadata": {},
   "outputs": [],
   "source": [
    "# Defining ESG scores for respective securities\n",
    "esg_scores = [36.6, 35.3, 17.9, 18, \n",
    "              18, 21.2, 18.7, 29.2, \n",
    "              15.7, 25.6, 25.6, 18.4, \n",
    "              19.8, 13.8, 18.1, 19, \n",
    "              17.2, 14, 17.2, 19.5, \n",
    "              19.7, 21.2, 26.8, 19.3]"
   ]
  },
  {
   "cell_type": "code",
   "execution_count": 15,
   "metadata": {},
   "outputs": [
    {
     "name": "stdout",
     "output_type": "stream",
     "text": [
      "[1.00541252 1.00857672 0.99980161 0.98394184 0.99149874 0.99341396\n",
      " 0.98797465 0.98945287 0.98905267 0.98739737 0.98549693 0.98735756\n",
      " 0.9957576  0.99313022 0.99138904 0.99510976 0.99007879 0.98727187\n",
      " 0.97991789 0.97865248 0.9690425  0.97098534 0.96683304 0.96720824\n",
      " 0.95515196 0.95898989 0.9621249  0.95608392 0.94794731 0.93942004\n",
      " 0.9383651  0.93769302 0.92617051 0.92836249 0.92858916 0.92784484\n",
      " 0.92665161 0.92571173 0.92167522 0.92395795 0.93535166 0.93095285\n",
      " 0.94657311 0.95644168 0.94741146 0.94683888 0.94392657 0.94693901\n",
      " 0.94559876 0.94729888 0.9432707  0.94804693 0.95785266 0.96158143\n",
      " 0.95946333 0.9576457  0.94395086 0.94630495 0.94364232 0.94438689\n",
      " 0.94872627 0.94655576 0.94445229 0.94296913 0.93937541 0.94339087\n",
      " 0.95077077 0.95370406 0.95791577 0.95884703 0.96075456 0.9626891\n",
      " 0.95263639 0.95469101 0.95631434 0.95548497 0.95266667 0.94938083\n",
      " 0.96309437 0.9631236  0.96440679 0.9648344  0.97141147 0.96957885\n",
      " 0.9582053  0.95339946 0.93998276 0.90417052 0.91710479 0.90752909\n",
      " 0.91798339 0.92650084 0.93476662 0.93828277 0.94622989 0.94875648\n",
      " 0.96573205 0.96862587 0.96189574]\n",
      "----Analysis completed succesfully----\n"
     ]
    }
   ],
   "source": [
    "my_df = pd.read_csv(\"C:\\Programmering\\jakob\\BBAN5000-Master-Thesis\\Data\\RL_weights_train.csv\")\n",
    "\n",
    "alfa = GR('train', n_sectors, n_stocks_per_sector, 100, esg_scores,ticker_df.columns)\n",
    "alfa.friple_frequency_analysis()"
   ]
  },
  {
   "cell_type": "code",
   "execution_count": 43,
   "metadata": {},
   "outputs": [
    {
     "name": "stdout",
     "output_type": "stream",
     "text": [
      "[1.00675545 1.00707545 1.01228491 1.01118069 1.00694221 1.00715331\n",
      " 1.00757184 1.0096245  1.01065256 1.01234391 1.01382955 1.01423269\n",
      " 1.00728747 1.01789305 1.01796704 1.01431046 1.01968806 1.02069172\n",
      " 1.02434704 1.02212142 1.02418225 1.02584249 1.03198088 1.03811809\n",
      " 1.04075003 1.04142291 1.04497456 1.04579035 1.04957901 1.04927134\n",
      " 1.05479082 1.05759971 1.06027811 1.06092925 1.06251479 1.06482633\n",
      " 1.06218435 1.06608708 1.0644842  1.0755631  1.08334031 1.08251243\n",
      " 1.07650567 1.06972977 1.067461   1.06794861 1.07173681 1.0696888\n",
      " 1.06610639 1.06976284 1.06969728 1.07146324 1.06966011 1.07007929\n",
      " 1.07493115 1.09891756 1.10364274 1.10321474 1.11198653 1.11305183\n",
      " 1.11750997 1.11907505 1.11944639 1.12152092 1.12545306 1.12353721\n",
      " 1.12022076 1.12123877 1.12511081 1.1275411  1.13201094 1.13263736\n",
      " 1.13099184 1.13641035 1.14774728 1.15268693 1.15928486 1.15587888\n",
      " 1.15516898 1.15403058 1.15438067 1.15750638 1.14970874 1.15105208\n",
      " 1.1536852  1.15808052 1.15539884 1.16227872 1.15386352 1.15902511\n",
      " 1.15706624 1.15669156 1.15931572 1.16224653 1.16465228 1.16742906\n",
      " 1.15860839 1.1633657  1.14856442 1.14799401 1.14950025 1.15172929\n",
      " 1.15789209 1.1633848  1.15877147 1.15935854 1.14205184 1.14461105\n",
      " 1.14426409 1.1496064  1.14137756 1.14275042 1.144403   1.13681635\n",
      " 1.14478884 1.14776462 1.13347194 1.13679027 1.14287038 1.1419112\n",
      " 1.13699666 1.13838245 1.13062043 1.12990721 1.12995251 1.13290488\n",
      " 1.13457243 1.13577546 1.13159198 1.13271126 1.1300761  1.12471349\n",
      " 1.12866454 1.12731054 1.13688888 1.13857435 1.13097104 1.1346898\n",
      " 1.1321121  1.13743144 1.14184662 1.14151003 1.14418377 1.14866574\n",
      " 1.13874993 1.14001083 1.14084922 1.1451192  1.14262898 1.14403662\n",
      " 1.13900442 1.14047827 1.13856944 1.13956257 1.12818297 1.12872569\n",
      " 1.1225571  1.12272529 1.12506474 1.12734956 1.11919108 1.11724509\n",
      " 1.12677842 1.12401947 1.12485305 1.1238368  1.12058227 1.12136411\n",
      " 1.12483249 1.12497654 1.1315009  1.13143522 1.13065026 1.13341561\n",
      " 1.13805831 1.14129235 1.13719434 1.13785997 1.13241105 1.12961431\n",
      " 1.12515742 1.12832544 1.1245398  1.12736725 1.13402805 1.13479543\n",
      " 1.13551763 1.13839671 1.14791974 1.1554313  1.14600105 1.13696451\n",
      " 1.10757867 1.07273708 1.07540699 1.09071474 1.08994377 1.09879339\n",
      " 1.11429198 1.11452428 1.11168245 1.1183596  1.11659268 1.12214221\n",
      " 1.12551327 1.1287381  1.12643249 1.13335177 1.1336332  1.13450393\n",
      " 1.1351797  1.14312526 1.1347134  1.13315646 1.13560257 1.12669005\n",
      " 1.117098   1.12036246 1.12447441 1.12669065 1.12193301 1.1245895\n",
      " 1.12515394 1.12393523 1.13299274 1.13241099 1.12891181 1.13050083\n",
      " 1.12665851 1.1257416  1.1344239  1.13577973 1.14259631 1.13989714\n",
      " 1.13196436 1.13374796 1.10960441 1.10059395 1.10697383 1.10355135\n",
      " 1.10131971 1.09603855 1.09320278 1.09583904 1.10158189 1.10297397\n",
      " 1.09148235 1.09869493 1.09554046 1.10535777 1.10044055 1.10208696\n",
      " 1.10970202 1.11305953 1.12597705 1.12676216 1.13147012 1.13222131\n",
      " 1.1298875  1.14791314 1.1497605  1.14999839 1.14402405 1.14517833\n",
      " 1.1449414  1.1492106  1.14199348 1.13748156 1.13415082 1.13054698\n",
      " 1.12035874 1.12359199 1.12678291 1.1294783  1.13554776 1.13195557\n",
      " 1.13368905 1.13705516 1.13360475 1.13474256 1.13433072 1.14056907\n",
      " 1.14318732 1.14387961 1.14099348 1.13265728 1.12312092 1.12903283\n",
      " 1.13561737 1.13900445 1.14683723 1.14789208 1.15468127 1.1527804\n",
      " 1.15018819 1.14840792 1.14942115 1.14748226 1.14620665 1.14508971\n",
      " 1.15180607 1.15466725 1.14508485 1.13172446 1.13765545 1.13951377\n",
      " 1.1340107  1.13753749 1.13700084 1.13706495 1.13533165 1.13802804\n",
      " 1.14645801 1.14496229 1.14469434 1.14813725 1.1400193  1.13567063\n",
      " 1.12729449 1.12566583 1.11465195 1.11687225 1.11386378 1.11439457\n",
      " 1.10422321 1.10617011 1.10844532 1.10217281 1.09434265 1.0837433\n",
      " 1.08057802 1.08046791 1.06669057 1.06894585 1.06856478 1.06707339\n",
      " 1.0644513  1.06190682 1.0589532  1.06425351 1.07672491 1.06996733\n",
      " 1.08051705 1.08671707 1.07967446 1.07948586 1.07652042 1.07879817\n",
      " 1.08103848 1.08249808 1.07845038 1.08308763 1.09264824 1.09624004\n",
      " 1.09147943 1.08986869 1.07316286 1.07589388 1.07179313 1.07285473\n",
      " 1.07632308 1.07363152 1.07124209 1.06992827 1.06380838 1.06749787\n",
      " 1.073921   1.07796592 1.08518045 1.08597145 1.08592255 1.08705285\n",
      " 1.07642069 1.07934466 1.07920164 1.07742493 1.07321    1.0708854\n",
      " 1.08712571 1.08729245 1.08703821 1.08758298 1.09287137 1.08993735\n",
      " 1.07763972 1.0703226  1.05624767 1.02909959 1.03908956 1.02752142\n",
      " 1.03895203 1.04495801 1.05525345 1.05808396 1.06555962 1.06912215\n",
      " 1.08589433 1.08912212 1.08481099]\n",
      "----Analysis completed succesfully----\n"
     ]
    }
   ],
   "source": [
    "my_df = pd.read_csv(\"C:\\Programmering\\jakob\\BBAN5000-Master-Thesis\\Data\\RL_weights_test.csv\")\n",
    "\n",
    "alfa = GR('test', n_sectors, n_stocks_per_sector, 400, esg_scores,ticker_df.columns)\n",
    "alfa.friple_frequency_analysis()"
   ]
  },
  {
   "cell_type": "markdown",
   "metadata": {},
   "source": [
    "<h2> 5.-7. (Non-necessary for reproducability) </h2>\n",
    "<h3>Data retrieval</h3>\n",
    "<h3>Benchmark optimization (MPT)</h3>\n",
    "<h3>RL optimization x4</h3>\n",
    "<br>\n",
    "All of the data has been generated an stored in csvs. Therefore, I can comment out the code lines below."
   ]
  },
  {
   "cell_type": "code",
   "execution_count": 5,
   "metadata": {},
   "outputs": [],
   "source": [
    "# # Retrieve data from yf API: y-m-d\n",
    "# data = DatRet(ticker_df, \"2013-01-01\", \"2024-01-01\")\n",
    "# # In function below, set log=True to check for data availability\n",
    "# data.retrieve_data()"
   ]
  },
  {
   "cell_type": "code",
   "execution_count": 6,
   "metadata": {},
   "outputs": [],
   "source": [
    "\n",
    "# # Generate benchmark weights thorugh MPT using Sharpe ratio\n",
    "# benchmark = MPT(history_usage, trading_n)\n",
    "# # IMPORTANT: In order to see  the effect of the weights, algo exclude last observation from optimization\n",
    "# benchmark.frequency_optimizing()"
   ]
  },
  {
   "cell_type": "code",
   "execution_count": 7,
   "metadata": {},
   "outputs": [],
   "source": [
    "# objectives = [\"Return\", \"Sharpe\", \"Sortino\", \"Sterling\", \"Return\", \"Sharpe\", \"Sortino\", \"Sterling\"]\n",
    "# esg_compliancy = [True, True, True, True, False, False, False, False]\n",
    "\n",
    "# for i in range(len(objectives)):\n",
    "#     reinforcement = RLM(esg_scores, \n",
    "#                         objective=objectives[i],\n",
    "#                         window_size=history_usage_RL,\n",
    "#                         total_timesteps=5000,\n",
    "#                         esg_compliancy=esg_compliancy[i],\n",
    "#                         )\n",
    "#     reinforcement.train_model()\n",
    "#     reinforcement.test_model()"
   ]
  },
  {
   "cell_type": "markdown",
   "metadata": {},
   "source": [
    "<h2> 8. Attribution analysis </h2>"
   ]
  },
  {
   "cell_type": "code",
   "execution_count": 8,
   "metadata": {},
   "outputs": [
    {
     "name": "stdout",
     "output_type": "stream",
     "text": [
      "----Analysis completed succesfully----\n",
      "----Analysis completed succesfully----\n",
      "----Analysis completed succesfully----\n",
      "----Analysis completed succesfully----\n",
      "----Analysis completed succesfully----\n",
      "----Analysis completed succesfully----\n",
      "----Analysis completed succesfully----\n",
      "----Analysis completed succesfully----\n"
     ]
    }
   ],
   "source": [
    "paths = [\"Return_esg_True\", \"Sharpe_esg_True\",\n",
    "         \"Sortino_esg_True\",\"Sterling_esg_True\",\n",
    "         \"Return_esg_False\", \"Sharpe_esg_False\",\n",
    "         \"Sortino_esg_False\",\"Sterling_esg_False\",]\n",
    "\n",
    "analysis_list = []\n",
    "for i in range(len(paths)):\n",
    "    att_anal = GR(paths[i],\n",
    "            n_sectors, n_stocks_per_sector,\n",
    "            trading_n,\n",
    "            esg_scores, \n",
    "            ticker_df.columns)\n",
    "    att_anal.friple_frequency_analysis()\n",
    "    analysis_list.append(att_anal)"
   ]
  },
  {
   "cell_type": "markdown",
   "metadata": {},
   "source": [
    "<h2> X. Ad hoc analysis </h2>"
   ]
  },
  {
   "cell_type": "code",
   "execution_count": 9,
   "metadata": {},
   "outputs": [],
   "source": [
    "theta = RC(analysis_list, trading_n)\n",
    "theta.convey_results()"
   ]
  }
 ],
 "metadata": {
  "kernelspec": {
   "display_name": ".venv",
   "language": "python",
   "name": "python3"
  },
  "language_info": {
   "codemirror_mode": {
    "name": "ipython",
    "version": 3
   },
   "file_extension": ".py",
   "mimetype": "text/x-python",
   "name": "python",
   "nbconvert_exporter": "python",
   "pygments_lexer": "ipython3",
   "version": "3.11.9"
  }
 },
 "nbformat": 4,
 "nbformat_minor": 2
}
