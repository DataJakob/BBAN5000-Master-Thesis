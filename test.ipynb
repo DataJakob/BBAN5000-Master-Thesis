{
 "cells": [
  {
   "cell_type": "markdown",
   "metadata": {},
   "source": [
    "<h1> Main.ipynb </h1>\n",
    "<h2> 1. Import libraries and modules </h2>"
   ]
  },
  {
   "cell_type": "code",
   "execution_count": 75,
   "metadata": {},
   "outputs": [],
   "source": [
    "import numpy as np\n",
    "import pandas as pd\n",
    "\n",
    "from src.Data_Retriever import DataRetriever as DatRet\n",
    "\n",
    "from src.Optimization.Markowitz_PT import MarkowitzPT as MPT\n",
    "\n",
    "from src.Optimization.Environment import PortfolioEnvironment as PorEnv\n",
    "from src.Optimization.RLModelCompilation import RL_Model as RLM\n",
    "# from src.Optimization.NeuralNet import CustomCNNExtractor \n",
    "\n",
    "from src.Result.Menchero_OGA import MencheroOGA as MOGA\n",
    "from src.Result.IndPortResults import GenerateResult as GR\n",
    "from src.Result.OverviewResults import ResultConveyor as RC\n",
    "\n",
    "import time\n",
    "\n",
    "import warnings\n",
    "warnings.filterwarnings('ignore')"
   ]
  },
  {
   "cell_type": "markdown",
   "metadata": {},
   "source": [
    "<h2> 2. Define operating variables </h2>"
   ]
  },
  {
   "cell_type": "code",
   "execution_count": 3,
   "metadata": {},
   "outputs": [],
   "source": [
    "trading_n = 400\n",
    "history_usage = 504\n",
    "n_sectors = 6\n",
    "n_stocks_per_sector = 4\n",
    "\n",
    "# For RL algorithm\n",
    "history_usage_RL = 30\n",
    "rolling_reward_window = 15"
   ]
  },
  {
   "cell_type": "markdown",
   "metadata": {},
   "source": [
    "<h2> 3. Define stock dataframe </h2>"
   ]
  },
  {
   "cell_type": "code",
   "execution_count": 86,
   "metadata": {},
   "outputs": [
    {
     "data": {
      "text/html": [
       "<div>\n",
       "<style scoped>\n",
       "    .dataframe tbody tr th:only-of-type {\n",
       "        vertical-align: middle;\n",
       "    }\n",
       "\n",
       "    .dataframe tbody tr th {\n",
       "        vertical-align: top;\n",
       "    }\n",
       "\n",
       "    .dataframe thead th {\n",
       "        text-align: right;\n",
       "    }\n",
       "</style>\n",
       "<table border=\"1\" class=\"dataframe\">\n",
       "  <thead>\n",
       "    <tr style=\"text-align: right;\">\n",
       "      <th></th>\n",
       "      <th>Petroleum</th>\n",
       "      <th>Seafood (food)</th>\n",
       "      <th>Materials</th>\n",
       "      <th>Technologies</th>\n",
       "      <th>Financial</th>\n",
       "      <th>Shipping</th>\n",
       "    </tr>\n",
       "  </thead>\n",
       "  <tbody>\n",
       "    <tr>\n",
       "      <th>0</th>\n",
       "      <td>EQNR.OL</td>\n",
       "      <td>ORK.OL</td>\n",
       "      <td>NHY.OL</td>\n",
       "      <td>TEL.OL</td>\n",
       "      <td>STB.OL</td>\n",
       "      <td>WAWI.OL</td>\n",
       "    </tr>\n",
       "    <tr>\n",
       "      <th>1</th>\n",
       "      <td>AKRBP.OL</td>\n",
       "      <td>MOWI.OL</td>\n",
       "      <td>YAR.OL</td>\n",
       "      <td>NOD.OL</td>\n",
       "      <td>DNB.OL</td>\n",
       "      <td>SNI.OL</td>\n",
       "    </tr>\n",
       "    <tr>\n",
       "      <th>2</th>\n",
       "      <td>SUBC.OL</td>\n",
       "      <td>SALM.OL</td>\n",
       "      <td>RECSI.OL</td>\n",
       "      <td>ATEA.OL</td>\n",
       "      <td>GJF.OL</td>\n",
       "      <td>BELCO.OL</td>\n",
       "    </tr>\n",
       "    <tr>\n",
       "      <th>3</th>\n",
       "      <td>BWO.OL</td>\n",
       "      <td>LSG.OL</td>\n",
       "      <td>BRG.OL</td>\n",
       "      <td>BOUV.OL</td>\n",
       "      <td>AKER.OL</td>\n",
       "      <td>ODF.OL</td>\n",
       "    </tr>\n",
       "  </tbody>\n",
       "</table>\n",
       "</div>"
      ],
      "text/plain": [
       "  Petroleum Seafood (food) Materials Technologies Financial  Shipping\n",
       "0   EQNR.OL         ORK.OL    NHY.OL       TEL.OL    STB.OL   WAWI.OL\n",
       "1  AKRBP.OL        MOWI.OL    YAR.OL       NOD.OL    DNB.OL    SNI.OL\n",
       "2   SUBC.OL        SALM.OL  RECSI.OL      ATEA.OL    GJF.OL  BELCO.OL\n",
       "3    BWO.OL         LSG.OL    BRG.OL      BOUV.OL   AKER.OL    ODF.OL"
      ]
     },
     "execution_count": 86,
     "metadata": {},
     "output_type": "execute_result"
    }
   ],
   "source": [
    "ticker_df =  pd.DataFrame()\n",
    "ticker_df[\"Petroleum\"] = [\"EQNR.OL\", \"AKRBP.OL\", \"SUBC.OL\", \"BWO.OL\",]\n",
    "ticker_df[\"Seafood (food)\"] = [\"ORK.OL\", \"MOWI.OL\", \"SALM.OL\", \"LSG.OL\"]\n",
    "ticker_df[\"Materials\"] = [\"NHY.OL\", \"YAR.OL\", \"RECSI.OL\", \"BRG.OL\"]  #del this\n",
    "ticker_df[\"Technologies\"] = [\"TEL.OL\", \"NOD.OL\", \"ATEA.OL\", \"BOUV.OL\"]\n",
    "ticker_df[\"Financial\"] = [\"STB.OL\", \"DNB.OL\", \"GJF.OL\", \"AKER.OL\"]\n",
    "ticker_df[\"Shipping\"] = [\"WAWI.OL\", \"SNI.OL\", \"BELCO.OL\", \"ODF.OL\"]\n",
    "ticker_df"
   ]
  },
  {
   "cell_type": "markdown",
   "metadata": {},
   "source": [
    "<h2> 4. Define ESG array </h2>"
   ]
  },
  {
   "cell_type": "code",
   "execution_count": 5,
   "metadata": {},
   "outputs": [],
   "source": [
    "esg_scores = np.array([36.6, 35.3, 17.9, 18, \n",
    "                18, 21.2, 18.7, 29.2, \n",
    "                15.7, 25.6, 25.6, 18.4, # Del this\n",
    "                19.8, 13.8, 18.1, 19, \n",
    "                17.2, 14, 17.2, 19.5, \n",
    "                19.7, 21.2, 26.8, 19.3])"
   ]
  },
  {
   "cell_type": "markdown",
   "metadata": {},
   "source": [
    "<h2> 5.-7. (Non-necessary for reproducability) </h2>\n",
    "<h3>Data retrieval</h3>\n",
    "<h3>Benchmark optimization (MPT)</h3>\n",
    "<h3>RL optimization x4</h3>\n",
    "<br>\n",
    "All of the data has been generated an stored in csvs. Therefore, I can comment out the code lines below."
   ]
  },
  {
   "cell_type": "code",
   "execution_count": 6,
   "metadata": {},
   "outputs": [],
   "source": [
    "# Retrieve data from yf API: y-m-d\n",
    "# data = DatRet(ticker_df, \"2013-01-01\", \"2024-12-31\", history_usage_RL=history_usage_RL)\n",
    "# # In function below, set log=True to check for data availability\n",
    "# data.retrieve_data()"
   ]
  },
  {
   "cell_type": "code",
   "execution_count": 7,
   "metadata": {},
   "outputs": [],
   "source": [
    "# Generate benchmark weights thorugh MPT using Sharpe ratio\n",
    "# # benchmark = MPT(history_usage, trading_n)\n",
    "# IMPORTANT: In order to see  the effect of the weights, algo exclude last observation from optimization\n",
    "# # benchmark.frequency_optimizing()"
   ]
  },
  {
   "cell_type": "code",
   "execution_count": 8,
   "metadata": {},
   "outputs": [],
   "source": [
    "# objectives = [\"Return\", \"Sharpe\", \"Sortino\", \"Sterling\", \"Return\", \"Sharpe\", \"Sortino\", \"Sterling\"]\n",
    "# esg_compliancy = [True, True, True, True, False, False, False, False]\n",
    "# # objectives = [\"Sharpe\"]\n",
    "# # esg_compliancy = [True]\n",
    "\n",
    "# for i in range(len(objectives)):\n",
    "#     reinforcement = RLM(esg_scores, \n",
    "#                         objective=objectives[i],\n",
    "#                         history_usage=history_usage_RL,\n",
    "#                         rolling_reward_window=rolling_reward_window,\n",
    "#                         total_timesteps=200,\n",
    "#                         esg_compliancy=esg_compliancy[i],\n",
    "#                         )\n",
    "#     reinforcement.train_model()\n",
    "#     reinforcement.test_model()"
   ]
  },
  {
   "cell_type": "markdown",
   "metadata": {},
   "source": [
    "<h2> 8. Attribution analysis </h2>"
   ]
  },
  {
   "cell_type": "code",
   "execution_count": 9,
   "metadata": {},
   "outputs": [],
   "source": [
    "# paths = [\"Return_esg_True\", \"Sharpe_esg_True\",\n",
    "#          \"Sortino_esg_True\",\"Sterling_esg_True\",\n",
    "#          \"Return_esg_False\", \"Sharpe_esg_False\",\n",
    "#          \"Sortino_esg_False\",\"Sterling_esg_False\",]\n",
    "\n",
    "# analysis_list = []\n",
    "# for i in range(len(paths)):\n",
    "#     att_anal = GR(paths[i],\n",
    "#             n_sectors, n_stocks_per_sector,\n",
    "#             trading_n,\n",
    "#             esg_scores, \n",
    "#             ticker_df.columns)\n",
    "#     att_anal.friple_frequency_analysis()\n",
    "#     analysis_list.append(att_anal)"
   ]
  },
  {
   "cell_type": "markdown",
   "metadata": {},
   "source": [
    "<h2> 9. Overview  Result Analysis </h2>"
   ]
  },
  {
   "cell_type": "code",
   "execution_count": 10,
   "metadata": {},
   "outputs": [],
   "source": [
    "# theta = RC(analysis_list, trading_n)\n",
    "# theta.convey_results()"
   ]
  },
  {
   "cell_type": "markdown",
   "metadata": {},
   "source": [
    "<h1> 10. Ad-hoc </h1>"
   ]
  },
  {
   "cell_type": "code",
   "execution_count": 11,
   "metadata": {},
   "outputs": [],
   "source": [
    "# ret = pd.read_csv(\"Data/Input/StockReturns.csv\")\n",
    "# weights = pd.read_csv(\"Data/RL_weights_Sharpe_esg_false.csv\")\n",
    "\n",
    "# train_set = ret.iloc[:int(0.85*len(ret))]\n",
    "# test_set = ret.iloc[int(0.85*len(ret)):]"
   ]
  },
  {
   "cell_type": "code",
   "execution_count": null,
   "metadata": {},
   "outputs": [],
   "source": []
  },
  {
   "cell_type": "code",
   "execution_count": 12,
   "metadata": {},
   "outputs": [],
   "source": [
    "import pandas as pd\n",
    "import numpy as np\n",
    "import yfinance as yf"
   ]
  },
  {
   "cell_type": "code",
   "execution_count": null,
   "metadata": {},
   "outputs": [],
   "source": []
  },
  {
   "cell_type": "code",
   "execution_count": 13,
   "metadata": {},
   "outputs": [],
   "source": [
    "start_date = \"2006-07-01\"\n",
    "end_date = \"2024-03-31\""
   ]
  },
  {
   "cell_type": "code",
   "execution_count": 88,
   "metadata": {},
   "outputs": [
    {
     "data": {
      "text/plain": [
       "24"
      ]
     },
     "execution_count": 88,
     "metadata": {},
     "output_type": "execute_result"
    }
   ],
   "source": [
    "len(np.array(ticker_df).flatten())"
   ]
  },
  {
   "cell_type": "code",
   "execution_count": null,
   "metadata": {},
   "outputs": [],
   "source": []
  },
  {
   "cell_type": "code",
   "execution_count": null,
   "metadata": {},
   "outputs": [],
   "source": [
    "class DataRetrieverNew:\n",
    "\n",
    "    def __init__(self, start_date, end_date, ticker_df):\n",
    "        \"\"\"\n",
    "        doc string\n",
    "        \"\"\"\n",
    "        self.start_date = start_date\n",
    "        self.end_date = end_date\n",
    "        self.ticker_list = np.array(ticker_df).flatten()\n",
    "\n",
    "        self.master_daterange = pd.Series(np.repeat(pd.date_range(start=self.start_date, end=self.end_date, freq=\"B\"), 2), name=\"Date\")\n",
    "        self.return_df = pd.DataFrame(index=self.master_daterange)\n",
    "        self.volume_df = pd.DataFrame(index=self.master_daterange)\n",
    "        self.rolling_return_df = pd.DataFrame(index=self.master_daterange)\n",
    "        self.rolling_volatility_df = pd.DataFrame(index=self.master_daterange)\n",
    "\n",
    "\n",
    "    def z_score(self, arr: np.array):\n",
    "        \"\"\"\n",
    "        doc string\n",
    "        \"\"\"\n",
    "        z_score_arr = (arr - np.mean(arr)) / np.std(arr)\n",
    "\n",
    "        return z_score_arr\n",
    "\n",
    "\n",
    "\n",
    "    def retrieve_data(self):\n",
    "        \"\"\"\n",
    "        doc string\n",
    "        \"\"\"\n",
    "        for i in range(0, len(self.ticker_list), 1):\n",
    "            stock_data = yf.download(self.ticker_list[i], start=start_date, end=end_date)\n",
    "\n",
    "            date_df = pd.DataFrame(index=self.master_daterange)\n",
    "            open = stock_data[\"Open\"]\n",
    "            individual_df = pd.merge(date_df, open, on=\"Date\", how=\"left\")\n",
    "            inter_df = pd.merge(date_df, stock_data[\"Close\"], on=\"Date\", how=\"left\")\n",
    "            individual_df[self.ticker_list[i]].iloc[1::2] = inter_df[self.ticker_list[i]].iloc[::2]\n",
    "            return_series = individual_df.interpolate().ffill().bfill()\n",
    "            vol_series = pd.merge(date_df, stock_data[\"Volume\"], on=\"Date\", how=\"left\")\n",
    "\n",
    "            self.return_df[self.ticker_list[i]] = return_series[self.ticker_list[i]]\n",
    "            self.volume_df[self.ticker_list[i]] = self.z_score(vol_series[self.ticker_list[i]])\n",
    "            self.rolling_return_df[self.ticker_list[i]] = return_series[self.ticker_list[i]].rolling(40).mean().bfill()\n",
    "            self.return_df[self.ticker_list[i]] = return_series[self.ticker_list[i]].rolling(40).std().bfill()\n",
    "        \n",
    "        master_df = pd.concat([self.return_df, self.volume_df, self.rolling_return_df, self.rolling_volatility_df], axis = 1)\n",
    "        master_df.to_csv(\"Mix.csv\", index=False)\n",
    "\n",
    "        print(\"--- Data retrieved successfully ---\")"
   ]
  },
  {
   "cell_type": "code",
   "execution_count": 99,
   "metadata": {},
   "outputs": [
    {
     "name": "stderr",
     "output_type": "stream",
     "text": [
      "[*********************100%***********************]  1 of 1 completed\n",
      "[*********************100%***********************]  1 of 1 completed"
     ]
    },
    {
     "name": "stdout",
     "output_type": "stream",
     "text": [
      "--- Data retrieved successfully ---\n"
     ]
    },
    {
     "name": "stderr",
     "output_type": "stream",
     "text": [
      "\n"
     ]
    }
   ],
   "source": [
    "hotel = DataRetrieverNew(start_date,end_date, [\"EQNR.OL\", \"SNI.OL\"] )\n",
    "hotel.retrieve_data()"
   ]
  },
  {
   "cell_type": "code",
   "execution_count": 18,
   "metadata": {},
   "outputs": [
    {
     "name": "stderr",
     "output_type": "stream",
     "text": [
      "[*********************100%***********************]  1 of 1 completed\n"
     ]
    }
   ],
   "source": [
    "master_daterange = pd.Series(np.repeat(pd.date_range(start=start_date, end=end_date, freq=\"B\"), 2), name=\"Date\")\n",
    "return_df = pd.DataFrame(index=master_daterange)\n",
    "volume_df = pd.DataFrame(index=master_daterange)\n",
    "rolling_return = pd.DataFrame(index=master_daterange)\n",
    "rolling_volatility_df = pd.DataFrame(index=master_daterange)\n",
    "apprentice_df = pd.DataFrame(index=master_daterange)\n",
    "stock_data = yf.download(\"EQNR.OL\", start=start_date, end=end_date)"
   ]
  },
  {
   "cell_type": "code",
   "execution_count": 28,
   "metadata": {},
   "outputs": [],
   "source": [
    "# return_df"
   ]
  },
  {
   "cell_type": "code",
   "execution_count": null,
   "metadata": {},
   "outputs": [],
   "source": [
    "for i in range(0, len(ticker_df),1):\n",
    "    date_df = pd.DataFrame(index=master_daterange)\n",
    "    open = stock_data[\"Open\"]\n",
    "    individual_df = pd.merge(date_df, open, on=\"Date\", how=\"left\")\n",
    "    inter_df = pd.merge(date_df, stock_data[\"Close\"], on=\"Date\", how=\"left\")\n",
    "    individual_df[\"EQNR.OL\"].iloc[1::2] = inter_df[\"EQNR.OL\"].iloc[::2]\n",
    "    return_series = individual_df.interpolate().ffill().bfill()\n",
    "    vol_series = pd.merge(date_df, stock_data[\"Volume\"], on=\"Date\", how=\"left\") / 2\n",
    "\n",
    "\n"
   ]
  },
  {
   "cell_type": "code",
   "execution_count": 82,
   "metadata": {},
   "outputs": [],
   "source": [
    "vol_df = pd.merge(date_df, stock_data[\"Volume\"], on=\"Date\", how=\"left\") / 2"
   ]
  },
  {
   "cell_type": "code",
   "execution_count": 83,
   "metadata": {},
   "outputs": [
    {
     "data": {
      "text/html": [
       "<div>\n",
       "<style scoped>\n",
       "    .dataframe tbody tr th:only-of-type {\n",
       "        vertical-align: middle;\n",
       "    }\n",
       "\n",
       "    .dataframe tbody tr th {\n",
       "        vertical-align: top;\n",
       "    }\n",
       "\n",
       "    .dataframe thead th {\n",
       "        text-align: right;\n",
       "    }\n",
       "</style>\n",
       "<table border=\"1\" class=\"dataframe\">\n",
       "  <thead>\n",
       "    <tr style=\"text-align: right;\">\n",
       "      <th></th>\n",
       "      <th>EQNR.OL</th>\n",
       "    </tr>\n",
       "    <tr>\n",
       "      <th>Date</th>\n",
       "      <th></th>\n",
       "    </tr>\n",
       "  </thead>\n",
       "  <tbody>\n",
       "    <tr>\n",
       "      <th>2006-07-03</th>\n",
       "      <td>1952192.0</td>\n",
       "    </tr>\n",
       "    <tr>\n",
       "      <th>2006-07-03</th>\n",
       "      <td>1952192.0</td>\n",
       "    </tr>\n",
       "    <tr>\n",
       "      <th>2006-07-04</th>\n",
       "      <td>2014003.0</td>\n",
       "    </tr>\n",
       "    <tr>\n",
       "      <th>2006-07-04</th>\n",
       "      <td>2014003.0</td>\n",
       "    </tr>\n",
       "    <tr>\n",
       "      <th>2006-07-05</th>\n",
       "      <td>2030154.0</td>\n",
       "    </tr>\n",
       "    <tr>\n",
       "      <th>...</th>\n",
       "      <td>...</td>\n",
       "    </tr>\n",
       "    <tr>\n",
       "      <th>2024-03-27</th>\n",
       "      <td>617997.0</td>\n",
       "    </tr>\n",
       "    <tr>\n",
       "      <th>2024-03-28</th>\n",
       "      <td>NaN</td>\n",
       "    </tr>\n",
       "    <tr>\n",
       "      <th>2024-03-28</th>\n",
       "      <td>NaN</td>\n",
       "    </tr>\n",
       "    <tr>\n",
       "      <th>2024-03-29</th>\n",
       "      <td>NaN</td>\n",
       "    </tr>\n",
       "    <tr>\n",
       "      <th>2024-03-29</th>\n",
       "      <td>NaN</td>\n",
       "    </tr>\n",
       "  </tbody>\n",
       "</table>\n",
       "<p>9260 rows × 1 columns</p>\n",
       "</div>"
      ],
      "text/plain": [
       "              EQNR.OL\n",
       "Date                 \n",
       "2006-07-03  1952192.0\n",
       "2006-07-03  1952192.0\n",
       "2006-07-04  2014003.0\n",
       "2006-07-04  2014003.0\n",
       "2006-07-05  2030154.0\n",
       "...               ...\n",
       "2024-03-27   617997.0\n",
       "2024-03-28        NaN\n",
       "2024-03-28        NaN\n",
       "2024-03-29        NaN\n",
       "2024-03-29        NaN\n",
       "\n",
       "[9260 rows x 1 columns]"
      ]
     },
     "execution_count": 83,
     "metadata": {},
     "output_type": "execute_result"
    }
   ],
   "source": [
    "vol_df"
   ]
  },
  {
   "cell_type": "code",
   "execution_count": 59,
   "metadata": {},
   "outputs": [
    {
     "data": {
      "text/html": [
       "<div>\n",
       "<style scoped>\n",
       "    .dataframe tbody tr th:only-of-type {\n",
       "        vertical-align: middle;\n",
       "    }\n",
       "\n",
       "    .dataframe tbody tr th {\n",
       "        vertical-align: top;\n",
       "    }\n",
       "\n",
       "    .dataframe thead tr th {\n",
       "        text-align: left;\n",
       "    }\n",
       "\n",
       "    .dataframe thead tr:last-of-type th {\n",
       "        text-align: right;\n",
       "    }\n",
       "</style>\n",
       "<table border=\"1\" class=\"dataframe\">\n",
       "  <thead>\n",
       "    <tr>\n",
       "      <th>Price</th>\n",
       "      <th>Close</th>\n",
       "      <th>High</th>\n",
       "      <th>Low</th>\n",
       "      <th>Open</th>\n",
       "      <th>Volume</th>\n",
       "    </tr>\n",
       "    <tr>\n",
       "      <th>Ticker</th>\n",
       "      <th>EQNR.OL</th>\n",
       "      <th>EQNR.OL</th>\n",
       "      <th>EQNR.OL</th>\n",
       "      <th>EQNR.OL</th>\n",
       "      <th>EQNR.OL</th>\n",
       "    </tr>\n",
       "    <tr>\n",
       "      <th>Date</th>\n",
       "      <th></th>\n",
       "      <th></th>\n",
       "      <th></th>\n",
       "      <th></th>\n",
       "      <th></th>\n",
       "    </tr>\n",
       "  </thead>\n",
       "  <tbody>\n",
       "    <tr>\n",
       "      <th>2006-07-03</th>\n",
       "      <td>89.831535</td>\n",
       "      <td>90.331990</td>\n",
       "      <td>88.580400</td>\n",
       "      <td>88.830627</td>\n",
       "      <td>3904384</td>\n",
       "    </tr>\n",
       "    <tr>\n",
       "      <th>2006-07-04</th>\n",
       "      <td>88.830650</td>\n",
       "      <td>90.582241</td>\n",
       "      <td>88.580423</td>\n",
       "      <td>90.582241</td>\n",
       "      <td>4028006</td>\n",
       "    </tr>\n",
       "    <tr>\n",
       "      <th>2006-07-05</th>\n",
       "      <td>88.079948</td>\n",
       "      <td>89.331084</td>\n",
       "      <td>88.079948</td>\n",
       "      <td>88.330176</td>\n",
       "      <td>4060308</td>\n",
       "    </tr>\n",
       "    <tr>\n",
       "      <th>2006-07-06</th>\n",
       "      <td>90.582245</td>\n",
       "      <td>90.582245</td>\n",
       "      <td>89.080882</td>\n",
       "      <td>89.331109</td>\n",
       "      <td>7291150</td>\n",
       "    </tr>\n",
       "    <tr>\n",
       "      <th>2006-07-07</th>\n",
       "      <td>93.584938</td>\n",
       "      <td>93.584938</td>\n",
       "      <td>89.831531</td>\n",
       "      <td>90.331986</td>\n",
       "      <td>9803194</td>\n",
       "    </tr>\n",
       "    <tr>\n",
       "      <th>...</th>\n",
       "      <td>...</td>\n",
       "      <td>...</td>\n",
       "      <td>...</td>\n",
       "      <td>...</td>\n",
       "      <td>...</td>\n",
       "    </tr>\n",
       "    <tr>\n",
       "      <th>2024-03-21</th>\n",
       "      <td>277.540710</td>\n",
       "      <td>280.515046</td>\n",
       "      <td>276.467989</td>\n",
       "      <td>277.930783</td>\n",
       "      <td>2681880</td>\n",
       "    </tr>\n",
       "    <tr>\n",
       "      <th>2024-03-22</th>\n",
       "      <td>279.686127</td>\n",
       "      <td>280.758848</td>\n",
       "      <td>275.980395</td>\n",
       "      <td>276.419245</td>\n",
       "      <td>1829393</td>\n",
       "    </tr>\n",
       "    <tr>\n",
       "      <th>2024-03-25</th>\n",
       "      <td>283.781982</td>\n",
       "      <td>285.342302</td>\n",
       "      <td>280.417545</td>\n",
       "      <td>280.417545</td>\n",
       "      <td>2175403</td>\n",
       "    </tr>\n",
       "    <tr>\n",
       "      <th>2024-03-26</th>\n",
       "      <td>279.442352</td>\n",
       "      <td>283.879511</td>\n",
       "      <td>279.442352</td>\n",
       "      <td>282.806790</td>\n",
       "      <td>1563057</td>\n",
       "    </tr>\n",
       "    <tr>\n",
       "      <th>2024-03-27</th>\n",
       "      <td>279.296051</td>\n",
       "      <td>279.588628</td>\n",
       "      <td>277.345660</td>\n",
       "      <td>278.564654</td>\n",
       "      <td>1235994</td>\n",
       "    </tr>\n",
       "  </tbody>\n",
       "</table>\n",
       "<p>4460 rows × 5 columns</p>\n",
       "</div>"
      ],
      "text/plain": [
       "Price            Close        High         Low        Open   Volume\n",
       "Ticker         EQNR.OL     EQNR.OL     EQNR.OL     EQNR.OL  EQNR.OL\n",
       "Date                                                               \n",
       "2006-07-03   89.831535   90.331990   88.580400   88.830627  3904384\n",
       "2006-07-04   88.830650   90.582241   88.580423   90.582241  4028006\n",
       "2006-07-05   88.079948   89.331084   88.079948   88.330176  4060308\n",
       "2006-07-06   90.582245   90.582245   89.080882   89.331109  7291150\n",
       "2006-07-07   93.584938   93.584938   89.831531   90.331986  9803194\n",
       "...                ...         ...         ...         ...      ...\n",
       "2024-03-21  277.540710  280.515046  276.467989  277.930783  2681880\n",
       "2024-03-22  279.686127  280.758848  275.980395  276.419245  1829393\n",
       "2024-03-25  283.781982  285.342302  280.417545  280.417545  2175403\n",
       "2024-03-26  279.442352  283.879511  279.442352  282.806790  1563057\n",
       "2024-03-27  279.296051  279.588628  277.345660  278.564654  1235994\n",
       "\n",
       "[4460 rows x 5 columns]"
      ]
     },
     "execution_count": 59,
     "metadata": {},
     "output_type": "execute_result"
    }
   ],
   "source": [
    "stock_data"
   ]
  },
  {
   "cell_type": "code",
   "execution_count": 19,
   "metadata": {},
   "outputs": [],
   "source": [
    "apprentice_df = pd.DataFrame(index=master_daterange)\n",
    "\n",
    "#Open data\n",
    "open = stock_data[\"Open\"]   \n",
    "apprentice_df = pd.merge(apprentice_df, open, on=\"Date\")\n",
    "\n",
    "# Close data\n",
    "close = stock_data[\"Close\"]\n",
    "close_merge = pd.merge(master_daterange, close, on=\"Date\")\n",
    "\n",
    "# Every other manual merging\n",
    "for i in range(1,len(apprentice_df),2):\n",
    "    apprentice_df.iloc[i,0] = close_merge.iloc[i,1]\n",
    "\n",
    "return_df = apprentice_df.iloc[:,0]\n"
   ]
  },
  {
   "cell_type": "code",
   "execution_count": null,
   "metadata": {},
   "outputs": [],
   "source": []
  },
  {
   "cell_type": "code",
   "execution_count": 21,
   "metadata": {},
   "outputs": [
    {
     "data": {
      "text/plain": [
       "Index(['EQNR.OL'], dtype='object')"
      ]
     },
     "execution_count": 21,
     "metadata": {},
     "output_type": "execute_result"
    }
   ],
   "source": [
    "apprentice_df.columns"
   ]
  },
  {
   "cell_type": "code",
   "execution_count": 25,
   "metadata": {},
   "outputs": [],
   "source": [
    "class DataRetrieverNew:\n",
    "    def __init__(self, start_date, end_date, ticker_df):\n",
    "        self.start_date = start_date\n",
    "        self.end_date = end_date\n",
    "        self.ticker_list = np.array(ticker_df).flatten()\n",
    "\n",
    "        # Unique business days (no duplicates)\n",
    "        self.master_daterange = pd.Series(\n",
    "            pd.date_range(start=start_date, end=end_date, freq=\"B\"), \n",
    "            name=\"Date\"\n",
    "        )\n",
    "        \n",
    "        # Initialize DataFrames\n",
    "        self.return_df = pd.DataFrame(index=self.master_daterange)\n",
    "        self.volume_df = pd.DataFrame(index=self.master_daterange)\n",
    "        self.rolling_return_df = pd.DataFrame(index=self.master_daterange)\n",
    "        self.rolling_volatility_df = pd.DataFrame(index=self.master_daterange)\n",
    "\n",
    "    def retrieve_data(self):\n",
    "        for ticker in self.ticker_list:\n",
    "            stock_data = yf.download(ticker, start=self.start_date, end=self.end_date)\n",
    "            \n",
    "            if stock_data.empty:\n",
    "                continue  # Skip if no data\n",
    "            \n",
    "            # Merge Open and Close into master_daterange\n",
    "            merged_data = self.master_daterange.to_frame().merge(\n",
    "                stock_data[[\"Open\", \"Close\", \"Volume\"]].reset_index(),\n",
    "                on=\"Date\",\n",
    "                how=\"left\"\n",
    "            )\n",
    "            \n",
    "            # Forward-fill missing values (weekends/holidays)\n",
    "            merged_data[[\"Open\", \"Close\", \"Volume\"]] = merged_data[[\"Open\", \"Close\", \"Volume\"]].ffill().bfill()\n",
    "            \n",
    "            # Calculate returns (daily % change)\n",
    "            returns = merged_data[\"Close\"].pct_change().fillna(0)\n",
    "            \n",
    "            # Store data\n",
    "            self.return_df[ticker] = returns\n",
    "            self.volume_df[ticker] = merged_data[\"Volume\"]\n",
    "            self.rolling_return_df[ticker] = returns.rolling(15).mean().bfill()\n",
    "            self.rolling_volatility_df[ticker] = returns.rolling(15).std().bfill()\n",
    "        \n",
    "        # Combine all DataFrames\n",
    "        master_df = pd.concat([\n",
    "            self.return_df, \n",
    "            self.volume_df, \n",
    "            self.rolling_return_df, \n",
    "            self.rolling_volatility_df\n",
    "        ], axis=1)\n",
    "        \n",
    "        master_df.to_csv(\"Mix.csv\", index=True)  # Keep index (dates) in CSV"
   ]
  },
  {
   "cell_type": "code",
   "execution_count": 27,
   "metadata": {},
   "outputs": [
    {
     "name": "stderr",
     "output_type": "stream",
     "text": [
      "[*********************100%***********************]  1 of 1 completed\n"
     ]
    },
    {
     "ename": "MergeError",
     "evalue": "Not allowed to merge between different levels. (1 levels on the left, 2 on the right)",
     "output_type": "error",
     "traceback": [
      "\u001b[1;31m---------------------------------------------------------------------------\u001b[0m",
      "\u001b[1;31mMergeError\u001b[0m                                Traceback (most recent call last)",
      "Cell \u001b[1;32mIn[27], line 2\u001b[0m\n\u001b[0;32m      1\u001b[0m telia \u001b[38;5;241m=\u001b[39m DataRetrieverNew(start_date, end_date, ticker_df)\n\u001b[1;32m----> 2\u001b[0m \u001b[43mtelia\u001b[49m\u001b[38;5;241;43m.\u001b[39;49m\u001b[43mretrieve_data\u001b[49m\u001b[43m(\u001b[49m\u001b[43m)\u001b[49m\n",
      "Cell \u001b[1;32mIn[25], line 27\u001b[0m, in \u001b[0;36mDataRetrieverNew.retrieve_data\u001b[1;34m(self)\u001b[0m\n\u001b[0;32m     24\u001b[0m     \u001b[38;5;28;01mcontinue\u001b[39;00m  \u001b[38;5;66;03m# Skip if no data\u001b[39;00m\n\u001b[0;32m     26\u001b[0m \u001b[38;5;66;03m# Merge Open and Close into master_daterange\u001b[39;00m\n\u001b[1;32m---> 27\u001b[0m merged_data \u001b[38;5;241m=\u001b[39m \u001b[38;5;28;43mself\u001b[39;49m\u001b[38;5;241;43m.\u001b[39;49m\u001b[43mmaster_daterange\u001b[49m\u001b[38;5;241;43m.\u001b[39;49m\u001b[43mto_frame\u001b[49m\u001b[43m(\u001b[49m\u001b[43m)\u001b[49m\u001b[38;5;241;43m.\u001b[39;49m\u001b[43mmerge\u001b[49m\u001b[43m(\u001b[49m\n\u001b[0;32m     28\u001b[0m \u001b[43m    \u001b[49m\u001b[43mstock_data\u001b[49m\u001b[43m[\u001b[49m\u001b[43m[\u001b[49m\u001b[38;5;124;43m\"\u001b[39;49m\u001b[38;5;124;43mOpen\u001b[39;49m\u001b[38;5;124;43m\"\u001b[39;49m\u001b[43m,\u001b[49m\u001b[43m \u001b[49m\u001b[38;5;124;43m\"\u001b[39;49m\u001b[38;5;124;43mClose\u001b[39;49m\u001b[38;5;124;43m\"\u001b[39;49m\u001b[43m,\u001b[49m\u001b[43m \u001b[49m\u001b[38;5;124;43m\"\u001b[39;49m\u001b[38;5;124;43mVolume\u001b[39;49m\u001b[38;5;124;43m\"\u001b[39;49m\u001b[43m]\u001b[49m\u001b[43m]\u001b[49m\u001b[38;5;241;43m.\u001b[39;49m\u001b[43mreset_index\u001b[49m\u001b[43m(\u001b[49m\u001b[43m)\u001b[49m\u001b[43m,\u001b[49m\n\u001b[0;32m     29\u001b[0m \u001b[43m    \u001b[49m\u001b[43mon\u001b[49m\u001b[38;5;241;43m=\u001b[39;49m\u001b[38;5;124;43m\"\u001b[39;49m\u001b[38;5;124;43mDate\u001b[39;49m\u001b[38;5;124;43m\"\u001b[39;49m\u001b[43m,\u001b[49m\n\u001b[0;32m     30\u001b[0m \u001b[43m    \u001b[49m\u001b[43mhow\u001b[49m\u001b[38;5;241;43m=\u001b[39;49m\u001b[38;5;124;43m\"\u001b[39;49m\u001b[38;5;124;43mleft\u001b[39;49m\u001b[38;5;124;43m\"\u001b[39;49m\n\u001b[0;32m     31\u001b[0m \u001b[43m\u001b[49m\u001b[43m)\u001b[49m\n\u001b[0;32m     33\u001b[0m \u001b[38;5;66;03m# Forward-fill missing values (weekends/holidays)\u001b[39;00m\n\u001b[0;32m     34\u001b[0m merged_data[[\u001b[38;5;124m\"\u001b[39m\u001b[38;5;124mOpen\u001b[39m\u001b[38;5;124m\"\u001b[39m, \u001b[38;5;124m\"\u001b[39m\u001b[38;5;124mClose\u001b[39m\u001b[38;5;124m\"\u001b[39m, \u001b[38;5;124m\"\u001b[39m\u001b[38;5;124mVolume\u001b[39m\u001b[38;5;124m\"\u001b[39m]] \u001b[38;5;241m=\u001b[39m merged_data[[\u001b[38;5;124m\"\u001b[39m\u001b[38;5;124mOpen\u001b[39m\u001b[38;5;124m\"\u001b[39m, \u001b[38;5;124m\"\u001b[39m\u001b[38;5;124mClose\u001b[39m\u001b[38;5;124m\"\u001b[39m, \u001b[38;5;124m\"\u001b[39m\u001b[38;5;124mVolume\u001b[39m\u001b[38;5;124m\"\u001b[39m]]\u001b[38;5;241m.\u001b[39mffill()\u001b[38;5;241m.\u001b[39mbfill()\n",
      "File \u001b[1;32mc:\\Users\\Jakob\\OneDrive\\Dokumenter\\Masteroppgave\\MyVenv\\Lib\\site-packages\\pandas\\core\\frame.py:10832\u001b[0m, in \u001b[0;36mDataFrame.merge\u001b[1;34m(self, right, how, on, left_on, right_on, left_index, right_index, sort, suffixes, copy, indicator, validate)\u001b[0m\n\u001b[0;32m  10813\u001b[0m \u001b[38;5;129m@Substitution\u001b[39m(\u001b[38;5;124m\"\u001b[39m\u001b[38;5;124m\"\u001b[39m)\n\u001b[0;32m  10814\u001b[0m \u001b[38;5;129m@Appender\u001b[39m(_merge_doc, indents\u001b[38;5;241m=\u001b[39m\u001b[38;5;241m2\u001b[39m)\n\u001b[0;32m  10815\u001b[0m \u001b[38;5;28;01mdef\u001b[39;00m\u001b[38;5;250m \u001b[39m\u001b[38;5;21mmerge\u001b[39m(\n\u001b[1;32m   (...)\u001b[0m\n\u001b[0;32m  10828\u001b[0m     validate: MergeValidate \u001b[38;5;241m|\u001b[39m \u001b[38;5;28;01mNone\u001b[39;00m \u001b[38;5;241m=\u001b[39m \u001b[38;5;28;01mNone\u001b[39;00m,\n\u001b[0;32m  10829\u001b[0m ) \u001b[38;5;241m-\u001b[39m\u001b[38;5;241m>\u001b[39m DataFrame:\n\u001b[0;32m  10830\u001b[0m     \u001b[38;5;28;01mfrom\u001b[39;00m\u001b[38;5;250m \u001b[39m\u001b[38;5;21;01mpandas\u001b[39;00m\u001b[38;5;21;01m.\u001b[39;00m\u001b[38;5;21;01mcore\u001b[39;00m\u001b[38;5;21;01m.\u001b[39;00m\u001b[38;5;21;01mreshape\u001b[39;00m\u001b[38;5;21;01m.\u001b[39;00m\u001b[38;5;21;01mmerge\u001b[39;00m\u001b[38;5;250m \u001b[39m\u001b[38;5;28;01mimport\u001b[39;00m merge\n\u001b[1;32m> 10832\u001b[0m     \u001b[38;5;28;01mreturn\u001b[39;00m \u001b[43mmerge\u001b[49m\u001b[43m(\u001b[49m\n\u001b[0;32m  10833\u001b[0m \u001b[43m        \u001b[49m\u001b[38;5;28;43mself\u001b[39;49m\u001b[43m,\u001b[49m\n\u001b[0;32m  10834\u001b[0m \u001b[43m        \u001b[49m\u001b[43mright\u001b[49m\u001b[43m,\u001b[49m\n\u001b[0;32m  10835\u001b[0m \u001b[43m        \u001b[49m\u001b[43mhow\u001b[49m\u001b[38;5;241;43m=\u001b[39;49m\u001b[43mhow\u001b[49m\u001b[43m,\u001b[49m\n\u001b[0;32m  10836\u001b[0m \u001b[43m        \u001b[49m\u001b[43mon\u001b[49m\u001b[38;5;241;43m=\u001b[39;49m\u001b[43mon\u001b[49m\u001b[43m,\u001b[49m\n\u001b[0;32m  10837\u001b[0m \u001b[43m        \u001b[49m\u001b[43mleft_on\u001b[49m\u001b[38;5;241;43m=\u001b[39;49m\u001b[43mleft_on\u001b[49m\u001b[43m,\u001b[49m\n\u001b[0;32m  10838\u001b[0m \u001b[43m        \u001b[49m\u001b[43mright_on\u001b[49m\u001b[38;5;241;43m=\u001b[39;49m\u001b[43mright_on\u001b[49m\u001b[43m,\u001b[49m\n\u001b[0;32m  10839\u001b[0m \u001b[43m        \u001b[49m\u001b[43mleft_index\u001b[49m\u001b[38;5;241;43m=\u001b[39;49m\u001b[43mleft_index\u001b[49m\u001b[43m,\u001b[49m\n\u001b[0;32m  10840\u001b[0m \u001b[43m        \u001b[49m\u001b[43mright_index\u001b[49m\u001b[38;5;241;43m=\u001b[39;49m\u001b[43mright_index\u001b[49m\u001b[43m,\u001b[49m\n\u001b[0;32m  10841\u001b[0m \u001b[43m        \u001b[49m\u001b[43msort\u001b[49m\u001b[38;5;241;43m=\u001b[39;49m\u001b[43msort\u001b[49m\u001b[43m,\u001b[49m\n\u001b[0;32m  10842\u001b[0m \u001b[43m        \u001b[49m\u001b[43msuffixes\u001b[49m\u001b[38;5;241;43m=\u001b[39;49m\u001b[43msuffixes\u001b[49m\u001b[43m,\u001b[49m\n\u001b[0;32m  10843\u001b[0m \u001b[43m        \u001b[49m\u001b[43mcopy\u001b[49m\u001b[38;5;241;43m=\u001b[39;49m\u001b[43mcopy\u001b[49m\u001b[43m,\u001b[49m\n\u001b[0;32m  10844\u001b[0m \u001b[43m        \u001b[49m\u001b[43mindicator\u001b[49m\u001b[38;5;241;43m=\u001b[39;49m\u001b[43mindicator\u001b[49m\u001b[43m,\u001b[49m\n\u001b[0;32m  10845\u001b[0m \u001b[43m        \u001b[49m\u001b[43mvalidate\u001b[49m\u001b[38;5;241;43m=\u001b[39;49m\u001b[43mvalidate\u001b[49m\u001b[43m,\u001b[49m\n\u001b[0;32m  10846\u001b[0m \u001b[43m    \u001b[49m\u001b[43m)\u001b[49m\n",
      "File \u001b[1;32mc:\\Users\\Jakob\\OneDrive\\Dokumenter\\Masteroppgave\\MyVenv\\Lib\\site-packages\\pandas\\core\\reshape\\merge.py:170\u001b[0m, in \u001b[0;36mmerge\u001b[1;34m(left, right, how, on, left_on, right_on, left_index, right_index, sort, suffixes, copy, indicator, validate)\u001b[0m\n\u001b[0;32m    155\u001b[0m     \u001b[38;5;28;01mreturn\u001b[39;00m _cross_merge(\n\u001b[0;32m    156\u001b[0m         left_df,\n\u001b[0;32m    157\u001b[0m         right_df,\n\u001b[1;32m   (...)\u001b[0m\n\u001b[0;32m    167\u001b[0m         copy\u001b[38;5;241m=\u001b[39mcopy,\n\u001b[0;32m    168\u001b[0m     )\n\u001b[0;32m    169\u001b[0m \u001b[38;5;28;01melse\u001b[39;00m:\n\u001b[1;32m--> 170\u001b[0m     op \u001b[38;5;241m=\u001b[39m \u001b[43m_MergeOperation\u001b[49m\u001b[43m(\u001b[49m\n\u001b[0;32m    171\u001b[0m \u001b[43m        \u001b[49m\u001b[43mleft_df\u001b[49m\u001b[43m,\u001b[49m\n\u001b[0;32m    172\u001b[0m \u001b[43m        \u001b[49m\u001b[43mright_df\u001b[49m\u001b[43m,\u001b[49m\n\u001b[0;32m    173\u001b[0m \u001b[43m        \u001b[49m\u001b[43mhow\u001b[49m\u001b[38;5;241;43m=\u001b[39;49m\u001b[43mhow\u001b[49m\u001b[43m,\u001b[49m\n\u001b[0;32m    174\u001b[0m \u001b[43m        \u001b[49m\u001b[43mon\u001b[49m\u001b[38;5;241;43m=\u001b[39;49m\u001b[43mon\u001b[49m\u001b[43m,\u001b[49m\n\u001b[0;32m    175\u001b[0m \u001b[43m        \u001b[49m\u001b[43mleft_on\u001b[49m\u001b[38;5;241;43m=\u001b[39;49m\u001b[43mleft_on\u001b[49m\u001b[43m,\u001b[49m\n\u001b[0;32m    176\u001b[0m \u001b[43m        \u001b[49m\u001b[43mright_on\u001b[49m\u001b[38;5;241;43m=\u001b[39;49m\u001b[43mright_on\u001b[49m\u001b[43m,\u001b[49m\n\u001b[0;32m    177\u001b[0m \u001b[43m        \u001b[49m\u001b[43mleft_index\u001b[49m\u001b[38;5;241;43m=\u001b[39;49m\u001b[43mleft_index\u001b[49m\u001b[43m,\u001b[49m\n\u001b[0;32m    178\u001b[0m \u001b[43m        \u001b[49m\u001b[43mright_index\u001b[49m\u001b[38;5;241;43m=\u001b[39;49m\u001b[43mright_index\u001b[49m\u001b[43m,\u001b[49m\n\u001b[0;32m    179\u001b[0m \u001b[43m        \u001b[49m\u001b[43msort\u001b[49m\u001b[38;5;241;43m=\u001b[39;49m\u001b[43msort\u001b[49m\u001b[43m,\u001b[49m\n\u001b[0;32m    180\u001b[0m \u001b[43m        \u001b[49m\u001b[43msuffixes\u001b[49m\u001b[38;5;241;43m=\u001b[39;49m\u001b[43msuffixes\u001b[49m\u001b[43m,\u001b[49m\n\u001b[0;32m    181\u001b[0m \u001b[43m        \u001b[49m\u001b[43mindicator\u001b[49m\u001b[38;5;241;43m=\u001b[39;49m\u001b[43mindicator\u001b[49m\u001b[43m,\u001b[49m\n\u001b[0;32m    182\u001b[0m \u001b[43m        \u001b[49m\u001b[43mvalidate\u001b[49m\u001b[38;5;241;43m=\u001b[39;49m\u001b[43mvalidate\u001b[49m\u001b[43m,\u001b[49m\n\u001b[0;32m    183\u001b[0m \u001b[43m    \u001b[49m\u001b[43m)\u001b[49m\n\u001b[0;32m    184\u001b[0m     \u001b[38;5;28;01mreturn\u001b[39;00m op\u001b[38;5;241m.\u001b[39mget_result(copy\u001b[38;5;241m=\u001b[39mcopy)\n",
      "File \u001b[1;32mc:\\Users\\Jakob\\OneDrive\\Dokumenter\\Masteroppgave\\MyVenv\\Lib\\site-packages\\pandas\\core\\reshape\\merge.py:784\u001b[0m, in \u001b[0;36m_MergeOperation.__init__\u001b[1;34m(self, left, right, how, on, left_on, right_on, left_index, right_index, sort, suffixes, indicator, validate)\u001b[0m\n\u001b[0;32m    778\u001b[0m \u001b[38;5;28;01mif\u001b[39;00m _left\u001b[38;5;241m.\u001b[39mcolumns\u001b[38;5;241m.\u001b[39mnlevels \u001b[38;5;241m!=\u001b[39m _right\u001b[38;5;241m.\u001b[39mcolumns\u001b[38;5;241m.\u001b[39mnlevels:\n\u001b[0;32m    779\u001b[0m     msg \u001b[38;5;241m=\u001b[39m (\n\u001b[0;32m    780\u001b[0m         \u001b[38;5;124m\"\u001b[39m\u001b[38;5;124mNot allowed to merge between different levels. \u001b[39m\u001b[38;5;124m\"\u001b[39m\n\u001b[0;32m    781\u001b[0m         \u001b[38;5;124mf\u001b[39m\u001b[38;5;124m\"\u001b[39m\u001b[38;5;124m(\u001b[39m\u001b[38;5;132;01m{\u001b[39;00m_left\u001b[38;5;241m.\u001b[39mcolumns\u001b[38;5;241m.\u001b[39mnlevels\u001b[38;5;132;01m}\u001b[39;00m\u001b[38;5;124m levels on the left, \u001b[39m\u001b[38;5;124m\"\u001b[39m\n\u001b[0;32m    782\u001b[0m         \u001b[38;5;124mf\u001b[39m\u001b[38;5;124m\"\u001b[39m\u001b[38;5;132;01m{\u001b[39;00m_right\u001b[38;5;241m.\u001b[39mcolumns\u001b[38;5;241m.\u001b[39mnlevels\u001b[38;5;132;01m}\u001b[39;00m\u001b[38;5;124m on the right)\u001b[39m\u001b[38;5;124m\"\u001b[39m\n\u001b[0;32m    783\u001b[0m     )\n\u001b[1;32m--> 784\u001b[0m     \u001b[38;5;28;01mraise\u001b[39;00m MergeError(msg)\n\u001b[0;32m    786\u001b[0m \u001b[38;5;28mself\u001b[39m\u001b[38;5;241m.\u001b[39mleft_on, \u001b[38;5;28mself\u001b[39m\u001b[38;5;241m.\u001b[39mright_on \u001b[38;5;241m=\u001b[39m \u001b[38;5;28mself\u001b[39m\u001b[38;5;241m.\u001b[39m_validate_left_right_on(left_on, right_on)\n\u001b[0;32m    788\u001b[0m (\n\u001b[0;32m    789\u001b[0m     \u001b[38;5;28mself\u001b[39m\u001b[38;5;241m.\u001b[39mleft_join_keys,\n\u001b[0;32m    790\u001b[0m     \u001b[38;5;28mself\u001b[39m\u001b[38;5;241m.\u001b[39mright_join_keys,\n\u001b[1;32m   (...)\u001b[0m\n\u001b[0;32m    793\u001b[0m     right_drop,\n\u001b[0;32m    794\u001b[0m ) \u001b[38;5;241m=\u001b[39m \u001b[38;5;28mself\u001b[39m\u001b[38;5;241m.\u001b[39m_get_merge_keys()\n",
      "\u001b[1;31mMergeError\u001b[0m: Not allowed to merge between different levels. (1 levels on the left, 2 on the right)"
     ]
    }
   ],
   "source": [
    "telia = DataRetrieverNew(start_date, end_date, ticker_df)\n",
    "telia.retrieve_data()"
   ]
  },
  {
   "cell_type": "code",
   "execution_count": 240,
   "metadata": {},
   "outputs": [
    {
     "data": {
      "text/plain": [
       "Date\n",
       "2006-07-03     88.378922\n",
       "2006-07-03     89.374741\n",
       "2006-07-04     90.121589\n",
       "2006-07-04     88.378906\n",
       "2006-07-05     87.880997\n",
       "                 ...    \n",
       "2024-03-25    286.295990\n",
       "2024-03-26    285.312120\n",
       "2024-03-26    281.917877\n",
       "2024-03-27    281.032448\n",
       "2024-03-27    281.770325\n",
       "Name: EQNR.OL, Length: 8920, dtype: float64"
      ]
     },
     "execution_count": 240,
     "metadata": {},
     "output_type": "execute_result"
    }
   ],
   "source": [
    "apprentice_df.iloc[:,0]"
   ]
  },
  {
   "cell_type": "code",
   "execution_count": null,
   "metadata": {},
   "outputs": [],
   "source": [
    "for i in range(1,len(final_df),2):\n",
    "    final_df.iloc[i,0] =  close_merge.iloc[i,0]"
   ]
  },
  {
   "cell_type": "code",
   "execution_count": null,
   "metadata": {},
   "outputs": [],
   "source": [
    "final_df[::2] = close_merge[1::2]"
   ]
  },
  {
   "cell_type": "code",
   "execution_count": null,
   "metadata": {},
   "outputs": [
    {
     "data": {
      "text/html": [
       "<div>\n",
       "<style scoped>\n",
       "    .dataframe tbody tr th:only-of-type {\n",
       "        vertical-align: middle;\n",
       "    }\n",
       "\n",
       "    .dataframe tbody tr th {\n",
       "        vertical-align: top;\n",
       "    }\n",
       "\n",
       "    .dataframe thead th {\n",
       "        text-align: right;\n",
       "    }\n",
       "</style>\n",
       "<table border=\"1\" class=\"dataframe\">\n",
       "  <thead>\n",
       "    <tr style=\"text-align: right;\">\n",
       "      <th></th>\n",
       "      <th>EQNR.OL</th>\n",
       "    </tr>\n",
       "    <tr>\n",
       "      <th>Date</th>\n",
       "      <th></th>\n",
       "    </tr>\n",
       "  </thead>\n",
       "  <tbody>\n",
       "    <tr>\n",
       "      <th>2006-07-03</th>\n",
       "      <td>88.378922</td>\n",
       "    </tr>\n",
       "    <tr>\n",
       "      <th>2006-07-03</th>\n",
       "      <td>2006-07-03 00:00:00</td>\n",
       "    </tr>\n",
       "    <tr>\n",
       "      <th>2006-07-04</th>\n",
       "      <td>90.121589</td>\n",
       "    </tr>\n",
       "    <tr>\n",
       "      <th>2006-07-04</th>\n",
       "      <td>2006-07-04 00:00:00</td>\n",
       "    </tr>\n",
       "    <tr>\n",
       "      <th>2006-07-05</th>\n",
       "      <td>87.880997</td>\n",
       "    </tr>\n",
       "    <tr>\n",
       "      <th>...</th>\n",
       "      <td>...</td>\n",
       "    </tr>\n",
       "    <tr>\n",
       "      <th>2024-03-25</th>\n",
       "      <td>2024-03-25 00:00:00</td>\n",
       "    </tr>\n",
       "    <tr>\n",
       "      <th>2024-03-26</th>\n",
       "      <td>285.31212</td>\n",
       "    </tr>\n",
       "    <tr>\n",
       "      <th>2024-03-26</th>\n",
       "      <td>2024-03-26 00:00:00</td>\n",
       "    </tr>\n",
       "    <tr>\n",
       "      <th>2024-03-27</th>\n",
       "      <td>281.032448</td>\n",
       "    </tr>\n",
       "    <tr>\n",
       "      <th>2024-03-27</th>\n",
       "      <td>2024-03-27 00:00:00</td>\n",
       "    </tr>\n",
       "  </tbody>\n",
       "</table>\n",
       "<p>8920 rows × 1 columns</p>\n",
       "</div>"
      ],
      "text/plain": [
       "                        EQNR.OL\n",
       "Date                           \n",
       "2006-07-03            88.378922\n",
       "2006-07-03  2006-07-03 00:00:00\n",
       "2006-07-04            90.121589\n",
       "2006-07-04  2006-07-04 00:00:00\n",
       "2006-07-05            87.880997\n",
       "...                         ...\n",
       "2024-03-25  2024-03-25 00:00:00\n",
       "2024-03-26            285.31212\n",
       "2024-03-26  2024-03-26 00:00:00\n",
       "2024-03-27           281.032448\n",
       "2024-03-27  2024-03-27 00:00:00\n",
       "\n",
       "[8920 rows x 1 columns]"
      ]
     },
     "execution_count": 151,
     "metadata": {},
     "output_type": "execute_result"
    }
   ],
   "source": [
    "final_df"
   ]
  },
  {
   "cell_type": "code",
   "execution_count": null,
   "metadata": {},
   "outputs": [],
   "source": [
    "close_merge = pd.merge(final_df, close)[1::2]"
   ]
  },
  {
   "cell_type": "code",
   "execution_count": null,
   "metadata": {},
   "outputs": [
    {
     "data": {
      "text/html": [
       "<div>\n",
       "<style scoped>\n",
       "    .dataframe tbody tr th:only-of-type {\n",
       "        vertical-align: middle;\n",
       "    }\n",
       "\n",
       "    .dataframe tbody tr th {\n",
       "        vertical-align: top;\n",
       "    }\n",
       "\n",
       "    .dataframe thead th {\n",
       "        text-align: right;\n",
       "    }\n",
       "</style>\n",
       "<table border=\"1\" class=\"dataframe\">\n",
       "  <thead>\n",
       "    <tr style=\"text-align: right;\">\n",
       "      <th></th>\n",
       "      <th>EQNR.OL</th>\n",
       "    </tr>\n",
       "    <tr>\n",
       "      <th>Date</th>\n",
       "      <th></th>\n",
       "    </tr>\n",
       "  </thead>\n",
       "  <tbody>\n",
       "    <tr>\n",
       "      <th>2006-07-03</th>\n",
       "      <td>88.378922</td>\n",
       "    </tr>\n",
       "    <tr>\n",
       "      <th>2006-07-03</th>\n",
       "      <td>88.378922</td>\n",
       "    </tr>\n",
       "    <tr>\n",
       "      <th>2006-07-04</th>\n",
       "      <td>90.121589</td>\n",
       "    </tr>\n",
       "    <tr>\n",
       "      <th>2006-07-04</th>\n",
       "      <td>90.121589</td>\n",
       "    </tr>\n",
       "    <tr>\n",
       "      <th>2006-07-05</th>\n",
       "      <td>87.880997</td>\n",
       "    </tr>\n",
       "    <tr>\n",
       "      <th>...</th>\n",
       "      <td>...</td>\n",
       "    </tr>\n",
       "    <tr>\n",
       "      <th>2024-03-25</th>\n",
       "      <td>282.901747</td>\n",
       "    </tr>\n",
       "    <tr>\n",
       "      <th>2024-03-26</th>\n",
       "      <td>285.312120</td>\n",
       "    </tr>\n",
       "    <tr>\n",
       "      <th>2024-03-26</th>\n",
       "      <td>285.312120</td>\n",
       "    </tr>\n",
       "    <tr>\n",
       "      <th>2024-03-27</th>\n",
       "      <td>281.032448</td>\n",
       "    </tr>\n",
       "    <tr>\n",
       "      <th>2024-03-27</th>\n",
       "      <td>281.032448</td>\n",
       "    </tr>\n",
       "  </tbody>\n",
       "</table>\n",
       "<p>8920 rows × 1 columns</p>\n",
       "</div>"
      ],
      "text/plain": [
       "               EQNR.OL\n",
       "Date                  \n",
       "2006-07-03   88.378922\n",
       "2006-07-03   88.378922\n",
       "2006-07-04   90.121589\n",
       "2006-07-04   90.121589\n",
       "2006-07-05   87.880997\n",
       "...                ...\n",
       "2024-03-25  282.901747\n",
       "2024-03-26  285.312120\n",
       "2024-03-26  285.312120\n",
       "2024-03-27  281.032448\n",
       "2024-03-27  281.032448\n",
       "\n",
       "[8920 rows x 1 columns]"
      ]
     },
     "execution_count": 43,
     "metadata": {},
     "output_type": "execute_result"
    }
   ],
   "source": [
    "pd.merge(final_df,open, on=\"Date\")"
   ]
  }
 ],
 "metadata": {
  "kernelspec": {
   "display_name": "MyVenv",
   "language": "python",
   "name": "python3"
  },
  "language_info": {
   "codemirror_mode": {
    "name": "ipython",
    "version": 3
   },
   "file_extension": ".py",
   "mimetype": "text/x-python",
   "name": "python",
   "nbconvert_exporter": "python",
   "pygments_lexer": "ipython3",
   "version": "3.11.8"
  }
 },
 "nbformat": 4,
 "nbformat_minor": 2
}
