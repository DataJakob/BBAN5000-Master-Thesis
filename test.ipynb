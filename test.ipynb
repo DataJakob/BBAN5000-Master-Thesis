{
 "cells": [
  {
   "cell_type": "markdown",
   "metadata": {},
   "source": [
    "<h1> Main.ipynb </h1>\n",
    "<h2> 1. Import libraries and modules </h2>"
   ]
  },
  {
   "cell_type": "code",
   "execution_count": 1,
   "metadata": {},
   "outputs": [],
   "source": [
    "import numpy as np\n",
    "import pandas as pd\n",
    "\n",
    "from src.Data_Retriever import DataRetriever as DatRet\n",
    "\n",
    "from src.Optimization.Markowitz_PT import MarkowitzPT as MPT\n",
    "\n",
    "from src.Optimization.Environment import PortfolioEnvironment as PorEnv\n",
    "from src.Optimization.RLModelCompilation import RL_Model as RLM\n",
    "# from src.Optimization.NeuralNet import CustomCNNExtractor \n",
    "\n",
    "from src.Result.Menchero_OGA import MencheroOGA as MOGA\n",
    "from src.Result.IndPortResults import GenerateResult as GR\n",
    "from src.Result.OverviewResults import ResultConveyor as RC\n",
    "\n",
    "import time"
   ]
  },
  {
   "cell_type": "markdown",
   "metadata": {},
   "source": [
    "<h2> 2. Define operating variables </h2>"
   ]
  },
  {
   "cell_type": "code",
   "execution_count": 2,
   "metadata": {},
   "outputs": [],
   "source": [
    "trading_n = 400\n",
    "history_usage = 504\n",
    "n_sectors = 6\n",
    "n_stocks_per_sector = 4\n",
    "\n",
    "# For RL algorithm\n",
    "history_usage_RL = 30\n",
    "rolling_reward_window = 15"
   ]
  },
  {
   "cell_type": "markdown",
   "metadata": {},
   "source": [
    "<h2> 3. Define stock dataframe </h2>"
   ]
  },
  {
   "cell_type": "code",
   "execution_count": 3,
   "metadata": {},
   "outputs": [
    {
     "data": {
      "text/html": [
       "<div>\n",
       "<style scoped>\n",
       "    .dataframe tbody tr th:only-of-type {\n",
       "        vertical-align: middle;\n",
       "    }\n",
       "\n",
       "    .dataframe tbody tr th {\n",
       "        vertical-align: top;\n",
       "    }\n",
       "\n",
       "    .dataframe thead th {\n",
       "        text-align: right;\n",
       "    }\n",
       "</style>\n",
       "<table border=\"1\" class=\"dataframe\">\n",
       "  <thead>\n",
       "    <tr style=\"text-align: right;\">\n",
       "      <th></th>\n",
       "      <th>Petroleum</th>\n",
       "      <th>Seafood (food)</th>\n",
       "      <th>Materials</th>\n",
       "      <th>Technologies</th>\n",
       "      <th>Financial</th>\n",
       "      <th>Shipping</th>\n",
       "    </tr>\n",
       "  </thead>\n",
       "  <tbody>\n",
       "    <tr>\n",
       "      <th>0</th>\n",
       "      <td>EQNR.OL</td>\n",
       "      <td>ORK.OL</td>\n",
       "      <td>NHY.OL</td>\n",
       "      <td>TEL.OL</td>\n",
       "      <td>STB.OL</td>\n",
       "      <td>WAWI.OL</td>\n",
       "    </tr>\n",
       "    <tr>\n",
       "      <th>1</th>\n",
       "      <td>AKRBP.OL</td>\n",
       "      <td>MOWI.OL</td>\n",
       "      <td>YAR.OL</td>\n",
       "      <td>NOD.OL</td>\n",
       "      <td>DNB.OL</td>\n",
       "      <td>SNI.OL</td>\n",
       "    </tr>\n",
       "    <tr>\n",
       "      <th>2</th>\n",
       "      <td>SUBC.OL</td>\n",
       "      <td>SALM.OL</td>\n",
       "      <td>RECSI.OL</td>\n",
       "      <td>ATEA.OL</td>\n",
       "      <td>GJF.OL</td>\n",
       "      <td>BELCO.OL</td>\n",
       "    </tr>\n",
       "    <tr>\n",
       "      <th>3</th>\n",
       "      <td>BWO.OL</td>\n",
       "      <td>LSG.OL</td>\n",
       "      <td>BRG.OL</td>\n",
       "      <td>BOUV.OL</td>\n",
       "      <td>AKER.OL</td>\n",
       "      <td>ODF.OL</td>\n",
       "    </tr>\n",
       "  </tbody>\n",
       "</table>\n",
       "</div>"
      ],
      "text/plain": [
       "  Petroleum Seafood (food) Materials Technologies Financial  Shipping\n",
       "0   EQNR.OL         ORK.OL    NHY.OL       TEL.OL    STB.OL   WAWI.OL\n",
       "1  AKRBP.OL        MOWI.OL    YAR.OL       NOD.OL    DNB.OL    SNI.OL\n",
       "2   SUBC.OL        SALM.OL  RECSI.OL      ATEA.OL    GJF.OL  BELCO.OL\n",
       "3    BWO.OL         LSG.OL    BRG.OL      BOUV.OL   AKER.OL    ODF.OL"
      ]
     },
     "execution_count": 3,
     "metadata": {},
     "output_type": "execute_result"
    }
   ],
   "source": [
    "ticker_df =  pd.DataFrame()\n",
    "ticker_df[\"Petroleum\"] = [\"EQNR.OL\", \"AKRBP.OL\", \"SUBC.OL\", \"BWO.OL\",]\n",
    "ticker_df[\"Seafood (food)\"] = [\"ORK.OL\", \"MOWI.OL\", \"SALM.OL\", \"LSG.OL\"]\n",
    "ticker_df[\"Materials\"] = [\"NHY.OL\", \"YAR.OL\", \"RECSI.OL\", \"BRG.OL\"]  #del this\n",
    "ticker_df[\"Technologies\"] = [\"TEL.OL\", \"NOD.OL\", \"ATEA.OL\", \"BOUV.OL\"]\n",
    "ticker_df[\"Financial\"] = [\"STB.OL\", \"DNB.OL\", \"GJF.OL\", \"AKER.OL\"]\n",
    "ticker_df[\"Shipping\"] = [\"WAWI.OL\", \"SNI.OL\", \"BELCO.OL\", \"ODF.OL\"]\n",
    "ticker_df"
   ]
  },
  {
   "cell_type": "markdown",
   "metadata": {},
   "source": [
    "<h2> 4. Define ESG array </h2>"
   ]
  },
  {
   "cell_type": "code",
   "execution_count": 4,
   "metadata": {},
   "outputs": [],
   "source": [
    "esg_scores = np.array([36.6, 35.3, 17.9, 18, \n",
    "                18, 21.2, 18.7, 29.2, \n",
    "                15.7, 25.6, 25.6, 18.4, # Del this\n",
    "                19.8, 13.8, 18.1, 19, \n",
    "                17.2, 14, 17.2, 19.5, \n",
    "                19.7, 21.2, 26.8, 19.3])"
   ]
  },
  {
   "cell_type": "markdown",
   "metadata": {},
   "source": [
    "<h2> 5.-7. (Non-necessary for reproducability) </h2>\n",
    "<h3>Data retrieval</h3>\n",
    "<h3>Benchmark optimization (MPT)</h3>\n",
    "<h3>RL optimization x4</h3>\n",
    "<br>\n",
    "All of the data has been generated an stored in csvs. Therefore, I can comment out the code lines below."
   ]
  },
  {
   "cell_type": "code",
   "execution_count": 5,
   "metadata": {},
   "outputs": [],
   "source": [
    "# Retrieve data from yf API: y-m-d\n",
    "# data = DatRet(ticker_df, \"2013-01-01\", \"2024-12-31\", history_usage_RL=history_usage_RL)\n",
    "# # In function below, set log=True to check for data availability\n",
    "# data.retrieve_data()"
   ]
  },
  {
   "cell_type": "code",
   "execution_count": 6,
   "metadata": {},
   "outputs": [],
   "source": [
    "# Generate benchmark weights thorugh MPT using Sharpe ratio\n",
    "# # benchmark = MPT(history_usage, trading_n)\n",
    "# IMPORTANT: In order to see  the effect of the weights, algo exclude last observation from optimization\n",
    "# # benchmark.frequency_optimizing()"
   ]
  },
  {
   "cell_type": "code",
   "execution_count": 7,
   "metadata": {},
   "outputs": [],
   "source": [
    "# objectives = [\"Return\", \"Sharpe\", \"Sortino\", \"Sterling\", \"Return\", \"Sharpe\", \"Sortino\", \"Sterling\"]\n",
    "# esg_compliancy = [True, True, True, True, False, False, False, False]\n",
    "# # objectives = [\"Sharpe\"]\n",
    "# # esg_compliancy = [True]\n",
    "\n",
    "# for i in range(len(objectives)):\n",
    "#     reinforcement = RLM(esg_scores, \n",
    "#                         objective=objectives[i],\n",
    "#                         history_usage=history_usage_RL,\n",
    "#                         rolling_reward_window=rolling_reward_window,\n",
    "#                         total_timesteps=200,\n",
    "#                         esg_compliancy=esg_compliancy[i],\n",
    "#                         )\n",
    "#     reinforcement.train_model()\n",
    "#     reinforcement.test_model()"
   ]
  },
  {
   "cell_type": "markdown",
   "metadata": {},
   "source": [
    "<h2> 8. Attribution analysis </h2>"
   ]
  },
  {
   "cell_type": "code",
   "execution_count": 8,
   "metadata": {},
   "outputs": [],
   "source": [
    "# paths = [\"Return_esg_True\", \"Sharpe_esg_True\",\n",
    "#          \"Sortino_esg_True\",\"Sterling_esg_True\",\n",
    "#          \"Return_esg_False\", \"Sharpe_esg_False\",\n",
    "#          \"Sortino_esg_False\",\"Sterling_esg_False\",]\n",
    "\n",
    "# analysis_list = []\n",
    "# for i in range(len(paths)):\n",
    "#     att_anal = GR(paths[i],\n",
    "#             n_sectors, n_stocks_per_sector,\n",
    "#             trading_n,\n",
    "#             esg_scores, \n",
    "#             ticker_df.columns)\n",
    "#     att_anal.friple_frequency_analysis()\n",
    "#     analysis_list.append(att_anal)"
   ]
  },
  {
   "cell_type": "markdown",
   "metadata": {},
   "source": [
    "<h2> 9. Overview  Result Analysis </h2>"
   ]
  },
  {
   "cell_type": "code",
   "execution_count": 9,
   "metadata": {},
   "outputs": [],
   "source": [
    "# theta = RC(analysis_list, trading_n)\n",
    "# theta.convey_results()"
   ]
  },
  {
   "cell_type": "markdown",
   "metadata": {},
   "source": [
    "<h1> 10. Ad-hoc </h1>"
   ]
  },
  {
   "cell_type": "code",
   "execution_count": 10,
   "metadata": {},
   "outputs": [],
   "source": [
    "ret = pd.read_csv(\"Data/Input/StockReturns.csv\")\n",
    "weights = pd.read_csv(\"Data/RL_weights_Sharpe_esg_false.csv\")\n",
    "\n",
    "train_set = ret.iloc[:int(0.85*len(ret))]\n",
    "test_set = ret.iloc[int(0.85*len(ret)):]"
   ]
  },
  {
   "cell_type": "code",
   "execution_count": 11,
   "metadata": {},
   "outputs": [],
   "source": [
    "# data = test_set.values"
   ]
  },
  {
   "cell_type": "code",
   "execution_count": 12,
   "metadata": {},
   "outputs": [],
   "source": [
    "# current_step = 6\n",
    "# history_usage = 5\n",
    "\n",
    "# if current_step < history_usage:\n",
    "#     start_idx = max(0, current_step-  history_usage)\n",
    "# else:\n",
    "#     start_idx = max(0, current_step-  history_usage) +1\n",
    "\n",
    "# end_idx = current_step+1"
   ]
  },
  {
   "cell_type": "code",
   "execution_count": 13,
   "metadata": {},
   "outputs": [],
   "source": [
    "# mydf = pd.DataFrame(data[:, :])\n",
    "# mydf.shape"
   ]
  },
  {
   "cell_type": "code",
   "execution_count": 14,
   "metadata": {},
   "outputs": [],
   "source": [
    "# current_step = 904\n",
    "# history_usage = 30\n",
    "\n",
    "# start_idx = 0\n",
    "# end_idx = current_step +2\n",
    "\n",
    "# maxlen = len(mydf)"
   ]
  },
  {
   "cell_type": "code",
   "execution_count": 15,
   "metadata": {},
   "outputs": [],
   "source": [
    "# len(mydf.values[start_idx:end_idx,:])"
   ]
  },
  {
   "cell_type": "code",
   "execution_count": 16,
   "metadata": {},
   "outputs": [],
   "source": [
    "# actual_data = mydf.iloc[start_idx:end_idx,:]\n",
    "# print(actual_data.shape)"
   ]
  },
  {
   "cell_type": "code",
   "execution_count": 17,
   "metadata": {},
   "outputs": [],
   "source": [
    "# if current_step <= history_usage-2:\n",
    "#     pad = pd.DataFrame(np.array([np.zeros(history_usage - actual_data.shape[0]) for _ in range(24)])) \n",
    "#     padded_df = pd.concat([pad.T, actual_data]).reset_index(drop=True)\n",
    "# elif current_step >= (maxlen-2):\n",
    "#     print(\"ja\")\n",
    "#     pad = pd.DataFrame(np.array([np.zeros(maxlen - current_step+1) for _ in range(24)])) \n",
    "#     padded_df = pd.concat([actual_data, pad.T]).reset_index(drop=True)\n",
    "# else:\n",
    "#     padded_df = actual_data\n",
    "    \n",
    "# return_df = padded_df.iloc[-30:]"
   ]
  },
  {
   "cell_type": "code",
   "execution_count": 18,
   "metadata": {},
   "outputs": [],
   "source": [
    "ret = pd.read_csv(\"Data/Input/StockReturns.csv\")\n",
    "weights = pd.read_csv(\"Data/RL_weights_Sharpe_esg_false.csv\")"
   ]
  },
  {
   "cell_type": "code",
   "execution_count": 19,
   "metadata": {},
   "outputs": [
    {
     "data": {
      "text/html": [
       "<div>\n",
       "<style scoped>\n",
       "    .dataframe tbody tr th:only-of-type {\n",
       "        vertical-align: middle;\n",
       "    }\n",
       "\n",
       "    .dataframe tbody tr th {\n",
       "        vertical-align: top;\n",
       "    }\n",
       "\n",
       "    .dataframe thead th {\n",
       "        text-align: right;\n",
       "    }\n",
       "</style>\n",
       "<table border=\"1\" class=\"dataframe\">\n",
       "  <thead>\n",
       "    <tr style=\"text-align: right;\">\n",
       "      <th></th>\n",
       "      <th>0</th>\n",
       "      <th>1</th>\n",
       "      <th>2</th>\n",
       "      <th>3</th>\n",
       "      <th>4</th>\n",
       "      <th>5</th>\n",
       "      <th>6</th>\n",
       "      <th>7</th>\n",
       "      <th>8</th>\n",
       "      <th>9</th>\n",
       "      <th>...</th>\n",
       "      <th>14</th>\n",
       "      <th>15</th>\n",
       "      <th>16</th>\n",
       "      <th>17</th>\n",
       "      <th>18</th>\n",
       "      <th>19</th>\n",
       "      <th>20</th>\n",
       "      <th>21</th>\n",
       "      <th>22</th>\n",
       "      <th>23</th>\n",
       "    </tr>\n",
       "  </thead>\n",
       "  <tbody>\n",
       "    <tr>\n",
       "      <th>0</th>\n",
       "      <td>0.000959</td>\n",
       "      <td>-0.009444</td>\n",
       "      <td>-0.019048</td>\n",
       "      <td>-3.770667e-03</td>\n",
       "      <td>-5.112146e-03</td>\n",
       "      <td>-4.079271e-03</td>\n",
       "      <td>-0.007813</td>\n",
       "      <td>-0.010142</td>\n",
       "      <td>-0.018018</td>\n",
       "      <td>-0.016457</td>\n",
       "      <td>...</td>\n",
       "      <td>0.010118</td>\n",
       "      <td>-0.012841</td>\n",
       "      <td>-0.014702</td>\n",
       "      <td>-0.014720</td>\n",
       "      <td>-0.007567</td>\n",
       "      <td>-0.013889</td>\n",
       "      <td>-0.015134</td>\n",
       "      <td>-0.018209</td>\n",
       "      <td>-0.014634</td>\n",
       "      <td>4.975110e-03</td>\n",
       "    </tr>\n",
       "    <tr>\n",
       "      <th>1</th>\n",
       "      <td>0.010064</td>\n",
       "      <td>0.001467</td>\n",
       "      <td>-0.002517</td>\n",
       "      <td>1.430734e-01</td>\n",
       "      <td>1.170425e-02</td>\n",
       "      <td>1.199534e-02</td>\n",
       "      <td>0.011811</td>\n",
       "      <td>0.020902</td>\n",
       "      <td>-0.003670</td>\n",
       "      <td>-0.017145</td>\n",
       "      <td>...</td>\n",
       "      <td>-0.028381</td>\n",
       "      <td>0.013008</td>\n",
       "      <td>0.003129</td>\n",
       "      <td>-0.012699</td>\n",
       "      <td>0.002179</td>\n",
       "      <td>0.004225</td>\n",
       "      <td>-0.004137</td>\n",
       "      <td>-0.001546</td>\n",
       "      <td>0.019802</td>\n",
       "      <td>4.950495e-03</td>\n",
       "    </tr>\n",
       "    <tr>\n",
       "      <th>2</th>\n",
       "      <td>0.002689</td>\n",
       "      <td>0.006957</td>\n",
       "      <td>0.002163</td>\n",
       "      <td>-1.972642e-08</td>\n",
       "      <td>6.154211e-08</td>\n",
       "      <td>1.908065e-02</td>\n",
       "      <td>0.002918</td>\n",
       "      <td>0.001606</td>\n",
       "      <td>0.017364</td>\n",
       "      <td>-0.008197</td>\n",
       "      <td>...</td>\n",
       "      <td>0.005155</td>\n",
       "      <td>-0.004815</td>\n",
       "      <td>0.000480</td>\n",
       "      <td>-0.002522</td>\n",
       "      <td>0.000543</td>\n",
       "      <td>0.002805</td>\n",
       "      <td>-0.000594</td>\n",
       "      <td>-0.006192</td>\n",
       "      <td>-0.009709</td>\n",
       "      <td>-7.447243e-08</td>\n",
       "    </tr>\n",
       "    <tr>\n",
       "      <th>3</th>\n",
       "      <td>-0.025868</td>\n",
       "      <td>-0.042909</td>\n",
       "      <td>-0.060432</td>\n",
       "      <td>-4.569536e-02</td>\n",
       "      <td>1.693041e-03</td>\n",
       "      <td>-1.673757e-02</td>\n",
       "      <td>-0.020854</td>\n",
       "      <td>-0.027655</td>\n",
       "      <td>-0.030256</td>\n",
       "      <td>-0.018224</td>\n",
       "      <td>...</td>\n",
       "      <td>-0.025641</td>\n",
       "      <td>-0.006452</td>\n",
       "      <td>-0.045084</td>\n",
       "      <td>-0.033628</td>\n",
       "      <td>-0.013580</td>\n",
       "      <td>-0.053846</td>\n",
       "      <td>-0.058195</td>\n",
       "      <td>-0.045171</td>\n",
       "      <td>-0.036274</td>\n",
       "      <td>-5.418719e-02</td>\n",
       "    </tr>\n",
       "    <tr>\n",
       "      <th>4</th>\n",
       "      <td>-0.012306</td>\n",
       "      <td>-0.014818</td>\n",
       "      <td>-0.016463</td>\n",
       "      <td>2.775771e-03</td>\n",
       "      <td>-3.662010e-03</td>\n",
       "      <td>-1.087150e-07</td>\n",
       "      <td>-0.007925</td>\n",
       "      <td>-0.015664</td>\n",
       "      <td>-0.009067</td>\n",
       "      <td>-0.001511</td>\n",
       "      <td>...</td>\n",
       "      <td>0.026316</td>\n",
       "      <td>0.006494</td>\n",
       "      <td>-0.000502</td>\n",
       "      <td>-0.007326</td>\n",
       "      <td>-0.005507</td>\n",
       "      <td>-0.003696</td>\n",
       "      <td>-0.001261</td>\n",
       "      <td>-0.003263</td>\n",
       "      <td>-0.005087</td>\n",
       "      <td>-1.666653e-02</td>\n",
       "    </tr>\n",
       "    <tr>\n",
       "      <th>...</th>\n",
       "      <td>...</td>\n",
       "      <td>...</td>\n",
       "      <td>...</td>\n",
       "      <td>...</td>\n",
       "      <td>...</td>\n",
       "      <td>...</td>\n",
       "      <td>...</td>\n",
       "      <td>...</td>\n",
       "      <td>...</td>\n",
       "      <td>...</td>\n",
       "      <td>...</td>\n",
       "      <td>...</td>\n",
       "      <td>...</td>\n",
       "      <td>...</td>\n",
       "      <td>...</td>\n",
       "      <td>...</td>\n",
       "      <td>...</td>\n",
       "      <td>...</td>\n",
       "      <td>...</td>\n",
       "      <td>...</td>\n",
       "      <td>...</td>\n",
       "    </tr>\n",
       "    <tr>\n",
       "      <th>899</th>\n",
       "      <td>0.006102</td>\n",
       "      <td>0.002802</td>\n",
       "      <td>0.001128</td>\n",
       "      <td>2.173914e-02</td>\n",
       "      <td>6.122433e-03</td>\n",
       "      <td>-2.820528e-03</td>\n",
       "      <td>0.001848</td>\n",
       "      <td>-0.002461</td>\n",
       "      <td>0.000639</td>\n",
       "      <td>-0.002668</td>\n",
       "      <td>...</td>\n",
       "      <td>0.005797</td>\n",
       "      <td>-0.030343</td>\n",
       "      <td>0.000833</td>\n",
       "      <td>0.001776</td>\n",
       "      <td>0.000996</td>\n",
       "      <td>0.003717</td>\n",
       "      <td>0.017005</td>\n",
       "      <td>0.012367</td>\n",
       "      <td>0.007463</td>\n",
       "      <td>4.307115e-02</td>\n",
       "    </tr>\n",
       "    <tr>\n",
       "      <th>900</th>\n",
       "      <td>0.011544</td>\n",
       "      <td>0.003726</td>\n",
       "      <td>0.003380</td>\n",
       "      <td>-1.773097e-03</td>\n",
       "      <td>0.000000e+00</td>\n",
       "      <td>7.714392e-04</td>\n",
       "      <td>0.000000</td>\n",
       "      <td>-0.000411</td>\n",
       "      <td>0.006390</td>\n",
       "      <td>0.000669</td>\n",
       "      <td>...</td>\n",
       "      <td>-0.020173</td>\n",
       "      <td>-0.012245</td>\n",
       "      <td>0.000833</td>\n",
       "      <td>0.000443</td>\n",
       "      <td>-0.002985</td>\n",
       "      <td>-0.001852</td>\n",
       "      <td>0.021575</td>\n",
       "      <td>0.012216</td>\n",
       "      <td>-0.002469</td>\n",
       "      <td>1.974863e-02</td>\n",
       "    </tr>\n",
       "    <tr>\n",
       "      <th>901</th>\n",
       "      <td>0.013540</td>\n",
       "      <td>0.020882</td>\n",
       "      <td>0.007299</td>\n",
       "      <td>5.328597e-02</td>\n",
       "      <td>8.620674e-03</td>\n",
       "      <td>5.652574e-03</td>\n",
       "      <td>0.004613</td>\n",
       "      <td>0.011929</td>\n",
       "      <td>-0.006032</td>\n",
       "      <td>0.002005</td>\n",
       "      <td>...</td>\n",
       "      <td>0.023529</td>\n",
       "      <td>0.039945</td>\n",
       "      <td>0.013311</td>\n",
       "      <td>0.008418</td>\n",
       "      <td>0.003992</td>\n",
       "      <td>0.012987</td>\n",
       "      <td>0.002640</td>\n",
       "      <td>0.000000</td>\n",
       "      <td>0.000000</td>\n",
       "      <td>1.056342e-02</td>\n",
       "    </tr>\n",
       "    <tr>\n",
       "      <th>902</th>\n",
       "      <td>0.001908</td>\n",
       "      <td>0.001364</td>\n",
       "      <td>0.001672</td>\n",
       "      <td>-8.431731e-03</td>\n",
       "      <td>5.027959e-04</td>\n",
       "      <td>1.788488e-03</td>\n",
       "      <td>0.000000</td>\n",
       "      <td>0.000407</td>\n",
       "      <td>0.002874</td>\n",
       "      <td>0.000000</td>\n",
       "      <td>...</td>\n",
       "      <td>0.000000</td>\n",
       "      <td>0.018543</td>\n",
       "      <td>0.001642</td>\n",
       "      <td>-0.002636</td>\n",
       "      <td>0.000994</td>\n",
       "      <td>0.000000</td>\n",
       "      <td>0.000527</td>\n",
       "      <td>0.006897</td>\n",
       "      <td>0.000000</td>\n",
       "      <td>-1.742178e-03</td>\n",
       "    </tr>\n",
       "    <tr>\n",
       "      <th>903</th>\n",
       "      <td>0.011048</td>\n",
       "      <td>0.006355</td>\n",
       "      <td>0.002226</td>\n",
       "      <td>1.870752e-02</td>\n",
       "      <td>-1.155780e-02</td>\n",
       "      <td>-6.630977e-03</td>\n",
       "      <td>-0.007346</td>\n",
       "      <td>-0.001219</td>\n",
       "      <td>-0.004140</td>\n",
       "      <td>0.003336</td>\n",
       "      <td>...</td>\n",
       "      <td>0.015805</td>\n",
       "      <td>-0.005202</td>\n",
       "      <td>-0.006557</td>\n",
       "      <td>-0.000441</td>\n",
       "      <td>-0.001986</td>\n",
       "      <td>0.005495</td>\n",
       "      <td>-0.015789</td>\n",
       "      <td>-0.010274</td>\n",
       "      <td>-0.004951</td>\n",
       "      <td>1.919725e-02</td>\n",
       "    </tr>\n",
       "  </tbody>\n",
       "</table>\n",
       "<p>904 rows × 24 columns</p>\n",
       "</div>"
      ],
      "text/plain": [
       "            0         1         2             3             4             5  \\\n",
       "0    0.000959 -0.009444 -0.019048 -3.770667e-03 -5.112146e-03 -4.079271e-03   \n",
       "1    0.010064  0.001467 -0.002517  1.430734e-01  1.170425e-02  1.199534e-02   \n",
       "2    0.002689  0.006957  0.002163 -1.972642e-08  6.154211e-08  1.908065e-02   \n",
       "3   -0.025868 -0.042909 -0.060432 -4.569536e-02  1.693041e-03 -1.673757e-02   \n",
       "4   -0.012306 -0.014818 -0.016463  2.775771e-03 -3.662010e-03 -1.087150e-07   \n",
       "..        ...       ...       ...           ...           ...           ...   \n",
       "899  0.006102  0.002802  0.001128  2.173914e-02  6.122433e-03 -2.820528e-03   \n",
       "900  0.011544  0.003726  0.003380 -1.773097e-03  0.000000e+00  7.714392e-04   \n",
       "901  0.013540  0.020882  0.007299  5.328597e-02  8.620674e-03  5.652574e-03   \n",
       "902  0.001908  0.001364  0.001672 -8.431731e-03  5.027959e-04  1.788488e-03   \n",
       "903  0.011048  0.006355  0.002226  1.870752e-02 -1.155780e-02 -6.630977e-03   \n",
       "\n",
       "            6         7         8         9  ...        14        15  \\\n",
       "0   -0.007813 -0.010142 -0.018018 -0.016457  ...  0.010118 -0.012841   \n",
       "1    0.011811  0.020902 -0.003670 -0.017145  ... -0.028381  0.013008   \n",
       "2    0.002918  0.001606  0.017364 -0.008197  ...  0.005155 -0.004815   \n",
       "3   -0.020854 -0.027655 -0.030256 -0.018224  ... -0.025641 -0.006452   \n",
       "4   -0.007925 -0.015664 -0.009067 -0.001511  ...  0.026316  0.006494   \n",
       "..        ...       ...       ...       ...  ...       ...       ...   \n",
       "899  0.001848 -0.002461  0.000639 -0.002668  ...  0.005797 -0.030343   \n",
       "900  0.000000 -0.000411  0.006390  0.000669  ... -0.020173 -0.012245   \n",
       "901  0.004613  0.011929 -0.006032  0.002005  ...  0.023529  0.039945   \n",
       "902  0.000000  0.000407  0.002874  0.000000  ...  0.000000  0.018543   \n",
       "903 -0.007346 -0.001219 -0.004140  0.003336  ...  0.015805 -0.005202   \n",
       "\n",
       "           16        17        18        19        20        21        22  \\\n",
       "0   -0.014702 -0.014720 -0.007567 -0.013889 -0.015134 -0.018209 -0.014634   \n",
       "1    0.003129 -0.012699  0.002179  0.004225 -0.004137 -0.001546  0.019802   \n",
       "2    0.000480 -0.002522  0.000543  0.002805 -0.000594 -0.006192 -0.009709   \n",
       "3   -0.045084 -0.033628 -0.013580 -0.053846 -0.058195 -0.045171 -0.036274   \n",
       "4   -0.000502 -0.007326 -0.005507 -0.003696 -0.001261 -0.003263 -0.005087   \n",
       "..        ...       ...       ...       ...       ...       ...       ...   \n",
       "899  0.000833  0.001776  0.000996  0.003717  0.017005  0.012367  0.007463   \n",
       "900  0.000833  0.000443 -0.002985 -0.001852  0.021575  0.012216 -0.002469   \n",
       "901  0.013311  0.008418  0.003992  0.012987  0.002640  0.000000  0.000000   \n",
       "902  0.001642 -0.002636  0.000994  0.000000  0.000527  0.006897  0.000000   \n",
       "903 -0.006557 -0.000441 -0.001986  0.005495 -0.015789 -0.010274 -0.004951   \n",
       "\n",
       "               23  \n",
       "0    4.975110e-03  \n",
       "1    4.950495e-03  \n",
       "2   -7.447243e-08  \n",
       "3   -5.418719e-02  \n",
       "4   -1.666653e-02  \n",
       "..            ...  \n",
       "899  4.307115e-02  \n",
       "900  1.974863e-02  \n",
       "901  1.056342e-02  \n",
       "902 -1.742178e-03  \n",
       "903  1.919725e-02  \n",
       "\n",
       "[904 rows x 24 columns]"
      ]
     },
     "execution_count": 19,
     "metadata": {},
     "output_type": "execute_result"
    }
   ],
   "source": [
    "mytest = ret.iloc[int(0.85*len(ret)):].reset_index(drop=True)\n",
    "mytest"
   ]
  },
  {
   "cell_type": "code",
   "execution_count": null,
   "metadata": {},
   "outputs": [],
   "source": []
  },
  {
   "cell_type": "code",
   "execution_count": null,
   "metadata": {},
   "outputs": [],
   "source": []
  },
  {
   "cell_type": "code",
   "execution_count": 20,
   "metadata": {},
   "outputs": [],
   "source": [
    "ret = pd.read_csv(\"Data/Input/StockReturns.csv\")\n",
    "mpt = pd.read_csv(\"Data/MPT_weights.csv\")\n",
    "rl = pd.read_csv(\"Data/RL_weights_Sortino_esg_false.csv\")"
   ]
  },
  {
   "cell_type": "code",
   "execution_count": 21,
   "metadata": {},
   "outputs": [
    {
     "data": {
      "text/plain": [
       "np.float64(-0.0012558987820323086)"
      ]
     },
     "execution_count": 21,
     "metadata": {},
     "output_type": "execute_result"
    }
   ],
   "source": [
    "np.dot(rl.iloc[-2], ret.iloc[-1])"
   ]
  },
  {
   "cell_type": "code",
   "execution_count": 23,
   "metadata": {},
   "outputs": [],
   "source": [
    "bench_w =  mpt\n",
    "returns = ret.iloc[-400:].reset_index(drop=True)\n",
    "exper_w = rl.iloc[-400-1:-1].reset_index(drop=True)"
   ]
  },
  {
   "cell_type": "code",
   "execution_count": 24,
   "metadata": {},
   "outputs": [],
   "source": [
    "bench_ret = np.array([np.dot(bench_w.iloc[i], returns.iloc[i]) for i in range(len(returns))])\n",
    "exper_ret = np.array([np.dot(exper_w.iloc[i], returns.iloc[i]) for i in range(len(returns))])"
   ]
  },
  {
   "cell_type": "code",
   "execution_count": 25,
   "metadata": {},
   "outputs": [
    {
     "data": {
      "text/plain": [
       "[]"
      ]
     },
     "execution_count": 25,
     "metadata": {},
     "output_type": "execute_result"
    },
    {
     "data": {
      "image/png": "[encoded data removed]",
      "text/plain": [
       "<Figure size 1000x500 with 1 Axes>"
      ]
     },
     "metadata": {},
     "output_type": "display_data"
    }
   ],
   "source": [
    "import matplotlib.pyplot as plt\n",
    "fig, ax = plt.subplots(figsize=(10,5))\n",
    "ax.plot(np.cumprod(bench_ret+1), color=\"blue\", label=\"Benchmark\")\n",
    "ax.plot(np.cumprod(exper_ret+1), color=\"red\", label=\"Experiment\")\n",
    "ax.legend()\n",
    "plt.plot()"
   ]
  },
  {
   "cell_type": "code",
   "execution_count": 5269,
   "metadata": {},
   "outputs": [
    {
     "data": {
      "text/plain": [
       "(400, 24)"
      ]
     },
     "execution_count": 5269,
     "metadata": {},
     "output_type": "execute_result"
    }
   ],
   "source": [
    "mpt = pd.read_csv(\"Data/MPT_weights.csv\")\n",
    "mpt.shape"
   ]
  },
  {
   "cell_type": "code",
   "execution_count": 33,
   "metadata": {},
   "outputs": [],
   "source": [
    "from src.Result.Menchero_OGA import MencheroOGA as MOGA"
   ]
  },
  {
   "cell_type": "code",
   "execution_count": 34,
   "metadata": {},
   "outputs": [],
   "source": [
    "miff = MOGA(exper_w,6,4)"
   ]
  },
  {
   "cell_type": "code",
   "execution_count": 38,
   "metadata": {},
   "outputs": [],
   "source": [
    "miff.allocation_effects"
   ]
  },
  {
   "cell_type": "code",
   "execution_count": 28,
   "metadata": {},
   "outputs": [
    {
     "data": {
      "text/plain": [
       "(400, 24)"
      ]
     },
     "execution_count": 28,
     "metadata": {},
     "output_type": "execute_result"
    }
   ],
   "source": [
    "last_ret  =  mytest.iloc[-400:].reset_index(drop=True)\n",
    "last_ret.shape"
   ]
  },
  {
   "cell_type": "code",
   "execution_count": 29,
   "metadata": {},
   "outputs": [],
   "source": [
    "bravo = np.array([np.dot(mpt.iloc[i], last_ret.iloc[i]) for i in range(400)])"
   ]
  },
  {
   "cell_type": "code",
   "execution_count": 30,
   "metadata": {},
   "outputs": [
    {
     "data": {
      "text/plain": [
       "[<matplotlib.lines.Line2D at 0x1e2def3eb10>]"
      ]
     },
     "execution_count": 30,
     "metadata": {},
     "output_type": "execute_result"
    },
    {
     "data": {
      "image/png": "[encoded data removed]",
      "text/plain": [
       "<Figure size 640x480 with 1 Axes>"
      ]
     },
     "metadata": {},
     "output_type": "display_data"
    }
   ],
   "source": [
    "plt.plot(np.cumprod(1+bravo))"
   ]
  },
  {
   "cell_type": "code",
   "execution_count": 31,
   "metadata": {},
   "outputs": [],
   "source": [
    "# "
   ]
  },
  {
   "cell_type": "code",
   "execution_count": 32,
   "metadata": {},
   "outputs": [],
   "source": [
    "# "
   ]
  }
 ],
 "metadata": {
  "kernelspec": {
   "display_name": "MyVenv",
   "language": "python",
   "name": "python3"
  },
  "language_info": {
   "codemirror_mode": {
    "name": "ipython",
    "version": 3
   },
   "file_extension": ".py",
   "mimetype": "text/x-python",
   "name": "python",
   "nbconvert_exporter": "python",
   "pygments_lexer": "ipython3",
   "version": "3.11.8"
  }
 },
 "nbformat": 4,
 "nbformat_minor": 2
}
