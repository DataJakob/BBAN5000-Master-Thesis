{
 "cells": [
  {
   "cell_type": "markdown",
   "metadata": {},
   "source": [
    "<h1> Main.ipynb </h1>\n",
    "<h2> 1. Import libraries and modules </h2>"
   ]
  },
  {
   "cell_type": "code",
   "execution_count": 3,
   "metadata": {},
   "outputs": [],
   "source": [
    "import numpy as np\n",
    "import matplotlib.pyplot as plt"
   ]
  },
  {
   "cell_type": "code",
   "execution_count": 172,
   "metadata": {},
   "outputs": [
    {
     "data": {
      "text/plain": [
       "30.0"
      ]
     },
     "execution_count": 172,
     "metadata": {},
     "output_type": "execute_result"
    }
   ],
   "source": [
    "(3e-5)*1000000"
   ]
  },
  {
   "cell_type": "code",
   "execution_count": null,
   "metadata": {},
   "outputs": [],
   "source": []
  },
  {
   "cell_type": "code",
   "execution_count": 153,
   "metadata": {},
   "outputs": [],
   "source": [
    "alfa = np.array([20.6, 20.87, 20.95, 20.85])\n",
    "bravo = np.array([21.34, 21.1, 21.09, 21.15])"
   ]
  },
  {
   "cell_type": "code",
   "execution_count": 162,
   "metadata": {},
   "outputs": [
    {
     "name": "stdout",
     "output_type": "stream",
     "text": [
      "T-statistic: -3.6939\n",
      "P-value: 0.0114\n"
     ]
    }
   ],
   "source": [
    "from scipy.stats import ttest_ind\n",
    "\n",
    "esg_list_1 = [23.1, 25.3, 21.9, 24.0]\n",
    "esg_list_2 = [27.8, 28.1, 26.5, 29.0]\n",
    "\n",
    "# Perform Welch's t-test (assumes unequal variances)\n",
    "t_stat, p_value = ttest_ind(alfa, bravo, equal_var=False)\n",
    "\n",
    "print(f\"T-statistic: {t_stat:.4f}\")\n",
    "print(f\"P-value: {p_value:.4f}\")"
   ]
  },
  {
   "cell_type": "code",
   "execution_count": 164,
   "metadata": {},
   "outputs": [
    {
     "data": {
      "text/plain": [
       "np.float64(0.11920647652963012)"
      ]
     },
     "execution_count": 164,
     "metadata": {},
     "output_type": "execute_result"
    }
   ],
   "source": [
    "np.mean(alfa) + (np.std(alfa)*3.6) - np.mean(bravo)"
   ]
  },
  {
   "cell_type": "code",
   "execution_count": 142,
   "metadata": {},
   "outputs": [
    {
     "name": "stdout",
     "output_type": "stream",
     "text": [
      "0.7642997810766432\n"
     ]
    }
   ],
   "source": [
    "input = np.random.normal(loc=1, scale=0.05, size=800)\n",
    "# plt.hist(input)\n",
    "periodic_return = np.cumprod(input)[-1]-1\n",
    "print(periodic_return)"
   ]
  },
  {
   "cell_type": "code",
   "execution_count": 137,
   "metadata": {},
   "outputs": [
    {
     "name": "stdout",
     "output_type": "stream",
     "text": [
      "-0.4784415511728596\n"
     ]
    }
   ],
   "source": [
    "periodic_return = np.cumprod(input)[-1]-1\n",
    "print(periodic_return)"
   ]
  },
  {
   "cell_type": "code",
   "execution_count": 143,
   "metadata": {},
   "outputs": [],
   "source": [
    "all_drawdown = []\n",
    "\n",
    "ind_drawdown = []\n",
    "for i in range(0, len(input), 1):\n",
    "    if input[i] < 1:\n",
    "        ind_drawdown.append(input[i])\n",
    "        if i == len(input) - 1:\n",
    "            all_drawdown.append(ind_drawdown)\n",
    "    else:\n",
    "        if len(ind_drawdown) == 0:\n",
    "            pass\n",
    "        else:\n",
    "            all_drawdown.append(ind_drawdown)\n",
    "            ind_drawdown = []"
   ]
  },
  {
   "cell_type": "code",
   "execution_count": 144,
   "metadata": {},
   "outputs": [],
   "source": [
    "prod_drawdowns = np.abs(np.array([np.cumprod(all_drawdown[i])[-1] for i in range(len(all_drawdown))])-1)\n",
    "\n",
    "\n",
    "if -int(len(prod_drawdowns) *0.1) == 0:\n",
    "    idx = len(prod_drawdowns)\n",
    "else: \n",
    "    idx= -int(len(prod_drawdowns) *0.1)"
   ]
  },
  {
   "cell_type": "code",
   "execution_count": 93,
   "metadata": {},
   "outputs": [],
   "source": [
    "# prod_drawdowns"
   ]
  },
  {
   "cell_type": "code",
   "execution_count": 165,
   "metadata": {},
   "outputs": [
    {
     "data": {
      "text/plain": [
       "array([0.00055765, 0.00065186, 0.00131443, 0.00224123, 0.00241958,\n",
       "       0.00264809, 0.00271611, 0.00354343, 0.00363497, 0.00379754,\n",
       "       0.00388691, 0.00404224, 0.0044822 , 0.00674357, 0.00695579,\n",
       "       0.00704376, 0.00812196, 0.00818611, 0.00967591, 0.01137663,\n",
       "       0.01224702, 0.01266219, 0.01271212, 0.01375717, 0.01378681,\n",
       "       0.013894  , 0.01393603, 0.01394104, 0.01400516, 0.01449965,\n",
       "       0.01627234, 0.01737579, 0.01759621, 0.01760652, 0.01773273,\n",
       "       0.01842683, 0.02013063, 0.02177753, 0.02186229, 0.02310503,\n",
       "       0.02338289, 0.02439999, 0.0251179 , 0.02621608, 0.02643209,\n",
       "       0.02676632, 0.02697518, 0.02761126, 0.02800064, 0.02801497,\n",
       "       0.02806908, 0.02869508, 0.02877813, 0.03027609, 0.03148622,\n",
       "       0.0317162 , 0.03272412, 0.03547346, 0.03551046, 0.03643106,\n",
       "       0.03663314, 0.03683004, 0.03712301, 0.03720642, 0.03732249,\n",
       "       0.03784508, 0.03868294, 0.03868781, 0.04043775, 0.04100602,\n",
       "       0.04197488, 0.04277854, 0.04504674, 0.04533217, 0.04557884,\n",
       "       0.04570896, 0.04600419, 0.04642277, 0.04765718, 0.04867366,\n",
       "       0.04874049, 0.04900674, 0.04910777, 0.04934232, 0.05033948,\n",
       "       0.05084402, 0.05133912, 0.05163909, 0.05227329, 0.05276223,\n",
       "       0.05538855, 0.05565496, 0.05593429, 0.05651154, 0.05715993,\n",
       "       0.05745248, 0.05790864, 0.0580671 , 0.0586635 , 0.05969912,\n",
       "       0.05982353, 0.06118758, 0.06144041, 0.06154602, 0.06235524,\n",
       "       0.06237292, 0.06279939, 0.06457525, 0.06476455, 0.06596597,\n",
       "       0.06749631, 0.06815247, 0.06966686, 0.06976484, 0.07000845,\n",
       "       0.07237026, 0.07242392, 0.07440107, 0.07492735, 0.07531845,\n",
       "       0.07596485, 0.07712582, 0.07722824, 0.0776074 , 0.07810883,\n",
       "       0.078615  , 0.07985157, 0.07986395, 0.0822178 , 0.08317172,\n",
       "       0.08695269, 0.08765082, 0.08809669, 0.08969574, 0.08975325,\n",
       "       0.08999717, 0.09152339, 0.09188091, 0.09218825, 0.0932107 ,\n",
       "       0.09321575, 0.09343492, 0.09623619, 0.09669761, 0.09773997,\n",
       "       0.09831653, 0.09944404, 0.09947549, 0.10260913, 0.10289523,\n",
       "       0.10379354, 0.10448627, 0.10633339, 0.10679224, 0.1070762 ,\n",
       "       0.1077257 , 0.1111016 , 0.11431794, 0.11439215, 0.11533632,\n",
       "       0.11646203, 0.11735598, 0.11831912, 0.12089424, 0.12354872,\n",
       "       0.12415042, 0.12808817, 0.12828331, 0.13130244, 0.13191094,\n",
       "       0.13538902, 0.13612588, 0.13792535, 0.13863402, 0.14266669,\n",
       "       0.14320542, 0.14344834, 0.15049951, 0.15489358, 0.15623294,\n",
       "       0.15906069, 0.16018248, 0.162784  , 0.17018016, 0.17457265,\n",
       "       0.17607693, 0.17896774, 0.17990762, 0.19460028, 0.19474484,\n",
       "       0.20185245, 0.21286047, 0.22438756, 0.22712838, 0.22954579,\n",
       "       0.23011614, 0.30109165])"
      ]
     },
     "execution_count": 165,
     "metadata": {},
     "output_type": "execute_result"
    }
   ],
   "source": [
    "np.sort(prod_drawdowns)"
   ]
  },
  {
   "cell_type": "code",
   "execution_count": 145,
   "metadata": {},
   "outputs": [],
   "source": [
    "alfa = np.mean(np.sort(prod_drawdowns)[::-1][:idx])"
   ]
  },
  {
   "cell_type": "code",
   "execution_count": 146,
   "metadata": {},
   "outputs": [
    {
     "data": {
      "text/plain": [
       "np.float64(9.719990478793084)"
      ]
     },
     "execution_count": 146,
     "metadata": {},
     "output_type": "execute_result"
    }
   ],
   "source": [
    "periodic_return/alfa"
   ]
  },
  {
   "cell_type": "code",
   "execution_count": 147,
   "metadata": {},
   "outputs": [],
   "source": [
    "def _sterling_ratio(returns: list):\n",
    "    \"\"\"\n",
    "    Sterling ratio calculator\n",
    "    \"\"\"\n",
    "    \n",
    "    periodic_return = np.cumprod(returns)[-1] -1\n",
    "\n",
    "    all_drawdown = []\n",
    "    ind_drawdown = []\n",
    "    for i in range(0, len(input), 1):\n",
    "        if input[i] < 1:\n",
    "            ind_drawdown.append(input[i])\n",
    "            if i == len(input) - 1:\n",
    "                all_drawdown.append(ind_drawdown)\n",
    "        else:\n",
    "            if len(ind_drawdown) == 0:\n",
    "                pass\n",
    "            else:\n",
    "                all_drawdown.append(ind_drawdown)\n",
    "                ind_drawdown = []\n",
    "\n",
    "    prod_drawdowns = np.abs(np.array([np.cumprod(all_drawdown[i])[-1] for i in range(len(all_drawdown))])-1)\n",
    "\n",
    "\n",
    "    if -int(len(prod_drawdowns) *0.1) == 0:\n",
    "        idx = len(prod_drawdowns)\n",
    "    else: \n",
    "        idx= -int(len(prod_drawdowns) *0.1)\n",
    "    avg_drawdown = np.mean(np.sort(prod_drawdowns)[::-1][:idx])\n",
    "    print(periodic_return)\n",
    "    print(avg_drawdown)\n",
    "    sterling_ratio = periodic_return / avg_drawdown\n",
    "\n",
    "    return sterling_ratio"
   ]
  },
  {
   "cell_type": "code",
   "execution_count": 151,
   "metadata": {},
   "outputs": [
    {
     "data": {
      "text/plain": [
       "0.19444444444444442"
      ]
     },
     "execution_count": 151,
     "metadata": {},
     "output_type": "execute_result"
    }
   ],
   "source": [
    "1/18*3.5"
   ]
  },
  {
   "cell_type": "code",
   "execution_count": 148,
   "metadata": {},
   "outputs": [
    {
     "name": "stdout",
     "output_type": "stream",
     "text": [
      "0.7642997810766432\n",
      "0.0786317417433875\n"
     ]
    },
    {
     "data": {
      "text/plain": [
       "np.float64(9.719990478793084)"
      ]
     },
     "execution_count": 148,
     "metadata": {},
     "output_type": "execute_result"
    }
   ],
   "source": [
    "_sterling_ratio(input)"
   ]
  },
  {
   "cell_type": "code",
   "execution_count": null,
   "metadata": {},
   "outputs": [],
   "source": []
  },
  {
   "cell_type": "code",
   "execution_count": null,
   "metadata": {},
   "outputs": [],
   "source": []
  },
  {
   "cell_type": "code",
   "execution_count": 1,
   "metadata": {},
   "outputs": [],
   "source": [
    "import numpy as np\n",
    "import pandas as pd\n",
    "\n",
    "from src.Data_Retriever import DataRetrieverNew as DatRet\n",
    "\n",
    "from src.Optimization.Markowitz_PT import MarkowitzPT as MPT\n",
    "\n",
    "from src.Optimization.Environment import PortfolioEnvironment as PorEnv\n",
    "from src.Optimization.RLModelCompilation import RL_Model as RLM\n",
    "# from src.Optimization.NeuralNet import CustomCNNExtractor \n",
    "\n",
    "from src.Result.Menchero_OGA import MencheroOGA as MOGA\n",
    "from src.Result.IndPortResults import GenerateResult as GR\n",
    "from src.Result.OverviewResults import ResultConveyor as RC\n",
    "\n",
    "import time\n",
    "\n",
    "import warnings\n",
    "warnings.filterwarnings('ignore')"
   ]
  },
  {
   "cell_type": "markdown",
   "metadata": {},
   "source": [
    "<h2> 2. Define operating variables </h2>"
   ]
  },
  {
   "cell_type": "code",
   "execution_count": 2,
   "metadata": {},
   "outputs": [],
   "source": [
    "trading_n = 400\n",
    "history_usage = 504\n",
    "n_sectors = 6\n",
    "n_stocks_per_sector = 4\n",
    "\n",
    "# For RL algorithm\n",
    "history_usage_RL = 40\n",
    "rolling_reward_window = 40"
   ]
  },
  {
   "cell_type": "markdown",
   "metadata": {},
   "source": [
    "<h2> 3. Define stock dataframe </h2>"
   ]
  },
  {
   "cell_type": "code",
   "execution_count": 3,
   "metadata": {},
   "outputs": [],
   "source": [
    "ticker_df =  pd.DataFrame({\n",
    "    \"Petroleum\": [\"EQNR.OL\", \"SUBC.OL\", \"BWO.OL\"],\n",
    "    \"Food\": [\"ORK.OL\", \"MOWI.OL\", \"LSG.OL\"],\n",
    "    \"Materials\": [\"NHY.OL\", \"YAR.OL\", \"RECSI.OL\"],\n",
    "    \"Technologies\": [\"TEL.OL\", \"NOD.OL\", \"ATEA.OL\"],\n",
    "    \"Financial\": [\"STB.OL\", \"DNB.OL\", \"AKER.OL\"],\n",
    "    \"Shipping\":[\"SNI.OL\", \"BELCO.OL\", \"ODF.OL\"]\n",
    "})"
   ]
  },
  {
   "cell_type": "markdown",
   "metadata": {},
   "source": [
    "<h2> 4. Define ESG array </h2>"
   ]
  },
  {
   "cell_type": "code",
   "execution_count": 4,
   "metadata": {},
   "outputs": [],
   "source": [
    "esg_scores = np.array([36.6, 17.9, 18, \n",
    "                18, 23.2, 29.2, \n",
    "                15.7, 25.4, 25.6, # Del this\n",
    "                19.8, 13.8, 18.1, \n",
    "                17.3, 14, 12.3, \n",
    "                21.2, 26.8, 24.9\n",
    "                ])"
   ]
  },
  {
   "cell_type": "markdown",
   "metadata": {},
   "source": [
    "<h2> 5.-7. (Non-necessary for reproducability) </h2>\n",
    "<h3>Data retrieval</h3>\n",
    "<h3>Benchmark optimization (MPT)</h3>\n",
    "<h3>RL optimization x4</h3>\n",
    "<br>\n",
    "All of the data has been generated an stored in csvs. Therefore, I can comment out the code lines below."
   ]
  },
  {
   "cell_type": "code",
   "execution_count": 5,
   "metadata": {},
   "outputs": [
    {
     "name": "stdout",
     "output_type": "stream",
     "text": [
      "YF.download() has changed argument auto_adjust default to True\n"
     ]
    },
    {
     "name": "stderr",
     "output_type": "stream",
     "text": [
      "[*********************100%***********************]  1 of 1 completed\n",
      "[*********************100%***********************]  1 of 1 completed\n",
      "[*********************100%***********************]  1 of 1 completed\n",
      "[*********************100%***********************]  1 of 1 completed\n",
      "[*********************100%***********************]  1 of 1 completed\n",
      "[*********************100%***********************]  1 of 1 completed\n",
      "[*********************100%***********************]  1 of 1 completed\n",
      "[*********************100%***********************]  1 of 1 completed\n",
      "[*********************100%***********************]  1 of 1 completed\n",
      "[*********************100%***********************]  1 of 1 completed\n",
      "[*********************100%***********************]  1 of 1 completed\n",
      "[*********************100%***********************]  1 of 1 completed\n",
      "[*********************100%***********************]  1 of 1 completed\n",
      "[*********************100%***********************]  1 of 1 completed\n",
      "[*********************100%***********************]  1 of 1 completed\n",
      "[*********************100%***********************]  1 of 1 completed\n",
      "[*********************100%***********************]  1 of 1 completed\n",
      "[*********************100%***********************]  1 of 1 completed\n"
     ]
    },
    {
     "name": "stdout",
     "output_type": "stream",
     "text": [
      "--- Data retrieved successfully ---\n"
     ]
    }
   ],
   "source": [
    "# Retrieve data from yf API: y-m-d\n",
    "data = DatRet(\"2006-07-01\", \"2025-03-31\", ticker_df)\n",
    "# In function below, set log=True to check for data availability\n",
    "data.retrieve_data()"
   ]
  },
  {
   "cell_type": "code",
   "execution_count": 6,
   "metadata": {},
   "outputs": [],
   "source": [
    "# Generate benchmark weights thorugh MPT using Sharpe ratio\n",
    "# # benchmark = MPT(history_usage, trading_n)\n",
    "# IMPORTANT: In order to see  the effect of the weights, algo exclude last observation from optimization\n",
    "# # benchmark.frequency_optimizing()"
   ]
  },
  {
   "cell_type": "code",
   "execution_count": 7,
   "metadata": {},
   "outputs": [],
   "source": [
    "# objectives = [\"Return\", \"Sharpe\", \"Sortino\", \"Sterling\", \"Return\", \"Sharpe\", \"Sortino\", \"Sterling\"]\n",
    "# esg_compliancy = [True, True, True, True, False, False, False, False]\n",
    "# # objectives = [\"Sharpe\"]\n",
    "# # esg_compliancy = [True]\n",
    "\n",
    "# for i in range(len(objectives)):\n",
    "#     reinforcement = RLM(esg_scores, \n",
    "#                         objective=objectives[i],\n",
    "#                         history_usage=history_usage_RL,\n",
    "#                         rolling_reward_window=rolling_reward_window,\n",
    "#                         total_timesteps=200,\n",
    "#                         esg_compliancy=esg_compliancy[i],\n",
    "#                         )\n",
    "#     reinforcement.train_model()\n",
    "#     reinforcement.test_model()"
   ]
  },
  {
   "cell_type": "markdown",
   "metadata": {},
   "source": [
    "<h2> 8. Attribution analysis </h2>"
   ]
  },
  {
   "cell_type": "code",
   "execution_count": 8,
   "metadata": {},
   "outputs": [],
   "source": [
    "# paths = [\"Return_esg_True\", \"Sharpe_esg_True\",\n",
    "#          \"Sortino_esg_True\",\"Sterling_esg_True\",\n",
    "#          \"Return_esg_False\", \"Sharpe_esg_False\",\n",
    "#          \"Sortino_esg_False\",\"Sterling_esg_False\",]\n",
    "\n",
    "# analysis_list = []\n",
    "# for i in range(len(paths)):\n",
    "#     att_anal = GR(paths[i],\n",
    "#             n_sectors, n_stocks_per_sector,\n",
    "#             trading_n,\n",
    "#             esg_scores, \n",
    "#             ticker_df.columns)\n",
    "#     att_anal.friple_frequency_analysis()\n",
    "#     analysis_list.append(att_anal)"
   ]
  },
  {
   "cell_type": "markdown",
   "metadata": {},
   "source": [
    "<h2> 9. Overview  Result Analysis </h2>"
   ]
  },
  {
   "cell_type": "code",
   "execution_count": 9,
   "metadata": {},
   "outputs": [],
   "source": [
    "# theta = RC(analysis_list, trading_n)\n",
    "# theta.convey_results()"
   ]
  },
  {
   "cell_type": "markdown",
   "metadata": {},
   "source": [
    "<h1> 10. Ad-hoc </h1>"
   ]
  },
  {
   "cell_type": "code",
   "execution_count": 10,
   "metadata": {},
   "outputs": [],
   "source": [
    "# ret = pd.read_csv(\"Data/Input/StockReturns.csv\")\n",
    "# weights = pd.read_csv(\"Data/RL_weights_Sharpe_esg_false.csv\")\n",
    "\n",
    "# train_set = ret.iloc[:int(0.85*len(ret))]\n",
    "# test_set = ret.iloc[int(0.85*len(ret)):]"
   ]
  },
  {
   "cell_type": "code",
   "execution_count": null,
   "metadata": {},
   "outputs": [],
   "source": []
  },
  {
   "cell_type": "code",
   "execution_count": 11,
   "metadata": {},
   "outputs": [],
   "source": [
    "# import pandas as pd\n",
    "# import numpy as np\n",
    "# import yfinance as yf"
   ]
  },
  {
   "cell_type": "code",
   "execution_count": 12,
   "metadata": {},
   "outputs": [],
   "source": [
    "start_date = \"2006-07-01\"\n",
    "end_date = \"2024-03-31\""
   ]
  },
  {
   "cell_type": "code",
   "execution_count": 13,
   "metadata": {},
   "outputs": [],
   "source": [
    "# class DataRetrieverNew:\n",
    "\n",
    "#     def __init__(self, start_date, end_date, ticker_df):\n",
    "#         \"\"\"\n",
    "#         doc string\n",
    "#         \"\"\"\n",
    "#         self.start_date = start_date\n",
    "#         self.end_date = end_date\n",
    "#         self.ticker_list = np.array(ticker_df).flatten()\n",
    "\n",
    "#         self.master_daterange = pd.Series(np.repeat(pd.date_range(start=self.start_date, end=self.end_date, freq=\"B\"), 2), name=\"Date\")\n",
    "#         self.return_df = pd.DataFrame(index=self.master_daterange)\n",
    "#         self.volume_df = pd.DataFrame(index=self.master_daterange)\n",
    "#         self.rolling_return_df = pd.DataFrame(index=self.master_daterange)\n",
    "#         self.rolling_volatility_df = pd.DataFrame(index=self.master_daterange)\n",
    "\n",
    "\n",
    "#     def z_score(self, arr: np.array):\n",
    "#         \"\"\"\n",
    "#         doc string\n",
    "#         \"\"\"\n",
    "#         z_score_arr = (arr - np.mean(arr)) / np.std(arr)\n",
    "\n",
    "#         return z_score_arr\n",
    "\n",
    "\n",
    "\n",
    "#     def retrieve_data(self):\n",
    "#         \"\"\"\n",
    "#         doc string\n",
    "#         \"\"\"\n",
    "#         for i in range(0, len(self.ticker_list), 1):\n",
    "#             stock_data = yf.download(self.ticker_list[i], start=start_date, end=end_date)\n",
    "\n",
    "#             date_df = pd.DataFrame(index=self.master_daterange)\n",
    "#             open = stock_data[\"Open\"]\n",
    "#             individual_df = pd.merge(date_df, open, on=\"Date\", how=\"left\")\n",
    "#             inter_df = pd.merge(date_df, stock_data[\"Close\"], on=\"Date\", how=\"left\")\n",
    "#             individual_df[self.ticker_list[i]].iloc[1::2] = inter_df[self.ticker_list[i]].iloc[::2]\n",
    "#             return_series = individual_df.interpolate().ffill().bfill()\n",
    "#             vol_series = pd.merge(date_df, stock_data[\"Volume\"], on=\"Date\", how=\"left\")\n",
    "\n",
    "#             self.return_df[self.ticker_list[i]] = return_series[self.ticker_list[i]]\n",
    "#             self.volume_df[self.ticker_list[i]] = self.z_score(vol_series[self.ticker_list[i]])\n",
    "#             self.rolling_return_df[self.ticker_list[i]] = return_series[self.ticker_list[i]].rolling(40).mean().bfill()\n",
    "#             self.return_df[self.ticker_list[i]] = return_series[self.ticker_list[i]].rolling(40).std().bfill()\n",
    "        \n",
    "#         master_df = pd.concat([self.return_df, self.volume_df, self.rolling_return_df, self.rolling_volatility_df], axis = 1)\n",
    "#         master_df.to_csv(\"Mix.csv\", index=False)\n",
    "\n",
    "#         print(\"--- Data retrieved successfully ---\")"
   ]
  },
  {
   "cell_type": "code",
   "execution_count": 14,
   "metadata": {},
   "outputs": [],
   "source": [
    "# hotel = DataRetrieverNew(start_date,end_date, [\"EQNR.OL\", \"SNI.OL\"] )\n",
    "# hotel.retrieve_data()"
   ]
  },
  {
   "cell_type": "code",
   "execution_count": 27,
   "metadata": {},
   "outputs": [
    {
     "data": {
      "text/plain": [
       "0"
      ]
     },
     "execution_count": 27,
     "metadata": {},
     "output_type": "execute_result"
    }
   ],
   "source": [
    "6%2"
   ]
  },
  {
   "cell_type": "code",
   "execution_count": null,
   "metadata": {},
   "outputs": [],
   "source": []
  },
  {
   "cell_type": "code",
   "execution_count": null,
   "metadata": {},
   "outputs": [],
   "source": []
  },
  {
   "cell_type": "code",
   "execution_count": null,
   "metadata": {},
   "outputs": [],
   "source": [
    "for step in range(400):\n",
    "    action, _ = self.model.predict(obs, deterministic=True)\n",
    "    weights = action / np.sum(action+ 1e-8)\n",
    "    weights_history_test.append(weights)\n",
    "\n",
    "    obs, _ done, _ = test_env.step(action)\n",
    "    if (step + 1) & self.retrain_interval == 0 and (step + 1) < 400:\n",
    "        additional_data = self.valid"
   ]
  },
  {
   "cell_type": "code",
   "execution_count": null,
   "metadata": {},
   "outputs": [],
   "source": []
  },
  {
   "cell_type": "code",
   "execution_count": null,
   "metadata": {},
   "outputs": [],
   "source": []
  },
  {
   "cell_type": "code",
   "execution_count": 1,
   "metadata": {},
   "outputs": [],
   "source": [
    "import numpy as np\n",
    "import pandas as  pd"
   ]
  },
  {
   "cell_type": "code",
   "execution_count": 2,
   "metadata": {},
   "outputs": [],
   "source": [
    "df = pd.read_csv(\"Data/StockReturns.csv\")"
   ]
  },
  {
   "cell_type": "code",
   "execution_count": 25,
   "metadata": {},
   "outputs": [],
   "source": [
    "halogen = []\n",
    "for i in range(len(df)):\n",
    "    ret = df.iloc[i]\n",
    "    check = [ret[int(i*3):int((1+i)*3)] for i in range(4)]\n",
    "    \n",
    "    for j in range(0,len(check),1):\n",
    "        if len(check[j]) != 3:\n",
    "            print(\"Nei\")\n",
    "    halogen.append(check)"
   ]
  },
  {
   "cell_type": "code",
   "execution_count": 17,
   "metadata": {},
   "outputs": [
    {
     "data": {
      "text/plain": [
       "3"
      ]
     },
     "execution_count": 17,
     "metadata": {},
     "output_type": "execute_result"
    }
   ],
   "source": [
    "len(halogen[0][1])"
   ]
  }
 ],
 "metadata": {
  "kernelspec": {
   "display_name": "MyVenv",
   "language": "python",
   "name": "python3"
  },
  "language_info": {
   "codemirror_mode": {
    "name": "ipython",
    "version": 3
   },
   "file_extension": ".py",
   "mimetype": "text/x-python",
   "name": "python",
   "nbconvert_exporter": "python",
   "pygments_lexer": "ipython3",
   "version": "3.11.8"
  }
 },
 "nbformat": 4,
 "nbformat_minor": 2
}
