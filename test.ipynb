{
 "cells": [
  {
   "cell_type": "markdown",
   "metadata": {},
   "source": [
    "<h1> Main.ipynb </h1>\n",
    "<h2> 1. Import libraries and modules </h2>"
   ]
  },
  {
   "cell_type": "code",
   "execution_count": 1,
   "metadata": {},
   "outputs": [],
   "source": [
    "import numpy as np\n",
    "import pandas as pd \n",
    "import matplotlib.pyplot as plt\n",
    "\n",
    "\n",
    "from src.Data_Retriever import DataRetriever as DatRet\n",
    "\n",
    "from src.Optimization.Markowitz_PT import MarkowitzPT as MPT\n",
    "\n",
    "# from src.Optimization.Environment import PortfolioEnvironment as PorEnv\n",
    "# from src.Optimization.RLModelCompilation import RL_Model as RLM\n",
    "from src.Optimization.NeuralNet import CustomNeuralNet as CusNN\n",
    "from src.Optimization.NeuralNet import CustomSACPolicy as CSACP\n",
    "\n",
    "from src.Result.Menchero_OGA import MencheroOGA as MOGA\n",
    "from src.Result.IndPortResults import GenerateResult as GR\n",
    "from src.Result.OverviewResults import ResultConveyor as RC"
   ]
  },
  {
   "cell_type": "code",
   "execution_count": null,
   "metadata": {},
   "outputs": [],
   "source": []
  },
  {
   "cell_type": "markdown",
   "metadata": {},
   "source": [
    "<h2> 2. Define operating variables </h2>"
   ]
  },
  {
   "cell_type": "code",
   "execution_count": 7,
   "metadata": {},
   "outputs": [],
   "source": [
    "# Define necessary non-fixed variables\n",
    "trading_n = 30\n",
    "history_usage = 100\n",
    "n_sectors = 6\n",
    "n_stocks_per_sector = 4\n",
    "\n",
    "# For RL algorithm\n",
    "history_usage_RL = 10"
   ]
  },
  {
   "cell_type": "markdown",
   "metadata": {},
   "source": [
    "<h2> 3. Define stock dataframe </h2>"
   ]
  },
  {
   "cell_type": "code",
   "execution_count": 3,
   "metadata": {},
   "outputs": [
    {
     "data": {
      "text/html": [
       "<div>\n",
       "<style scoped>\n",
       "    .dataframe tbody tr th:only-of-type {\n",
       "        vertical-align: middle;\n",
       "    }\n",
       "\n",
       "    .dataframe tbody tr th {\n",
       "        vertical-align: top;\n",
       "    }\n",
       "\n",
       "    .dataframe thead th {\n",
       "        text-align: right;\n",
       "    }\n",
       "</style>\n",
       "<table border=\"1\" class=\"dataframe\">\n",
       "  <thead>\n",
       "    <tr style=\"text-align: right;\">\n",
       "      <th></th>\n",
       "      <th>Petroleum</th>\n",
       "      <th>Seafood (food)</th>\n",
       "      <th>Materials</th>\n",
       "      <th>Technologies</th>\n",
       "      <th>Financial</th>\n",
       "      <th>Shipping</th>\n",
       "    </tr>\n",
       "  </thead>\n",
       "  <tbody>\n",
       "    <tr>\n",
       "      <th>0</th>\n",
       "      <td>EQNR.OL</td>\n",
       "      <td>ORK.OL</td>\n",
       "      <td>NHY.OL</td>\n",
       "      <td>TEL.OL</td>\n",
       "      <td>STB.OL</td>\n",
       "      <td>WAWI.OL</td>\n",
       "    </tr>\n",
       "    <tr>\n",
       "      <th>1</th>\n",
       "      <td>AKRBP.OL</td>\n",
       "      <td>MOWI.OL</td>\n",
       "      <td>YAR.OL</td>\n",
       "      <td>NOD.OL</td>\n",
       "      <td>DNB.OL</td>\n",
       "      <td>SNI.OL</td>\n",
       "    </tr>\n",
       "    <tr>\n",
       "      <th>2</th>\n",
       "      <td>SUBC.OL</td>\n",
       "      <td>SALM.OL</td>\n",
       "      <td>RECSI.OL</td>\n",
       "      <td>ATEA.OL</td>\n",
       "      <td>GJF.OL</td>\n",
       "      <td>BELCO.OL</td>\n",
       "    </tr>\n",
       "    <tr>\n",
       "      <th>3</th>\n",
       "      <td>BWO.OL</td>\n",
       "      <td>LSG.OL</td>\n",
       "      <td>BRG.OL</td>\n",
       "      <td>BOUV.OL</td>\n",
       "      <td>AKER.OL</td>\n",
       "      <td>ODF.OL</td>\n",
       "    </tr>\n",
       "  </tbody>\n",
       "</table>\n",
       "</div>"
      ],
      "text/plain": [
       "  Petroleum Seafood (food) Materials Technologies Financial  Shipping\n",
       "0   EQNR.OL         ORK.OL    NHY.OL       TEL.OL    STB.OL   WAWI.OL\n",
       "1  AKRBP.OL        MOWI.OL    YAR.OL       NOD.OL    DNB.OL    SNI.OL\n",
       "2   SUBC.OL        SALM.OL  RECSI.OL      ATEA.OL    GJF.OL  BELCO.OL\n",
       "3    BWO.OL         LSG.OL    BRG.OL      BOUV.OL   AKER.OL    ODF.OL"
      ]
     },
     "execution_count": 3,
     "metadata": {},
     "output_type": "execute_result"
    }
   ],
   "source": [
    "# Defining stock pool\n",
    "ticker_df =  pd.DataFrame()\n",
    "ticker_df[\"Petroleum\"] = [\"EQNR.OL\", \"AKRBP.OL\", \"SUBC.OL\", \"BWO.OL\",]\n",
    "ticker_df[\"Seafood (food)\"] = [\"ORK.OL\", \"MOWI.OL\", \"SALM.OL\", \"LSG.OL\"]\n",
    "ticker_df[\"Materials\"] = [\"NHY.OL\", \"YAR.OL\", \"RECSI.OL\", \"BRG.OL\"]\n",
    "ticker_df[\"Technologies\"] = [\"TEL.OL\", \"NOD.OL\", \"ATEA.OL\", \"BOUV.OL\"]\n",
    "ticker_df[\"Financial\"] = [\"STB.OL\", \"DNB.OL\", \"GJF.OL\", \"AKER.OL\"]\n",
    "ticker_df[\"Shipping\"] = [\"WAWI.OL\", \"SNI.OL\", \"BELCO.OL\", \"ODF.OL\"]\n",
    "ticker_df"
   ]
  },
  {
   "cell_type": "markdown",
   "metadata": {},
   "source": [
    "<h2> 4. Define ESG array </h2>"
   ]
  },
  {
   "cell_type": "code",
   "execution_count": 4,
   "metadata": {},
   "outputs": [],
   "source": [
    "# Defining ESG scores for respective securities\n",
    "esg_scores = [36.6, 35.3, 17.9, 18, \n",
    "              18, 21.2, 18.7, 29.2, \n",
    "              15.7, 25.6, 25.6, 18.4, \n",
    "              19.8, 13.8, 18.1, 19, \n",
    "              17.2, 14, 17.2, 19.5, \n",
    "              19.7, 21.2, 26.8, 19.3]"
   ]
  },
  {
   "cell_type": "code",
   "execution_count": null,
   "metadata": {},
   "outputs": [],
   "source": [
    "# my_df = pd.read_csv(\"Data/RL_weights_Return_esg_False.csv\")\n",
    "\n",
    "# alfa = GR(\"Return_esg_False\", n_sectors, n_stocks_per_sector,100, esg_scores,ticker_df.columns)\n",
    "# alfa.friple_frequency_analysis()"
   ]
  },
  {
   "cell_type": "markdown",
   "metadata": {},
   "source": [
    "<h2> 5.-7. (Non-necessary for reproducability) </h2>\n",
    "<h3>Data retrieval</h3>\n",
    "<h3>Benchmark optimization (MPT)</h3>\n",
    "<h3>RL optimization x4</h3>\n",
    "<br>\n",
    "All of the data has been generated an stored in csvs. Therefore, I can comment out the code lines below."
   ]
  },
  {
   "cell_type": "code",
   "execution_count": 5,
   "metadata": {},
   "outputs": [],
   "source": [
    "# # Retrieve data from yf API: y-m-d\n",
    "# data = DatRet(ticker_df, \"2013-01-01\", \"2024-01-01\")\n",
    "# # In function below, set log=True to check for data availability\n",
    "# data.retrieve_data()"
   ]
  },
  {
   "cell_type": "code",
   "execution_count": 6,
   "metadata": {},
   "outputs": [],
   "source": [
    "\n",
    "# # Generate benchmark weights thorugh MPT using Sharpe ratio\n",
    "# benchmark = MPT(history_usage, trading_n)\n",
    "# # IMPORTANT: In order to see  the effect of the weights, algo exclude last observation from optimization\n",
    "# benchmark.frequency_optimizing()"
   ]
  },
  {
   "cell_type": "code",
   "execution_count": 7,
   "metadata": {},
   "outputs": [],
   "source": [
    "# objectives = [\"Return\", \"Sharpe\", \"Sortino\", \"Sterling\", \"Return\", \"Sharpe\", \"Sortino\", \"Sterling\"]\n",
    "# esg_compliancy = [True, True, True, True, False, False, False, False]\n",
    "\n",
    "# for i in range(len(objectives)):\n",
    "#     reinforcement = RLM(esg_scores, \n",
    "#                         objective=objectives[i],\n",
    "#                         window_size=history_usage_RL,\n",
    "#                         total_timesteps=5000,\n",
    "#                         esg_compliancy=esg_compliancy[i],\n",
    "#                         )\n",
    "#     reinforcement.train_model()\n",
    "#     reinforcement.test_model()"
   ]
  },
  {
   "cell_type": "markdown",
   "metadata": {},
   "source": [
    "<h2> 8. Attribution analysis </h2>"
   ]
  },
  {
   "cell_type": "code",
   "execution_count": 8,
   "metadata": {},
   "outputs": [
    {
     "name": "stdout",
     "output_type": "stream",
     "text": [
      "----Analysis completed succesfully----\n",
      "----Analysis completed succesfully----\n",
      "----Analysis completed succesfully----\n",
      "----Analysis completed succesfully----\n",
      "----Analysis completed succesfully----\n",
      "----Analysis completed succesfully----\n",
      "----Analysis completed succesfully----\n",
      "----Analysis completed succesfully----\n"
     ]
    }
   ],
   "source": [
    "paths = [\"Return_esg_True\", \"Sharpe_esg_True\",\n",
    "         \"Sortino_esg_True\",\"Sterling_esg_True\",\n",
    "         \"Return_esg_False\", \"Sharpe_esg_False\",\n",
    "         \"Sortino_esg_False\",\"Sterling_esg_False\",]\n",
    "\n",
    "analysis_list = []\n",
    "for i in range(len(paths)):\n",
    "    att_anal = GR(paths[i],\n",
    "            n_sectors, n_stocks_per_sector,\n",
    "            trading_n,\n",
    "            esg_scores, \n",
    "            ticker_df.columns)\n",
    "    att_anal.friple_frequency_analysis()\n",
    "    analysis_list.append(att_anal)"
   ]
  },
  {
   "cell_type": "markdown",
   "metadata": {},
   "source": [
    "<h2> X. Ad hoc analysis </h2>"
   ]
  },
  {
   "cell_type": "code",
   "execution_count": 9,
   "metadata": {},
   "outputs": [],
   "source": [
    "theta = RC(analysis_list, trading_n)\n",
    "theta.convey_results()"
   ]
  }
 ],
 "metadata": {
  "kernelspec": {
   "display_name": "MyVenv",
   "language": "python",
   "name": "python3"
  },
  "language_info": {
   "codemirror_mode": {
    "name": "ipython",
    "version": 3
   },
   "file_extension": ".py",
   "mimetype": "text/x-python",
   "name": "python",
   "nbconvert_exporter": "python",
   "pygments_lexer": "ipython3",
   "version": "3.11.8"
  }
 },
 "nbformat": 4,
 "nbformat_minor": 2
}
