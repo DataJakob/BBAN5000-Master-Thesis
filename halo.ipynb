{
 "cells": [
  {
   "cell_type": "code",
   "execution_count": 1,
   "metadata": {},
   "outputs": [],
   "source": [
    "import numpy as np\n",
    "import pandas as pd\n",
    "import matplotlib.pyplot as plt"
   ]
  },
  {
   "cell_type": "code",
   "execution_count": 16,
   "metadata": {},
   "outputs": [
    {
     "data": {
      "text/plain": [
       "'[0.05354883 0.03036533 0.05940507 0.04824982 0.00651599 0.06750181\\n 0.05266209 0.05438658 0.00886398 0.03116151 0.02565495 0.06412144\\n 0.04454804 0.05692561 0.03067915 0.0157223  0.03837087 0.00441542\\n 0.05726253 0.04370389 0.05245093 0.02452911 0.06716111 0.06179368]'"
      ]
     },
     "execution_count": 16,
     "metadata": {},
     "output_type": "execute_result"
    }
   ],
   "source": [
    "df = pd.read_csv('myDF.csv')\n",
    "df.iloc[0,0]"
   ]
  },
  {
   "cell_type": "code",
   "execution_count": 17,
   "metadata": {},
   "outputs": [
    {
     "data": {
      "text/html": [
       "<div>\n",
       "<style scoped>\n",
       "    .dataframe tbody tr th:only-of-type {\n",
       "        vertical-align: middle;\n",
       "    }\n",
       "\n",
       "    .dataframe tbody tr th {\n",
       "        vertical-align: top;\n",
       "    }\n",
       "\n",
       "    .dataframe thead th {\n",
       "        text-align: right;\n",
       "    }\n",
       "</style>\n",
       "<table border=\"1\" class=\"dataframe\">\n",
       "  <thead>\n",
       "    <tr style=\"text-align: right;\">\n",
       "      <th></th>\n",
       "      <th>0</th>\n",
       "      <th>1</th>\n",
       "    </tr>\n",
       "  </thead>\n",
       "  <tbody>\n",
       "    <tr>\n",
       "      <th>0</th>\n",
       "      <td>[0.05354883 0.03036533 0.05940507 0.04824982 0...</td>\n",
       "      <td>0.001000</td>\n",
       "    </tr>\n",
       "    <tr>\n",
       "      <th>1</th>\n",
       "      <td>[0.06776736 0.01694557 0.0406335  0.00381363 0...</td>\n",
       "      <td>0.151229</td>\n",
       "    </tr>\n",
       "    <tr>\n",
       "      <th>2</th>\n",
       "      <td>[0.06283905 0.01286736 0.01840604 0.00067786 0...</td>\n",
       "      <td>0.079737</td>\n",
       "    </tr>\n",
       "    <tr>\n",
       "      <th>3</th>\n",
       "      <td>[0.08251754 0.02262015 0.00563743 0.02720767 0...</td>\n",
       "      <td>0.040087</td>\n",
       "    </tr>\n",
       "    <tr>\n",
       "      <th>4</th>\n",
       "      <td>[0.0284824  0.00689992 0.00928959 0.07572193 0...</td>\n",
       "      <td>0.198396</td>\n",
       "    </tr>\n",
       "    <tr>\n",
       "      <th>...</th>\n",
       "      <td>...</td>\n",
       "      <td>...</td>\n",
       "    </tr>\n",
       "    <tr>\n",
       "      <th>5313</th>\n",
       "      <td>[0.05692023 0.01337705 0.00543547 0.01432821 0...</td>\n",
       "      <td>-0.013892</td>\n",
       "    </tr>\n",
       "    <tr>\n",
       "      <th>5314</th>\n",
       "      <td>[0.05741162 0.01629595 0.00751457 0.084512   0...</td>\n",
       "      <td>0.037842</td>\n",
       "    </tr>\n",
       "    <tr>\n",
       "      <th>5315</th>\n",
       "      <td>[0.04568802 0.07533786 0.0046541  0.03641526 0...</td>\n",
       "      <td>0.075892</td>\n",
       "    </tr>\n",
       "    <tr>\n",
       "      <th>5316</th>\n",
       "      <td>[0.03655481 0.03304982 0.08024146 0.02846621 0...</td>\n",
       "      <td>-0.063929</td>\n",
       "    </tr>\n",
       "    <tr>\n",
       "      <th>5317</th>\n",
       "      <td>[0.04289491 0.03871175 0.0517314  0.02929078 0...</td>\n",
       "      <td>-0.089172</td>\n",
       "    </tr>\n",
       "  </tbody>\n",
       "</table>\n",
       "<p>5318 rows × 2 columns</p>\n",
       "</div>"
      ],
      "text/plain": [
       "                                                      0         1\n",
       "0     [0.05354883 0.03036533 0.05940507 0.04824982 0...  0.001000\n",
       "1     [0.06776736 0.01694557 0.0406335  0.00381363 0...  0.151229\n",
       "2     [0.06283905 0.01286736 0.01840604 0.00067786 0...  0.079737\n",
       "3     [0.08251754 0.02262015 0.00563743 0.02720767 0...  0.040087\n",
       "4     [0.0284824  0.00689992 0.00928959 0.07572193 0...  0.198396\n",
       "...                                                 ...       ...\n",
       "5313  [0.05692023 0.01337705 0.00543547 0.01432821 0... -0.013892\n",
       "5314  [0.05741162 0.01629595 0.00751457 0.084512   0...  0.037842\n",
       "5315  [0.04568802 0.07533786 0.0046541  0.03641526 0...  0.075892\n",
       "5316  [0.03655481 0.03304982 0.08024146 0.02846621 0... -0.063929\n",
       "5317  [0.04289491 0.03871175 0.0517314  0.02929078 0... -0.089172\n",
       "\n",
       "[5318 rows x 2 columns]"
      ]
     },
     "execution_count": 17,
     "metadata": {},
     "output_type": "execute_result"
    }
   ],
   "source": [
    "df"
   ]
  },
  {
   "cell_type": "code",
   "execution_count": null,
   "metadata": {},
   "outputs": [],
   "source": []
  }
 ],
 "metadata": {
  "kernelspec": {
   "display_name": ".venv",
   "language": "python",
   "name": "python3"
  },
  "language_info": {
   "codemirror_mode": {
    "name": "ipython",
    "version": 3
   },
   "file_extension": ".py",
   "mimetype": "text/x-python",
   "name": "python",
   "nbconvert_exporter": "python",
   "pygments_lexer": "ipython3",
   "version": "3.11.9"
  }
 },
 "nbformat": 4,
 "nbformat_minor": 2
}
