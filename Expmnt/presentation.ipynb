{
 "cells": [
  {
   "cell_type": "code",
   "execution_count": 4,
   "id": "65024cde",
   "metadata": {},
   "outputs": [],
   "source": [
    "import numpy as np\n",
    "import pandas as pd\n",
    "\n",
    "import matplotlib.pyplot as plt"
   ]
  },
  {
   "cell_type": "code",
   "execution_count": 5,
   "id": "d73fdfa1",
   "metadata": {},
   "outputs": [],
   "source": [
    "from src.Analysis.Menchero_OGA import MencheroOGA as MOGA\n",
    "from src.Analysis.IndPortResults import GenerateResult as GR\n",
    "from src.Analysis.OverviewResults import ResultConveyor as RC"
   ]
  },
  {
   "cell_type": "code",
   "execution_count": 6,
   "id": "e1e8b98a",
   "metadata": {},
   "outputs": [],
   "source": [
    "# Define necessary non-fixed variables\n",
    "trading_n = 800\n",
    "history_usage = int(521*4)\n",
    "n_sectors = 6\n",
    "n_stocks_per_sector = 3\n",
    "\n",
    "# For RL algorithm\n",
    "history_usage_RL = 80\n",
    "rolling_reward_window = 40\n",
    "\n",
    "# Defining stock pool\n",
    "ticker_df =  pd.DataFrame({\n",
    "    \"Petroleum\": [\"EQNR.OL\", \"SUBC.OL\", \"BWO.OL\"],\n",
    "    \"Food\": [\"ORK.OL\", \"MOWI.OL\", \"LSG.OL\"],\n",
    "    \"Materials\": [\"NHY.OL\", \"YAR.OL\", \"RECSI.OL\"],\n",
    "    \"Technologies\": [\"TEL.OL\", \"NOD.OL\", \"ATEA.OL\"],\n",
    "    \"Financial\": [\"STB.OL\", \"DNB.OL\", \"AKER.OL\"],\n",
    "    \"Shipping\":[\"SNI.OL\", \"BELCO.OL\", \"ODF.OL\"]\n",
    "})\n",
    "\n",
    "# Defining ESG scores for respective securities\n",
    "esg_scores = np.array([\n",
    "    36.6, 17.9, 18, \n",
    "    18, 23.2, 29.2, \n",
    "    15.7, 25.4, 25.6, # Del this\n",
    "    19.8, 13.8, 18.1, \n",
    "    17.3, 14, 12.3, \n",
    "    21.2, 26.8, 24.9\n",
    "])"
   ]
  },
  {
   "cell_type": "code",
   "execution_count": 7,
   "id": "520b57fa",
   "metadata": {},
   "outputs": [
    {
     "name": "stdout",
     "output_type": "stream",
     "text": [
      "----Analysis completed succesfully----\n"
     ]
    }
   ],
   "source": [
    "paths = [\"Sterling_esg_True\"]\n",
    "\n",
    "analysis_list = []\n",
    "for i in range(len(paths)):\n",
    "    att_anal = GR(\n",
    "        paths[i],\n",
    "        n_sectors, \n",
    "        n_stocks_per_sector,\n",
    "        trading_n,\n",
    "        esg_scores, \n",
    "        ticker_df.columns\n",
    "    )\n",
    "    att_anal.friple_frequency_analysis()\n",
    "    analysis_list.append(att_anal)"
   ]
  },
  {
   "cell_type": "code",
   "execution_count": 8,
   "id": "2f007446",
   "metadata": {},
   "outputs": [
    {
     "data": {
      "text/plain": [
       "[<src.Analysis.IndPortResults.GenerateResult at 0x1f4ada290d0>]"
      ]
     },
     "execution_count": 8,
     "metadata": {},
     "output_type": "execute_result"
    }
   ],
   "source": [
    "analysis_list"
   ]
  },
  {
   "cell_type": "code",
   "execution_count": 9,
   "id": "7a37c70c",
   "metadata": {},
   "outputs": [],
   "source": [
    "ar = analysis_list[0].exper_analysis[\"active_return\"]\n",
    "br = analysis_list[0].exper_analysis[\"bench_return\"]\n",
    "er = analysis_list[0].exper_analysis[\"return\"]\n",
    "sa = analysis_list[0].exper_analysis[\"sector_allocation\"]\n",
    "ss = analysis_list[0].exper_analysis[\"sector_selection\"]\n",
    "esg = analysis_list[0].exper_analysis[\"esg_score\"]\n",
    "cols = ticker_df.columns"
   ]
  },
  {
   "cell_type": "code",
   "execution_count": 1,
   "id": "c0282f3b",
   "metadata": {},
   "outputs": [],
   "source": [
    "def plot_values(idx: int, save_path: str):\n",
    "\n",
    "        bigfig, ax = plt.subplots(2,2,figsize=(10,10))\n",
    "        ax[0,0].plot(br[:idx], color=\"grey\", label=\"Benchmark\")\n",
    "        ax[0,0].plot(er[:idx], color=\"blue\", label=\"Experimental\")\n",
    "        ax[0,0].plot(ar[:idx], color=\"green\", label= \"Geometric active return\")\n",
    "        ax[0,0].scatter(x=np.linspace(0,idx-1, idx), y=(br[:idx]*ar[:idx]), \n",
    "                s=5, color=\"black\", label=\"Validity Control\")\n",
    "        ax[0,0].axhline(y=1, color=\"red\")\n",
    "        ax[0,0].set_ylabel(\"Return\")\n",
    "        ax[0,0].set_xlabel(\"Trading times\")\n",
    "        ax[0,0].set_title('General Portfolio Performance')\n",
    "        ax[0,0].legend()\n",
    "\n",
    "        ax[0,1].plot(esg[:idx], color=\"blue\", label=\"Mean ESG score\")\n",
    "        ax[0,1].set_ylabel(\"ESG score\")\n",
    "        ax[0,1].set_xlabel(\"Trading times\")\n",
    "        ax[0,1].set_title('ESG Score Development')\n",
    "        ax[0,1].legend()\n",
    "\n",
    "        ax[1,0].boxplot(sa[:idx])\n",
    "        ax[1,0].axhline(y=0, color=\"black\")\n",
    "        ax[1,0].set_xticklabels(cols, rotation=45) \n",
    "        ax[1,0].set_title('Allocation Variation by Sector')\n",
    "        ax[1,0].ylim(-0.017)\n",
    "\n",
    "        ax[1,1].boxplot(ss[:idx])\n",
    "        ax[1,1].axhline(y=0, color=\"black\")\n",
    "        ax[1,1].set_xticklabels(cols, rotation=45) \n",
    "        ax[1,1].set_title('Selection Variation by Sector')\n",
    "        ax[1,1].ylim(-0.015)\n",
    "        \n",
    "        plt.suptitle(\"Sterling True Performance\", fontsize=12)\n",
    "        plt.tight_layout()\n",
    "        plt.savefig(save_path)\n",
    "        plt.close()"
   ]
  },
  {
   "cell_type": "code",
   "execution_count": 3,
   "id": "ba00bc01",
   "metadata": {},
   "outputs": [
    {
     "ename": "NameError",
     "evalue": "name 'plt' is not defined",
     "output_type": "error",
     "traceback": [
      "\u001b[1;31m---------------------------------------------------------------------------\u001b[0m",
      "\u001b[1;31mNameError\u001b[0m                                 Traceback (most recent call last)",
      "Cell \u001b[1;32mIn[3], line 1\u001b[0m\n\u001b[1;32m----> 1\u001b[0m \u001b[43mplot_values\u001b[49m\u001b[43m(\u001b[49m\u001b[38;5;241;43m3\u001b[39;49m\u001b[43m,\u001b[49m\u001b[43m \u001b[49m\u001b[38;5;124;43m\"\u001b[39;49m\u001b[38;5;124;43mkosd\u001b[39;49m\u001b[38;5;124;43m\"\u001b[39;49m\u001b[43m)\u001b[49m\n",
      "Cell \u001b[1;32mIn[1], line 3\u001b[0m, in \u001b[0;36mplot_values\u001b[1;34m(idx, save_path)\u001b[0m\n\u001b[0;32m      1\u001b[0m \u001b[38;5;28;01mdef\u001b[39;00m\u001b[38;5;250m \u001b[39m\u001b[38;5;21mplot_values\u001b[39m(idx: \u001b[38;5;28mint\u001b[39m, save_path: \u001b[38;5;28mstr\u001b[39m):\n\u001b[1;32m----> 3\u001b[0m         bigfig, ax \u001b[38;5;241m=\u001b[39m \u001b[43mplt\u001b[49m\u001b[38;5;241m.\u001b[39msubplots(\u001b[38;5;241m2\u001b[39m,\u001b[38;5;241m2\u001b[39m,figsize\u001b[38;5;241m=\u001b[39m(\u001b[38;5;241m10\u001b[39m,\u001b[38;5;241m10\u001b[39m))\n\u001b[0;32m      4\u001b[0m         ax[\u001b[38;5;241m0\u001b[39m,\u001b[38;5;241m0\u001b[39m]\u001b[38;5;241m.\u001b[39mplot(br[:idx], color\u001b[38;5;241m=\u001b[39m\u001b[38;5;124m\"\u001b[39m\u001b[38;5;124mgrey\u001b[39m\u001b[38;5;124m\"\u001b[39m, label\u001b[38;5;241m=\u001b[39m\u001b[38;5;124m\"\u001b[39m\u001b[38;5;124mBenchmark\u001b[39m\u001b[38;5;124m\"\u001b[39m)\n\u001b[0;32m      5\u001b[0m         ax[\u001b[38;5;241m0\u001b[39m,\u001b[38;5;241m0\u001b[39m]\u001b[38;5;241m.\u001b[39mplot(er[:idx], color\u001b[38;5;241m=\u001b[39m\u001b[38;5;124m\"\u001b[39m\u001b[38;5;124mblue\u001b[39m\u001b[38;5;124m\"\u001b[39m, label\u001b[38;5;241m=\u001b[39m\u001b[38;5;124m\"\u001b[39m\u001b[38;5;124mExperimental\u001b[39m\u001b[38;5;124m\"\u001b[39m)\n",
      "\u001b[1;31mNameError\u001b[0m: name 'plt' is not defined"
     ]
    }
   ],
   "source": [
    "plot_values(3, \"kosd\")"
   ]
  },
  {
   "cell_type": "code",
   "execution_count": 49,
   "id": "0e334638",
   "metadata": {},
   "outputs": [],
   "source": [
    "import imageio\n",
    "import os\n",
    "from tqdm import tqdm"
   ]
  },
  {
   "cell_type": "code",
   "execution_count": 65,
   "id": "2ef5e004",
   "metadata": {},
   "outputs": [
    {
     "name": "stderr",
     "output_type": "stream",
     "text": [
      "100%|██████████| 160/160 [01:58<00:00,  1.35it/s]\n",
      "C:\\Users\\Jakob\\AppData\\Local\\Temp\\ipykernel_27488\\321214701.py:13: DeprecationWarning: Starting with ImageIO v3 the behavior of this function will switch to that of iio.v3.imread. To keep the current behavior (and make this warning disappear) use `import imageio.v2 as imageio` or call `imageio.v2.imread` directly.\n",
      "  image = imageio.imread(filename)\n"
     ]
    }
   ],
   "source": [
    "os.makedirs(\"frames\", exist_ok=True)\n",
    "filenames = []\n",
    "\n",
    "# Create one frame per timestep (step of 5)\n",
    "for idx in tqdm(range(5, 801, 5)):  # start at 5 to avoid idx=0 error\n",
    "    frame_path = f\"frames/frame_{idx:03d}.png\"\n",
    "    plot_values(idx, save_path=frame_path)\n",
    "    filenames.append(frame_path)\n",
    "\n",
    "# Stitch frames into a GIF (10 sec = 0.0625s per frame for 160 frames)\n",
    "with imageio.get_writer('sterling_performance.gif', mode='I', duration=0.0625) as writer:\n",
    "    for filename in filenames:\n",
    "        image = imageio.imread(filename)\n",
    "        writer.append_data(image)"
   ]
  },
  {
   "cell_type": "code",
   "execution_count": 60,
   "id": "473964c3",
   "metadata": {},
   "outputs": [
    {
     "name": "stderr",
     "output_type": "stream",
     "text": [
      "100%|██████████| 151/151 [01:10<00:00,  2.14it/s]\n",
      "C:\\Users\\Jakob\\AppData\\Local\\Temp\\ipykernel_27488\\3182014603.py:65: DeprecationWarning: Starting with ImageIO v3 the behavior of this function will switch to that of iio.v3.imread. To keep the current behavior (and make this warning disappear) use `import imageio.v2 as imageio` or call `imageio.v2.imread` directly.\n",
      "  writer.append_data(imageio.imread(filename))\n"
     ]
    }
   ],
   "source": [
    "import matplotlib.pyplot as plt\n",
    "import numpy as np\n",
    "import imageio\n",
    "import os\n",
    "from tqdm import tqdm\n",
    "\n",
    "# Function with gliding window [idx:idx+50]\n",
    "def plot_values(idx: int, save_path: str):\n",
    "    window_start = idx\n",
    "    window_end = idx + 50\n",
    "    \n",
    "    bigfig, ax = plt.subplots(2, 2, figsize=(10, 10))\n",
    "\n",
    "    ax[0,0].plot(np.linspace(window_start, window_end-1, 50), \n",
    "                 br[window_start:window_end], color=\"grey\", label=\"Benchmark\")\n",
    "    ax[0,0].plot(np.linspace(window_start, window_end-1, 50), \n",
    "                 er[window_start:window_end], color=\"blue\", label=\"Experimental\")\n",
    "    ax[0,0].plot(np.linspace(window_start, window_end-1, 50), \n",
    "                 ar[window_start:window_end], color=\"green\", label=\"Geometric active return\")\n",
    "    ax[0,0].scatter(\n",
    "        x=np.linspace(window_start, window_end-1, 50), \n",
    "        y=br[window_start:window_end] * ar[window_start:window_end],\n",
    "        s=5, color=\"black\", label=\"Validity Control\"\n",
    "    )\n",
    "    ax[0,0].axhline(y=1, color=\"red\")\n",
    "    ax[0,0].set_ylabel(\"Return\")\n",
    "    ax[0,0].set_xlabel(\"Trading times\")\n",
    "    ax[0,0].set_title('General Portfolio Performance')\n",
    "    ax[0,0].legend()\n",
    "\n",
    "    ax[0,1].plot(esg[window_start:window_end], color=\"blue\", label=\"Mean ESG score\")\n",
    "    ax[0,1].set_ylabel(\"ESG score\")\n",
    "    ax[0,1].set_xlabel(\"Trading times\")\n",
    "    ax[0,1].set_title('ESG Score Development')\n",
    "    ax[0,1].legend()\n",
    "\n",
    "    ax[1,0].boxplot(sa[window_start:window_end])\n",
    "    ax[1,0].axhline(y=0, color=\"black\")\n",
    "    ax[1,0].set_xticklabels(cols, rotation=45)\n",
    "    ax[1,0].set_title('Allocation Variation by Sector')\n",
    "\n",
    "    ax[1,1].boxplot(ss[window_start:window_end])\n",
    "    ax[1,1].axhline(y=0, color=\"black\")\n",
    "    ax[1,1].set_xticklabels(cols, rotation=45)\n",
    "    ax[1,1].set_title('Selection Variation by Sector')\n",
    "\n",
    "    plt.suptitle(f\"Sterling True Performance (Window {idx}:{idx+50})\", fontsize=12)\n",
    "    plt.tight_layout()\n",
    "    plt.savefig(save_path)\n",
    "    plt.close()\n",
    "\n",
    "# Frame setup\n",
    "os.makedirs(\"frames\", exist_ok=True)\n",
    "filenames = []\n",
    "\n",
    "# Create GIF frames from 0 to 750 (since window is [idx:idx+50])\n",
    "for idx in tqdm(range(0, 751, 5)):\n",
    "    frame_path = f\"frames/frame_{idx:03d}.png\"\n",
    "    plot_values(idx, save_path=frame_path)\n",
    "    filenames.append(frame_path)\n",
    "\n",
    "# Make 10-sec GIF with ~160 frames (0.0625s per frame)\n",
    "with imageio.get_writer('sterling_gliding_window.gif', mode='I', duration=0.0625) as writer:\n",
    "    for filename in filenames:\n",
    "        writer.append_data(imageio.imread(filename))\n",
    "\n",
    "# Optional cleanup\n",
    "# import shutil\n",
    "# shutil.rmtree(\"frames\")\n"
   ]
  }
 ],
 "metadata": {
  "kernelspec": {
   "display_name": "MyVenv",
   "language": "python",
   "name": "python3"
  },
  "language_info": {
   "codemirror_mode": {
    "name": "ipython",
    "version": 3
   },
   "file_extension": ".py",
   "mimetype": "text/x-python",
   "name": "python",
   "nbconvert_exporter": "python",
   "pygments_lexer": "ipython3",
   "version": "3.11.8"
  }
 },
 "nbformat": 4,
 "nbformat_minor": 5
}
