{
 "cells": [
  {
   "cell_type": "code",
   "execution_count": 1,
   "id": "f6bf3bc9",
   "metadata": {},
   "outputs": [],
   "source": [
    "import numpy as np\n",
    "import pandas as pd"
   ]
  },
  {
   "cell_type": "code",
   "execution_count": 2,
   "id": "671d1e97",
   "metadata": {},
   "outputs": [],
   "source": [
    "alfa = pd.read_csv(\"EndResults/run0/attribution.csv\")\n",
    "bravo = pd.read_csv(\"EndResults/run1/attribution.csv\")\n",
    "charlie = pd.read_csv(\"EndResults/run2/attribution.csv\")\n",
    "delta = pd.read_csv(\"EndResults/run3/attribution.csv\")"
   ]
  },
  {
   "cell_type": "code",
   "execution_count": 3,
   "id": "12a281d5",
   "metadata": {},
   "outputs": [],
   "source": [
    "runs = [alfa, bravo, charlie, delta]"
   ]
  },
  {
   "cell_type": "code",
   "execution_count": null,
   "id": "77f9a57f",
   "metadata": {},
   "outputs": [],
   "source": [
    "mean_all = []\n",
    "std_all = []\n",
    "cum_all = []\n",
    "\n",
    "mean_sel = []\n",
    "std_sel = []\n",
    "cum_sel = []\n",
    "\n",
    "for i in range(0,4,1): # runs\n",
    "    for j in range(0, 5, 1): # algs\n",
    "        hotel = runs[i].iloc[j, 0]\n",
    "        hotel = hotel.replace('array', 'np.array')\n",
    "        hotel = eval(hotel, {\"np\":np})\n",
    "        fox = runs[i].iloc[j, 1]\n",
    "        fox = fox.replace('array', 'np.array')\n",
    "        fox = eval(fox, {\"np\":np})\n",
    "        mean_sel.append(fox[0])\n",
    "        std_sel.append(fox[1])\n",
    "        cum_sel.append(fox[2])\n",
    "        mean_all.append(hotel[0])\n",
    "        std_all.append(hotel[1])\n",
    "        cum_all.append(hotel[2])"
   ]
  },
  {
   "cell_type": "code",
   "execution_count": null,
   "id": "bbd92a81",
   "metadata": {},
   "outputs": [],
   "source": [
    "# Choose between: mean_sel, std_sel, cum_sel, mean_all, std_all, cum_all\n",
    "output = [[cum_sel[i+j] for i in range(0,20,5)] for j in range(5)]\n",
    "np.round(np.mean(output, axis=1),2)"
   ]
  }
 ],
 "metadata": {
  "kernelspec": {
   "display_name": "MyVenv",
   "language": "python",
   "name": "python3"
  },
  "language_info": {
   "codemirror_mode": {
    "name": "ipython",
    "version": 3
   },
   "file_extension": ".py",
   "mimetype": "text/x-python",
   "name": "python",
   "nbconvert_exporter": "python",
   "pygments_lexer": "ipython3",
   "version": "3.11.8"
  }
 },
 "nbformat": 4,
 "nbformat_minor": 5
}
