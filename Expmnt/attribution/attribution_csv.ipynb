{
 "cells": [
  {
   "cell_type": "code",
   "execution_count": 1,
   "id": "efdd4465",
   "metadata": {},
   "outputs": [],
   "source": [
    "# Import libraries and custom modules\n",
    "import numpy as np\n",
    "import pandas as pd\n",
    "\n",
    "from src.Data_Retriever import DataRetriever as DatRet\n",
    "\n",
    "from src.Optimization.Markowitz_PT import MarkowitzPT as MPT\n",
    "\n",
    "from src.Optimization.Environment import PortfolioEnvironment as PorEnv\n",
    "from src.Optimization.RLModelCompilation import RL_Model as RLM\n",
    "\n",
    "from src.Analysis.Menchero_OGA import MencheroOGA as MOGA\n",
    "from src.Analysis.IndPortResults import GenerateResult as GR\n",
    "from src.Analysis.OverviewResults import ResultConveyor as RC\n",
    "\n",
    "import time\n",
    "\"\"\"------------------------------------------------\"\"\"\n",
    "# Start timer\n",
    "start_time = time.time()\n",
    "\"\"\"------------------------------------------------\"\"\"\n",
    "# Define variables for securitiy pool\n",
    "n_sectors = 6\n",
    "n_stocks_per_sector = 3\n",
    "\n",
    "# Define variables for benchmark\n",
    "trading_n = 800\n",
    "history_usage = int(100)\n",
    "\n",
    "# For RL algorithm\n",
    "history_usage_RL = 50\n",
    "rolling_reward_window = 50\n",
    "\"\"\"------------------------------------------------\"\"\"\n",
    "# Defining security pool\n",
    "ticker_df =  pd.DataFrame({\n",
    "    \"Petroleum\": [\"EQNR.OL\", \"SUBC.OL\", \"BWO.OL\"],\n",
    "    \"Food\": [\"ORK.OL\", \"MOWI.OL\", \"LSG.OL\"],\n",
    "    \"Materials\": [\"NHY.OL\", \"YAR.OL\", \"RECSI.OL\"],\n",
    "    \"Technologies\": [\"TEL.OL\", \"NOD.OL\", \"ATEA.OL\"],\n",
    "    \"Financial\": [\"STB.OL\", \"DNB.OL\", \"AKER.OL\"],\n",
    "    \"Shipping\":[\"SNI.OL\", \"BELCO.OL\", \"ODF.OL\"]\n",
    "})\n",
    "\"\"\"------------------------------------------------\"\"\"\n",
    "# Defining ESG scores for respective securities\n",
    "esg_scores = np.array([\n",
    "    36.6, 17.9, 18, \n",
    "    18, 23.2, 29.2, \n",
    "    15.7, 25.4, 25.6, \n",
    "    19.8, 13.8, 18.1, \n",
    "    17.3, 14, 12.3, \n",
    "    21.2, 26.8, 24.9\n",
    "])"
   ]
  },
  {
   "cell_type": "code",
   "execution_count": 2,
   "id": "66e8b3e3",
   "metadata": {},
   "outputs": [
    {
     "name": "stdout",
     "output_type": "stream",
     "text": [
      "----Analysis completed succesfully----\n",
      "----Analysis completed succesfully----\n",
      "----Analysis completed succesfully----\n",
      "----Analysis completed succesfully----\n",
      "----Analysis completed succesfully----\n"
     ]
    }
   ],
   "source": [
    "paths = [\"Return_esg_False\", \"Sharpe_esg_False\",\n",
    "         \"Sortino_esg_False\",\"Sterling_esg_False\",\n",
    "         \"Calmar_esg_False\"]\n",
    "\n",
    "analysis_list = []\n",
    "for i in range(len(paths)):\n",
    "    att_anal = GR(\n",
    "        paths[i],\n",
    "        n_sectors, \n",
    "        n_stocks_per_sector,\n",
    "        trading_n,\n",
    "        esg_scores, \n",
    "        ticker_df.columns\n",
    "    )\n",
    "    att_anal.friple_frequency_analysis()\n",
    "    analysis_list.append(att_anal)"
   ]
  },
  {
   "cell_type": "code",
   "execution_count": 3,
   "id": "0fd78882",
   "metadata": {},
   "outputs": [],
   "source": [
    "alfa = analysis_list[0].exper_analysis[\"sector_allocation\"]\n",
    "bravo = analysis_list[0].exper_analysis[\"sector_selection\"]"
   ]
  },
  {
   "cell_type": "code",
   "execution_count": 4,
   "id": "6c831399",
   "metadata": {},
   "outputs": [],
   "source": [
    "alfap = [[alfa[i][j] for i in range(800)] for j in range(6)]\n",
    "bravop = [[bravo[i][j] for i in range(800)] for j in range(6)]"
   ]
  },
  {
   "cell_type": "code",
   "execution_count": 5,
   "id": "ddb9c6d8",
   "metadata": {},
   "outputs": [],
   "source": [
    "def create_keywords(input):\n",
    "    mean = np.round([np.mean(input[i])*10000 for i in range(6)],2)\n",
    "    std = np.round([np.std(input[i])*10000 for i in range(6)],2)\n",
    "    cum = np.round([(np.cumprod(np.array(input[i])+1)[-1]-1)*100 for i in range(6)],2)\n",
    "    return[mean,std,cum]"
   ]
  },
  {
   "cell_type": "code",
   "execution_count": 6,
   "id": "50800297",
   "metadata": {},
   "outputs": [],
   "source": [
    "\n",
    "total = []\n",
    "\n",
    "for item in range(5):\n",
    "    alfa = analysis_list[item].exper_analysis[\"sector_allocation\"]\n",
    "    bravo = analysis_list[item].exper_analysis[\"sector_selection\"]\n",
    "    alfap = [[alfa[i][j] for i in range(800)] for j in range(6)]\n",
    "    bravop = [[bravo[i][j] for i in range(800)] for j in range(6)]\n",
    "    total.append([create_keywords(alfap), create_keywords(bravop)])"
   ]
  },
  {
   "cell_type": "code",
   "execution_count": 7,
   "id": "528c84d6",
   "metadata": {},
   "outputs": [],
   "source": [
    "this_df = pd.DataFrame(total)\n",
    "this_df.to_csv(\"attribution.csv\",index=False)"
   ]
  }
 ],
 "metadata": {
  "kernelspec": {
   "display_name": "MyVenv",
   "language": "python",
   "name": "python3"
  },
  "language_info": {
   "codemirror_mode": {
    "name": "ipython",
    "version": 3
   },
   "file_extension": ".py",
   "mimetype": "text/x-python",
   "name": "python",
   "nbconvert_exporter": "python",
   "pygments_lexer": "ipython3",
   "version": "3.11.8"
  }
 },
 "nbformat": 4,
 "nbformat_minor": 5
}
