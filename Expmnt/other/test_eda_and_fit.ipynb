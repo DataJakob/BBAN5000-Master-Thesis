{
 "cells": [
  {
   "cell_type": "code",
   "execution_count": 2,
   "id": "121852c8",
   "metadata": {},
   "outputs": [],
   "source": [
    "import numpy as np\n",
    "import pandas as pd\n",
    "import matplotlib.pyplot as plt\n",
    "\n",
    "# import yfinance as yf\n",
    "\n",
    "import random\n",
    "\n",
    "# import clear_output\n",
    "# import os\n",
    "import seaborn as sns"
   ]
  },
  {
   "cell_type": "code",
   "execution_count": 3,
   "id": "e2f575fc",
   "metadata": {},
   "outputs": [],
   "source": [
    "stock_returns = pd.read_csv(\"../Data/StockReturns.csv\")\n",
    "mpt_weights = pd.read_csv(\"../Data/MPT_weights.csv\")\n",
    "\n",
    "esg_scores = np.array([\n",
    "    36.6, 17.9, 18, \n",
    "    18, 23.2, 29.2, \n",
    "    15.7, 25.4, 25.6, # Del this\n",
    "    19.8, 13.8, 18.1, \n",
    "    17.3, 14, 12.3, \n",
    "    21.2, 26.8, 24.9\n",
    "])\n",
    "\n",
    "# Defining stock pool\n",
    "ticker_df =  pd.DataFrame({\n",
    "    \"Petroleum\": [\"EQNR.OL\", \"SUBC.OL\", \"BWO.OL\"],\n",
    "    \"Food\": [\"ORK.OL\", \"MOWI.OL\", \"LSG.OL\"],\n",
    "    \"Materials\": [\"NHY.OL\", \"YAR.OL\", \"RECSI.OL\"],\n",
    "    \"Technologies\": [\"TEL.OL\", \"NOD.OL\", \"ATEA.OL\"],\n",
    "    \"Financial\": [\"STB.OL\", \"DNB.OL\", \"AKER.OL\"],\n",
    "    \"Shipping\":[\"SNI.OL\", \"BELCO.OL\", \"ODF.OL\"]\n",
    "})\n",
    "\n",
    "stock_cols = stock_returns.columns\n",
    "\n",
    "test = stock_returns.iloc[int(len(stock_returns)*0.95):]"
   ]
  },
  {
   "cell_type": "code",
   "execution_count": 1,
   "id": "377f2c7e",
   "metadata": {},
   "outputs": [],
   "source": [
    "# sns.heatmap(mpt_weights.T, cmap=\"Greys\", )\n",
    "# plt.xlabel(\"Time steps\")\n",
    "# plt.ylabel(\"Security idx\")\n",
    "# plt.title(\"Security weights, MPT, test\")"
   ]
  },
  {
   "cell_type": "code",
   "execution_count": 5,
   "id": "9b799687",
   "metadata": {},
   "outputs": [],
   "source": [
    "return_false = pd.read_csv(\"../Data/TestPredictions/RL_weights_Return_esg_False.csv\")\n",
    "return_true = pd.read_csv(\"../Data/TestPredictions/RL_weights_Return_esg_True.csv\")\n",
    "sharpe_true = pd.read_csv(\"../Data/TestPredictions/RL_weights_Sharpe_esg_True.csv\")\n",
    "sharpe_false = pd.read_csv(\"../Data/TestPredictions/RL_weights_Sharpe_esg_False.csv\")\n",
    "sortino_true = pd.read_csv(\"../Data/TestPredictions/RL_weights_Sortino_esg_True.csv\")\n",
    "sortino_false = pd.read_csv(\"../Data/TestPredictions/RL_weights_Sortino_esg_False.csv\")\n",
    "sterling_true = pd.read_csv(\"../Data/TestPredictions/RL_weights_Sterling_esg_True.csv\")\n",
    "sterling_false = pd.read_csv(\"../Data/TestPredictions/RL_weights_Sterling_esg_False.csv\")"
   ]
  },
  {
   "cell_type": "code",
   "execution_count": 6,
   "id": "75d5b32a",
   "metadata": {},
   "outputs": [],
   "source": [
    "def my_points(weights):\n",
    "    r = stock_returns.iloc[8853-80:-1].reset_index(drop=True)\n",
    "    w = weights.iloc[164-80:-(2)].reset_index(drop=True)\n",
    "    rets = []\n",
    "    risks = []\n",
    "    for i in range(0,1,1): # 80\n",
    "        single_period = [np.dot(w.iloc[i+j], r.iloc[i+j]) for j in range(0,800,1)] # 800\n",
    "        rets.append(np.cumprod(np.array(single_period)+1)[-1]-1)\n",
    "        risks.append((np.std(single_period))*np.sqrt(800))\n",
    "    return [rets,risks]\n",
    "\n",
    "    "
   ]
  },
  {
   "cell_type": "code",
   "execution_count": 7,
   "id": "7ea30418",
   "metadata": {},
   "outputs": [],
   "source": [
    "alfa = my_points(return_false)\n",
    "bravo  = my_points(return_true)\n",
    "charlie =  my_points(sharpe_false)\n",
    "delta = my_points(sharpe_true)\n",
    "echo = my_points(sortino_false)\n",
    "foxtrot = my_points(sortino_true)\n",
    "golf = my_points(sterling_false)\n",
    "hotel = my_points(sterling_true)"
   ]
  },
  {
   "cell_type": "code",
   "execution_count": 8,
   "id": "77d9ee9c",
   "metadata": {},
   "outputs": [
    {
     "data": {
      "image/png": "[encoded data removed]",
      "text/plain": [
       "<Figure size 640x480 with 1 Axes>"
      ]
     },
     "metadata": {},
     "output_type": "display_data"
    }
   ],
   "source": [
    "esg_true = [bravo, delta, foxtrot, hotel]\n",
    "esg_false = [alfa, charlie,  echo, golf]\n",
    "colors = [\"green\", \"blue\", \"brown\", \"black\"]\n",
    "cols = [\"P/L\", \"Sharpe\", \"Sortino\", \"Sterling\"]\n",
    "\n",
    "fig, ax = plt.subplots()\n",
    "for i in range(0,4,1):\n",
    "    ax.scatter(esg_true[i][1], esg_true[i][0], alpha=1, color=\"green\")\n",
    "    ax.scatter(esg_false[i][1], esg_false[i][0], alpha=1, color =\"red\")\n",
    "    ax.text(esg_true[i][1][0], esg_true[i][0][0]+0.00001,s=cols[i])\n",
    "    ax.text(esg_false[i][1][0], esg_false[i][0][0]+0.00001,s=cols[i])\n",
    "\n",
    "plt.xlabel(\"Risk\")\n",
    "plt.ylabel(\"Return\")\n",
    "plt.title(\"Return vs Risk\")\n",
    "plt.grid()\n",
    "# plt.xlim(0.0055, 0.0066)\n",
    "# plt.legend()\n",
    "plt.show()\n",
    "# fig.tight_layout()"
   ]
  },
  {
   "cell_type": "code",
   "execution_count": null,
   "id": "eaf107c9",
   "metadata": {},
   "outputs": [],
   "source": []
  },
  {
   "cell_type": "code",
   "execution_count": null,
   "id": "59589164",
   "metadata": {},
   "outputs": [],
   "source": []
  }
 ],
 "metadata": {
  "kernelspec": {
   "display_name": "MyVenv",
   "language": "python",
   "name": "python3"
  },
  "language_info": {
   "codemirror_mode": {
    "name": "ipython",
    "version": 3
   },
   "file_extension": ".py",
   "mimetype": "text/x-python",
   "name": "python",
   "nbconvert_exporter": "python",
   "pygments_lexer": "ipython3",
   "version": "3.11.8"
  }
 },
 "nbformat": 4,
 "nbformat_minor": 5
}
