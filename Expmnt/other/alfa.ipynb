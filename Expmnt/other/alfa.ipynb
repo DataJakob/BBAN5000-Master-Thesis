{
 "cells": [
  {
   "cell_type": "code",
   "execution_count": 47,
   "id": "30cb4b22",
   "metadata": {},
   "outputs": [
    {
     "name": "stdout",
     "output_type": "stream",
     "text": [
      "----- Sharpe -----\n",
      "Friedman test p-value: 0.4060\n",
      "No significant differences\n",
      "\n",
      "\n",
      "----- Sortino -----\n",
      "Friedman test p-value: 0.0719\n",
      "\n",
      "Significant pairwise differences (Nemenyi test):\n",
      "        Set     Sha     Sor     Ste     Cal\n",
      "Set  1.0000  0.6651  0.1000  0.9627  1.0000\n",
      "Sha  0.6651  1.0000  0.7971  0.9627  0.6651\n",
      "Sor  0.1000  0.7971  1.0000  0.3800  0.1000\n",
      "Ste  0.9627  0.9627  0.3800  1.0000  0.9627\n",
      "Cal  1.0000  0.6651  0.1000  0.9627  1.0000\n",
      "\n",
      "\n",
      "----- Sterling -----\n",
      "Friedman test p-value: 0.4060\n",
      "No significant differences\n",
      "\n",
      "\n",
      "----- Calmar -----\n",
      "Friedman test p-value: 0.2146\n",
      "No significant differences\n",
      "\n",
      "\n"
     ]
    }
   ],
   "source": [
    "import numpy as np\n",
    "import pandas as pd\n",
    "from scipy.stats import friedmanchisquare\n",
    "import scikit_posthocs as sp\n",
    "\n",
    "# Raw data (replace commas with decimals)\n",
    "data = {\n",
    "    \"Sharpe\": {\n",
    "        \"Set\": [1.566, 1.592, 0.785, 1.744],\n",
    "        \"Sha\": [1.152, 1.296, 1.795, 1.119],\n",
    "        \"Sor\": [1.142, 0.902, 0.832, 0.940],\n",
    "        \"Ste\": [1.086, 1.456, 1.830, 1.050],\n",
    "        \"Cal\": [1.103, 1.578, 1.261, 1.988]\n",
    "    },\n",
    "    \"Sortino\": {\n",
    "        \"Set\": [2.072, 2.211, 1.046, 2.069],\n",
    "        \"Sha\": [1.359, 1.476, 2.290, 1.333],\n",
    "        \"Sor\": [1.386, 1.109, 0.988, 1.087],\n",
    "        \"Ste\": [1.387, 1.930, 2.384, 1.255],\n",
    "        \"Cal\": [1.497, 2.121, 1.545, 2.328]\n",
    "    },\n",
    "    \"Sterling\": {\n",
    "        \"Set\": [6.563, 6.655, 3.226, 7.035],\n",
    "        \"Sha\": [5.377, 5.607, 7.530, 5.210],\n",
    "        \"Sor\": [5.240, 3.544, 3.306, 4.228],\n",
    "        \"Ste\": [4.590, 6.581, 8.015, 4.719],\n",
    "        \"Cal\": [4.744, 7.216, 5.333, 9.469]\n",
    "    },\n",
    "    \"Calmar\": {\n",
    "        \"Set\": [2.444, 2.022, 0.470, 1.666],\n",
    "        \"Sha\": [0.981, 1.028, 1.825, 1.022],\n",
    "        \"Sor\": [0.975, 0.763, 0.652, 0.823],\n",
    "        \"Ste\": [0.949, 1.562, 1.911, 0.778],\n",
    "        \"Cal\": [1.021, 2.318, 1.229, 2.724]\n",
    "    }\n",
    "}\n",
    "\n",
    "# Perform tests for each metric\n",
    "results = {}\n",
    "for metric in data.keys():\n",
    "    # Extract data for the metric\n",
    "    df = pd.DataFrame(data[metric])\n",
    "    \n",
    "    # Friedman test\n",
    "    friedman_stat, friedman_p = friedmanchisquare(*df.values.T)\n",
    "    \n",
    "    # Nemenyi post-hoc test (if Friedman p < 0.05)\n",
    "    nemenyi_result = None\n",
    "    if friedman_p < 0.15:\n",
    "        nemenyi_matrix = sp.posthoc_nemenyi_friedman(df.values)\n",
    "        nemenyi_matrix.columns = df.columns\n",
    "        nemenyi_matrix.index = df.columns\n",
    "    \n",
    "    results[metric] = {\n",
    "        \"Friedman p-value\": friedman_p,\n",
    "        \"Nemenyi Matrix\": nemenyi_matrix if friedman_p < 0.15 else \"No significant differences\"\n",
    "    }\n",
    "\n",
    "# Display results\n",
    "for metric, result in results.items():\n",
    "    print(f\"----- {metric} -----\")\n",
    "    print(f\"Friedman test p-value: {result['Friedman p-value']:.4f}\")\n",
    "    if isinstance(result['Nemenyi Matrix'], pd.DataFrame):\n",
    "        print(\"\\nSignificant pairwise differences (Nemenyi test):\")\n",
    "        print(result['Nemenyi Matrix'].round(4))\n",
    "    else:\n",
    "        print(result['Nemenyi Matrix'])\n",
    "    print(\"\\n\")"
   ]
  },
  {
   "cell_type": "code",
   "execution_count": 44,
   "id": "1a755655",
   "metadata": {},
   "outputs": [
    {
     "data": {
      "text/plain": [
       "{'Set': [2.444, 2.022, 0.47, 1.666],\n",
       " 'Sha': [0.981, 1.028, 1.825, 1.022],\n",
       " 'Sor': [0.975, 0.763, 0.652, 0.823],\n",
       " 'Ste': [0.949, 1.562, 1.911, 0.778],\n",
       " 'Cal': [1.021, 2.318, 1.229, 2.724]}"
      ]
     },
     "execution_count": 44,
     "metadata": {},
     "output_type": "execute_result"
    }
   ],
   "source": [
    "data[\"Calmar\"]"
   ]
  },
  {
   "cell_type": "code",
   "execution_count": 42,
   "id": "dca4adcd",
   "metadata": {},
   "outputs": [
    {
     "data": {
      "text/plain": [
       "{'Sharpe': {'Friedman p-value': np.float64(0.40600584970983794),\n",
       "  'Nemenyi Matrix': 'No significant differences'},\n",
       " 'Sortino': {'Friedman p-value': np.float64(0.07191336276466469),\n",
       "  'Nemenyi Matrix': 'No significant differences'},\n",
       " 'Sterling': {'Friedman p-value': np.float64(0.40600584970983794),\n",
       "  'Nemenyi Matrix': 'No significant differences'},\n",
       " 'Calmar': {'Friedman p-value': np.float64(0.21459055821998732),\n",
       "  'Nemenyi Matrix': 'No significant differences'}}"
      ]
     },
     "execution_count": 42,
     "metadata": {},
     "output_type": "execute_result"
    }
   ],
   "source": [
    "results"
   ]
  }
 ],
 "metadata": {
  "kernelspec": {
   "display_name": "MyVenv",
   "language": "python",
   "name": "python3"
  },
  "language_info": {
   "codemirror_mode": {
    "name": "ipython",
    "version": 3
   },
   "file_extension": ".py",
   "mimetype": "text/x-python",
   "name": "python",
   "nbconvert_exporter": "python",
   "pygments_lexer": "ipython3",
   "version": "3.11.8"
  }
 },
 "nbformat": 4,
 "nbformat_minor": 5
}
