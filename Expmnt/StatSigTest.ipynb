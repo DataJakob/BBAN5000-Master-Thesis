{
 "cells": [
  {
   "cell_type": "code",
   "execution_count": 53,
   "id": "cbdfa0e1",
   "metadata": {},
   "outputs": [],
   "source": [
    "import numpy as np\n",
    "import pandas as pd\n",
    "import scipy.stats as stats\n",
    "\n",
    "k = 5 # Algorithms\n",
    "#qa = 2.728\n",
    "qa = 3.861"
   ]
  },
  {
   "cell_type": "code",
   "execution_count": 54,
   "id": "dc2bb1f2",
   "metadata": {},
   "outputs": [],
   "source": [
    "\n",
    "\n",
    "def friedman_nemenyi_test(N, k, ranks, alpha=0.05):\n",
    "    # Step 1: Compute chi-square Friedman statistic\n",
    "    sum_ranks_squared = np.sum(np.square(ranks))\n",
    "    chi_squared_F = (12 * N) / (k * (k + 1)) * (sum_ranks_squared - (k * (k + 1)**2) / 4)\n",
    "    \n",
    "    # Step 2: Compute F-statistic\n",
    "    numerator = (N - 1) * chi_squared_F\n",
    "    denominator = N * (k - 1) - chi_squared_F\n",
    "    F_F = numerator / denominator\n",
    "\n",
    "    # Step 3: Critical F-value lookup\n",
    "    df1 = k - 1\n",
    "    df2 = (k - 1) * (N - 1)\n",
    "    F_critical = stats.f.ppf(1 - alpha, df1, df2)\n",
    "\n",
    "    # Step 4: Nemenyi Critical Difference (CD)\n",
    "    # q_alpha for infinite df, approximated from table\n",
    "    #q_alpha = 2.728  # for alpha=0.05 and k=5; adjust if necessary\n",
    "    q_alpha = 3.861\n",
    "    CD = q_alpha * np.sqrt(k * (k + 1) / (6 * N))\n",
    "\n",
    "    # Step 5: Pairwise comparisons\n",
    "    significant_pairs = []\n",
    "    for i in range(k):\n",
    "        for j in range(i+1, k):\n",
    "            diff = abs(ranks[i] - ranks[j])\n",
    "            if diff > CD:\n",
    "                significant_pairs.append((i+1, j+1, diff))  # Group indices are 1-based\n",
    "    \n",
    "    # Output everything\n",
    "    results = {\n",
    "        \"chi_squared_F\": chi_squared_F,\n",
    "        \"F_F\": F_F,\n",
    "        \"F_critical\": F_critical,\n",
    "        \"significant\": F_F > F_critical,\n",
    "        \"CD\": CD,\n",
    "        \"significant_pairs\": significant_pairs\n",
    "    }\n",
    "    return results\n",
    "\n",
    "\n"
   ]
  },
  {
   "cell_type": "code",
   "execution_count": 55,
   "id": "345802da",
   "metadata": {},
   "outputs": [
    {
     "name": "stdout",
     "output_type": "stream",
     "text": [
      "Chi-squared Friedman statistic: 28.31759999999995\n",
      "Friedman F-statistic: 8.567560838986722\n",
      "Critical F value (alpha=0.05): 2.4363174638119878\n",
      "Reject Null Hypothesis (significant differences)?: True\n",
      "Critical Difference (CD): 1.4389097435211147\n",
      "Significant group differences (group1, group2, rank diff):\n",
      "(1, 3, 1.8600000000000003)\n",
      "(3, 5, 2.0)\n"
     ]
    }
   ],
   "source": [
    "# Everything X4\n",
    "N = 36 # measurements\n",
    "R = [2.3, 3.42, 4.16, 2.83, 2.16] # risk adusjted returns avg score\n",
    "results = friedman_nemenyi_test(N, k, R)\n",
    "\n",
    "print(\"Chi-squared Friedman statistic:\", results[\"chi_squared_F\"])\n",
    "print(\"Friedman F-statistic:\", results[\"F_F\"])\n",
    "print(\"Critical F value (alpha=0.05):\", results[\"F_critical\"])\n",
    "print(\"Reject Null Hypothesis (significant differences)?:\", results[\"significant\"])\n",
    "print(\"Critical Difference (CD):\", results[\"CD\"])\n",
    "print(\"Significant group differences (group1, group2, rank diff):\")\n",
    "for pair in results[\"significant_pairs\"]:\n",
    "    print(pair)"
   ]
  },
  {
   "cell_type": "code",
   "execution_count": 56,
   "id": "dfaea227",
   "metadata": {},
   "outputs": [
    {
     "name": "stdout",
     "output_type": "stream",
     "text": [
      "Chi-squared Friedman statistic: 14.276040000000012\n",
      "Friedman F-statistic: 4.306587809981349\n",
      "Critical F value (alpha=0.05): 2.525215101982879\n",
      "Reject Null Hypothesis (significant differences)?: True\n",
      "Critical Difference (CD): 2.158364615281672\n",
      "Significant group differences (group1, group2, rank diff):\n"
     ]
    }
   ],
   "source": [
    "# Risk x4\n",
    "N = 16 # measurements\n",
    "R = [2.31, 4, 4, 2.375, 2.0625] # risk adusjted returns avg score\n",
    "results = friedman_nemenyi_test(N, k, R)\n",
    "\n",
    "print(\"Chi-squared Friedman statistic:\", results[\"chi_squared_F\"])\n",
    "print(\"Friedman F-statistic:\", results[\"F_F\"])\n",
    "print(\"Critical F value (alpha=0.05):\", results[\"F_critical\"])\n",
    "print(\"Reject Null Hypothesis (significant differences)?:\", results[\"significant\"])\n",
    "print(\"Critical Difference (CD):\", results[\"CD\"])\n",
    "print(\"Significant group differences (group1, group2, rank diff):\")\n",
    "for pair in results[\"significant_pairs\"]:\n",
    "    print(pair)"
   ]
  },
  {
   "cell_type": "code",
   "execution_count": 57,
   "id": "63d1c700",
   "metadata": {},
   "outputs": [
    {
     "name": "stdout",
     "output_type": "stream",
     "text": [
      "Chi-squared Friedman statistic: 53.47999999999996\n",
      "Friedman F-statistic: 38.31523378582194\n",
      "Critical F value (alpha=0.05): 2.4920492972244057\n",
      "Reject Null Hypothesis (significant differences)?: True\n",
      "Critical Difference (CD): 1.9305\n",
      "Significant group differences (group1, group2, rank diff):\n",
      "(1, 3, 2.0)\n",
      "(3, 5, 2.05)\n"
     ]
    }
   ],
   "source": [
    "# Returns x4\n",
    "N = 20 # measurements\n",
    "R = [2.3, 3.55, 4.3, 3.2, 2.25] # risk adusjted returns avg score\n",
    "results = friedman_nemenyi_test(N, k, R)\n",
    "\n",
    "print(\"Chi-squared Friedman statistic:\", results[\"chi_squared_F\"])\n",
    "print(\"Friedman F-statistic:\", results[\"F_F\"])\n",
    "print(\"Critical F value (alpha=0.05):\", results[\"F_critical\"])\n",
    "print(\"Reject Null Hypothesis (significant differences)?:\", results[\"significant\"])\n",
    "print(\"Critical Difference (CD):\", results[\"CD\"])\n",
    "print(\"Significant group differences (group1, group2, rank diff):\")\n",
    "for pair in results[\"significant_pairs\"]:\n",
    "    print(pair)"
   ]
  },
  {
   "cell_type": "code",
   "execution_count": 58,
   "id": "0cffbf05",
   "metadata": {},
   "outputs": [
    {
     "name": "stdout",
     "output_type": "stream",
     "text": [
      "Chi-squared Friedman statistic: 26.38295999999998\n",
      "Friedman F-statistic: 21.946844351276418\n",
      "Critical F value (alpha=0.05): 2.668436942519841\n",
      "Reject Null Hypothesis (significant differences)?: True\n",
      "Critical Difference (CD): 2.8778194870422293\n",
      "Significant group differences (group1, group2, rank diff):\n",
      "(1, 3, 3.3299999999999996)\n",
      "(3, 5, 2.8899999999999997)\n"
     ]
    }
   ],
   "source": [
    "# Everything\n",
    "N = 9 # measurements\n",
    "R = [1.44, 4.11, 4.77, 2.66, 1.88] # risk adusjted returns avg score\n",
    "results = friedman_nemenyi_test(N, k, R)\n",
    "\n",
    "print(\"Chi-squared Friedman statistic:\", results[\"chi_squared_F\"])\n",
    "print(\"Friedman F-statistic:\", results[\"F_F\"])\n",
    "print(\"Critical F value (alpha=0.05):\", results[\"F_critical\"])\n",
    "print(\"Reject Null Hypothesis (significant differences)?:\", results[\"significant\"])\n",
    "print(\"Critical Difference (CD):\", results[\"CD\"])\n",
    "print(\"Significant group differences (group1, group2, rank diff):\")\n",
    "for pair in results[\"significant_pairs\"]:\n",
    "    print(pair)"
   ]
  },
  {
   "cell_type": "code",
   "execution_count": 59,
   "id": "640ca9ed",
   "metadata": {},
   "outputs": [
    {
     "name": "stdout",
     "output_type": "stream",
     "text": [
      "Chi-squared Friedman statistic: 19.36\n",
      "Friedman F-statistic: 120.99999999999989\n",
      "Critical F value (alpha=0.05): 3.0069172799243438\n",
      "Reject Null Hypothesis (significant differences)?: True\n",
      "Critical Difference (CD): 3.861\n",
      "Significant group differences (group1, group2, rank diff):\n",
      "(1, 3, 4)\n"
     ]
    }
   ],
   "source": [
    "# Risk-adjusted returns\n",
    "N = 5 # measurements\n",
    "R = [1, 3.8, 5, 3.2, 2] # risk adusjted returns avg score\n",
    "results = friedman_nemenyi_test(N, k, R)\n",
    "\n",
    "print(\"Chi-squared Friedman statistic:\", results[\"chi_squared_F\"])\n",
    "print(\"Friedman F-statistic:\", results[\"F_F\"])\n",
    "print(\"Critical F value (alpha=0.05):\", results[\"F_critical\"])\n",
    "print(\"Reject Null Hypothesis (significant differences)?:\", results[\"significant\"])\n",
    "print(\"Critical Difference (CD):\", results[\"CD\"])\n",
    "print(\"Significant group differences (group1, group2, rank diff):\")\n",
    "for pair in results[\"significant_pairs\"]:\n",
    "    print(pair)"
   ]
  },
  {
   "cell_type": "code",
   "execution_count": 60,
   "id": "bffc48fc",
   "metadata": {},
   "outputs": [
    {
     "name": "stdout",
     "output_type": "stream",
     "text": [
      "Chi-squared Friedman statistic: 10.5\n",
      "Friedman F-statistic: 5.7272727272727275\n",
      "Critical F value (alpha=0.05): 3.259166726901249\n",
      "Reject Null Hypothesis (significant differences)?: True\n",
      "Critical Difference (CD): 4.316729230563344\n",
      "Significant group differences (group1, group2, rank diff):\n"
     ]
    }
   ],
   "source": [
    "# Rsik measures\n",
    "\n",
    "N = 4 # measurements\n",
    "R = [2, 4.5, 4.5, 2, 1.75] # risk adusjted returns avg score\n",
    "results = friedman_nemenyi_test(N, k, R)\n",
    "\n",
    "print(\"Chi-squared Friedman statistic:\", results[\"chi_squared_F\"])\n",
    "print(\"Friedman F-statistic:\", results[\"F_F\"])\n",
    "print(\"Critical F value (alpha=0.05):\", results[\"F_critical\"])\n",
    "print(\"Reject Null Hypothesis (significant differences)?:\", results[\"significant\"])\n",
    "print(\"Critical Difference (CD):\", results[\"CD\"])\n",
    "print(\"Significant group differences (group1, group2, rank diff):\")\n",
    "for pair in results[\"significant_pairs\"]:\n",
    "    print(pair)"
   ]
  },
  {
   "cell_type": "code",
   "execution_count": 61,
   "id": "2edfbce5",
   "metadata": {},
   "outputs": [
    {
     "name": "stdout",
     "output_type": "stream",
     "text": [
      "Chi-squared Friedman statistic: 2.8000000000000003\n",
      "Friedman F-statistic: 0.6363636363636365\n",
      "Critical F value (alpha=0.05): 3.259166726901249\n",
      "Reject Null Hypothesis (significant differences)?: False\n",
      "Critical Difference (CD): 4.316729230563344\n",
      "Significant group differences (group1, group2, rank diff):\n"
     ]
    }
   ],
   "source": [
    "# return\n",
    "N = 4 # measurements\n",
    "R = [ 2.25, 2.75, 4, 3.25, 2.75 ] # risk adusjted returns avg score\n",
    "results = friedman_nemenyi_test(N, k, R)\n",
    "\n",
    "print(\"Chi-squared Friedman statistic:\", results[\"chi_squared_F\"])\n",
    "print(\"Friedman F-statistic:\", results[\"F_F\"])\n",
    "print(\"Critical F value (alpha=0.05):\", results[\"F_critical\"])\n",
    "print(\"Reject Null Hypothesis (significant differences)?:\", results[\"significant\"])\n",
    "print(\"Critical Difference (CD):\", results[\"CD\"])\n",
    "print(\"Significant group differences (group1, group2, rank diff):\")\n",
    "for pair in results[\"significant_pairs\"]:\n",
    "    print(pair)"
   ]
  },
  {
   "cell_type": "code",
   "execution_count": 62,
   "id": "6164d425",
   "metadata": {},
   "outputs": [
    {
     "name": "stdout",
     "output_type": "stream",
     "text": [
      "Chi-squared Friedman statistic: 8.8\n",
      "Friedman F-statistic: 3.6666666666666674\n",
      "Critical F value (alpha=0.05): 3.259166726901249\n",
      "Reject Null Hypothesis (significant differences)?: True\n",
      "Critical Difference (CD): 4.316729230563344\n",
      "Significant group differences (group1, group2, rank diff):\n"
     ]
    }
   ],
   "source": [
    "# STD\n",
    "N = 4 # measurements\n",
    "R = [ 2.75, 4.75, 3.5, 1.75, 2.25 ] # risk adusjted returns avg score\n",
    "results = friedman_nemenyi_test(N, k, R)\n",
    "\n",
    "print(\"Chi-squared Friedman statistic:\", results[\"chi_squared_F\"])\n",
    "print(\"Friedman F-statistic:\", results[\"F_F\"])\n",
    "print(\"Critical F value (alpha=0.05):\", results[\"F_critical\"])\n",
    "print(\"Reject Null Hypothesis (significant differences)?:\", results[\"significant\"])\n",
    "print(\"Critical Difference (CD):\", results[\"CD\"])\n",
    "print(\"Significant group differences (group1, group2, rank diff):\")\n",
    "for pair in results[\"significant_pairs\"]:\n",
    "    print(pair)"
   ]
  },
  {
   "cell_type": "code",
   "execution_count": 63,
   "id": "aa046db4",
   "metadata": {},
   "outputs": [
    {
     "name": "stdout",
     "output_type": "stream",
     "text": [
      "Chi-squared Friedman statistic: 8.6\n",
      "Friedman F-statistic: 3.486486486486486\n",
      "Critical F value (alpha=0.05): 3.259166726901249\n",
      "Reject Null Hypothesis (significant differences)?: True\n",
      "Critical Difference (CD): 4.316729230563344\n",
      "Significant group differences (group1, group2, rank diff):\n"
     ]
    }
   ],
   "source": [
    "# MDD\n",
    "N = 4 # measurements\n",
    "R = [ 2, 3.75, 4.5, 3, 1.75] # risk adusjted returns avg score\n",
    "results = friedman_nemenyi_test(N, k, R)\n",
    "\n",
    "print(\"Chi-squared Friedman statistic:\", results[\"chi_squared_F\"])\n",
    "print(\"Friedman F-statistic:\", results[\"F_F\"])\n",
    "print(\"Critical F value (alpha=0.05):\", results[\"F_critical\"])\n",
    "print(\"Reject Null Hypothesis (significant differences)?:\", results[\"significant\"])\n",
    "print(\"Critical Difference (CD):\", results[\"CD\"])\n",
    "print(\"Significant group differences (group1, group2, rank diff):\")\n",
    "for pair in results[\"significant_pairs\"]:\n",
    "    print(pair)"
   ]
  },
  {
   "cell_type": "code",
   "execution_count": 64,
   "id": "d2bc00a4",
   "metadata": {},
   "outputs": [
    {
     "name": "stdout",
     "output_type": "stream",
     "text": [
      "Chi-squared Friedman statistic: -2.5\n",
      "Friedman F-statistic: -0.40540540540540543\n",
      "Critical F value (alpha=0.05): 3.259166726901249\n",
      "Reject Null Hypothesis (significant differences)?: False\n",
      "Critical Difference (CD): 4.316729230563344\n",
      "Significant group differences (group1, group2, rank diff):\n"
     ]
    }
   ],
   "source": [
    "# VaR\n",
    "N = 4 # measurements\n",
    "R = [ 2.25, 3.5, 3.75, 3, 1.75] # risk adusjted returns avg score\n",
    "results = friedman_nemenyi_test(N, k, R)\n",
    "\n",
    "print(\"Chi-squared Friedman statistic:\", results[\"chi_squared_F\"])\n",
    "print(\"Friedman F-statistic:\", results[\"F_F\"])\n",
    "print(\"Critical F value (alpha=0.05):\", results[\"F_critical\"])\n",
    "print(\"Reject Null Hypothesis (significant differences)?:\", results[\"significant\"])\n",
    "print(\"Critical Difference (CD):\", results[\"CD\"])\n",
    "print(\"Significant group differences (group1, group2, rank diff):\")\n",
    "for pair in results[\"significant_pairs\"]:\n",
    "    print(pair)"
   ]
  },
  {
   "cell_type": "code",
   "execution_count": 65,
   "id": "c4e22237",
   "metadata": {},
   "outputs": [
    {
     "name": "stdout",
     "output_type": "stream",
     "text": [
      "Chi-squared Friedman statistic: 5.5\n",
      "Friedman F-statistic: 1.5714285714285714\n",
      "Critical F value (alpha=0.05): 3.259166726901249\n",
      "Reject Null Hypothesis (significant differences)?: False\n",
      "Critical Difference (CD): 4.316729230563344\n",
      "Significant group differences (group1, group2, rank diff):\n"
     ]
    }
   ],
   "source": [
    "# Cvar\n",
    "N = 4 # measurements\n",
    "R = [ 2.25, 4, 4.25, 1.75, 2.5 ] # risk adusjted returns avg score\n",
    "results = friedman_nemenyi_test(N, k, R)\n",
    "\n",
    "print(\"Chi-squared Friedman statistic:\", results[\"chi_squared_F\"])\n",
    "print(\"Friedman F-statistic:\", results[\"F_F\"])\n",
    "print(\"Critical F value (alpha=0.05):\", results[\"F_critical\"])\n",
    "print(\"Reject Null Hypothesis (significant differences)?:\", results[\"significant\"])\n",
    "print(\"Critical Difference (CD):\", results[\"CD\"])\n",
    "print(\"Significant group differences (group1, group2, rank diff):\")\n",
    "for pair in results[\"significant_pairs\"]:\n",
    "    print(pair)"
   ]
  },
  {
   "cell_type": "code",
   "execution_count": 66,
   "id": "7eae8171",
   "metadata": {},
   "outputs": [
    {
     "name": "stdout",
     "output_type": "stream",
     "text": [
      "Chi-squared Friedman statistic: 4.0\n",
      "Friedman F-statistic: 1.0\n",
      "Critical F value (alpha=0.05): 3.259166726901249\n",
      "Reject Null Hypothesis (significant differences)?: False\n",
      "Critical Difference (CD): 4.316729230563344\n",
      "Significant group differences (group1, group2, rank diff):\n"
     ]
    }
   ],
   "source": [
    "# Sharpe\n",
    "N = 4 # measurements\n",
    "R = [  2.25, \t 2.75, \t 4.25, \t 3.25, \t 2.5  ] # risk adusjted returns avg score\n",
    "results = friedman_nemenyi_test(N, k, R)\n",
    "\n",
    "print(\"Chi-squared Friedman statistic:\", results[\"chi_squared_F\"])\n",
    "print(\"Friedman F-statistic:\", results[\"F_F\"])\n",
    "print(\"Critical F value (alpha=0.05):\", results[\"F_critical\"])\n",
    "print(\"Reject Null Hypothesis (significant differences)?:\", results[\"significant\"])\n",
    "print(\"Critical Difference (CD):\", results[\"CD\"])\n",
    "print(\"Significant group differences (group1, group2, rank diff):\")\n",
    "for pair in results[\"significant_pairs\"]:\n",
    "    print(pair)"
   ]
  },
  {
   "cell_type": "code",
   "execution_count": 67,
   "id": "0fb6663c",
   "metadata": {},
   "outputs": [
    {
     "name": "stdout",
     "output_type": "stream",
     "text": [
      "Chi-squared Friedman statistic: 8.6\n",
      "Friedman F-statistic: 3.486486486486486\n",
      "Critical F value (alpha=0.05): 3.259166726901249\n",
      "Reject Null Hypothesis (significant differences)?: True\n",
      "Critical Difference (CD): 4.316729230563344\n",
      "Significant group differences (group1, group2, rank diff):\n"
     ]
    }
   ],
   "source": [
    "# Sortino\n",
    "N = 4 # measurements\n",
    "R = [2, 3.5, 4.75, 2.75, 2] # risk adusjted returns avg score\n",
    "results = friedman_nemenyi_test(N, k, R)\n",
    "\n",
    "print(\"Chi-squared Friedman statistic:\", results[\"chi_squared_F\"])\n",
    "print(\"Friedman F-statistic:\", results[\"F_F\"])\n",
    "print(\"Critical F value (alpha=0.05):\", results[\"F_critical\"])\n",
    "print(\"Reject Null Hypothesis (significant differences)?:\", results[\"significant\"])\n",
    "print(\"Critical Difference (CD):\", results[\"CD\"])\n",
    "print(\"Significant group differences (group1, group2, rank diff):\")\n",
    "for pair in results[\"significant_pairs\"]:\n",
    "    print(pair)"
   ]
  },
  {
   "cell_type": "code",
   "execution_count": 68,
   "id": "37793024",
   "metadata": {},
   "outputs": [
    {
     "name": "stdout",
     "output_type": "stream",
     "text": [
      "Chi-squared Friedman statistic: 4.0\n",
      "Friedman F-statistic: 1.0\n",
      "Critical F value (alpha=0.05): 3.259166726901249\n",
      "Reject Null Hypothesis (significant differences)?: False\n",
      "Critical Difference (CD): 4.316729230563344\n",
      "Significant group differences (group1, group2, rank diff):\n"
     ]
    }
   ],
   "source": [
    "# Sterling\n",
    "N = 4 # measurements\n",
    "R = [  2.5, 2.75, 4.25, 3.25, 2.25] # risk adusjted returns avg score\n",
    "results = friedman_nemenyi_test(N, k, R)\n",
    "\n",
    "print(\"Chi-squared Friedman statistic:\", results[\"chi_squared_F\"])\n",
    "print(\"Friedman F-statistic:\", results[\"F_F\"])\n",
    "print(\"Critical F value (alpha=0.05):\", results[\"F_critical\"])\n",
    "print(\"Reject Null Hypothesis (significant differences)?:\", results[\"significant\"])\n",
    "print(\"Critical Difference (CD):\", results[\"CD\"])\n",
    "print(\"Significant group differences (group1, group2, rank diff):\")\n",
    "for pair in results[\"significant_pairs\"]:\n",
    "    print(pair)"
   ]
  },
  {
   "cell_type": "code",
   "execution_count": 69,
   "id": "67ee9a30",
   "metadata": {},
   "outputs": [
    {
     "name": "stdout",
     "output_type": "stream",
     "text": [
      "Chi-squared Friedman statistic: 5.800000000000001\n",
      "Friedman F-statistic: 1.7058823529411768\n",
      "Critical F value (alpha=0.05): 3.259166726901249\n",
      "Reject Null Hypothesis (significant differences)?: False\n",
      "Critical Difference (CD): 4.316729230563344\n",
      "Significant group differences (group1, group2, rank diff):\n"
     ]
    }
   ],
   "source": [
    "# Calmar\n",
    "N = 4 # measurements\n",
    "R = [2.5, 3, 4.25, 3.5, 1.75] # risk adusjted returns avg score\n",
    "results = friedman_nemenyi_test(N, k, R)\n",
    "\n",
    "print(\"Chi-squared Friedman statistic:\", results[\"chi_squared_F\"])\n",
    "print(\"Friedman F-statistic:\", results[\"F_F\"])\n",
    "print(\"Critical F value (alpha=0.05):\", results[\"F_critical\"])\n",
    "print(\"Reject Null Hypothesis (significant differences)?:\", results[\"significant\"])\n",
    "print(\"Critical Difference (CD):\", results[\"CD\"])\n",
    "print(\"Significant group differences (group1, group2, rank diff):\")\n",
    "for pair in results[\"significant_pairs\"]:\n",
    "    print(pair)"
   ]
  },
  {
   "cell_type": "code",
   "execution_count": null,
   "id": "3dfdfa0e",
   "metadata": {},
   "outputs": [],
   "source": []
  },
  {
   "cell_type": "code",
   "execution_count": null,
   "id": "515bc407",
   "metadata": {},
   "outputs": [],
   "source": []
  }
 ],
 "metadata": {
  "kernelspec": {
   "display_name": ".venv",
   "language": "python",
   "name": "python3"
  },
  "language_info": {
   "codemirror_mode": {
    "name": "ipython",
    "version": 3
   },
   "file_extension": ".py",
   "mimetype": "text/x-python",
   "name": "python",
   "nbconvert_exporter": "python",
   "pygments_lexer": "ipython3",
   "version": "3.11.9"
  }
 },
 "nbformat": 4,
 "nbformat_minor": 5
}
