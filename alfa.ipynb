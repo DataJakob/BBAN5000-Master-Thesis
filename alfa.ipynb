{
 "cells": [
  {
   "cell_type": "code",
   "execution_count": 3,
   "metadata": {},
   "outputs": [],
   "source": [
    "import pandas as pd\n",
    "\n",
    "df = pd.read_csv(\"Data/StockReturns.csv\")"
   ]
  },
  {
   "cell_type": "code",
   "execution_count": 4,
   "metadata": {},
   "outputs": [
    {
     "data": {
      "text/html": [
       "<div>\n",
       "<style scoped>\n",
       "    .dataframe tbody tr th:only-of-type {\n",
       "        vertical-align: middle;\n",
       "    }\n",
       "\n",
       "    .dataframe tbody tr th {\n",
       "        vertical-align: top;\n",
       "    }\n",
       "\n",
       "    .dataframe thead th {\n",
       "        text-align: right;\n",
       "    }\n",
       "</style>\n",
       "<table border=\"1\" class=\"dataframe\">\n",
       "  <thead>\n",
       "    <tr style=\"text-align: right;\">\n",
       "      <th></th>\n",
       "      <th>0</th>\n",
       "      <th>1</th>\n",
       "    </tr>\n",
       "  </thead>\n",
       "  <tbody>\n",
       "    <tr>\n",
       "      <th>0</th>\n",
       "      <td>0.000000e+00</td>\n",
       "      <td>0.000000</td>\n",
       "    </tr>\n",
       "    <tr>\n",
       "      <th>1</th>\n",
       "      <td>6.382935e-03</td>\n",
       "      <td>0.011799</td>\n",
       "    </tr>\n",
       "    <tr>\n",
       "      <th>2</th>\n",
       "      <td>7.046416e-04</td>\n",
       "      <td>0.009329</td>\n",
       "    </tr>\n",
       "    <tr>\n",
       "      <th>3</th>\n",
       "      <td>-1.408429e-03</td>\n",
       "      <td>-0.005777</td>\n",
       "    </tr>\n",
       "    <tr>\n",
       "      <th>4</th>\n",
       "      <td>-6.247075e-08</td>\n",
       "      <td>-0.004067</td>\n",
       "    </tr>\n",
       "    <tr>\n",
       "      <th>...</th>\n",
       "      <td>...</td>\n",
       "      <td>...</td>\n",
       "    </tr>\n",
       "    <tr>\n",
       "      <th>6017</th>\n",
       "      <td>6.102374e-03</td>\n",
       "      <td>0.002802</td>\n",
       "    </tr>\n",
       "    <tr>\n",
       "      <th>6018</th>\n",
       "      <td>1.154373e-02</td>\n",
       "      <td>0.003726</td>\n",
       "    </tr>\n",
       "    <tr>\n",
       "      <th>6019</th>\n",
       "      <td>1.353965e-02</td>\n",
       "      <td>0.020882</td>\n",
       "    </tr>\n",
       "    <tr>\n",
       "      <th>6020</th>\n",
       "      <td>1.908455e-03</td>\n",
       "      <td>0.001364</td>\n",
       "    </tr>\n",
       "    <tr>\n",
       "      <th>6021</th>\n",
       "      <td>1.104760e-02</td>\n",
       "      <td>0.006355</td>\n",
       "    </tr>\n",
       "  </tbody>\n",
       "</table>\n",
       "<p>6022 rows × 2 columns</p>\n",
       "</div>"
      ],
      "text/plain": [
       "                 0         1\n",
       "0     0.000000e+00  0.000000\n",
       "1     6.382935e-03  0.011799\n",
       "2     7.046416e-04  0.009329\n",
       "3    -1.408429e-03 -0.005777\n",
       "4    -6.247075e-08 -0.004067\n",
       "...            ...       ...\n",
       "6017  6.102374e-03  0.002802\n",
       "6018  1.154373e-02  0.003726\n",
       "6019  1.353965e-02  0.020882\n",
       "6020  1.908455e-03  0.001364\n",
       "6021  1.104760e-02  0.006355\n",
       "\n",
       "[6022 rows x 2 columns]"
      ]
     },
     "execution_count": 4,
     "metadata": {},
     "output_type": "execute_result"
    }
   ],
   "source": [
    "df"
   ]
  },
  {
   "cell_type": "code",
   "execution_count": 11,
   "metadata": {},
   "outputs": [],
   "source": [
    "import numpy as np"
   ]
  },
  {
   "cell_type": "code",
   "execution_count": 15,
   "metadata": {},
   "outputs": [],
   "source": [
    "alfa = df[\"0\"]"
   ]
  },
  {
   "cell_type": "code",
   "execution_count": 17,
   "metadata": {},
   "outputs": [
    {
     "data": {
      "text/plain": [
       "0    0.0\n",
       "Name: 0, dtype: float64"
      ]
     },
     "execution_count": 17,
     "metadata": {},
     "output_type": "execute_result"
    }
   ],
   "source": [
    "alfa[:1]"
   ]
  },
  {
   "cell_type": "code",
   "execution_count": 36,
   "metadata": {},
   "outputs": [
    {
     "data": {
      "text/plain": [
       "np.float64(0.0)"
      ]
     },
     "execution_count": 36,
     "metadata": {},
     "output_type": "execute_result"
    }
   ],
   "source": [
    "alfa[:1].iloc[-1]"
   ]
  },
  {
   "cell_type": "code",
   "execution_count": null,
   "metadata": {},
   "outputs": [],
   "source": [
    "first_return = []\n",
    "first_volatility = []\n",
    "for i in range(1,10,1):\n",
    "    ind_returns = np.prod(alfa[:i]+1)-1\n",
    "    ind_vol = np.std(alfa[:i])\n",
    "\n",
    "    first_return.append(ind_returns)\n",
    "    first_volatility.append(ind_vol)\n",
    "\n",
    "total_return = (df[\"0\"]+1).rolling(10).apply(np.prod, raw=True) -1\n",
    "total_volatilty = df[\"0\"].rolling(10).std() "
   ]
  },
  {
   "cell_type": "code",
   "execution_count": 52,
   "metadata": {},
   "outputs": [
    {
     "data": {
      "text/plain": [
       "[np.float64(0.0),\n",
       " np.float64(0.00319146771802965),\n",
       " np.float64(0.002857376526811778),\n",
       " np.float64(0.0029647460863918675),\n",
       " np.float64(0.002711886993854024),\n",
       " np.float64(0.0026309959429882484),\n",
       " np.float64(0.0024362455441195993),\n",
       " np.float64(0.004388544575696765),\n",
       " np.float64(0.004164885775663658)]"
      ]
     },
     "execution_count": 52,
     "metadata": {},
     "output_type": "execute_result"
    }
   ],
   "source": [
    "first_volatility"
   ]
  },
  {
   "cell_type": "code",
   "execution_count": 45,
   "metadata": {},
   "outputs": [],
   "source": [
    "hotel = (df[\"0\"]+1).rolling(10).apply(np.prod, raw=True) "
   ]
  },
  {
   "cell_type": "code",
   "execution_count": 2,
   "metadata": {},
   "outputs": [],
   "source": [
    "import pandas as pd\n",
    "import numpy as np"
   ]
  },
  {
   "cell_type": "code",
   "execution_count": 3,
   "metadata": {},
   "outputs": [],
   "source": [
    "ret = pd.read_csv(\"Data/Input/StockReturns.csv\")\n",
    "vol = pd.read_csv(\"Data/Input/StockVolume.csv\")\n",
    "rollret = pd.read_csv(\"Data/Input/RollingRet.csv\")\n",
    "rollvol = pd.read_csv(\"Data/Input/RollingVol.csv\")"
   ]
  },
  {
   "cell_type": "code",
   "execution_count": 6,
   "metadata": {},
   "outputs": [
    {
     "data": {
      "text/html": [
       "<div>\n",
       "<style scoped>\n",
       "    .dataframe tbody tr th:only-of-type {\n",
       "        vertical-align: middle;\n",
       "    }\n",
       "\n",
       "    .dataframe tbody tr th {\n",
       "        vertical-align: top;\n",
       "    }\n",
       "\n",
       "    .dataframe thead th {\n",
       "        text-align: right;\n",
       "    }\n",
       "</style>\n",
       "<table border=\"1\" class=\"dataframe\">\n",
       "  <thead>\n",
       "    <tr style=\"text-align: right;\">\n",
       "      <th></th>\n",
       "      <th>0</th>\n",
       "      <th>1</th>\n",
       "      <th>0</th>\n",
       "      <th>1</th>\n",
       "      <th>0</th>\n",
       "      <th>1</th>\n",
       "      <th>0</th>\n",
       "      <th>1</th>\n",
       "    </tr>\n",
       "  </thead>\n",
       "  <tbody>\n",
       "    <tr>\n",
       "      <th>0</th>\n",
       "      <td>0.000000e+00</td>\n",
       "      <td>0.000000</td>\n",
       "      <td>-0.556646</td>\n",
       "      <td>-0.677533</td>\n",
       "      <td>0.000000</td>\n",
       "      <td>0.000000</td>\n",
       "      <td>0.000000</td>\n",
       "      <td>0.000000</td>\n",
       "    </tr>\n",
       "    <tr>\n",
       "      <th>1</th>\n",
       "      <td>6.382935e-03</td>\n",
       "      <td>0.011799</td>\n",
       "      <td>-0.556646</td>\n",
       "      <td>-0.677533</td>\n",
       "      <td>0.006383</td>\n",
       "      <td>0.011799</td>\n",
       "      <td>0.003191</td>\n",
       "      <td>0.005900</td>\n",
       "    </tr>\n",
       "    <tr>\n",
       "      <th>2</th>\n",
       "      <td>7.047305e-04</td>\n",
       "      <td>0.009329</td>\n",
       "      <td>-1.041709</td>\n",
       "      <td>-0.339750</td>\n",
       "      <td>0.007092</td>\n",
       "      <td>0.021239</td>\n",
       "      <td>0.002857</td>\n",
       "      <td>0.005081</td>\n",
       "    </tr>\n",
       "    <tr>\n",
       "      <th>3</th>\n",
       "      <td>-1.408429e-03</td>\n",
       "      <td>-0.005777</td>\n",
       "      <td>-1.041709</td>\n",
       "      <td>-0.339750</td>\n",
       "      <td>0.005674</td>\n",
       "      <td>0.015339</td>\n",
       "      <td>0.002965</td>\n",
       "      <td>0.007084</td>\n",
       "    </tr>\n",
       "    <tr>\n",
       "      <th>4</th>\n",
       "      <td>-1.512966e-07</td>\n",
       "      <td>-0.004067</td>\n",
       "      <td>-0.522498</td>\n",
       "      <td>-0.504454</td>\n",
       "      <td>0.005674</td>\n",
       "      <td>0.011209</td>\n",
       "      <td>0.002712</td>\n",
       "      <td>0.007081</td>\n",
       "    </tr>\n",
       "    <tr>\n",
       "      <th>...</th>\n",
       "      <td>...</td>\n",
       "      <td>...</td>\n",
       "      <td>...</td>\n",
       "      <td>...</td>\n",
       "      <td>...</td>\n",
       "      <td>...</td>\n",
       "      <td>...</td>\n",
       "      <td>...</td>\n",
       "    </tr>\n",
       "    <tr>\n",
       "      <th>6017</th>\n",
       "      <td>6.102374e-03</td>\n",
       "      <td>0.002802</td>\n",
       "      <td>-0.801729</td>\n",
       "      <td>0.130957</td>\n",
       "      <td>0.006499</td>\n",
       "      <td>-0.023647</td>\n",
       "      <td>0.009699</td>\n",
       "      <td>0.006975</td>\n",
       "    </tr>\n",
       "    <tr>\n",
       "      <th>6018</th>\n",
       "      <td>1.154373e-02</td>\n",
       "      <td>0.003726</td>\n",
       "      <td>-0.740337</td>\n",
       "      <td>-0.177546</td>\n",
       "      <td>0.029265</td>\n",
       "      <td>-0.014632</td>\n",
       "      <td>0.009320</td>\n",
       "      <td>0.007126</td>\n",
       "    </tr>\n",
       "    <tr>\n",
       "      <th>6019</th>\n",
       "      <td>1.353965e-02</td>\n",
       "      <td>0.020882</td>\n",
       "      <td>-0.740337</td>\n",
       "      <td>-0.177546</td>\n",
       "      <td>0.034347</td>\n",
       "      <td>0.016166</td>\n",
       "      <td>0.009776</td>\n",
       "      <td>0.009345</td>\n",
       "    </tr>\n",
       "    <tr>\n",
       "      <th>6020</th>\n",
       "      <td>1.908455e-03</td>\n",
       "      <td>0.001364</td>\n",
       "      <td>-0.609982</td>\n",
       "      <td>-0.318216</td>\n",
       "      <td>0.031029</td>\n",
       "      <td>0.015207</td>\n",
       "      <td>0.009767</td>\n",
       "      <td>0.009342</td>\n",
       "    </tr>\n",
       "    <tr>\n",
       "      <th>6021</th>\n",
       "      <td>1.104760e-02</td>\n",
       "      <td>0.006355</td>\n",
       "      <td>-0.609982</td>\n",
       "      <td>-0.318216</td>\n",
       "      <td>0.055268</td>\n",
       "      <td>0.030683</td>\n",
       "      <td>0.008394</td>\n",
       "      <td>0.008689</td>\n",
       "    </tr>\n",
       "  </tbody>\n",
       "</table>\n",
       "<p>6022 rows × 8 columns</p>\n",
       "</div>"
      ],
      "text/plain": [
       "                 0         1         0         1         0         1  \\\n",
       "0     0.000000e+00  0.000000 -0.556646 -0.677533  0.000000  0.000000   \n",
       "1     6.382935e-03  0.011799 -0.556646 -0.677533  0.006383  0.011799   \n",
       "2     7.047305e-04  0.009329 -1.041709 -0.339750  0.007092  0.021239   \n",
       "3    -1.408429e-03 -0.005777 -1.041709 -0.339750  0.005674  0.015339   \n",
       "4    -1.512966e-07 -0.004067 -0.522498 -0.504454  0.005674  0.011209   \n",
       "...            ...       ...       ...       ...       ...       ...   \n",
       "6017  6.102374e-03  0.002802 -0.801729  0.130957  0.006499 -0.023647   \n",
       "6018  1.154373e-02  0.003726 -0.740337 -0.177546  0.029265 -0.014632   \n",
       "6019  1.353965e-02  0.020882 -0.740337 -0.177546  0.034347  0.016166   \n",
       "6020  1.908455e-03  0.001364 -0.609982 -0.318216  0.031029  0.015207   \n",
       "6021  1.104760e-02  0.006355 -0.609982 -0.318216  0.055268  0.030683   \n",
       "\n",
       "             0         1  \n",
       "0     0.000000  0.000000  \n",
       "1     0.003191  0.005900  \n",
       "2     0.002857  0.005081  \n",
       "3     0.002965  0.007084  \n",
       "4     0.002712  0.007081  \n",
       "...        ...       ...  \n",
       "6017  0.009699  0.006975  \n",
       "6018  0.009320  0.007126  \n",
       "6019  0.009776  0.009345  \n",
       "6020  0.009767  0.009342  \n",
       "6021  0.008394  0.008689  \n",
       "\n",
       "[6022 rows x 8 columns]"
      ]
     },
     "execution_count": 6,
     "metadata": {},
     "output_type": "execute_result"
    }
   ],
   "source": [
    "pd.concat([ret,vol,rollret,rollvol],axis=1)"
   ]
  }
 ],
 "metadata": {
  "kernelspec": {
   "display_name": "MyVenv",
   "language": "python",
   "name": "python3"
  },
  "language_info": {
   "codemirror_mode": {
    "name": "ipython",
    "version": 3
   },
   "file_extension": ".py",
   "mimetype": "text/x-python",
   "name": "python",
   "nbconvert_exporter": "python",
   "pygments_lexer": "ipython3",
   "version": "3.11.8"
  }
 },
 "nbformat": 4,
 "nbformat_minor": 2
}
