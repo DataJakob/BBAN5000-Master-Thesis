{
 "cells": [
  {
   "cell_type": "markdown",
   "metadata": {},
   "source": [
    "<h1> How to save Gotham </h1>\n",
    "\n",
    "<h3> Environment </h3>\n",
    "Create a environment\n",
    "<ul>\n",
    "    <li> State Space</li>\n",
    "    <li> Action space</li>\n",
    "    <li> Reward functions</li>\n",
    "    <li>Constraints</li>\n",
    "    <li> Reset and step functions</li>\n",
    "</ul>\n",
    "\n",
    "<h3> Agent </h3>\n",
    "Create one or mulitple agents to interact with the enivornment\n",
    "<ul>\n",
    "    <li>Policy based methods: PPO, DDP, A2C</li>\n",
    "    <li>Not value based-methods: DQN</li>\n",
    "    <li> Not actor critic mehods: Involves value-based methods</li>\n",
    "    <li>Exploration strategy: maybe epislon greedy or Thompson sampling</li>\n",
    "    <li> The trade-off between explorationa and exploitation happens here.</li>\n",
    "</ul>\n",
    "\n",
    "<h3> Training Loop </h3>\n",
    "Simulation area for agent to interact in environment\n",
    "<ul>\n",
    "    <li>Collect state, action and reward</li>\n",
    "    <li>Update policy and/or network using gradient based optimization</li>\n",
    "    <li>Apply techniques like eperience replay and target networks</li>\n",
    "    <!-- <li></li> -->\n",
    "</ul>\n",
    "\n",
    "<h3>Evaluation</h3>\n",
    "Assess performance of agent\n",
    "<ul>\n",
    "    <li>Out-of-sample testing</li>\n",
    "    <li> Performance measurement</li>\n",
    "    <li> Attribution analysis</li>\n",
    "    <!-- <li></li> -->\n",
    "</ul>\n",
    "\n",
    "\n",
    "<h3> Hyperparameter tuning and optimization</h3>\n",
    "\n",
    "<ul>\n",
    "    <li>Fine tune using: grid search, random search and bayesian optimization</li>\n",
    "    <!-- <li></li>\n",
    "    <li></li>\n",
    "    <li></li> -->\n",
    "</ul>\n",
    "\n",
    "\n",
    "<h3>Saving and Loading Model</h3>\n",
    "Ensure reproduability\n",
    "<ul>\n",
    "    <li> Save model</li>\n",
    "    <!-- <li></li>\n",
    "    <li></li>\n",
    "    <li></li> -->\n",
    "</ul>\n"
   ]
  },
  {
   "cell_type": "markdown",
   "metadata": {
    "vscode": {
     "languageId": "bat"
    }
   },
   "source": [
    "<h1>---------------------------------------------</h1>\n",
    "<h2> Environment </h2>"
   ]
  },
  {
   "cell_type": "markdown",
   "metadata": {},
   "source": [
    "<h2> PPO agent </h2>"
   ]
  }
 ],
 "metadata": {
  "kernelspec": {
   "display_name": "MyVenv",
   "language": "python",
   "name": "python3"
  },
  "language_info": {
   "codemirror_mode": {
    "name": "ipython",
    "version": 3
   },
   "file_extension": ".py",
   "mimetype": "text/x-python",
   "name": "python",
   "nbconvert_exporter": "python",
   "pygments_lexer": "ipython3",
   "version": "3.11.8"
  }
 },
 "nbformat": 4,
 "nbformat_minor": 2
}
