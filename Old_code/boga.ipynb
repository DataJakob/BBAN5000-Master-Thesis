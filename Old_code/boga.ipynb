{
 "cells": [
  {
   "cell_type": "code",
   "execution_count": 4,
   "metadata": {},
   "outputs": [],
   "source": [
    "import numpy as np"
   ]
  },
  {
   "cell_type": "code",
   "execution_count": 309,
   "metadata": {},
   "outputs": [],
   "source": [
    "exp_we = np.array([0.2, 0.5, 0.3])\n",
    "ret_e = np.array([0.0, 0.04, -0.04])\n",
    "\n",
    "ben_we = np.array([0.2, 0.2, 0.6])\n",
    "ret_b = np.array([0.1, 0.04, -0.04])\n",
    "\n",
    "n_stocks = 1\n",
    "n_sectors = 3"
   ]
  },
  {
   "cell_type": "code",
   "execution_count": null,
   "metadata": {},
   "outputs": [],
   "source": [
    "def analyzer_time_t(ret:list,  we:list, wb:list):\n",
    "    \"\"\"\n",
    "    one-liner\n",
    "\n",
    "    Args\n",
    "\n",
    "    Returns\n",
    "    \"\"\"\n",
    "\n",
    "    # Returns and weights on sector level for  benchmark\n",
    "    w_b = np.array([sum(wb[int(i*n_stocks):int((i+1)*n_stocks)]) for i in range(n_sectors)])\n",
    "    r_b = np.array([wb[int(i*n_stocks):int((i+1)*n_stocks)] @ ret[int(i*n_stocks):int((i+1)*n_stocks)] for i in range(n_sectors)])/w_b\n",
    "\n",
    "    # Returns and weights on sector level for portfolio\n",
    "    w_e = np.array([sum(we[int(i*n_stocks):int((i+1)*n_stocks)]) for i in range(n_sectors)])\n",
    "    r_e = np.array([we[int(i*n_stocks):int((i+1)*n_stocks)] @ ret[int(i*n_stocks):int((i+1)*n_stocks)] for i in range(n_sectors)])/w_e\n",
    "\n",
    "    # Total portfolio and benchmark return\n",
    "    Re = np.dot(w_e, r_e)\n",
    "    Rb = np.dot(w_b, r_b)\n",
    "\n",
    "    # Relative Active Return\n",
    "    active_return = ((1+Re) / (1+Rb)) -1\n",
    "\n",
    "    # Naked allocation and selection effects\n",
    "    sel_nkd = ((1+w_e*r_e) / (1+ w_e*r_b)) -1\n",
    "    all_nkd = ((1 + (w_e-w_b)*r_b) /  (1+(w_e-w_b)*Rb)) -1\n",
    "\n",
    "\n",
    "    # Q value\n",
    "    q_top =  np.log(1+Re) - np.log(1+Rb) - sum(np.log((1+sel_nkd)*(1+all_nkd)))\n",
    "    q_bottom = sum(np.log(1+sel_nkd)**2) + sum(np.log(1+all_nkd)**2)\n",
    "    q_tot =  q_top/q_bottom\n",
    "    \n",
    "    # Perturbation terms\n",
    "    gam_sel  = q_tot * np.log(1+sel_nkd)**2\n",
    "    gam_all = q_tot * np.log(1+all_nkd)**2\n",
    "\n",
    "\n",
    "    # Optimized selection and allocation effects\n",
    "    sel_opt = (1+sel_nkd) * np.e**(gam_sel) - 1\n",
    "    all_opt = (1+all_nkd) * np.e**(gam_all) - 1\n",
    "\n",
    "    # Combined effect from allocation and selection\n",
    "    combined_effect = np.prod(sel_opt+1) * np.prod(all_opt+1) \n",
    "\n",
    "    # Check ratio\n",
    "    check_ratio = combined_effect / active_return\n",
    "\n",
    "    return [all_opt, sel_opt, active_return, check_ratio, combined_effect]"
   ]
  },
  {
   "cell_type": "code",
   "execution_count": 316,
   "metadata": {},
   "outputs": [
    {
     "data": {
      "text/plain": [
       "[array([0.        , 0.01077339, 0.01319535]),\n",
       " array([-0.01965299,  0.        ,  0.        ]),\n",
       " np.float64(0.003984063745019917),\n",
       " np.float64(252.00000000000023),\n",
       " np.float64(1.00398406374502)]"
      ]
     },
     "execution_count": 316,
     "metadata": {},
     "output_type": "execute_result"
    }
   ],
   "source": [
    "svar = analyzer_time_t(ret_e, ret_b, exp_we, ben_we)\n",
    "svar"
   ]
  },
  {
   "cell_type": "code",
   "execution_count": 322,
   "metadata": {},
   "outputs": [
    {
     "data": {
      "text/plain": [
       "np.True_"
      ]
     },
     "execution_count": 322,
     "metadata": {},
     "output_type": "execute_result"
    }
   ],
   "source": [
    "svar[2] == svar[4]-1"
   ]
  },
  {
   "cell_type": "code",
   "execution_count": null,
   "metadata": {},
   "outputs": [],
   "source": []
  },
  {
   "cell_type": "code",
   "execution_count": null,
   "metadata": {},
   "outputs": [],
   "source": [
    "# exp_we = np.array([0.4, 0.1, 0.2, 0.3])\n",
    "# ben_we = np.array([0.25, 0.35, 0.3, 0.1])\n",
    "# ret_v = np.array([0.025, -0.021, -0.013, 0.017])+1\n",
    "\n",
    "# n_stocks = 2\n",
    "# n_sectors = 2"
   ]
  },
  {
   "cell_type": "code",
   "execution_count": 169,
   "metadata": {},
   "outputs": [],
   "source": [
    "exp_we = np.array([0.2, 0.5, 0.3])\n",
    "ret_e = np.array([0.0, 0.04, -0.04])\n",
    "\n",
    "ben_we = np.array([0.2, 0.2, 0.6])\n",
    "ret_b = np.array([0.1, 0.04, -0.04])\n",
    "\n",
    "n_stocks = 1\n",
    "n_sectors = 3"
   ]
  },
  {
   "cell_type": "code",
   "execution_count": 337,
   "metadata": {},
   "outputs": [],
   "source": [
    "wb = ben_we\n",
    "ret_b = ret_b\n",
    "\n",
    "we = exp_we\n",
    "ret_e = ret_e\n",
    "\n",
    "# def analyzer_time_t(ret_e:list ,ret_b:list,   we:list, wb:list):\n",
    "#     \"\"\"\n",
    "#     one-liner\n",
    "\n",
    "#     Args\n",
    "\n",
    "#     Returns\n",
    "#     \"\"\"\n",
    "\n",
    "# Returns and weights on sector level for  benchmark\n",
    "w_b = np.array([sum(wb[int(i*n_stocks):int((i+1)*n_stocks)]) for i in range(n_sectors)])\n",
    "r_b = np.array([wb[int(i*n_stocks):int((i+1)*n_stocks)] @ ret_b[int(i*n_stocks):int((i+1)*n_stocks)] for i in range(n_sectors)])/w_b\n",
    "\n",
    "# Returns and weights on sector level for portfolio\n",
    "w_e = np.array([sum(we[int(i*n_stocks):int((i+1)*n_stocks)]) for i in range(n_sectors)])\n",
    "r_e = np.array([we[int(i*n_stocks):int((i+1)*n_stocks)] @ ret_e[int(i*n_stocks):int((i+1)*n_stocks)] for i in range(n_sectors)])/w_e\n",
    "\n",
    "# Total portfolio and benchmark return\n",
    "Re = np.dot(w_e, r_e)\n",
    "Rb = np.dot(w_b, r_b)\n",
    "\n",
    "# Relative Active Return\n",
    "active_return = ((1+Re) / (1+Rb)) -1\n",
    "\n",
    "# Naked allocation and selection effects\n",
    "sel_nkd = ((1+w_e*r_e) / (1+ w_e*r_b)) -1\n",
    "all_nkd = ((1 + (w_e-w_b)*r_b) /  (1+(w_e-w_b)*Rb)) -1\n",
    "\n",
    "\n",
    "# Q value\n",
    "q_top =  np.log(1+Re) - np.log(1+Rb) - sum(np.log((1+sel_nkd)*(1+all_nkd)))\n",
    "q_bottom = sum(np.log(1+sel_nkd)**2) + sum(np.log(1+all_nkd)**2)\n",
    "q_tot =  q_top/q_bottom\n",
    "\n",
    "# Perturbation terms\n",
    "gam_sel  = q_tot * np.log(1+sel_nkd)**2\n",
    "gam_all = q_tot * np.log(1+all_nkd)**2\n",
    "\n",
    "\n",
    "# Optimized selection and allocation effects\n",
    "sel_opt = (1+sel_nkd) * np.e**(gam_sel) - 1\n",
    "all_opt = (1+all_nkd) * np.e**(gam_all) - 1\n"
   ]
  },
  {
   "cell_type": "code",
   "execution_count": 336,
   "metadata": {},
   "outputs": [
    {
     "data": {
      "text/plain": [
       "np.float64(0.0040000000000000036)"
      ]
     },
     "execution_count": 336,
     "metadata": {},
     "output_type": "execute_result"
    }
   ],
   "source": [
    "Rb"
   ]
  },
  {
   "cell_type": "code",
   "execution_count": null,
   "metadata": {},
   "outputs": [
    {
     "data": {
      "text/plain": [
       "array([0.        , 1.07870555, 1.3215859 ])"
      ]
     },
     "execution_count": 277,
     "metadata": {},
     "output_type": "execute_result"
    }
   ],
   "source": [
    "all_nkd*100"
   ]
  },
  {
   "cell_type": "code",
   "execution_count": null,
   "metadata": {},
   "outputs": [
    {
     "data": {
      "text/plain": [
       "array([ 0.   ,  0.02 , -0.012])"
      ]
     },
     "execution_count": 267,
     "metadata": {},
     "output_type": "execute_result"
    }
   ],
   "source": [
    "r_e"
   ]
  },
  {
   "cell_type": "code",
   "execution_count": null,
   "metadata": {},
   "outputs": [
    {
     "data": {
      "text/plain": [
       "np.float64(1.00398406374502)"
      ]
     },
     "execution_count": 209,
     "metadata": {},
     "output_type": "execute_result"
    }
   ],
   "source": [
    "(1+Re) / (1+Rb)"
   ]
  },
  {
   "cell_type": "code",
   "execution_count": null,
   "metadata": {},
   "outputs": [
    {
     "data": {
      "text/plain": [
       "np.float64(0.008000000000000007)"
      ]
     },
     "execution_count": 210,
     "metadata": {},
     "output_type": "execute_result"
    }
   ],
   "source": [
    "Re"
   ]
  },
  {
   "cell_type": "code",
   "execution_count": null,
   "metadata": {},
   "outputs": [
    {
     "data": {
      "text/plain": [
       "np.float64(0.0040000000000000036)"
      ]
     },
     "execution_count": 211,
     "metadata": {},
     "output_type": "execute_result"
    }
   ],
   "source": [
    "Rb"
   ]
  },
  {
   "cell_type": "code",
   "execution_count": null,
   "metadata": {},
   "outputs": [
    {
     "name": "stdout",
     "output_type": "stream",
     "text": [
      "[[-0.00332226 -0.00662252 -0.00459418]\n",
      " [ 0.00199734  0.00398936  0.00276413]\n",
      " [ 0.00200803  0.00403226  0.00278465]]\n"
     ]
    }
   ],
   "source": [
    "print(sel_nkd)"
   ]
  },
  {
   "cell_type": "code",
   "execution_count": null,
   "metadata": {},
   "outputs": [],
   "source": [
    "# svar = analyzer_time_t(ret_e, ret_b, exp_we,  ben_we)\n",
    "# # print(\"Allocation:\", svar[0])\n",
    "# # print(\"Selection:\", svar[1])\n",
    "# # print(\"Active return:\", svar[2])"
   ]
  },
  {
   "cell_type": "code",
   "execution_count": null,
   "metadata": {},
   "outputs": [
    {
     "name": "stdout",
     "output_type": "stream",
     "text": [
      "Experimental return:  0.008\n",
      "Bennchmark return:  0.0040000000000000036\n",
      "Active return:  0.003984063745019917\n"
     ]
    }
   ],
   "source": [
    "exp_R = np.dot(ret_e, exp_we)\n",
    "ben_R = np.dot(ret_b, ben_we)\n",
    "active_return = (1+exp_R)/(1+ben_R)\n",
    "print(\"Experimental return: \",exp_R)\n",
    "print(\"Bennchmark return: \",ben_R)\n",
    "print(\"Active return: \",active_return-1)"
   ]
  },
  {
   "cell_type": "code",
   "execution_count": null,
   "metadata": {},
   "outputs": [
    {
     "data": {
      "text/plain": [
       "np.float64(0.004054800000000003)"
      ]
     },
     "execution_count": 154,
     "metadata": {},
     "output_type": "execute_result"
    }
   ],
   "source": [
    "ben_R * 1.0137"
   ]
  },
  {
   "cell_type": "code",
   "execution_count": null,
   "metadata": {},
   "outputs": [
    {
     "name": "stdout",
     "output_type": "stream",
     "text": [
      "Active return from portfolio returns: 1.00398406374502\n",
      "active return from effects: -0.0\n"
     ]
    }
   ],
   "source": [
    "act_ret = (1+exp_R)/(1+ben_R)\n",
    "print(\"Active return from portfolio returns:\", act_ret)\n",
    "\n",
    "act_ret_from_effects = (np.prod(svar[1]) * np.prod(svar[0]))\n",
    "print(\"active return from effects:\", act_ret_from_effects)"
   ]
  },
  {
   "cell_type": "code",
   "execution_count": null,
   "metadata": {},
   "outputs": [
    {
     "data": {
      "text/plain": [
       "np.float64(1.0174384589957501)"
      ]
     },
     "execution_count": 60,
     "metadata": {},
     "output_type": "execute_result"
    }
   ],
   "source": [
    "1.01035**2*(ben_R+1)"
   ]
  },
  {
   "cell_type": "code",
   "execution_count": null,
   "metadata": {},
   "outputs": [
    {
     "data": {
      "text/plain": [
       "np.float64(1.010405523609018)"
      ]
     },
     "execution_count": 49,
     "metadata": {},
     "output_type": "execute_result"
    }
   ],
   "source": [
    "np.e**(act_ret_from_effects-1)"
   ]
  }
 ],
 "metadata": {
  "kernelspec": {
   "display_name": "MyVenv",
   "language": "python",
   "name": "python3"
  },
  "language_info": {
   "codemirror_mode": {
    "name": "ipython",
    "version": 3
   },
   "file_extension": ".py",
   "mimetype": "text/x-python",
   "name": "python",
   "nbconvert_exporter": "python",
   "pygments_lexer": "ipython3",
   "version": "3.11.8"
  }
 },
 "nbformat": 4,
 "nbformat_minor": 2
}
