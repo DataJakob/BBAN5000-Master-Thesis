{
 "cells": [
  {
   "cell_type": "markdown",
   "metadata": {},
   "source": [
    "<h1> Custom Environment </h1>\n",
    "<h4> -An attempt at creating it from scratch </h4>\n",
    "<i> \"You either die a hero, or live long enough to see yourself become a villain.\"</i>"
   ]
  },
  {
   "cell_type": "markdown",
   "metadata": {
    "vscode": {
     "languageId": "plaintext"
    }
   },
   "source": [
    "class\n",
    "<br>\n",
    "initializer\n",
    "<br>\n",
    "step\n",
    "<br>\n",
    "reset\n",
    "<br>\n",
    "render\n",
    "<br>\n",
    "close\n",
    "<br>\n",
    "<br>\n",
    "Validate thorugh check_env()"
   ]
  },
  {
   "cell_type": "markdown",
   "metadata": {},
   "source": [
    "https://colab.research.google.com/github/araffin/rl-tutorial-jnrr19/blob/master/5_custom_gym_env.ipynb#scrollTo=9DOpP_B0-LXm"
   ]
  },
  {
   "cell_type": "code",
   "execution_count": 1,
   "metadata": {},
   "outputs": [],
   "source": [
    "import numpy as np\n",
    "import pandas as pd\n",
    "\n",
    "import gymnasium as gym\n",
    "from gymnasium import spaces\n",
    "\n",
    "from stable_baselines3.common.env_checker import check_env\n",
    "\n",
    "from stable_baselines3 import SAC\n",
    "from stable_baselines3 import PPO\n",
    "\n",
    "from stable_baselines3.common.evaluation import evaluate_policy\n",
    "\n",
    "from RewardFunctions import (\n",
    "    sharpe_ratio,\n",
    "    sortino_ratio,\n",
    "    calculate_drawdown,\n",
    "    sterling_ratio,\n",
    "    return_ratio,\n",
    "    penalise_reward\n",
    ")"
   ]
  },
  {
   "cell_type": "code",
   "execution_count": 2,
   "metadata": {},
   "outputs": [],
   "source": [
    "history_usage = 30\n",
    "rolling_reward_window = 10\n",
    "\n",
    "return_data = pd.read_csv(\"../../Data/StockReturns.csv\")\n",
    "\n",
    "esg_data = np.array([36.6, 35.3, 17.9, 18, \n",
    "                    18, 21.2, 18.7, 29.2, \n",
    "                    15.7, 25.6, 25.6, 18.4, \n",
    "                    19.8, 13.8, 18.1, 19, \n",
    "                    17.2, 14, 17.2, 19.5, \n",
    "                    19.7, 21.2, 26.8, 19.3])\n",
    "\n",
    "objective = \"Sterling\"\n",
    "\n",
    "esg_compliancy = True"
   ]
  },
  {
   "cell_type": "code",
   "execution_count": null,
   "metadata": {},
   "outputs": [],
   "source": [
    "import yfinance as yf\n",
    "import pandas as pd\n",
    "import numpy as np"
   ]
  },
  {
   "cell_type": "code",
   "execution_count": 15,
   "metadata": {},
   "outputs": [
    {
     "name": "stderr",
     "output_type": "stream",
     "text": [
      "[*********************100%***********************]  1 of 1 completed\n"
     ]
    }
   ],
   "source": [
    "data = yf.download(\"AKRBP.OL\", start=\"2020-12-01\", end=\"2024-12-31\")"
   ]
  },
  {
   "cell_type": "code",
   "execution_count": 19,
   "metadata": {},
   "outputs": [],
   "source": [
    "# data[\"Volume\"].tail()"
   ]
  },
  {
   "cell_type": "code",
   "execution_count": 18,
   "metadata": {},
   "outputs": [],
   "source": [
    "# pd.DataFrame(np.repeat(data[\"Volume\"].values,2))"
   ]
  }
 ],
 "metadata": {
  "kernelspec": {
   "display_name": "MyVenv",
   "language": "python",
   "name": "python3"
  },
  "language_info": {
   "codemirror_mode": {
    "name": "ipython",
    "version": 3
   },
   "file_extension": ".py",
   "mimetype": "text/x-python",
   "name": "python",
   "nbconvert_exporter": "python",
   "pygments_lexer": "ipython3",
   "version": "3.11.8"
  }
 },
 "nbformat": 4,
 "nbformat_minor": 2
}
