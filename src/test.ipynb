{
 "cells": [
  {
   "cell_type": "code",
   "execution_count": null,
   "metadata": {},
   "outputs": [],
   "source": [
    "import numpy as np\n",
    "import pandas as pd \n",
    "import matplotlib.pyplot as plt\n",
    "\n",
    "import yfinance as yf\n",
    "\n",
    "from scipy.optimize import Bounds\n",
    "from scipy.optimize import LinearConstraint\n",
    "from scipy.optimize import minimize\n",
    "\n",
    "from Data_Retriever import DataRetriever as DatRet\n",
    "from Markowitz_PT import MarkowitzPT as MPT"
   ]
  },
  {
   "cell_type": "markdown",
   "metadata": {},
   "source": [
    "<h1> Stock pool </h1>"
   ]
  },
  {
   "cell_type": "code",
   "execution_count": null,
   "metadata": {},
   "outputs": [],
   "source": [
    "# Defining stock pool\n",
    "ticker_df =  pd.DataFrame()\n",
    "ticker_df[\"Petroleum\"] = [\"AKRBP.OL\", \"EQNR.OL\", \"ODL.OL\"]\n",
    "ticker_df[\"Materials\"] = [\"NHY.OL\", \"NSKOG.OL\", \"RANA.OL\"]\n",
    "ticker_df[\"Food\"] = [\"LSG.OL\", \"MOWI.OL\", \"ORK.OL\"]\n",
    "ticker_df"
   ]
  },
  {
   "cell_type": "code",
   "execution_count": null,
   "metadata": {},
   "outputs": [],
   "source": [
    "# Retrieve data from yf API\n",
    "data = DatRet(ticker_df, \"2022-02-19\", \"2025-02-18\")\n",
    "data.retrieve_data()\n",
    "\n",
    "# Generate benchmark weights thorugh MPT using Sharpe ratio\n",
    "benchmark = MPT(data.returns, 252,10)\n",
    "benchmark.frequency_optimizing()"
   ]
  },
  {
   "cell_type": "code",
   "execution_count": null,
   "metadata": {},
   "outputs": [],
   "source": [
    "flat_series_list = [series for row in data.returns for series in row]\n",
    "df = pd.concat(flat_series_list,axis=1)"
   ]
  },
  {
   "cell_type": "code",
   "execution_count": null,
   "metadata": {},
   "outputs": [],
   "source": [
    "df.tail(10)"
   ]
  },
  {
   "cell_type": "code",
   "execution_count": 50,
   "metadata": {},
   "outputs": [],
   "source": [
    "# "
   ]
  },
  {
   "cell_type": "code",
   "execution_count": null,
   "metadata": {},
   "outputs": [],
   "source": [
    "daily_returns = []\n",
    "for time in range(1,10,1):\n",
    "    ind_day_ret = np.array([data.returns[i][j].iloc[-time].iloc[0] for i in  range(3) for j in range(3)]) -1\n",
    "    daily_returns.append(ind_day_ret[::])\n",
    "daily_returns = daily_returns[::-1]\n",
    "\n",
    "daily_ben_weights = benchmark.frequency_weights[:-1]\n",
    "daily_ben_weights = np.array([benchmark.frequency_weights[i][0] for i in range(len(benchmark.frequency_weights))])[:-1]\n",
    "daily_exp_weights = np.repeat(1/9,9)\n",
    "\n",
    "\n",
    "# rl_perf = [daily_ben_weights[time]@daily_returns[time] for time in range(9)]\n",
    "rl_perf = [sum(daily_ben_weights[time]*daily_returns[time]) for time in range(9)]\n",
    "\n",
    "# mpt_perf = [daily_exp_weights@daily_returns[time] for time in range(9)]\n",
    "mpt_perf = [sum(daily_exp_weights*daily_returns[time]) for time in range(9)]\n",
    "\n",
    "# excess_ret = [(rl_perf[time]-mpt_perf[time])/rl_perf[time] for time in range(9)]\n",
    "excess_ret = [rl_perf[time] - mpt_perf[time] for time in range(9)]\n",
    "\n",
    "plt.plot(excess_ret)"
   ]
  },
  {
   "cell_type": "code",
   "execution_count": null,
   "metadata": {},
   "outputs": [],
   "source": [
    "def calculate_bhb(daily_ben_weights, daily_returns, daily_exp_weights):\n",
    "    \"\"\"\n",
    "    Calculate Brinson, Hood, and Beebower (BHB) attribution model.\n",
    "\n",
    "    Args:\n",
    "        daily_ben_weights (list): List of 9 benchmark weights.\n",
    "        daily_returns (list): List of 9 daily returns.\n",
    "        daily_exp_weights (list): List of 9 experimental portfolio weights.\n",
    "\n",
    "    Returns:\n",
    "        tuple: Allocation effect, selection effect, interaction effect, and total excess return.\n",
    "    \"\"\"\n",
    "    allocation_effect = 0\n",
    "    selection_effect = 0\n",
    "    interaction_effect = 0\n",
    "    \n",
    "    # Divide portfolio into 3 sectors (0:3, 3:6, 6:9)\n",
    "    for i in range(3):\n",
    "        wb = sum(daily_ben_weights[0][i*3:(i+1)*3])\n",
    "        we = sum(daily_exp_weights[i*3:(i+1)*3])\n",
    "        rb = sum(np.array(daily_ben_weights[0][i*3:(i+1)*3]) * np.array(daily_returns[0][i*3:(i+1)*3]))\n",
    "        re = sum(np.array(daily_exp_weights[i*3:(i+1)*3]) * np.array(daily_returns[0][i*3:(i+1)*3]))\n",
    "        \n",
    "        allocation_effect += rb * (we - wb)  # Allocation Effect\n",
    "        selection_effect += wb * (re - rb)  # Selection Effect\n",
    "        interaction_effect += (we - wb) * (re - rb)  # Interaction Effect\n",
    "    \n",
    "    total_excess_return = allocation_effect + selection_effect + interaction_effect\n",
    "    \n",
    "    return allocation_effect, selection_effect, interaction_effect, total_excess_return\n"
   ]
  },
  {
   "cell_type": "code",
   "execution_count": 82,
   "metadata": {},
   "outputs": [],
   "source": [
    "fox = calculate_bhb(daily_ben_weights,daily_returns, daily_exp_weights)"
   ]
  },
  {
   "cell_type": "code",
   "execution_count": 83,
   "metadata": {},
   "outputs": [
    {
     "data": {
      "text/plain": [
       "(np.float64(-0.0005328568492038127),\n",
       " np.float64(-0.0011743012428612075),\n",
       " np.float64(0.00036851326751202317),\n",
       " np.float64(-0.001338644824552997))"
      ]
     },
     "execution_count": 83,
     "metadata": {},
     "output_type": "execute_result"
    }
   ],
   "source": [
    "fox"
   ]
  },
  {
   "cell_type": "code",
   "execution_count": 84,
   "metadata": {},
   "outputs": [
    {
     "data": {
      "text/plain": [
       "np.float64(-0.001338644824552997)"
      ]
     },
     "execution_count": 84,
     "metadata": {},
     "output_type": "execute_result"
    }
   ],
   "source": [
    "sum(fox[:3])"
   ]
  },
  {
   "cell_type": "code",
   "execution_count": 79,
   "metadata": {},
   "outputs": [
    {
     "name": "stdout",
     "output_type": "stream",
     "text": [
      "-0.006934288266357137\n",
      "0.0015404291477781572\n",
      "-0.009500069902821807\n",
      "-0.00014893929021400786\n"
     ]
    }
   ],
   "source": [
    "wb1 = np.sum(daily_ben_weights[0][:3])\n",
    "we1 = np.sum(daily_exp_weights[:3])\n",
    "rb1 = np.dot(daily_ben_weights[0][:3], daily_returns[0][:3])\n",
    "re1 = np.dot(daily_exp_weights[:3], daily_returns[0][:3])\n",
    "\n",
    "wb2 = np.sum(daily_ben_weights[0][3:6])\n",
    "we2 = np.sum(daily_exp_weights[3:6])\n",
    "rb2 = np.dot(daily_ben_weights[0][:3], daily_returns[0][3:6])\n",
    "re2 = np.dot(daily_exp_weights[:3], daily_returns[0][3:6])\n",
    "\n",
    "\n",
    "wb3 = np.sum(daily_ben_weights[0][6:9])\n",
    "we3 = np.sum(daily_exp_weights[6:9])\n",
    "rb3 = np.dot(daily_ben_weights[0][:3], daily_returns[0][6:9])\n",
    "re3 = np.dot(daily_exp_weights[:3], daily_returns[0][6:9])\n",
    "\n",
    "# Allocations:\n",
    "ae1 = rb1*(we1-wb1)\n",
    "ae2 = rb2*(we2-wb2)\n",
    "ae3 = rb3*(we3-wb3)\n",
    "allocation = ae1+ae2+ae3\n",
    "\n",
    "# Selections:\n",
    "se1 = wb1*(re1-rb1)\n",
    "se2 = wb2*(re2-rb2)\n",
    "se3 = wb3*(re3-rb3)\n",
    "selection = se1+se2+se3\n",
    "\n",
    "# Interaction:\n",
    "ie1 = (we1-wb1)*(re1-rb1)\n",
    "ie2 = (we2-wb2)*(re2-rb2)\n",
    "ie3 = (we3-wb3)*(re3-rb3)\n",
    "interaction = ie1 + ie2+ ie3\n",
    "\n",
    "print(allocation*100)\n",
    "print(selection*100)\n",
    "print(interaction*100)\n",
    "delta=allocation+selection+interaction\n",
    "print(delta)"
   ]
  },
  {
   "cell_type": "code",
   "execution_count": 80,
   "metadata": {},
   "outputs": [
    {
     "data": {
      "text/plain": [
       "(np.float64(-0.0005328568492038127),\n",
       " np.float64(-0.0011743012428612075),\n",
       " np.float64(0.00036851326751202317),\n",
       " np.float64(-0.001338644824552997))"
      ]
     },
     "execution_count": 80,
     "metadata": {},
     "output_type": "execute_result"
    }
   ],
   "source": [
    "fox"
   ]
  },
  {
   "cell_type": "code",
   "execution_count": 68,
   "metadata": {},
   "outputs": [
    {
     "name": "stdout",
     "output_type": "stream",
     "text": [
      "-0.014893929021400742\n",
      "1.0024173639260476\n"
     ]
    }
   ],
   "source": [
    "print(delta-1)\n",
    "print(excess_ret[0]+1)"
   ]
  },
  {
   "cell_type": "code",
   "execution_count": 61,
   "metadata": {},
   "outputs": [],
   "source": [
    "# class BHBAnalyzer():\n",
    "    \n",
    "#     def __init__(self, \n",
    "#                  benchmark_data=None,\n",
    "#                  experiment_data=None,\n",
    "#                  raw_data=None\n",
    "#                  ):\n",
    "#         \"\"\"\n",
    "#         Args:\n",
    "#             benchmark_data: NxM list from MPT\n",
    "#             experiment_data: NxM list from RL    \n",
    "#         \"\"\"\n",
    "#         self.benchmark_data =  benchmark_data\n",
    "#         self.experiment_data = experiment_data\n",
    "#         self.raw_data = raw_data\n",
    "\n",
    "#     def frequency_analyze():\n",
    "#         pass"
   ]
  }
 ],
 "metadata": {
  "kernelspec": {
   "display_name": "MyVenv",
   "language": "python",
   "name": "python3"
  },
  "language_info": {
   "codemirror_mode": {
    "name": "ipython",
    "version": 3
   },
   "file_extension": ".py",
   "mimetype": "text/x-python",
   "name": "python",
   "nbconvert_exporter": "python",
   "pygments_lexer": "ipython3",
   "version": "3.11.8"
  }
 },
 "nbformat": 4,
 "nbformat_minor": 2
}
