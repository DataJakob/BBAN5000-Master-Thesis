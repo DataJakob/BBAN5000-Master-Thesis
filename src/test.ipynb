{
 "cells": [
  {
   "cell_type": "code",
   "execution_count": 547,
   "metadata": {},
   "outputs": [],
   "source": [
    "import numpy as np\n",
    "import pandas as pd \n",
    "import matplotlib.pyplot as plt\n",
    "\n",
    "import yfinance as yf\n",
    "\n",
    "from scipy.optimize import Bounds\n",
    "from scipy.optimize import LinearConstraint\n",
    "from scipy.optimize import minimize\n",
    "\n",
    "from Data_Retriever import DataRetriever as DatRet\n",
    "from Markowitz_PT import MarkowitzPT as MPT"
   ]
  },
  {
   "cell_type": "markdown",
   "metadata": {},
   "source": [
    "<h1> Stock pool </h1>"
   ]
  },
  {
   "cell_type": "code",
   "execution_count": 548,
   "metadata": {},
   "outputs": [
    {
     "data": {
      "text/html": [
       "<div>\n",
       "<style scoped>\n",
       "    .dataframe tbody tr th:only-of-type {\n",
       "        vertical-align: middle;\n",
       "    }\n",
       "\n",
       "    .dataframe tbody tr th {\n",
       "        vertical-align: top;\n",
       "    }\n",
       "\n",
       "    .dataframe thead th {\n",
       "        text-align: right;\n",
       "    }\n",
       "</style>\n",
       "<table border=\"1\" class=\"dataframe\">\n",
       "  <thead>\n",
       "    <tr style=\"text-align: right;\">\n",
       "      <th></th>\n",
       "      <th>Petroleum</th>\n",
       "      <th>Materials</th>\n",
       "      <th>Food</th>\n",
       "    </tr>\n",
       "  </thead>\n",
       "  <tbody>\n",
       "    <tr>\n",
       "      <th>0</th>\n",
       "      <td>AKRBP.OL</td>\n",
       "      <td>NHY.OL</td>\n",
       "      <td>LSG.OL</td>\n",
       "    </tr>\n",
       "    <tr>\n",
       "      <th>1</th>\n",
       "      <td>EQNR.OL</td>\n",
       "      <td>NSKOG.OL</td>\n",
       "      <td>MOWI.OL</td>\n",
       "    </tr>\n",
       "    <tr>\n",
       "      <th>2</th>\n",
       "      <td>ODL.OL</td>\n",
       "      <td>RANA.OL</td>\n",
       "      <td>ORK.OL</td>\n",
       "    </tr>\n",
       "  </tbody>\n",
       "</table>\n",
       "</div>"
      ],
      "text/plain": [
       "  Petroleum Materials     Food\n",
       "0  AKRBP.OL    NHY.OL   LSG.OL\n",
       "1   EQNR.OL  NSKOG.OL  MOWI.OL\n",
       "2    ODL.OL   RANA.OL   ORK.OL"
      ]
     },
     "execution_count": 548,
     "metadata": {},
     "output_type": "execute_result"
    }
   ],
   "source": [
    "# Defining stock pool\n",
    "ticker_df =  pd.DataFrame()\n",
    "ticker_df[\"Petroleum\"] = [\"AKRBP.OL\", \"EQNR.OL\", \"ODL.OL\"]\n",
    "ticker_df[\"Materials\"] = [\"NHY.OL\", \"NSKOG.OL\", \"RANA.OL\"]\n",
    "ticker_df[\"Food\"] = [\"LSG.OL\", \"MOWI.OL\", \"ORK.OL\"]\n",
    "ticker_df"
   ]
  },
  {
   "cell_type": "code",
   "execution_count": 549,
   "metadata": {},
   "outputs": [
    {
     "name": "stderr",
     "output_type": "stream",
     "text": [
      "[*********************100%***********************]  1 of 1 completed\n",
      "[*********************100%***********************]  1 of 1 completed\n",
      "[*********************100%***********************]  1 of 1 completed\n",
      "[*********************100%***********************]  1 of 1 completed\n",
      "[*********************100%***********************]  1 of 1 completed\n",
      "[*********************100%***********************]  1 of 1 completed\n",
      "[*********************100%***********************]  1 of 1 completed\n",
      "[*********************100%***********************]  1 of 1 completed\n",
      "[*********************100%***********************]  1 of 1 completed\n"
     ]
    },
    {
     "name": "stdout",
     "output_type": "stream",
     "text": [
      "--Frequency trading using MPT successfully performed--\n"
     ]
    }
   ],
   "source": [
    "# Retrieve data from yf API\n",
    "data = DatRet(ticker_df, \"2022-02-19\", \"2025-02-18\")\n",
    "data.retrieve_data()\n",
    "\n",
    "# Generate benchmark weights thorugh MPT using Sharpe ratio\n",
    "benchmark = MPT(data.returns, 252,10)\n",
    "benchmark.frequency_optimizing()"
   ]
  },
  {
   "cell_type": "code",
   "execution_count": 609,
   "metadata": {},
   "outputs": [
    {
     "data": {
      "text/plain": [
       "[<matplotlib.lines.Line2D at 0x1f399d7f990>]"
      ]
     },
     "execution_count": 609,
     "metadata": {},
     "output_type": "execute_result"
    },
    {
     "data": {
      "image/png": "[encoded data removed]",
      "text/plain": [
       "<Figure size 640x480 with 1 Axes>"
      ]
     },
     "metadata": {},
     "output_type": "display_data"
    }
   ],
   "source": [
    "daily_returns = []\n",
    "for time in range(1,10,1):\n",
    "    ind_day_ret = np.array([data.returns[i][j].iloc[-time].iloc[0] for i in  range(3) for j in range(3)]) -1\n",
    "    daily_returns.append(ind_day_ret[::])\n",
    "daily_returns = daily_returns[::-1]\n",
    "\n",
    "daily_ben_weights = benchmark.frequency_weights[:-1]\n",
    "daily_ben_weights = np.array([benchmark.frequency_weights[i][0] for i in range(len(benchmark.frequency_weights))])[:-1]\n",
    "daily_exp_weights = np.repeat(1/9,9)\n",
    "\n",
    "\n",
    "# rl_perf = [daily_ben_weights[time]@daily_returns[time] for time in range(9)]\n",
    "rl_perf = [sum(daily_ben_weights[time]*daily_returns[time]) for time in range(9)]\n",
    "\n",
    "# mpt_perf = [daily_exp_weights@daily_returns[time] for time in range(9)]\n",
    "mpt_perf = [sum(daily_exp_weights*daily_returns[time]) for time in range(9)]\n",
    "\n",
    "# excess_ret = [(rl_perf[time]-mpt_perf[time])/rl_perf[time] for time in range(9)]\n",
    "excess_ret = [rl_perf[time] - mpt_perf[time] for time in range(9)]\n",
    "\n",
    "plt.plot(excess_ret)"
   ]
  },
  {
   "cell_type": "code",
   "execution_count": null,
   "metadata": {},
   "outputs": [],
   "source": [
    "wb1 = np.sum(daily_ben_weights[0][:3])\n",
    "we1 = np.sum(daily_exp_weights[:3])\n",
    "rb1 = np.dot(daily_ben_weights[0][:3], daily_returns[0][:3])\n",
    "re1 = np.dot(daily_exp_weights[:3], daily_returns[0][:3])\n",
    "\n",
    "wb2 = np.sum(daily_ben_weights[0][3:6])\n",
    "we2 = np.sum(daily_exp_weights[3:6])\n",
    "rb2 = np.dot(daily_ben_weights[0][:3], daily_returns[0][3:6])\n",
    "re2 = np.dot(daily_exp_weights[:3], daily_returns[0][3:6])\n",
    "\n",
    "\n",
    "wb3 = np.sum(daily_ben_weights[0][6:9])\n",
    "we3 = np.sum(daily_exp_weights[6:9])\n",
    "rb3 = np.dot(daily_ben_weights[0][:3], daily_returns[0][6:9])\n",
    "re3 = np.dot(daily_exp_weights[:3], daily_returns[0][6:9])\n",
    "\n",
    "ae1 = rb1*(we1-wb1)\n",
    "se1 = wb1*(re1-rb1)\n",
    "ie1 = (we1-wb1)*(re1-rb1)\n",
    "a = ae1+se1+ie1\n",
    "\n",
    "ae2 = rb2*(we2-wb2)\n",
    "se2 = wb2*(re2-rb2)\n",
    "ie2 = (we2-wb2)*(re2-rb2)\n",
    "b = ae2+se2+ie2\n",
    "\n",
    "ae3 = rb3*(we3-wb3)\n",
    "se3 = wb3*(re3-rb3)\n",
    "ie3 = (we3-wb3)*(re3-rb3)\n",
    "c = ae3+se3+ie3\n",
    "\n",
    "delta = (a+b+c)*100+1"
   ]
  },
  {
   "cell_type": "code",
   "execution_count": 582,
   "metadata": {},
   "outputs": [],
   "source": [
    "# ae1 = rb1 * (we1 - wb1)  # Allocation Effect\n",
    "# se1 = wb1 * (re1 - rb1)  # Selection Effect\n",
    "# ie1 = (we1 - wb1) * (re1 - rb1)  # Interaction Effect\n",
    "\n",
    "# print(f\"Sector 1: AE={ae1}, SE={se1}, IE={ie1}\")\n",
    "# print(f\"Sector 2: AE={ae2}, SE={se2}, IE={ie2}\")\n",
    "# print(f\"Sector 3: AE={ae3}, SE={se3}, IE={ie3}\")\n",
    "\n"
   ]
  },
  {
   "cell_type": "code",
   "execution_count": 601,
   "metadata": {},
   "outputs": [
    {
     "name": "stdout",
     "output_type": "stream",
     "text": [
      "[1. 1. 1. 1. 1. 1. 1. 1. 1.]\n",
      "1.0\n"
     ]
    }
   ],
   "source": [
    "print(np.sum(daily_ben_weights, axis=1))  # Should be 1 for each day\n",
    "print(np.sum(daily_exp_weights))  # Should be 1\n"
   ]
  },
  {
   "cell_type": "code",
   "execution_count": 613,
   "metadata": {},
   "outputs": [
    {
     "data": {
      "text/plain": [
       "np.float64(-0.010874336430036532)"
      ]
     },
     "execution_count": 613,
     "metadata": {},
     "output_type": "execute_result"
    }
   ],
   "source": [
    "delta-1 -excess_ret[0]"
   ]
  },
  {
   "cell_type": "code",
   "execution_count": 610,
   "metadata": {},
   "outputs": [
    {
     "data": {
      "text/plain": [
       "[np.float64(0.002186917189325053),\n",
       " np.float64(-0.0009315807590682405),\n",
       " np.float64(-0.01290334818632083),\n",
       " np.float64(0.00010663477764632535),\n",
       " np.float64(-0.001211006575115513),\n",
       " np.float64(0.0021932599527938485),\n",
       " np.float64(-0.0016953982008076456),\n",
       " np.float64(0.0048300376095121115),\n",
       " np.float64(-0.0016668999632444834)]"
      ]
     },
     "execution_count": 610,
     "metadata": {},
     "output_type": "execute_result"
    }
   ],
   "source": [
    "excess_ret"
   ]
  },
  {
   "cell_type": "code",
   "execution_count": null,
   "metadata": {},
   "outputs": [],
   "source": [
    "class BHBAnalyzer():\n",
    "    \n",
    "    def __init__(self, \n",
    "                 benchmark_data=None,\n",
    "                 experiment_data=None,\n",
    "                 raw_data=None\n",
    "                 ):\n",
    "        \"\"\"\n",
    "        Args:\n",
    "            benchmark_data: NxM list from MPT\n",
    "            experiment_data: NxM list from RL    \n",
    "        \"\"\"\n",
    "        self.benchmark_data =  benchmark_data\n",
    "        self.experiment_data = experiment_data\n",
    "        self.raw_data = raw_data\n",
    "\n",
    "    def frequency_analyze():\n",
    "        pass"
   ]
  }
 ],
 "metadata": {
  "kernelspec": {
   "display_name": "MyVenv",
   "language": "python",
   "name": "python3"
  },
  "language_info": {
   "codemirror_mode": {
    "name": "ipython",
    "version": 3
   },
   "file_extension": ".py",
   "mimetype": "text/x-python",
   "name": "python",
   "nbconvert_exporter": "python",
   "pygments_lexer": "ipython3",
   "version": "3.11.8"
  }
 },
 "nbformat": 4,
 "nbformat_minor": 2
}
