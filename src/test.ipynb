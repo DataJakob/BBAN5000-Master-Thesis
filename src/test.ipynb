{
 "cells": [
  {
   "cell_type": "code",
   "execution_count": 1,
   "metadata": {},
   "outputs": [],
   "source": [
    "import numpy as np\n",
    "import pandas as pd \n",
    "import matplotlib.pyplot as plt\n",
    "\n",
    "import yfinance as yf\n",
    "\n",
    "from scipy.optimize import Bounds\n",
    "from scipy.optimize import LinearConstraint\n",
    "from scipy.optimize import minimize\n",
    "\n",
    "from Data_Retriever import DataRetriever as DatRet\n",
    "from Markowitz_PT import MarkowitzPT as MPT"
   ]
  },
  {
   "cell_type": "markdown",
   "metadata": {},
   "source": [
    "<h1> Stock pool </h1>"
   ]
  },
  {
   "cell_type": "code",
   "execution_count": null,
   "metadata": {},
   "outputs": [],
   "source": [
    "# Petroleum\n",
    "# EQNR 36.6, AKRBP 35.3, Subsea7 17.9, Vår energi 27.9\n",
    "\n",
    "# Food (Seafood)\n",
    "# Orkla 18, Mowi 21.2, Salmar 18.7, LSG 29.2\n",
    "\n",
    "# Materials\n",
    "# NHY 15.7, Yara 25.6, NSKOG 23.1, ELK 29.9\n",
    "\n",
    "# Technologies\n",
    "# TEL 19.8, NOD 13.8, ATEA 18.1, BOUV 19\n",
    "\n",
    "# Financials\n",
    "# STB 17.2, DNB 14, GJF 17.2, MING.OL 19.5\n",
    "\n",
    "# Shipping\n",
    "# WAWI 19.7, SNI 21.2, BELCO 26.8, ODF 19.3"
   ]
  },
  {
   "cell_type": "code",
   "execution_count": 2,
   "metadata": {},
   "outputs": [
    {
     "data": {
      "text/html": [
       "<div>\n",
       "<style scoped>\n",
       "    .dataframe tbody tr th:only-of-type {\n",
       "        vertical-align: middle;\n",
       "    }\n",
       "\n",
       "    .dataframe tbody tr th {\n",
       "        vertical-align: top;\n",
       "    }\n",
       "\n",
       "    .dataframe thead th {\n",
       "        text-align: right;\n",
       "    }\n",
       "</style>\n",
       "<table border=\"1\" class=\"dataframe\">\n",
       "  <thead>\n",
       "    <tr style=\"text-align: right;\">\n",
       "      <th></th>\n",
       "      <th>Petroleum</th>\n",
       "      <th>Materials</th>\n",
       "      <th>Food</th>\n",
       "    </tr>\n",
       "  </thead>\n",
       "  <tbody>\n",
       "    <tr>\n",
       "      <th>0</th>\n",
       "      <td>AKRBP.OL</td>\n",
       "      <td>NHY.OL</td>\n",
       "      <td>LSG.OL</td>\n",
       "    </tr>\n",
       "    <tr>\n",
       "      <th>1</th>\n",
       "      <td>EQNR.OL</td>\n",
       "      <td>NSKOG.OL</td>\n",
       "      <td>MOWI.OL</td>\n",
       "    </tr>\n",
       "    <tr>\n",
       "      <th>2</th>\n",
       "      <td>ODL.OL</td>\n",
       "      <td>RANA.OL</td>\n",
       "      <td>ORK.OL</td>\n",
       "    </tr>\n",
       "  </tbody>\n",
       "</table>\n",
       "</div>"
      ],
      "text/plain": [
       "  Petroleum Materials     Food\n",
       "0  AKRBP.OL    NHY.OL   LSG.OL\n",
       "1   EQNR.OL  NSKOG.OL  MOWI.OL\n",
       "2    ODL.OL   RANA.OL   ORK.OL"
      ]
     },
     "execution_count": 2,
     "metadata": {},
     "output_type": "execute_result"
    }
   ],
   "source": [
    "# Defining stock pool\n",
    "ticker_df =  pd.DataFrame()\n",
    "ticker_df[\"Petroleum\"] = [\"AKRBP.OL\", \"EQNR.OL\", \"ODL.OL\"]\n",
    "ticker_df[\"Materials\"] = [\"NHY.OL\", \"NSKOG.OL\", \"RANA.OL\"]\n",
    "ticker_df[\"Food\"] = [\"LSG.OL\", \"MOWI.OL\", \"ORK.OL\"]\n",
    "ticker_df"
   ]
  },
  {
   "cell_type": "code",
   "execution_count": 3,
   "metadata": {},
   "outputs": [
    {
     "name": "stdout",
     "output_type": "stream",
     "text": [
      "YF.download() has changed argument auto_adjust default to True\n"
     ]
    },
    {
     "name": "stderr",
     "output_type": "stream",
     "text": [
      "[*********************100%***********************]  1 of 1 completed\n",
      "[*********************100%***********************]  1 of 1 completed\n",
      "[*********************100%***********************]  1 of 1 completed\n",
      "[*********************100%***********************]  1 of 1 completed\n",
      "[*********************100%***********************]  1 of 1 completed\n",
      "[*********************100%***********************]  1 of 1 completed\n",
      "[*********************100%***********************]  1 of 1 completed\n",
      "[*********************100%***********************]  1 of 1 completed\n",
      "[*********************100%***********************]  1 of 1 completed\n"
     ]
    },
    {
     "name": "stdout",
     "output_type": "stream",
     "text": [
      "--Frequency trading using MPT successfully performed--\n"
     ]
    }
   ],
   "source": [
    "# Retrieve data from yf API\n",
    "data = DatRet(ticker_df, \"2022-02-19\", \"2025-02-18\")\n",
    "data.retrieve_data()\n",
    "\n",
    "# Generate benchmark weights thorugh MPT using Sharpe ratio\n",
    "benchmark = MPT(data.returns, 252,10)\n",
    "benchmark.frequency_optimizing()"
   ]
  },
  {
   "cell_type": "code",
   "execution_count": 4,
   "metadata": {},
   "outputs": [],
   "source": [
    "flat_series_list = [series for row in data.returns for series in row]\n",
    "df = pd.concat(flat_series_list,axis=1)"
   ]
  },
  {
   "cell_type": "code",
   "execution_count": 5,
   "metadata": {},
   "outputs": [
    {
     "data": {
      "text/html": [
       "<div>\n",
       "<style scoped>\n",
       "    .dataframe tbody tr th:only-of-type {\n",
       "        vertical-align: middle;\n",
       "    }\n",
       "\n",
       "    .dataframe tbody tr th {\n",
       "        vertical-align: top;\n",
       "    }\n",
       "\n",
       "    .dataframe thead th {\n",
       "        text-align: right;\n",
       "    }\n",
       "</style>\n",
       "<table border=\"1\" class=\"dataframe\">\n",
       "  <thead>\n",
       "    <tr style=\"text-align: right;\">\n",
       "      <th>Ticker</th>\n",
       "      <th>AKRBP.OL</th>\n",
       "      <th>EQNR.OL</th>\n",
       "      <th>ODL.OL</th>\n",
       "      <th>NHY.OL</th>\n",
       "      <th>NSKOG.OL</th>\n",
       "      <th>RANA.OL</th>\n",
       "      <th>LSG.OL</th>\n",
       "      <th>MOWI.OL</th>\n",
       "      <th>ORK.OL</th>\n",
       "    </tr>\n",
       "    <tr>\n",
       "      <th>Date</th>\n",
       "      <th></th>\n",
       "      <th></th>\n",
       "      <th></th>\n",
       "      <th></th>\n",
       "      <th></th>\n",
       "      <th></th>\n",
       "      <th></th>\n",
       "      <th></th>\n",
       "      <th></th>\n",
       "    </tr>\n",
       "  </thead>\n",
       "  <tbody>\n",
       "    <tr>\n",
       "      <th>2025-02-04</th>\n",
       "      <td>0.980482</td>\n",
       "      <td>0.983981</td>\n",
       "      <td>0.996774</td>\n",
       "      <td>0.994878</td>\n",
       "      <td>1.005080</td>\n",
       "      <td>0.987688</td>\n",
       "      <td>1.017757</td>\n",
       "      <td>0.998175</td>\n",
       "      <td>1.006816</td>\n",
       "    </tr>\n",
       "    <tr>\n",
       "      <th>2025-02-05</th>\n",
       "      <td>0.982857</td>\n",
       "      <td>1.042989</td>\n",
       "      <td>0.996785</td>\n",
       "      <td>1.004236</td>\n",
       "      <td>0.984988</td>\n",
       "      <td>0.993206</td>\n",
       "      <td>0.997204</td>\n",
       "      <td>1.007816</td>\n",
       "      <td>1.000975</td>\n",
       "    </tr>\n",
       "    <tr>\n",
       "      <th>2025-02-06</th>\n",
       "      <td>1.008230</td>\n",
       "      <td>1.013701</td>\n",
       "      <td>1.013029</td>\n",
       "      <td>0.963838</td>\n",
       "      <td>1.025663</td>\n",
       "      <td>1.004093</td>\n",
       "      <td>0.993519</td>\n",
       "      <td>1.005083</td>\n",
       "      <td>0.989392</td>\n",
       "    </tr>\n",
       "    <tr>\n",
       "      <th>2025-02-07</th>\n",
       "      <td>0.991837</td>\n",
       "      <td>0.994512</td>\n",
       "      <td>0.998374</td>\n",
       "      <td>1.011803</td>\n",
       "      <td>1.140488</td>\n",
       "      <td>0.985215</td>\n",
       "      <td>1.003717</td>\n",
       "      <td>1.002780</td>\n",
       "      <td>1.000000</td>\n",
       "    </tr>\n",
       "    <tr>\n",
       "      <th>2025-02-10</th>\n",
       "      <td>0.973381</td>\n",
       "      <td>0.969541</td>\n",
       "      <td>0.993538</td>\n",
       "      <td>1.008631</td>\n",
       "      <td>0.990338</td>\n",
       "      <td>1.001346</td>\n",
       "      <td>0.997220</td>\n",
       "      <td>0.993097</td>\n",
       "      <td>0.994247</td>\n",
       "    </tr>\n",
       "    <tr>\n",
       "      <th>2025-02-11</th>\n",
       "      <td>0.977096</td>\n",
       "      <td>0.968028</td>\n",
       "      <td>0.979430</td>\n",
       "      <td>1.023142</td>\n",
       "      <td>1.013712</td>\n",
       "      <td>1.008141</td>\n",
       "      <td>0.996307</td>\n",
       "      <td>0.992691</td>\n",
       "      <td>0.998086</td>\n",
       "    </tr>\n",
       "    <tr>\n",
       "      <th>2025-02-12</th>\n",
       "      <td>1.034123</td>\n",
       "      <td>1.043172</td>\n",
       "      <td>0.992151</td>\n",
       "      <td>0.999696</td>\n",
       "      <td>1.000000</td>\n",
       "      <td>1.008208</td>\n",
       "      <td>1.005571</td>\n",
       "      <td>1.012020</td>\n",
       "      <td>1.011617</td>\n",
       "    </tr>\n",
       "    <tr>\n",
       "      <th>2025-02-13</th>\n",
       "      <td>1.015077</td>\n",
       "      <td>1.048842</td>\n",
       "      <td>1.007911</td>\n",
       "      <td>0.984417</td>\n",
       "      <td>0.901943</td>\n",
       "      <td>0.979893</td>\n",
       "      <td>0.984461</td>\n",
       "      <td>0.985421</td>\n",
       "      <td>0.951197</td>\n",
       "    </tr>\n",
       "    <tr>\n",
       "      <th>2025-02-14</th>\n",
       "      <td>0.998779</td>\n",
       "      <td>0.997090</td>\n",
       "      <td>1.000000</td>\n",
       "      <td>1.013977</td>\n",
       "      <td>0.952061</td>\n",
       "      <td>0.984169</td>\n",
       "      <td>0.989150</td>\n",
       "      <td>0.986517</td>\n",
       "      <td>1.010233</td>\n",
       "    </tr>\n",
       "    <tr>\n",
       "      <th>2025-02-17</th>\n",
       "      <td>1.006479</td>\n",
       "      <td>1.019988</td>\n",
       "      <td>0.985959</td>\n",
       "      <td>0.974822</td>\n",
       "      <td>1.033913</td>\n",
       "      <td>1.000000</td>\n",
       "      <td>1.006369</td>\n",
       "      <td>1.006787</td>\n",
       "      <td>0.995370</td>\n",
       "    </tr>\n",
       "  </tbody>\n",
       "</table>\n",
       "</div>"
      ],
      "text/plain": [
       "Ticker      AKRBP.OL   EQNR.OL    ODL.OL    NHY.OL  NSKOG.OL   RANA.OL  \\\n",
       "Date                                                                     \n",
       "2025-02-04  0.980482  0.983981  0.996774  0.994878  1.005080  0.987688   \n",
       "2025-02-05  0.982857  1.042989  0.996785  1.004236  0.984988  0.993206   \n",
       "2025-02-06  1.008230  1.013701  1.013029  0.963838  1.025663  1.004093   \n",
       "2025-02-07  0.991837  0.994512  0.998374  1.011803  1.140488  0.985215   \n",
       "2025-02-10  0.973381  0.969541  0.993538  1.008631  0.990338  1.001346   \n",
       "2025-02-11  0.977096  0.968028  0.979430  1.023142  1.013712  1.008141   \n",
       "2025-02-12  1.034123  1.043172  0.992151  0.999696  1.000000  1.008208   \n",
       "2025-02-13  1.015077  1.048842  1.007911  0.984417  0.901943  0.979893   \n",
       "2025-02-14  0.998779  0.997090  1.000000  1.013977  0.952061  0.984169   \n",
       "2025-02-17  1.006479  1.019988  0.985959  0.974822  1.033913  1.000000   \n",
       "\n",
       "Ticker        LSG.OL   MOWI.OL    ORK.OL  \n",
       "Date                                      \n",
       "2025-02-04  1.017757  0.998175  1.006816  \n",
       "2025-02-05  0.997204  1.007816  1.000975  \n",
       "2025-02-06  0.993519  1.005083  0.989392  \n",
       "2025-02-07  1.003717  1.002780  1.000000  \n",
       "2025-02-10  0.997220  0.993097  0.994247  \n",
       "2025-02-11  0.996307  0.992691  0.998086  \n",
       "2025-02-12  1.005571  1.012020  1.011617  \n",
       "2025-02-13  0.984461  0.985421  0.951197  \n",
       "2025-02-14  0.989150  0.986517  1.010233  \n",
       "2025-02-17  1.006369  1.006787  0.995370  "
      ]
     },
     "execution_count": 5,
     "metadata": {},
     "output_type": "execute_result"
    }
   ],
   "source": [
    "df.tail(10)"
   ]
  },
  {
   "cell_type": "code",
   "execution_count": 12,
   "metadata": {},
   "outputs": [
    {
     "data": {
      "text/plain": [
       "array([[0.08864726, 0.08528474, 0.05065378, 0.03385956, 0.02463224,\n",
       "        0.13748145, 0.00888714, 0.28671418, 0.28383964],\n",
       "       [0.08758808, 0.0851394 , 0.05111089, 0.03416971, 0.02462279,\n",
       "        0.13692387, 0.00917364, 0.2864716 , 0.28480002],\n",
       "       [0.09500145, 0.07830182, 0.04853153, 0.03360395, 0.02513368,\n",
       "        0.13915771, 0.01029026, 0.28550516, 0.28447446],\n",
       "       [0.09660061, 0.07744091, 0.04791983, 0.03457229, 0.02459559,\n",
       "        0.1391249 , 0.01048997, 0.28383968, 0.28541622],\n",
       "       [0.09940603, 0.07596706, 0.04646623, 0.03549567, 0.02375778,\n",
       "        0.14112763, 0.01108933, 0.28099798, 0.28569228],\n",
       "       [0.09696117, 0.07470732, 0.04768967, 0.03997647, 0.02318618,\n",
       "        0.14059603, 0.01619748, 0.27639633, 0.28428935],\n",
       "       [0.08157242, 0.09407492, 0.0475911 , 0.04429612, 0.02233795,\n",
       "        0.13659367, 0.01545903, 0.27701294, 0.28106185],\n",
       "       [0.07793016, 0.09122488, 0.04763484, 0.0444199 , 0.01390184,\n",
       "        0.12565151, 0.0149832 , 0.25908158, 0.32517208],\n",
       "       [0.06563348, 0.11550156, 0.04989016, 0.04519327, 0.00788363,\n",
       "        0.12488679, 0.01661532, 0.26212642, 0.31226936]])"
      ]
     },
     "execution_count": 12,
     "metadata": {},
     "output_type": "execute_result"
    }
   ],
   "source": [
    "daily_ben_weights"
   ]
  },
  {
   "cell_type": "code",
   "execution_count": 11,
   "metadata": {},
   "outputs": [
    {
     "data": {
      "text/plain": [
       "[<matplotlib.lines.Line2D at 0x2843f0cfb10>]"
      ]
     },
     "execution_count": 11,
     "metadata": {},
     "output_type": "execute_result"
    },
    {
     "data": {
      "image/png": "[encoded data removed]",
      "text/plain": [
       "<Figure size 640x480 with 1 Axes>"
      ]
     },
     "metadata": {},
     "output_type": "display_data"
    }
   ],
   "source": [
    "daily_returns = []\n",
    "for time in range(1,10,1):\n",
    "    ind_day_ret = np.array([data.returns[i][j].iloc[-time].iloc[0] for i in  range(3) for j in range(3)]) -1\n",
    "    daily_returns.append(ind_day_ret[::])\n",
    "daily_returns = daily_returns[::-1]\n",
    "\n",
    "daily_ben_weights = benchmark.frequency_weights[:-1]\n",
    "daily_ben_weights = np.array([np.array(benchmark.frequency_weights[i][0]) for i in range(len(benchmark.frequency_weights))])[:-1]\n",
    "daily_exp_weights = np.repeat(1/9,9)\n",
    "\n",
    "\n",
    "# rl_perf = [daily_ben_weights[time]@daily_returns[time] for time in range(9)]\n",
    "rl_perf = [sum(daily_ben_weights[time]*daily_returns[time]) for time in range(9)]\n",
    "\n",
    "# mpt_perf = [daily_exp_weights@daily_returns[time] for time in range(9)]\n",
    "mpt_perf = [sum(daily_exp_weights*daily_returns[time]) for time in range(9)]\n",
    "\n",
    "# excess_ret = [(rl_perf[time]-mpt_perf[time])/rl_perf[time] for time in range(9)]\n",
    "excess_ret = [rl_perf[time] - mpt_perf[time] for time in range(9)]\n",
    "\n",
    "plt.plot(excess_ret)"
   ]
  },
  {
   "cell_type": "code",
   "execution_count": 42,
   "metadata": {},
   "outputs": [],
   "source": [
    "bitch = []\n",
    "for i in range(0, 9, 1):\n",
    "    bitch.append(daily_exp_weights)"
   ]
  },
  {
   "cell_type": "code",
   "execution_count": 44,
   "metadata": {},
   "outputs": [],
   "source": [
    "daily_exp_weights = bitch"
   ]
  },
  {
   "cell_type": "code",
   "execution_count": null,
   "metadata": {},
   "outputs": [],
   "source": [
    "def bhb_attribution(daily_returns, daily_ben_weights, daily_exp_weights):\n",
    "    \"\"\"\n",
    "    Calculates the Brinson, Hood, and Beebower (BHB) attribution effects: allocation, selection, and interaction.\n",
    "    \n",
    "    Parameters:\n",
    "    - daily_returns: list of np.arrays, each of shape (9,), daily returns for 9 stocks.\n",
    "    - daily_ben_weights: list of np.arrays, each of shape (9,), benchmark weights for 9 stocks.\n",
    "    - daily_exp_weights: list of np.arrays, each of shape (9,), portfolio weights for 9 stocks.\n",
    "    \n",
    "    Returns:\n",
    "    - allocation_effect: np.array of shape (time, 3), allocation effect per sector.\n",
    "    - selection_effect: np.array of shape (time, 3), selection effect per sector.\n",
    "    - interaction_effect: np.array of shape (time, 3), interaction effect per sector.\n",
    "    - total_excess_return: np.array of shape (time,), total excess return per day.\n",
    "    \"\"\"\n",
    "    num_sectors = 3\n",
    "    stocks_per_sector = 3\n",
    "    \n",
    "    # Convert lists to NumPy arrays\n",
    "    daily_returns = np.array(daily_returns)\n",
    "    daily_ben_weights = np.array(daily_ben_weights)\n",
    "    daily_exp_weights = np.array(daily_exp_weights)\n",
    "    \n",
    "    # Initialize effect arrays\n",
    "    allocation_effect = np.zeros((daily_returns.shape[0], num_sectors))\n",
    "    selection_effect = np.zeros((daily_returns.shape[0], num_sectors))\n",
    "    interaction_effect = np.zeros((daily_returns.shape[0], num_sectors))\n",
    "    \n",
    "    # Compute attribution effects per sector\n",
    "    for i in range(num_sectors):\n",
    "        wb = np.sum(daily_ben_weights[:, i*stocks_per_sector:(i+1)*stocks_per_sector], axis=1)\n",
    "        we = np.sum(daily_exp_weights[:, i*stocks_per_sector:(i+1)*stocks_per_sector], axis=1)\n",
    "        rb = np.sum(daily_ben_weights[:, i*stocks_per_sector:(i+1)*stocks_per_sector] * daily_returns[:, i*stocks_per_sector:(i+1)*stocks_per_sector], axis=1)\n",
    "        re = np.sum(daily_exp_weights[:, i*stocks_per_sector:(i+1)*stocks_per_sector] * daily_returns[:, i*stocks_per_sector:(i+1)*stocks_per_sector], axis=1)\n",
    "        \n",
    "        allocation_effect[:, i] = rb * (we - wb)\n",
    "        selection_effect[:, i] = wb * (re - rb)\n",
    "        interaction_effect[:, i] = (we - wb) * (re - rb)\n",
    "    \n",
    "    total_excess_return = np.sum(allocation_effect + selection_effect + interaction_effect, axis=1)\n",
    "    \n",
    "    return allocation_effect, selection_effect, interaction_effect, total_excess_return\n"
   ]
  },
  {
   "cell_type": "code",
   "execution_count": 46,
   "metadata": {},
   "outputs": [],
   "source": [
    "rix = bhb_attribution(daily_returns, daily_ben_weights, daily_exp_weights)"
   ]
  },
  {
   "cell_type": "code",
   "execution_count": 47,
   "metadata": {},
   "outputs": [
    {
     "data": {
      "text/plain": [
       "(array([[ 2.15725187e-04, -1.59384791e-04, -6.13489113e-04],\n",
       "        [ 2.79578696e-04, -5.96670846e-06,  4.01380070e-04],\n",
       "        [-1.43183869e-04,  2.53289614e-04, -2.05466484e-04],\n",
       "        [-5.83569436e-04,  3.34902738e-05,  8.94576797e-04],\n",
       "        [-6.31205936e-04,  3.05282499e-04,  6.45731328e-04],\n",
       "        [ 7.02033408e-04,  1.47951632e-04, -1.63545923e-03],\n",
       "        [ 6.82724855e-04, -7.32125102e-04,  4.32248279e-03],\n",
       "        [-4.20316677e-05, -3.03915322e-04,  8.73431180e-05],\n",
       "        [ 2.08035962e-04, -1.35249813e-04, -1.13193642e-04]]),\n",
       " array([[ 1.19197993e-04, -1.55186631e-04, -1.05845454e-03],\n",
       "        [ 2.97976304e-04, -1.30830193e-04,  1.68509678e-04],\n",
       "        [-9.16905020e-05,  2.65343180e-03, -6.38753017e-05],\n",
       "        [-4.04003535e-04, -4.22364948e-05,  1.11038242e-03],\n",
       "        [-6.03717687e-04,  5.41700382e-04,  6.97055154e-04],\n",
       "        [ 3.41464128e-04, -5.37227811e-05, -2.00164303e-03],\n",
       "        [ 3.97361102e-04, -1.87651808e-03,  5.29161306e-03],\n",
       "        [-2.13301763e-05, -6.43500942e-04, -7.42004791e-04],\n",
       "        [-1.50785612e-04,  3.27649435e-04,  3.00336929e-04]]),\n",
       " array([[ 5.77173181e-05, -1.08772227e-04,  4.49560438e-04],\n",
       "        [ 1.45761002e-04, -9.19925699e-05, -7.17393239e-05],\n",
       "        [-4.60854538e-05,  1.81598777e-03,  2.71824315e-05],\n",
       "        [-2.02714002e-04, -2.87637296e-05, -4.71951873e-04],\n",
       "        [-3.03421869e-04,  3.59416594e-04, -2.94909212e-04],\n",
       "        [ 1.77419580e-04, -3.41635065e-05,  8.45058150e-04],\n",
       "        [ 1.95967264e-04, -1.20133955e-03, -2.21616930e-03],\n",
       "        [-1.14668272e-05, -5.22431173e-04,  3.29254935e-04],\n",
       "        [-6.67745140e-05,  2.86051446e-04, -1.30945341e-04]]),\n",
       " array([-0.00125309,  0.00099268,  0.00419959,  0.00030521,  0.00071593,\n",
       "        -0.00151106,  0.004864  , -0.00187008,  0.00052512]))"
      ]
     },
     "execution_count": 47,
     "metadata": {},
     "output_type": "execute_result"
    }
   ],
   "source": [
    "rix"
   ]
  },
  {
   "cell_type": "code",
   "execution_count": null,
   "metadata": {},
   "outputs": [],
   "source": [
    "def calculate_bhb(daily_ben_weights, daily_returns, daily_exp_weights):\n",
    "    \"\"\"\n",
    "    Calculate Brinson, Hood, and Beebower (BHB) attribution model.\n",
    "\n",
    "    Args:\n",
    "        daily_ben_weights (list): List of 9 benchmark weights.\n",
    "        daily_returns (list): List of 9 daily returns.\n",
    "        daily_exp_weights (list): List of 9 experimental portfolio weights.\n",
    "\n",
    "    Returns:\n",
    "        tuple: Allocation effect, selection effect, interaction effect, and total excess return.\n",
    "    \"\"\"\n",
    "    allocation_effect = 0\n",
    "    selection_effect = 0\n",
    "    interaction_effect = 0\n",
    "    \n",
    "    # Divide portfolio into 3 sectors (0:3, 3:6, 6:9)\n",
    "    for i in range(3):\n",
    "        wb = sum(daily_ben_weights[0][i*3:(i+1)*3])\n",
    "        we = sum(daily_exp_weights[i*3:(i+1)*3])\n",
    "        rb = sum(np.array(daily_ben_weights[0][i*3:(i+1)*3]) * np.array(daily_returns[0][i*3:(i+1)*3]))\n",
    "        re = sum(np.array(daily_exp_weights[i*3:(i+1)*3]) * np.array(daily_returns[0][i*3:(i+1)*3]))\n",
    "        \n",
    "        allocation_effect += rb * (we - wb)  # Allocation Effect\n",
    "        selection_effect += wb * (re - rb)  # Selection Effect\n",
    "        interaction_effect += (we - wb) * (re - rb)  # Interaction Effect\n",
    "    \n",
    "    total_excess_return = allocation_effect + selection_effect + interaction_effect\n",
    "    \n",
    "    return allocation_effect, selection_effect, interaction_effect, total_excess_return\n"
   ]
  },
  {
   "cell_type": "code",
   "execution_count": 95,
   "metadata": {},
   "outputs": [],
   "source": [
    "fox = calculate_bhb(daily_ben_weights,daily_returns, daily_exp_weights)"
   ]
  },
  {
   "cell_type": "code",
   "execution_count": 96,
   "metadata": {},
   "outputs": [
    {
     "data": {
      "text/plain": [
       "(np.float64(-0.0005328568492038127),\n",
       " np.float64(-0.0011743012428612075),\n",
       " np.float64(0.00036851326751202317),\n",
       " np.float64(-0.001338644824552997))"
      ]
     },
     "execution_count": 96,
     "metadata": {},
     "output_type": "execute_result"
    }
   ],
   "source": [
    "fox"
   ]
  },
  {
   "cell_type": "code",
   "execution_count": 97,
   "metadata": {},
   "outputs": [
    {
     "data": {
      "text/plain": [
       "np.float64(-0.001338644824552997)"
      ]
     },
     "execution_count": 97,
     "metadata": {},
     "output_type": "execute_result"
    }
   ],
   "source": [
    "sum(fox[:3])"
   ]
  },
  {
   "cell_type": "code",
   "execution_count": 98,
   "metadata": {},
   "outputs": [
    {
     "name": "stdout",
     "output_type": "stream",
     "text": [
      "-0.006934288266357137\n",
      "0.0015404291477781572\n",
      "-0.009500069902821807\n",
      "-0.00014893929021400786\n"
     ]
    }
   ],
   "source": [
    "wb1 = np.sum(daily_ben_weights[0][:3])\n",
    "we1 = np.sum(daily_exp_weights[:3])\n",
    "rb1 = np.dot(daily_ben_weights[0][:3], daily_returns[0][:3])\n",
    "re1 = np.dot(daily_exp_weights[:3], daily_returns[0][:3])\n",
    "\n",
    "wb2 = np.sum(daily_ben_weights[0][3:6])\n",
    "we2 = np.sum(daily_exp_weights[3:6])\n",
    "rb2 = np.dot(daily_ben_weights[0][:3], daily_returns[0][3:6])\n",
    "re2 = np.dot(daily_exp_weights[:3], daily_returns[0][3:6])\n",
    "\n",
    "\n",
    "wb3 = np.sum(daily_ben_weights[0][6:9])\n",
    "we3 = np.sum(daily_exp_weights[6:9])\n",
    "rb3 = np.dot(daily_ben_weights[0][:3], daily_returns[0][6:9])\n",
    "re3 = np.dot(daily_exp_weights[:3], daily_returns[0][6:9])\n",
    "\n",
    "# Allocations:\n",
    "ae1 = rb1*(we1-wb1)\n",
    "ae2 = rb2*(we2-wb2)\n",
    "ae3 = rb3*(we3-wb3)\n",
    "allocation = ae1+ae2+ae3\n",
    "\n",
    "# Selections:\n",
    "se1 = wb1*(re1-rb1)\n",
    "se2 = wb2*(re2-rb2)\n",
    "se3 = wb3*(re3-rb3)\n",
    "selection = se1+se2+se3\n",
    "\n",
    "# Interaction:\n",
    "ie1 = (we1-wb1)*(re1-rb1)\n",
    "ie2 = (we2-wb2)*(re2-rb2)\n",
    "ie3 = (we3-wb3)*(re3-rb3)\n",
    "interaction = ie1 + ie2+ ie3\n",
    "\n",
    "print(allocation*100)\n",
    "print(selection*100)\n",
    "print(interaction*100)\n",
    "delta=allocation+selection+interaction\n",
    "print(delta)"
   ]
  },
  {
   "cell_type": "code",
   "execution_count": 99,
   "metadata": {},
   "outputs": [
    {
     "data": {
      "text/plain": [
       "(np.float64(-0.0005328568492038127),\n",
       " np.float64(-0.0011743012428612075),\n",
       " np.float64(0.00036851326751202317),\n",
       " np.float64(-0.001338644824552997))"
      ]
     },
     "execution_count": 99,
     "metadata": {},
     "output_type": "execute_result"
    }
   ],
   "source": [
    "fox"
   ]
  },
  {
   "cell_type": "code",
   "execution_count": 100,
   "metadata": {},
   "outputs": [
    {
     "name": "stdout",
     "output_type": "stream",
     "text": [
      "-1.000148939290214\n",
      "1.0024173639260476\n"
     ]
    }
   ],
   "source": [
    "print(delta-1)\n",
    "print(excess_ret[0]+1)"
   ]
  },
  {
   "cell_type": "code",
   "execution_count": 101,
   "metadata": {},
   "outputs": [],
   "source": [
    "# class BHBAnalyzer():\n",
    "    \n",
    "#     def __init__(self, \n",
    "#                  benchmark_data=None,\n",
    "#                  experiment_data=None,\n",
    "#                  raw_data=None\n",
    "#                  ):\n",
    "#         \"\"\"\n",
    "#         Args:\n",
    "#             benchmark_data: NxM list from MPT\n",
    "#             experiment_data: NxM list from RL    \n",
    "#         \"\"\"\n",
    "#         self.benchmark_data =  benchmark_data\n",
    "#         self.experiment_data = experiment_data\n",
    "#         self.raw_data = raw_data\n",
    "\n",
    "#     def frequency_analyze():\n",
    "#         pass"
   ]
  },
  {
   "cell_type": "code",
   "execution_count": null,
   "metadata": {},
   "outputs": [],
   "source": []
  },
  {
   "cell_type": "code",
   "execution_count": null,
   "metadata": {},
   "outputs": [],
   "source": []
  },
  {
   "cell_type": "code",
   "execution_count": null,
   "metadata": {},
   "outputs": [],
   "source": []
  },
  {
   "cell_type": "code",
   "execution_count": null,
   "metadata": {},
   "outputs": [],
   "source": []
  },
  {
   "cell_type": "code",
   "execution_count": null,
   "metadata": {},
   "outputs": [],
   "source": []
  }
 ],
 "metadata": {
  "kernelspec": {
   "display_name": "MyVenv",
   "language": "python",
   "name": "python3"
  },
  "language_info": {
   "codemirror_mode": {
    "name": "ipython",
    "version": 3
   },
   "file_extension": ".py",
   "mimetype": "text/x-python",
   "name": "python",
   "nbconvert_exporter": "python",
   "pygments_lexer": "ipython3",
   "version": "3.11.8"
  }
 },
 "nbformat": 4,
 "nbformat_minor": 2
}
