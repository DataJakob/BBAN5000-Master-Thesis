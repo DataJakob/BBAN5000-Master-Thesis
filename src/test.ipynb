{
 "cells": [
  {
   "cell_type": "code",
   "execution_count": 1,
   "metadata": {},
   "outputs": [],
   "source": [
    "import numpy as np\n",
    "import pandas as pd \n",
    "import matplotlib.pyplot as plt\n",
    "\n",
    "import yfinance as yf\n",
    "\n",
    "from scipy.optimize import Bounds\n",
    "from scipy.optimize import LinearConstraint\n",
    "from scipy.optimize import minimize\n",
    "\n",
    "from Data_Retriever import DataRetriever as DatRet\n",
    "from Markowitz_PT import MarkowitzPT as MPT"
   ]
  },
  {
   "cell_type": "markdown",
   "metadata": {},
   "source": [
    "<h1> Stock pool </h1>"
   ]
  },
  {
   "cell_type": "code",
   "execution_count": 2,
   "metadata": {},
   "outputs": [
    {
     "data": {
      "text/html": [
       "<div>\n",
       "<style scoped>\n",
       "    .dataframe tbody tr th:only-of-type {\n",
       "        vertical-align: middle;\n",
       "    }\n",
       "\n",
       "    .dataframe tbody tr th {\n",
       "        vertical-align: top;\n",
       "    }\n",
       "\n",
       "    .dataframe thead th {\n",
       "        text-align: right;\n",
       "    }\n",
       "</style>\n",
       "<table border=\"1\" class=\"dataframe\">\n",
       "  <thead>\n",
       "    <tr style=\"text-align: right;\">\n",
       "      <th></th>\n",
       "      <th>Petroleum</th>\n",
       "      <th>Materials</th>\n",
       "      <th>Food</th>\n",
       "    </tr>\n",
       "  </thead>\n",
       "  <tbody>\n",
       "    <tr>\n",
       "      <th>0</th>\n",
       "      <td>AKRBP.OL</td>\n",
       "      <td>NHY.OL</td>\n",
       "      <td>LSG.OL</td>\n",
       "    </tr>\n",
       "    <tr>\n",
       "      <th>1</th>\n",
       "      <td>EQNR.OL</td>\n",
       "      <td>NSKOG.OL</td>\n",
       "      <td>MOWI.OL</td>\n",
       "    </tr>\n",
       "    <tr>\n",
       "      <th>2</th>\n",
       "      <td>ODL.OL</td>\n",
       "      <td>RANA.OL</td>\n",
       "      <td>ORK.OL</td>\n",
       "    </tr>\n",
       "  </tbody>\n",
       "</table>\n",
       "</div>"
      ],
      "text/plain": [
       "  Petroleum Materials     Food\n",
       "0  AKRBP.OL    NHY.OL   LSG.OL\n",
       "1   EQNR.OL  NSKOG.OL  MOWI.OL\n",
       "2    ODL.OL   RANA.OL   ORK.OL"
      ]
     },
     "execution_count": 2,
     "metadata": {},
     "output_type": "execute_result"
    }
   ],
   "source": [
    "# Defining stock pool\n",
    "ticker_df =  pd.DataFrame()\n",
    "ticker_df[\"Petroleum\"] = [\"AKRBP.OL\", \"EQNR.OL\", \"ODL.OL\"]\n",
    "ticker_df[\"Materials\"] = [\"NHY.OL\", \"NSKOG.OL\", \"RANA.OL\"]\n",
    "ticker_df[\"Food\"] = [\"LSG.OL\", \"MOWI.OL\", \"ORK.OL\"]\n",
    "ticker_df"
   ]
  },
  {
   "cell_type": "code",
   "execution_count": 3,
   "metadata": {},
   "outputs": [
    {
     "name": "stdout",
     "output_type": "stream",
     "text": [
      "YF.download() has changed argument auto_adjust default to True\n"
     ]
    },
    {
     "name": "stderr",
     "output_type": "stream",
     "text": [
      "[*********************100%***********************]  1 of 1 completed\n",
      "[*********************100%***********************]  1 of 1 completed\n",
      "[*********************100%***********************]  1 of 1 completed\n",
      "[*********************100%***********************]  1 of 1 completed\n",
      "[*********************100%***********************]  1 of 1 completed\n",
      "[*********************100%***********************]  1 of 1 completed\n",
      "[*********************100%***********************]  1 of 1 completed\n",
      "[*********************100%***********************]  1 of 1 completed\n",
      "[*********************100%***********************]  1 of 1 completed\n"
     ]
    },
    {
     "name": "stdout",
     "output_type": "stream",
     "text": [
      "--Frequency trading using MPT successfully performed--\n"
     ]
    }
   ],
   "source": [
    "# Retrieve data from yf API\n",
    "data = DatRet(ticker_df, \"2022-02-19\", \"2025-02-18\")\n",
    "data.retrieve_data()\n",
    "\n",
    "# Generate benchmark weights thorugh MPT using Sharpe ratio\n",
    "benchmark = MPT(data.returns, 252,10)\n",
    "benchmark.frequency_optimizing()"
   ]
  },
  {
   "cell_type": "code",
   "execution_count": 182,
   "metadata": {},
   "outputs": [
    {
     "data": {
      "text/plain": [
       "[[array([0.08750636, 0.08685319, 0.05062049, 0.03356369, 0.02446395,\n",
       "         0.13753645, 0.00784514, 0.28776166, 0.28384907]),\n",
       "  np.float64(0.9995490074844542),\n",
       "  np.float64(0.007902016488263422)],\n",
       " [array([0.08641749, 0.08656199, 0.05116953, 0.03395919, 0.02454255,\n",
       "         0.13698718, 0.00890297, 0.28680767, 0.28465143]),\n",
       "  np.float64(0.9995338601266636),\n",
       "  np.float64(0.007904235096397491)],\n",
       " [array([0.09415713, 0.07953798, 0.04845562, 0.03335031, 0.02503181,\n",
       "         0.13919536, 0.00938098, 0.2864127 , 0.28447811]),\n",
       "  np.float64(0.9995365633159612),\n",
       "  np.float64(0.007903079124818257)],\n",
       " [array([0.09561299, 0.07863206, 0.04797276, 0.03443117, 0.02451307,\n",
       "         0.13916716, 0.01026965, 0.2841104 , 0.28529075]),\n",
       "  np.float64(0.999530637632071),\n",
       "  np.float64(0.007901938579630955)],\n",
       " [array([0.0984474 , 0.07713794, 0.0465302 , 0.03532826, 0.0236925 ,\n",
       "         0.14113579, 0.01087666, 0.2812976 , 0.28555365]),\n",
       "  np.float64(0.9995225549633123),\n",
       "  np.float64(0.007899407449932231)],\n",
       " [array([0.0959733 , 0.07585536, 0.04775677, 0.03985588, 0.0231301 ,\n",
       "         0.14061206, 0.01592478, 0.27671749, 0.28417426]),\n",
       "  np.float64(0.9995128624228979),\n",
       "  np.float64(0.007902164277900832)],\n",
       " [array([0.08035085, 0.0955885 , 0.04766338, 0.04412795, 0.02222377,\n",
       "         0.13659957, 0.01517422, 0.27738561, 0.28088615]),\n",
       "  np.float64(0.9994520223123444),\n",
       "  np.float64(0.007877347240771718)],\n",
       " [array([0.07653483, 0.09285033, 0.04772122, 0.04426047, 0.01381097,\n",
       "         0.12564374, 0.01470067, 0.25946064, 0.32501714]),\n",
       "  np.float64(0.999333821841403),\n",
       "  np.float64(0.007715031604993785)],\n",
       " [array([0.06406788, 0.1173385 , 0.04997197, 0.04495822, 0.00779991,\n",
       "         0.12492548, 0.01632134, 0.26248489, 0.31213181]),\n",
       "  np.float64(0.9992540677055677),\n",
       "  np.float64(0.007783016950755681)],\n",
       " [array([0.06141485, 0.1182663 , 0.05164329, 0.04568881, 0.00757225,\n",
       "         0.12531506, 0.0160315 , 0.26120237, 0.31286557]),\n",
       "  np.float64(0.9992534420764934),\n",
       "  np.float64(0.007782199279626194)]]"
      ]
     },
     "execution_count": 182,
     "metadata": {},
     "output_type": "execute_result"
    }
   ],
   "source": [
    "benchmark.frequency_weights"
   ]
  },
  {
   "cell_type": "code",
   "execution_count": 181,
   "metadata": {},
   "outputs": [
    {
     "data": {
      "text/plain": [
       "[[array([0.08750636, 0.08685319, 0.05062049, 0.03356369, 0.02446395,\n",
       "         0.13753645, 0.00784514, 0.28776166, 0.28384907]),\n",
       "  np.float64(0.9995490074844542),\n",
       "  np.float64(0.007902016488263422)],\n",
       " [array([0.08641749, 0.08656199, 0.05116953, 0.03395919, 0.02454255,\n",
       "         0.13698718, 0.00890297, 0.28680767, 0.28465143]),\n",
       "  np.float64(0.9995338601266636),\n",
       "  np.float64(0.007904235096397491)],\n",
       " [array([0.09415713, 0.07953798, 0.04845562, 0.03335031, 0.02503181,\n",
       "         0.13919536, 0.00938098, 0.2864127 , 0.28447811]),\n",
       "  np.float64(0.9995365633159612),\n",
       "  np.float64(0.007903079124818257)],\n",
       " [array([0.09561299, 0.07863206, 0.04797276, 0.03443117, 0.02451307,\n",
       "         0.13916716, 0.01026965, 0.2841104 , 0.28529075]),\n",
       "  np.float64(0.999530637632071),\n",
       "  np.float64(0.007901938579630955)],\n",
       " [array([0.0984474 , 0.07713794, 0.0465302 , 0.03532826, 0.0236925 ,\n",
       "         0.14113579, 0.01087666, 0.2812976 , 0.28555365]),\n",
       "  np.float64(0.9995225549633123),\n",
       "  np.float64(0.007899407449932231)],\n",
       " [array([0.0959733 , 0.07585536, 0.04775677, 0.03985588, 0.0231301 ,\n",
       "         0.14061206, 0.01592478, 0.27671749, 0.28417426]),\n",
       "  np.float64(0.9995128624228979),\n",
       "  np.float64(0.007902164277900832)],\n",
       " [array([0.08035085, 0.0955885 , 0.04766338, 0.04412795, 0.02222377,\n",
       "         0.13659957, 0.01517422, 0.27738561, 0.28088615]),\n",
       "  np.float64(0.9994520223123444),\n",
       "  np.float64(0.007877347240771718)],\n",
       " [array([0.07653483, 0.09285033, 0.04772122, 0.04426047, 0.01381097,\n",
       "         0.12564374, 0.01470067, 0.25946064, 0.32501714]),\n",
       "  np.float64(0.999333821841403),\n",
       "  np.float64(0.007715031604993785)],\n",
       " [array([0.06406788, 0.1173385 , 0.04997197, 0.04495822, 0.00779991,\n",
       "         0.12492548, 0.01632134, 0.26248489, 0.31213181]),\n",
       "  np.float64(0.9992540677055677),\n",
       "  np.float64(0.007783016950755681)]]"
      ]
     },
     "execution_count": 181,
     "metadata": {},
     "output_type": "execute_result"
    }
   ],
   "source": [
    "chick"
   ]
  },
  {
   "cell_type": "code",
   "execution_count": null,
   "metadata": {},
   "outputs": [],
   "source": [
    "daily_returns = []\n",
    "for time in range(9):\n",
    "    ind_day_ret = np.array([data.returns[i][j].iloc[-time].iloc[0] for i in  range(3) for j in range(3)]) \n",
    "    daily_returns.append(ind_day_ret)\n",
    "\n",
    "\n",
    "daily_ben_weights = benchmark.frequency_weights[:-1]\n",
    "\n",
    "daily_ben_weights = np.array([benchmark.frequency_weights[i][0] for i in range(len(benchmark.frequency_weights))])\n",
    "\n",
    "daily_exp_weights = np.repeat(1/9,9)\n",
    "\n",
    "\n",
    "rl_perf = [daily_ben_weights[time]@daily_returns[time] for time in range(9)]\n",
    "\n",
    "mpt_perf = [daily_exp_weights@daily_returns[time] for time in range(9)]\n",
    "\n",
    "excess_ret = [rl_perf[time]-mpt_perf[time] for time in range(9)]\n",
    "plt.plot(excess_ret)"
   ]
  },
  {
   "cell_type": "code",
   "execution_count": 201,
   "metadata": {},
   "outputs": [
    {
     "data": {
      "text/plain": [
       "[<matplotlib.lines.Line2D at 0x1f39029a510>]"
      ]
     },
     "execution_count": 201,
     "metadata": {},
     "output_type": "execute_result"
    },
    {
     "data": {
      "image/png": "[encoded data removed]",
      "text/plain": [
       "<Figure size 640x480 with 1 Axes>"
      ]
     },
     "metadata": {},
     "output_type": "display_data"
    }
   ],
   "source": [
    "rl_perf = [daily_ben_weights[time]@daily_returns[time] for time in range(9)]\n",
    "\n",
    "mpt_perf = [daily_exp_weights@daily_returns[time] for time in range(9)]\n",
    "\n",
    "excess_ret = [rl_perf[time]-mpt_perf[time] for time in range(9)]\n",
    "plt.plot(excess_ret)"
   ]
  },
  {
   "cell_type": "code",
   "execution_count": null,
   "metadata": {},
   "outputs": [],
   "source": []
  },
  {
   "cell_type": "code",
   "execution_count": null,
   "metadata": {},
   "outputs": [],
   "source": []
  },
  {
   "cell_type": "code",
   "execution_count": null,
   "metadata": {},
   "outputs": [],
   "source": []
  },
  {
   "cell_type": "code",
   "execution_count": null,
   "metadata": {},
   "outputs": [],
   "source": []
  },
  {
   "cell_type": "code",
   "execution_count": null,
   "metadata": {},
   "outputs": [],
   "source": []
  },
  {
   "cell_type": "code",
   "execution_count": null,
   "metadata": {},
   "outputs": [],
   "source": []
  },
  {
   "cell_type": "code",
   "execution_count": null,
   "metadata": {},
   "outputs": [],
   "source": [
    "class BHBAnalyzer():\n",
    "    \n",
    "    def __init__(self, \n",
    "                 benchmark_data=None,\n",
    "                 experiment_data=None,\n",
    "                 raw_data=None\n",
    "                 ):\n",
    "        \"\"\"\n",
    "        Args:\n",
    "            benchmark_data: NxM list from MPT\n",
    "            experiment_data: NxM list from RL    \n",
    "        \"\"\"\n",
    "        self.benchmark_data =  benchmark_data\n",
    "        self.experiment_data = experiment_data\n",
    "        self.raw_data = raw_data\n",
    "\n",
    "    def frequency_analyze():\n",
    "        pass"
   ]
  }
 ],
 "metadata": {
  "kernelspec": {
   "display_name": "MyVenv",
   "language": "python",
   "name": "python3"
  },
  "language_info": {
   "codemirror_mode": {
    "name": "ipython",
    "version": 3
   },
   "file_extension": ".py",
   "mimetype": "text/x-python",
   "name": "python",
   "nbconvert_exporter": "python",
   "pygments_lexer": "ipython3",
   "version": "3.11.8"
  }
 },
 "nbformat": 4,
 "nbformat_minor": 2
}
