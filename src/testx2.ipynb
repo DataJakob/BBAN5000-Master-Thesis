{
 "cells": [
  {
   "cell_type": "markdown",
   "metadata": {},
   "source": [
    "<h1> Draft Master Thesis </h1>\n",
    "Made by Jakob Lindstrøm and Marcus Hjertaas\n",
    "<br>\n",
    "<br>\n",
    "This notebook shows how far we have come with our current work towards the master thesis, in regards of code. We are so to speak finished with data retrieval, Markowitz-algorithm and OGA-model. \n",
    "<br>\n",
    "<br>\n",
    "Exploratory data analysis, reinforcement learning algorithm and a comprehensive result (tables and plot) still remains. \n",
    "\n",
    "<h2> Current Content </h2>\n",
    "We have retrieved data from a stock pool. We have traded thoose stocks with an Markowitz algorithm. We have performed the OGA model to look for allocation and selection effects. Where the benchmark is MPT and our experimental portfolio is a naive portfolio with equal weights (becuase RL is not finished). Lastly we show some plot to visualize how our result section might look like. \n",
    "\n",
    "<h2> Full access </h2>\n",
    "To get full access to all code and modules; contact Jakob Lindstrøm. "
   ]
  },
  {
   "cell_type": "markdown",
   "metadata": {},
   "source": [
    "<h2> 1. Import libraries </h2>"
   ]
  },
  {
   "cell_type": "code",
   "execution_count": 1,
   "metadata": {},
   "outputs": [],
   "source": [
    "import numpy as np\n",
    "import pandas as pd \n",
    "import matplotlib.pyplot as plt\n",
    "\n",
    "import yfinance as yf\n",
    "\n",
    "from scipy.optimize import Bounds\n",
    "from scipy.optimize import LinearConstraint\n",
    "from scipy.optimize import minimize\n",
    "\n",
    "from Data_Retriever import DataRetriever as DatRet\n",
    "from Markowitz_PT import MarkowitzPT as MPT\n",
    "from Menchero_OGA import MencheroOGA as MOGA"
   ]
  },
  {
   "cell_type": "markdown",
   "metadata": {},
   "source": [
    "<h2> 2. Define experimental variables </h2>"
   ]
  },
  {
   "cell_type": "code",
   "execution_count": 2,
   "metadata": {},
   "outputs": [],
   "source": [
    "# Define number of trades\n",
    "trading_n = 10"
   ]
  },
  {
   "cell_type": "code",
   "execution_count": 3,
   "metadata": {},
   "outputs": [
    {
     "data": {
      "text/html": [
       "<div>\n",
       "<style scoped>\n",
       "    .dataframe tbody tr th:only-of-type {\n",
       "        vertical-align: middle;\n",
       "    }\n",
       "\n",
       "    .dataframe tbody tr th {\n",
       "        vertical-align: top;\n",
       "    }\n",
       "\n",
       "    .dataframe thead th {\n",
       "        text-align: right;\n",
       "    }\n",
       "</style>\n",
       "<table border=\"1\" class=\"dataframe\">\n",
       "  <thead>\n",
       "    <tr style=\"text-align: right;\">\n",
       "      <th></th>\n",
       "      <th>Petroleum</th>\n",
       "      <th>Seafood (food)</th>\n",
       "    </tr>\n",
       "  </thead>\n",
       "  <tbody>\n",
       "    <tr>\n",
       "      <th>0</th>\n",
       "      <td>EQNR.OL</td>\n",
       "      <td>ORK.OL</td>\n",
       "    </tr>\n",
       "    <tr>\n",
       "      <th>1</th>\n",
       "      <td>AKRBP.OL</td>\n",
       "      <td>LSG.OL</td>\n",
       "    </tr>\n",
       "  </tbody>\n",
       "</table>\n",
       "</div>"
      ],
      "text/plain": [
       "  Petroleum Seafood (food)\n",
       "0   EQNR.OL         ORK.OL\n",
       "1  AKRBP.OL         LSG.OL"
      ]
     },
     "execution_count": 3,
     "metadata": {},
     "output_type": "execute_result"
    }
   ],
   "source": [
    "# Defining stock pool\n",
    "ticker_df =  pd.DataFrame()\n",
    "ticker_df[\"Petroleum\"] = [\"EQNR.OL\", \"AKRBP.OL\", ]\n",
    "ticker_df[\"Seafood (food)\"] = [\"ORK.OL\", \"LSG.OL\"]\n",
    "# ticker_df[\"Petroleum\"] = [\"EQNR.OL\", \"AKRBP.OL\", \"SUBC.OL\", \"BWO.OL\",]\n",
    "# ticker_df[\"Seafood (food)\"] = [\"ORK.OL\", \"MOWI.OL\", \"SALM.OL\", \"LSG.OL\"]\n",
    "# ticker_df[\"Materials\"] = [\"NHY.OL\", \"YAR.OL\", \"RECSI.OL\", \"BRG.OL\"]\n",
    "# ticker_df[\"Technologies\"] = [\"TEL.OL\", \"NOD.OL\", \"ATEA.OL\", \"BOUV.OL\"]\n",
    "# ticker_df[\"Financial\"] = [\"STB.OL\", \"DNB.OL\", \"GJF.OL\", \"MING.OL\"]\n",
    "# ticker_df[\"Shipping\"] = [\"WAWI.OL\", \"SNI.OL\", \"BELCO.OL\", \"ODF.OL\"]\n",
    "ticker_df"
   ]
  },
  {
   "cell_type": "markdown",
   "metadata": {},
   "source": [
    "<h2> 3. Retrieve data </h2>"
   ]
  },
  {
   "cell_type": "code",
   "execution_count": 4,
   "metadata": {},
   "outputs": [
    {
     "name": "stdout",
     "output_type": "stream",
     "text": [
      "YF.download() has changed argument auto_adjust default to True\n"
     ]
    },
    {
     "name": "stderr",
     "output_type": "stream",
     "text": [
      "[*********************100%***********************]  1 of 1 completed\n",
      "[*********************100%***********************]  1 of 1 completed\n",
      "[*********************100%***********************]  1 of 1 completed\n",
      "[*********************100%***********************]  1 of 1 completed\n"
     ]
    },
    {
     "data": {
      "text/plain": [
       "'--Data retrieved successfully--'"
      ]
     },
     "execution_count": 4,
     "metadata": {},
     "output_type": "execute_result"
    }
   ],
   "source": [
    "# Retrieve data from yf API: y-m-d\n",
    "data = DatRet(ticker_df, \"2012-10-01\", \"2025-02-18\")\n",
    "\n",
    "# In function below, set log=True to check for data availability\n",
    "data.retrieve_data()"
   ]
  },
  {
   "cell_type": "markdown",
   "metadata": {},
   "source": [
    "<h2> 4. Frequency trading using MPT </h2>"
   ]
  },
  {
   "cell_type": "code",
   "execution_count": 5,
   "metadata": {},
   "outputs": [
    {
     "data": {
      "text/plain": [
       "2"
      ]
     },
     "execution_count": 5,
     "metadata": {},
     "output_type": "execute_result"
    }
   ],
   "source": [
    "len(data.returns[0])"
   ]
  },
  {
   "cell_type": "code",
   "execution_count": 6,
   "metadata": {},
   "outputs": [
    {
     "data": {
      "text/plain": [
       "[[array([ 0.        ,  0.00745251, -0.00269005, ...,  0.00272378,\n",
       "          0.00174615, -0.02130544]),\n",
       "  array([ 0.        ,  0.0278075 , -0.01144668, ...,  0.00285713,\n",
       "          0.00529597, -0.01167148])],\n",
       " [array([ 0.        ,  0.00823989,  0.00749156, ..., -0.00921659,\n",
       "          0.00093022,  0.00371749]),\n",
       "  array([ 0.        , -0.01666665,  0.00423723, ...,  0.01096889,\n",
       "         -0.00542494, -0.00090908])]]"
      ]
     },
     "execution_count": 6,
     "metadata": {},
     "output_type": "execute_result"
    }
   ],
   "source": [
    "data.returns"
   ]
  },
  {
   "cell_type": "code",
   "execution_count": 7,
   "metadata": {},
   "outputs": [
    {
     "name": "stdout",
     "output_type": "stream",
     "text": [
      "mat form: 2\n",
      "mat form: 100\n",
      "decvar: [0.25 0.25 0.25 0.25]\n",
      "mat form: 2\n",
      "mat form: 100\n",
      "decvar: [0.25 0.25 0.25 0.25]\n",
      "mat form: 2\n",
      "mat form: 100\n",
      "decvar: [0.25 0.25 0.25 0.25]\n",
      "mat form: 2\n",
      "mat form: 100\n",
      "decvar: [0.25 0.25 0.25 0.25]\n",
      "mat form: 2\n",
      "mat form: 100\n",
      "decvar: [0.25 0.25 0.25 0.25]\n",
      "mat form: 2\n",
      "mat form: 100\n",
      "decvar: [0.25 0.25 0.25 0.25]\n",
      "mat form: 2\n",
      "mat form: 100\n",
      "decvar: [0.25 0.25 0.25 0.25]\n",
      "mat form: 2\n",
      "mat form: 100\n",
      "decvar: [0.25 0.25 0.25 0.25]\n",
      "mat form: 2\n",
      "mat form: 100\n",
      "decvar: [0.25 0.25 0.25 0.25]\n",
      "mat form: 2\n",
      "mat form: 100\n",
      "decvar: [0.25 0.25 0.25 0.25]\n",
      "--Frequency trading using MPT successfully performed--\n"
     ]
    }
   ],
   "source": [
    "# Generate benchmark weights thorugh MPT using Sharpe ratio\n",
    "benchmark = MPT(data.returns, 100, trading_n)\n",
    "# IMPORTANT: In order to see  the effect of the weights, algo exclude last observation from optimization\n",
    "benchmark.frequency_optimizing()"
   ]
  },
  {
   "cell_type": "markdown",
   "metadata": {},
   "source": [
    "<h2> 5. Conduct performance analysis </h2>"
   ]
  },
  {
   "cell_type": "code",
   "execution_count": 8,
   "metadata": {},
   "outputs": [
    {
     "name": "stdout",
     "output_type": "stream",
     "text": [
      "--Frequency analysis performed succesfully--\n"
     ]
    }
   ],
   "source": [
    "# Naive experimental portfolio\n",
    "ew = [np.repeat(1/4, 4) for i in range(10)]\n",
    "# Analysis \n",
    "analysis = MOGA(data.returns, benchmark.frequency_weights, ew)\n",
    "# Frequency analysis\n",
    "analysis.frequency_analyser()"
   ]
  },
  {
   "cell_type": "markdown",
   "metadata": {},
   "source": [
    "<h2> X. Ad-hoc result analysis </h2> "
   ]
  },
  {
   "cell_type": "code",
   "execution_count": 9,
   "metadata": {},
   "outputs": [],
   "source": [
    "#Manual fixing weights\n",
    "bw = [benchmark.frequency_weights[i][0] for i in range(0,10,1)]\n",
    "ew = [np.repeat(1/4, 4) for i in range(10)]\n",
    "\n",
    "# Manual fixing returns\n",
    "return_array =  [pd.Series(stock)+1 for sector in data.returns for stock in sector]\n",
    "return_df = pd.DataFrame(return_array)\n",
    "return_tdf = return_df.T\n",
    "ret = return_tdf[-10:]"
   ]
  },
  {
   "cell_type": "code",
   "execution_count": 10,
   "metadata": {},
   "outputs": [],
   "source": [
    "# Replicate historic geometric returns\n",
    "bg = np.cumprod([bw[i]@ret.iloc[i] for i in range(10)])\n",
    "eg = np.cumprod([ew[i]@ret.iloc[i] for i in range(10)])\n",
    "\n",
    "# Active return\n",
    "active_return = np.cumprod(analysis.allocation_effects*analysis.selection_effects)"
   ]
  },
  {
   "cell_type": "code",
   "execution_count": 11,
   "metadata": {},
   "outputs": [],
   "source": [
    "# Active return, but on portfolio level, not sector level\n",
    "part1 = analysis.allocation_effects[::2] * analysis.allocation_effects[1::2]\n",
    "part2 = analysis.selection_effects[::2] * analysis.selection_effects[1::2]\n",
    "doublecheck = np.cumprod(part1*part2)"
   ]
  },
  {
   "cell_type": "code",
   "execution_count": 12,
   "metadata": {},
   "outputs": [],
   "source": [
    "fig, ax = plt.subplots()\n",
    "ax.plot(bg, color=\"grey\", label=\"Benchmark\")\n",
    "ax.plot(eg, color=\"red\", label=\"Experimental\")\n",
    "ax.plot(np.linspace(0,9,10),doublecheck, \n",
    "        color=\"orange\", label= \"Geometric active return\")\n",
    "# ax.plot(doublecheck*bg, label=\"doublecheck\")\n",
    "ax.set_xlabel(\"Trading operations\")\n",
    "ax.set_ylabel(\"Prc.chg Portfolio\")\n",
    "plt.title(\"Line plot for Proto-Portfolio\")\n",
    "plt.legend()\n",
    "plt.close()"
   ]
  },
  {
   "cell_type": "code",
   "execution_count": 13,
   "metadata": {},
   "outputs": [],
   "source": [
    "aa_petro = [analysis.allocation_effects[i] for i in range(0,20,2) ]\n",
    "aa_seafood = [analysis.allocation_effects[i] for i in range(1,20,2)]\n",
    "as_petro   =[analysis.selection_effects[i] for i in range(0,20,2) ]\n",
    "as_seafood =  [analysis.selection_effects[i] for i in range(1,20,2)]\n",
    "\n",
    "data_arrays = [aa_petro, aa_seafood, as_petro, as_seafood]\n",
    "data_labels = [\"Allo petro\", \"Allo seafood\", \"Sel petro\", \"Sel seafood\"]"
   ]
  },
  {
   "cell_type": "code",
   "execution_count": 14,
   "metadata": {},
   "outputs": [
    {
     "name": "stderr",
     "output_type": "stream",
     "text": [
      "C:\\Users\\Jakob\\AppData\\Local\\Temp\\ipykernel_23624\\1200690117.py:2: MatplotlibDeprecationWarning: The 'labels' parameter of boxplot() has been renamed 'tick_labels' since Matplotlib 3.9; support for the old name will be dropped in 3.11.\n",
      "  ax.boxplot(data_arrays, labels=data_labels)\n"
     ]
    }
   ],
   "source": [
    "fig2, ax = plt.subplots(figsize=(8,5))\n",
    "ax.boxplot(data_arrays, labels=data_labels)\n",
    "plt.title(\"Boxplot for Proto-Portfolio\")\n",
    "plt.xlabel(\"Performance measures\")\n",
    "plt.ylabel(\"Returns\")\n",
    "plt.axhline(y=1, color=\"black\" )\n",
    "plt.close()"
   ]
  },
  {
   "cell_type": "markdown",
   "metadata": {},
   "source": [
    "<h2>Result and Comment Section </h2>"
   ]
  },
  {
   "cell_type": "code",
   "execution_count": 15,
   "metadata": {},
   "outputs": [
    {
     "data": {
      "image/png": "[encoded data removed]",
      "text/plain": [
       "<Figure size 640x480 with 1 Axes>"
      ]
     },
     "execution_count": 15,
     "metadata": {},
     "output_type": "execute_result"
    }
   ],
   "source": [
    "fig"
   ]
  },
  {
   "cell_type": "code",
   "execution_count": 16,
   "metadata": {},
   "outputs": [
    {
     "data": {
      "image/png": "[encoded data removed]",
      "text/plain": [
       "<Figure size 800x500 with 1 Axes>"
      ]
     },
     "execution_count": 16,
     "metadata": {},
     "output_type": "execute_result"
    }
   ],
   "source": [
    "fig2"
   ]
  }
 ],
 "metadata": {
  "kernelspec": {
   "display_name": "MyVenv",
   "language": "python",
   "name": "python3"
  },
  "language_info": {
   "codemirror_mode": {
    "name": "ipython",
    "version": 3
   },
   "file_extension": ".py",
   "mimetype": "text/x-python",
   "name": "python",
   "nbconvert_exporter": "python",
   "pygments_lexer": "ipython3",
   "version": "3.11.8"
  }
 },
 "nbformat": 4,
 "nbformat_minor": 2
}
