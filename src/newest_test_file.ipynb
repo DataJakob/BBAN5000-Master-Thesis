{
 "cells": [
  {
   "cell_type": "markdown",
   "metadata": {},
   "source": [
    "<h1> Main.ipynb </h1>\n",
    "<h2> 1. Import libraries and modules </h2>"
   ]
  },
  {
   "cell_type": "code",
   "execution_count": 1,
   "metadata": {},
   "outputs": [],
   "source": [
    "import numpy as np\n",
    "import pandas as pd \n",
    "import matplotlib.pyplot as plt\n",
    "\n",
    "import yfinance as yf\n",
    "\n",
    "# from scipy.optimize import Bounds\n",
    "# from scipy.optimize import LinearConstraint\n",
    "# from scipy.optimize import minimize\n",
    "\n",
    "from Data_Retriever import DataRetriever as DatRet\n",
    "from Markowitz_PT import MarkowitzPT as MPT\n",
    "from Menchero_OGA import MencheroOGA as MOGA\n",
    "from RL_Algorithm.ThesisEnvironment_copy import PortfolioEnvironment as PorEnv\n",
    "from RL_Algorithm.ThesisModel import RL_Model as RLM\n",
    "from Images import GenerateResult as GR"
   ]
  },
  {
   "cell_type": "markdown",
   "metadata": {},
   "source": [
    "<h2> 2. Define operating variables </h2>"
   ]
  },
  {
   "cell_type": "code",
   "execution_count": 2,
   "metadata": {},
   "outputs": [],
   "source": [
    "# Define necessary non-fixed variables\n",
    "trading_n = 30\n",
    "history_usage = 100\n",
    "n_sectors = 5\n",
    "n_stocks_per_sector = 4\n",
    "\n",
    "# For RL algorithm\n",
    "history_usage_RL = 10\n",
    "# objective = \"Sharpe\""
   ]
  },
  {
   "cell_type": "markdown",
   "metadata": {},
   "source": [
    "<h2> 3. Define stock dataframe </h2>"
   ]
  },
  {
   "cell_type": "code",
   "execution_count": 3,
   "metadata": {},
   "outputs": [
    {
     "data": {
      "text/html": [
       "<div>\n",
       "<style scoped>\n",
       "    .dataframe tbody tr th:only-of-type {\n",
       "        vertical-align: middle;\n",
       "    }\n",
       "\n",
       "    .dataframe tbody tr th {\n",
       "        vertical-align: top;\n",
       "    }\n",
       "\n",
       "    .dataframe thead th {\n",
       "        text-align: right;\n",
       "    }\n",
       "</style>\n",
       "<table border=\"1\" class=\"dataframe\">\n",
       "  <thead>\n",
       "    <tr style=\"text-align: right;\">\n",
       "      <th></th>\n",
       "      <th>Petroleum</th>\n",
       "      <th>Seafood (food)</th>\n",
       "      <th>Technologies</th>\n",
       "      <th>Financial</th>\n",
       "      <th>Shipping</th>\n",
       "    </tr>\n",
       "  </thead>\n",
       "  <tbody>\n",
       "    <tr>\n",
       "      <th>0</th>\n",
       "      <td>EQNR.OL</td>\n",
       "      <td>ORK.OL</td>\n",
       "      <td>TEL.OL</td>\n",
       "      <td>STB.OL</td>\n",
       "      <td>WAWI.OL</td>\n",
       "    </tr>\n",
       "    <tr>\n",
       "      <th>1</th>\n",
       "      <td>AKRBP.OL</td>\n",
       "      <td>MOWI.OL</td>\n",
       "      <td>NOD.OL</td>\n",
       "      <td>DNB.OL</td>\n",
       "      <td>SNI.OL</td>\n",
       "    </tr>\n",
       "    <tr>\n",
       "      <th>2</th>\n",
       "      <td>SUBC.OL</td>\n",
       "      <td>SALM.OL</td>\n",
       "      <td>ATEA.OL</td>\n",
       "      <td>GJF.OL</td>\n",
       "      <td>BELCO.OL</td>\n",
       "    </tr>\n",
       "    <tr>\n",
       "      <th>3</th>\n",
       "      <td>BWO.OL</td>\n",
       "      <td>LSG.OL</td>\n",
       "      <td>BOUV.OL</td>\n",
       "      <td>AKER.OL</td>\n",
       "      <td>ODF.OL</td>\n",
       "    </tr>\n",
       "  </tbody>\n",
       "</table>\n",
       "</div>"
      ],
      "text/plain": [
       "  Petroleum Seafood (food) Technologies Financial  Shipping\n",
       "0   EQNR.OL         ORK.OL       TEL.OL    STB.OL   WAWI.OL\n",
       "1  AKRBP.OL        MOWI.OL       NOD.OL    DNB.OL    SNI.OL\n",
       "2   SUBC.OL        SALM.OL      ATEA.OL    GJF.OL  BELCO.OL\n",
       "3    BWO.OL         LSG.OL      BOUV.OL   AKER.OL    ODF.OL"
      ]
     },
     "execution_count": 3,
     "metadata": {},
     "output_type": "execute_result"
    }
   ],
   "source": [
    "# Defining stock pool\n",
    "ticker_df =  pd.DataFrame()\n",
    "ticker_df[\"Petroleum\"] = [\"EQNR.OL\", \"AKRBP.OL\", \"SUBC.OL\", \"BWO.OL\",]\n",
    "ticker_df[\"Seafood (food)\"] = [\"ORK.OL\", \"MOWI.OL\", \"SALM.OL\", \"LSG.OL\"]\n",
    "# ticker_df[\"Materials\"] = [\"NHY.OL\", \"YAR.OL\", \"RECSI.OL\", \"BRG.OL\"]\n",
    "ticker_df[\"Technologies\"] = [\"TEL.OL\", \"NOD.OL\", \"ATEA.OL\", \"BOUV.OL\"]\n",
    "ticker_df[\"Financial\"] = [\"STB.OL\", \"DNB.OL\", \"GJF.OL\", \"AKER.OL\"]\n",
    "ticker_df[\"Shipping\"] = [\"WAWI.OL\", \"SNI.OL\", \"BELCO.OL\", \"ODF.OL\"]\n",
    "ticker_df"
   ]
  },
  {
   "cell_type": "markdown",
   "metadata": {},
   "source": [
    "<h2> 4. Define ESG array </h2>"
   ]
  },
  {
   "cell_type": "code",
   "execution_count": 4,
   "metadata": {},
   "outputs": [],
   "source": [
    "# Defining ESG scores for respective securities\n",
    "esg_scores = [36.6, 35.3, 17.9, 18, \n",
    "              18, 21.2, 18.7, 29.2, \n",
    "            #   15.7, 25.6, 25.6, 18.4, \n",
    "              19.8, 13.8, 18.1, 19, \n",
    "              17.2, 14, 17.2, 19.5, \n",
    "              19.7, 21.2, 26.8, 19.3]"
   ]
  },
  {
   "cell_type": "markdown",
   "metadata": {},
   "source": [
    "<h2> 5.-7. (Non-necessary for reproducability) </h2>\n",
    "<h3>Data retrieval</h3>\n",
    "<h3>Benchmark optimization (MPT)</h3>\n",
    "<h3>RL optimization x4</h3>\n",
    "<br>\n",
    "All of the data has been generated an stored in csvs. Therefore, I can comment out the code lines below."
   ]
  },
  {
   "cell_type": "code",
   "execution_count": 8,
   "metadata": {},
   "outputs": [],
   "source": [
    "# # Retrieve data from yf API: y-m-d\n",
    "# data = DatRet(ticker_df, \"2013-01-01\", \"2024-01-01\")\n",
    "# # In function below, set log=True to check for data availability\n",
    "# data.retrieve_data()\n",
    "\n",
    "# # Generate benchmark weights thorugh MPT using Sharpe ratio\n",
    "# benchmark = MPT(history_usage, trading_n)\n",
    "# # IMPORTANT: In order to see  the effect of the weights, algo exclude last observation from optimization\n",
    "# benchmark.frequency_optimizing()\n",
    "\n",
    "# Initialize the class\n",
    "# reinforcement = RLM(esg_scores, objective=\"Return\")\n",
    "# reinforcement.train_model()\n",
    "# reinforcement.test_model()\n",
    "# reinforcement = RLM(esg_scores, objective=\"Sharpe\")\n",
    "# reinforcement.train_model()\n",
    "# reinforcement.test_model()\n",
    "# reinforcement = RLM(esg_scores, objective=\"Sortino\")\n",
    "# reinforcement.train_model()\n",
    "# reinforcement.test_model()\n",
    "# reinforcement = RLM(esg_scores, objective=\"Sterling\")\n",
    "# reinforcement.train_model()\n",
    "# reinforcement.test_model()"
   ]
  },
  {
   "cell_type": "markdown",
   "metadata": {},
   "source": [
    "<h2> 8. Attribution analysis </h2>"
   ]
  },
  {
   "cell_type": "code",
   "execution_count": 9,
   "metadata": {},
   "outputs": [
    {
     "name": "stdout",
     "output_type": "stream",
     "text": [
      "--Frequency analysis performed succesfully--\n",
      "Active Return: [0.99724704 0.99276406 0.99374474 0.99790372 1.00105873 0.9935394\n",
      " 0.99121885 0.9885721  0.98723992 0.98921646 0.99237461 0.99276628\n",
      " 0.99556408 0.99483755 0.99555933 1.00683675 1.00553012 1.00683805\n",
      " 1.0076178  1.00848607 1.00864494 1.00972846 1.01023433 1.00891392\n",
      " 1.01187473 1.0045099  1.00761416 1.00056644 1.00019222 0.99789304]\n",
      "--Frequency analysis performed succesfully--\n",
      "Active Return: [0.99609909 0.99216952 0.99325643 0.99828871 1.00084077 0.99395274\n",
      " 0.99243319 0.98983827 0.98669607 0.99009606 0.99257626 0.99414573\n",
      " 0.99698392 0.99526748 0.99666549 1.00654977 1.00519595 1.00699541\n",
      " 1.00771283 1.00751874 1.00739592 1.00756275 1.00707756 1.00661313\n",
      " 1.00885751 1.00360622 1.00697308 0.99945093 0.99881738 0.99567514]\n",
      "--Frequency analysis performed succesfully--\n",
      "Active Return: [0.99548747 0.99155558 0.99522754 1.00119136 1.0066157  0.99951255\n",
      " 0.99820382 0.99510434 0.99305212 0.99442104 0.9977219  1.00091824\n",
      " 1.00467124 1.00743907 1.00521016 1.01518167 1.01453133 1.01951395\n",
      " 1.02185477 1.02020454 1.0202117  1.0194745  1.0172096  1.01623795\n",
      " 1.01823452 1.01620508 1.01897978 1.01466879 1.01276427 1.01096936]\n",
      "--Frequency analysis performed succesfully--\n",
      "Active Return: [0.99672388 0.99264017 0.99424478 0.99866879 1.00121525 0.99427571\n",
      " 0.99201874 0.99003656 0.98794948 0.99124187 0.9947978  0.99426053\n",
      " 0.99675578 0.9962311  0.99709449 1.00662315 1.00530486 1.00713091\n",
      " 1.00777823 1.00856943 1.00871893 1.00946414 1.00947686 1.00871162\n",
      " 1.01094147 1.00431823 1.00733698 1.00089302 1.00053212 0.99772031]\n",
      "----Analysis completed succesfully----\n"
     ]
    }
   ],
   "source": [
    "alfa = GR(n_sectors, n_stocks_per_sector,\n",
    "          trading_n,\n",
    "          esg_scores, \n",
    "          ticker_df.columns)\n",
    "alfa.friple_frequency_analysis()"
   ]
  },
  {
   "cell_type": "code",
   "execution_count": null,
   "metadata": {},
   "outputs": [],
   "source": [
    "# # Portfolio performance attribution analysis\n",
    "# analysis = MOGA(n_sectors, n_stocks_per_sector)\n",
    "\n",
    "# # Frequency analysis\n",
    "# analysis.frequency_analyser()"
   ]
  },
  {
   "cell_type": "markdown",
   "metadata": {},
   "source": [
    "<h2> 9. Ad-hoc Analysis </h2>"
   ]
  },
  {
   "cell_type": "code",
   "execution_count": null,
   "metadata": {},
   "outputs": [],
   "source": [
    "# ew = pd.read_csv(\"../Data/RL_weights.csv\")\n",
    "# bw = pd.read_csv(\"../Data/MPT_weights.csv\")\n",
    "# ret = pd.read_csv(\"../Data/StockReturns.csv\")"
   ]
  },
  {
   "cell_type": "code",
   "execution_count": null,
   "metadata": {},
   "outputs": [],
   "source": [
    "# exper_w = [ew.iloc[-trading_n+time,:] for time in range(trading_n)]\n",
    "# bench_w = [bw.iloc[-trading_n+time] for time in range(trading_n)]\n",
    "# returns = np.array([ret.iloc[-trading_n+time] for time in range(trading_n)])+1\n",
    "\n",
    "# exper_returns = np.cumprod([np.dot(exper_w[i],returns[i]) for i in range(len(exper_w))])\n",
    "# bench_returns = np.cumprod([np.dot(bench_w[i],returns[i]) for i in range(len(bench_w))])\n",
    "\n",
    "# port_all = analysis.allocation_effects.reshape(-1,n_sectors)\n",
    "# port_all_prod = [np.prod(port_all[i]+1) for i in range(len(port_all))]\n",
    "# port_sel = analysis.selection_effects.reshape(-1,n_sectors)\n",
    "# port_sel_prod = [np.prod(port_sel[i]+1) for i in range(len(port_sel))]\n",
    "# active_return = np.cumprod([port_sel_prod[i]*port_all_prod[i] for i in range(trading_n)])\n",
    "\n",
    "# average_esg = [exper_w[i]@esg_scores for i in range(trading_n)]"
   ]
  },
  {
   "cell_type": "code",
   "execution_count": null,
   "metadata": {},
   "outputs": [],
   "source": [
    "# bigfig, ax = plt.subplots(3,2,figsize=(10,10))\n",
    "# ax[0,0].plot(bench_returns, color=\"grey\", label=\"Benchmark\")\n",
    "# ax[0,0].plot(exper_returns, color=\"blue\", label=\"Experimental\")\n",
    "# ax[0,0].plot(active_return, color=\"green\", label= \"Geometric active return\")\n",
    "# ax[0,0].set_ylabel(\"Return\")\n",
    "# ax[0,0].set_xlabel(\"Trading times\")\n",
    "# ax[0,0].set_title('General Portfolio Performance')\n",
    "# ax[0,0].legend()\n",
    "\n",
    "# ax[0,1].plot(exper_returns, color=\"blue\", label=\"Experimental\")\n",
    "# ax[0,1].scatter(x=np.linspace(0,trading_n-1,trading_n), y =(bench_returns*active_return), s=5, color=\"black\")\n",
    "# ax[0,1].plot((bench_returns*active_return)+(0.001*(bench_returns*active_return)), \n",
    "#              color=\"grey\", linestyle=\"--\", label=\"Validity control\")\n",
    "# ax[0,1].set_ylabel(\"Return\")\n",
    "# ax[0,1].set_xlabel(\"Trading times\")\n",
    "# ax[0,1].set_title('Benchmark * Active return')\n",
    "# ax[0,1].legend()\n",
    "\n",
    "# data_arrays = [port_all_prod, port_sel_prod]\n",
    "# data_labels = [\"Allocation\", \"Selection\"]\n",
    "# ax[1,0].boxplot(data_arrays, tick_labels=data_labels)\n",
    "# ax[1,0].axhline(y=1, color=\"black\")\n",
    "# ax[1,0].set_ylabel(\"Return\")\n",
    "# ax[1,0].set_title('Attribution Variation')\n",
    "\n",
    "# ax[1,1].plot(average_esg, color=\"blue\", label=\"Mean ESG score\")\n",
    "# ax[1,1].set_ylabel(\"ESG score\")\n",
    "# ax[1,1].set_xlabel(\"Trading times\")\n",
    "# ax[1, 1].set_title('ESG Score Development')\n",
    "# ax[1,1].legend()\n",
    "\n",
    "# ax[2,0].boxplot(port_all)\n",
    "# ax[2,0].axhline(y=0, color=\"black\")\n",
    "# ax[2,0].set_xticklabels(ticker_df.columns, rotation=45) \n",
    "# ax[2,0].set_title('Allocation Variation by Sector')\n",
    "\n",
    "# ax[2,1].boxplot(port_sel)\n",
    "# ax[2,1].axhline(y=0, color=\"black\")\n",
    "# ax[2,1].set_xticklabels(ticker_df.columns, rotation=45) \n",
    "# ax[2,1].set_title('Selection Variation by Sector')\n",
    "\n",
    "# plt.suptitle('Complete Proto Plot for \"Naive\" Algo', fontsize=12)\n",
    "# bigfig.tight_layout(pad=2.0)\n",
    "# plt.show()\n",
    "# # plt.close()\n"
   ]
  }
 ],
 "metadata": {
  "kernelspec": {
   "display_name": "MyVenv",
   "language": "python",
   "name": "python3"
  },
  "language_info": {
   "codemirror_mode": {
    "name": "ipython",
    "version": 3
   },
   "file_extension": ".py",
   "mimetype": "text/x-python",
   "name": "python",
   "nbconvert_exporter": "python",
   "pygments_lexer": "ipython3",
   "version": "3.11.8"
  }
 },
 "nbformat": 4,
 "nbformat_minor": 2
}
