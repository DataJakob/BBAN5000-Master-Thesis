{
 "cells": [
  {
   "cell_type": "markdown",
   "metadata": {},
   "source": [
    "<h2> 1. Import libraries </h2>"
   ]
  },
  {
   "cell_type": "code",
   "execution_count": 1,
   "metadata": {},
   "outputs": [
    {
     "name": "stdout",
     "output_type": "stream",
     "text": [
      "--Frequency BHB analysis performed successfully--\n"
     ]
    }
   ],
   "source": [
    "import numpy as np\n",
    "import pandas as pd \n",
    "import matplotlib.pyplot as plt\n",
    "\n",
    "import yfinance as yf\n",
    "\n",
    "from scipy.optimize import Bounds\n",
    "from scipy.optimize import LinearConstraint\n",
    "from scipy.optimize import minimize\n",
    "\n",
    "from Data_Retriever import DataRetriever as DatRet\n",
    "from Markowitz_PT import MarkowitzPT as MPT\n",
    "from BHB_Analyzer import BHBAnalyzer as BHBA"
   ]
  },
  {
   "cell_type": "markdown",
   "metadata": {},
   "source": [
    "<h2> 2. Define experimental variables </h2>"
   ]
  },
  {
   "cell_type": "code",
   "execution_count": 2,
   "metadata": {},
   "outputs": [],
   "source": [
    "# Define number of trades\n",
    "trading_n = 10"
   ]
  },
  {
   "cell_type": "code",
   "execution_count": 3,
   "metadata": {},
   "outputs": [],
   "source": [
    "# Defining stock pool\n",
    "ticker_df =  pd.DataFrame()\n",
    "ticker_df[\"Petroleum\"] = [\"EQNR.OL\", \"AKRBP.OL\", ]\n",
    "ticker_df[\"Seafood (food)\"] = [\"ORK.OL\", \"LSG.OL\"]"
   ]
  },
  {
   "cell_type": "markdown",
   "metadata": {},
   "source": [
    "<h2> 3. Retrieve data </h2>"
   ]
  },
  {
   "cell_type": "code",
   "execution_count": 4,
   "metadata": {},
   "outputs": [
    {
     "name": "stdout",
     "output_type": "stream",
     "text": [
      "YF.download() has changed argument auto_adjust default to True\n"
     ]
    },
    {
     "name": "stderr",
     "output_type": "stream",
     "text": [
      "[*********************100%***********************]  1 of 1 completed\n",
      "[*********************100%***********************]  1 of 1 completed\n",
      "[*********************100%***********************]  1 of 1 completed\n",
      "[*********************100%***********************]  1 of 1 completed\n"
     ]
    },
    {
     "data": {
      "text/plain": [
       "'--Data retrieved successfully--'"
      ]
     },
     "execution_count": 4,
     "metadata": {},
     "output_type": "execute_result"
    }
   ],
   "source": [
    "# Retrieve data from yf API: y-m-d\n",
    "data = DatRet(ticker_df, \"2012-10-01\", \"2025-02-18\")\n",
    "\n",
    "# In function below, set log=True to check for data availability\n",
    "data.retrieve_data()"
   ]
  },
  {
   "cell_type": "markdown",
   "metadata": {},
   "source": [
    "<h2> 4. Frequency trading using MPT </h2>"
   ]
  },
  {
   "cell_type": "code",
   "execution_count": 12,
   "metadata": {},
   "outputs": [
    {
     "name": "stdout",
     "output_type": "stream",
     "text": [
      "--Frequency trading using MPT successfully performed--\n"
     ]
    }
   ],
   "source": [
    "# Generate benchmark weights thorugh MPT using Sharpe ratio\n",
    "benchmark = MPT(data.returns, 10,trading_n)\n",
    "benchmark.frequency_optimizing()"
   ]
  },
  {
   "cell_type": "markdown",
   "metadata": {},
   "source": [
    "<h2> 5. Conduct performance analysis </h2>"
   ]
  },
  {
   "cell_type": "code",
   "execution_count": 3,
   "metadata": {},
   "outputs": [],
   "source": [
    "import numpy as np"
   ]
  },
  {
   "cell_type": "code",
   "execution_count": null,
   "metadata": {},
   "outputs": [],
   "source": [
    "ben = np.array([0.3, 0.1, 0.4, 0.2])\n",
    "exp = np.array([0.4, 0.3, 0.2, 0.1])\n",
    "ret = np.array([0.023, -0.01, -0.017, 0.0023])"
   ]
  },
  {
   "cell_type": "code",
   "execution_count": 261,
   "metadata": {},
   "outputs": [],
   "source": [
    "n_sec = 2\n",
    "n_stocks = 2\n",
    "\n",
    "def analyzer_time_t(ret:list, we:list, wb:list):\n",
    "\n",
    "\n",
    "    # Returns and weights on sector level for  benchmark\n",
    "    rb = np.array([wb[i*n_stocks:(i+1)*n_stocks]@ret[int(i*n_stocks):(i+1)*n_stocks] for i in range(n_sec)])\n",
    "    wb = np.array([sum(wb[i*n_stocks:(i+1)*n_stocks]) for i in range(n_sec)])\n",
    "    \n",
    "    # Returns and weights on sector level for portfolio\n",
    "    re = np.array([we[i*n_stocks:(i+1)*n_stocks]@ret[int(i*n_stocks):(i+1)*n_stocks] for i in range(n_sec)])\n",
    "    we = np.array([sum(we[i*n_stocks:(i+1)*n_stocks]) for i in range(n_sec)])\n",
    "\n",
    "    # Total portfolio and benchmark return\n",
    "    Re = np.dot(we,re)\n",
    "    Rb = np.dot(wb,rb)\n",
    "\n",
    "    # Naked allocation and selection effects\n",
    "    sel_nkd = (1+we*re) / (1+ we*rb) -1\n",
    "    all_nkd = (1 + (we-wb)*rb) /  (1+(we-wb)*Rb) -1\n",
    "\n",
    "    # Q value, in three equations for simplicity\n",
    "    q_top =  np.log(1+Re) - np.log(1+Rb) - sum(np.log((1+sel_nkd)*(1+all_nkd)))\n",
    "    q_bottom = sum(np.log2(1+sel_nkd)) + sum(np.log2(1+all_nkd))\n",
    "    q_tot =  q_top/q_bottom\n",
    "    \n",
    "    # Optimized selection and allocation effects, on sector level.\n",
    "    sel_opt = (1+sel_nkd) * np.e**(q_tot*np.log2(1+sel_nkd))\n",
    "    all_opt = (1+all_nkd) * np.e**(q_tot*np.log2(1+all_nkd))\n",
    "\n",
    "    # Returns allocation and slection in a list on sector level\n",
    "    return [all_opt, sel_opt]"
   ]
  },
  {
   "cell_type": "code",
   "execution_count": 262,
   "metadata": {},
   "outputs": [
    {
     "data": {
      "text/plain": [
       "[array([1.00220325, 1.00146756]), array([1.00020905, 1.00095242])]"
      ]
     },
     "execution_count": 262,
     "metadata": {},
     "output_type": "execute_result"
    }
   ],
   "source": [
    "analyzer_time_t(ret, exp,  ben )"
   ]
  },
  {
   "cell_type": "code",
   "execution_count": null,
   "metadata": {},
   "outputs": [],
   "source": []
  }
 ],
 "metadata": {
  "kernelspec": {
   "display_name": "MyVenv",
   "language": "python",
   "name": "python3"
  },
  "language_info": {
   "codemirror_mode": {
    "name": "ipython",
    "version": 3
   },
   "file_extension": ".py",
   "mimetype": "text/x-python",
   "name": "python",
   "nbconvert_exporter": "python",
   "pygments_lexer": "ipython3",
   "version": "3.11.8"
  }
 },
 "nbformat": 4,
 "nbformat_minor": 2
}
