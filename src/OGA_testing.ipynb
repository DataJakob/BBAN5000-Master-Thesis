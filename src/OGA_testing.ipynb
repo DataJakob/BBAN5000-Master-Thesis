{
 "cells": [
  {
   "cell_type": "markdown",
   "metadata": {},
   "source": [
    "<h2> 1. Import libraries </h2>"
   ]
  },
  {
   "cell_type": "code",
   "execution_count": 1,
   "metadata": {},
   "outputs": [],
   "source": [
    "import numpy as np\n",
    "import pandas as pd \n",
    "import matplotlib.pyplot as plt\n",
    "\n",
    "import yfinance as yf\n",
    "\n",
    "from scipy.optimize import Bounds\n",
    "from scipy.optimize import LinearConstraint\n",
    "from scipy.optimize import minimize\n",
    "\n",
    "from Data_Retriever import DataRetriever as DatRet\n",
    "from Markowitz_PT import MarkowitzPT as MPT\n",
    "# from BHB_Analyzer import BHBAnalyzer as BHBA"
   ]
  },
  {
   "cell_type": "markdown",
   "metadata": {},
   "source": [
    "<h2> 2. Define experimental variables </h2>"
   ]
  },
  {
   "cell_type": "code",
   "execution_count": 2,
   "metadata": {},
   "outputs": [],
   "source": [
    "# Define number of trades\n",
    "trading_n = 10"
   ]
  },
  {
   "cell_type": "code",
   "execution_count": 3,
   "metadata": {},
   "outputs": [],
   "source": [
    "# Defining stock pool\n",
    "ticker_df =  pd.DataFrame()\n",
    "ticker_df[\"Petroleum\"] = [\"EQNR.OL\", \"AKRBP.OL\", ]\n",
    "ticker_df[\"Seafood (food)\"] = [\"ORK.OL\", \"LSG.OL\"]"
   ]
  },
  {
   "cell_type": "markdown",
   "metadata": {},
   "source": [
    "<h2> 3. Retrieve data </h2>"
   ]
  },
  {
   "cell_type": "code",
   "execution_count": 4,
   "metadata": {},
   "outputs": [
    {
     "name": "stdout",
     "output_type": "stream",
     "text": [
      "YF.download() has changed argument auto_adjust default to True\n"
     ]
    },
    {
     "name": "stderr",
     "output_type": "stream",
     "text": [
      "[*********************100%***********************]  1 of 1 completed\n",
      "[*********************100%***********************]  1 of 1 completed\n",
      "[*********************100%***********************]  1 of 1 completed\n",
      "[*********************100%***********************]  1 of 1 completed\n"
     ]
    },
    {
     "data": {
      "text/plain": [
       "'--Data retrieved successfully--'"
      ]
     },
     "execution_count": 4,
     "metadata": {},
     "output_type": "execute_result"
    }
   ],
   "source": [
    "# Retrieve data from yf API: y-m-d\n",
    "data = DatRet(ticker_df, \"2012-10-01\", \"2025-02-18\")\n",
    "\n",
    "# In function below, set log=True to check for data availability\n",
    "data.retrieve_data()"
   ]
  },
  {
   "cell_type": "markdown",
   "metadata": {},
   "source": [
    "<h2> 4. Frequency trading using MPT </h2>"
   ]
  },
  {
   "cell_type": "code",
   "execution_count": 5,
   "metadata": {},
   "outputs": [
    {
     "name": "stdout",
     "output_type": "stream",
     "text": [
      "--Frequency trading using MPT successfully performed--\n"
     ]
    }
   ],
   "source": [
    "# Generate benchmark weights thorugh MPT using Sharpe ratio\n",
    "benchmark = MPT(data.returns, 10,trading_n)\n",
    "# IMPORTANT: In order to see  the effect of the weights, algo exclude last observation from optimization\n",
    "benchmark.frequency_optimizing()"
   ]
  },
  {
   "cell_type": "markdown",
   "metadata": {},
   "source": [
    "<h2> 5. Conduct performance analysis </h2>"
   ]
  },
  {
   "cell_type": "code",
   "execution_count": 51,
   "metadata": {},
   "outputs": [],
   "source": [
    "ben = np.array([0.3, 0.1, 0.4, 0.2])\n",
    "exp = np.array([0.4, 0.3, 0.2, 0.1])\n",
    "ret = np.array([0.023, -0.01, -0.017, 0.0023])"
   ]
  },
  {
   "cell_type": "code",
   "execution_count": 48,
   "metadata": {},
   "outputs": [],
   "source": [
    "n_sec = 2\n",
    "n_stocks = 2\n",
    "\n",
    "def analyzer_time_t(ret:list, we:list, wb:list):\n",
    "\n",
    "\n",
    "    # Returns and weights on sector level for  benchmark\n",
    "    rb = np.array([wb[i*n_stocks:(i+1) * n_stocks]@ret[int(i*n_stocks):(i+1)*n_stocks] for i in range(n_sec)])\n",
    "    wb = np.array([sum(wb[i*n_stocks:(i+1)*n_stocks]) for i in range(n_sec)])\n",
    "    \n",
    "    # Returns and weights on sector level for portfolio\n",
    "    re = np.array([we[i*n_stocks:(i+1)*n_stocks]@ret[int(i*n_stocks):(i+1)*n_stocks] for i in range(n_sec)])\n",
    "    we = np.array([sum(we[i*n_stocks:(i+1)*n_stocks]) for i in range(n_sec)])\n",
    "\n",
    "    # Total portfolio and benchmark return\n",
    "    Re = np.dot(we,re)\n",
    "    Rb = np.dot(wb,rb)\n",
    "\n",
    "    # Naked allocation and selection effects\n",
    "    sel_nkd = (1+we*re) / (1+ we*rb) -1\n",
    "    all_nkd = (1 + (we-wb)*rb) /  (1+(we-wb)*Rb) -1\n",
    "\n",
    "    # Q value, in three equations for simplicity\n",
    "    q_top =  np.log(1+Re) - np.log(1+Rb) - sum(np.log((1+sel_nkd)*(1+all_nkd)))\n",
    "    q_bottom = sum(np.log2(1+sel_nkd)) + sum(np.log2(1+all_nkd))\n",
    "    q_tot =  q_top/q_bottom\n",
    "    \n",
    "    # Optimized selection and allocation effects, on sector level.\n",
    "    sel_opt = (1+sel_nkd) * np.e**(q_tot*np.log2(1+sel_nkd))\n",
    "    all_opt = (1+all_nkd) * np.e**(q_tot*np.log2(1+all_nkd))\n",
    "\n",
    "    # Returns allocation and slection in a list on sector level\n",
    "    return [all_opt, sel_opt]"
   ]
  },
  {
   "cell_type": "code",
   "execution_count": 53,
   "metadata": {},
   "outputs": [
    {
     "data": {
      "text/plain": [
       "[array([1.00220325, 1.00146756]), array([1.00020905, 1.00095242])]"
      ]
     },
     "execution_count": 53,
     "metadata": {},
     "output_type": "execute_result"
    }
   ],
   "source": [
    "svar = analyzer_time_t(ret, exp,  ben )\n",
    "svar"
   ]
  },
  {
   "cell_type": "code",
   "execution_count": 9,
   "metadata": {},
   "outputs": [],
   "source": [
    "# svar = [[],[],[]]"
   ]
  },
  {
   "cell_type": "code",
   "execution_count": 10,
   "metadata": {},
   "outputs": [],
   "source": [
    "# # observation X weights\n",
    "# len(benchmark.frequency_weights)"
   ]
  },
  {
   "cell_type": "code",
   "execution_count": 11,
   "metadata": {},
   "outputs": [],
   "source": [
    "# return_array =  [pd.Series(stock) for sector in data.returns for stock in sector]"
   ]
  },
  {
   "cell_type": "code",
   "execution_count": 12,
   "metadata": {},
   "outputs": [],
   "source": [
    "# return_array =  [pd.Series(stock) for sector in data.returns for stock in sector]\n",
    "# return_df = pd.DataFrame(return_array)\n",
    "# return_tdf = return_df.T"
   ]
  },
  {
   "cell_type": "code",
   "execution_count": 13,
   "metadata": {},
   "outputs": [],
   "source": [
    "# return_tdf = return_df.T"
   ]
  },
  {
   "cell_type": "code",
   "execution_count": 14,
   "metadata": {},
   "outputs": [],
   "source": [
    "# benchmark.frequency_weights[0][0]"
   ]
  },
  {
   "cell_type": "code",
   "execution_count": 15,
   "metadata": {},
   "outputs": [],
   "source": [
    "# len(data.returns)"
   ]
  },
  {
   "cell_type": "code",
   "execution_count": 16,
   "metadata": {},
   "outputs": [],
   "source": [
    "# return_tdf[0].tail(10)"
   ]
  },
  {
   "cell_type": "code",
   "execution_count": 17,
   "metadata": {},
   "outputs": [],
   "source": [
    "# trading_obs = 10"
   ]
  },
  {
   "cell_type": "code",
   "execution_count": 18,
   "metadata": {},
   "outputs": [],
   "source": [
    "# benchmark.frequency_weights"
   ]
  },
  {
   "cell_type": "code",
   "execution_count": 71,
   "metadata": {},
   "outputs": [],
   "source": [
    "# class MencheroOGA():\n",
    "#     \"\"\"\n",
    "#     one-liner\n",
    "\n",
    "#     attributes\n",
    "\n",
    "#     methods\n",
    "#     \"\"\"\n",
    "\n",
    "#     def __init__(self, returns, benchmark_w, experimental_w):\n",
    "#         \"\"\"s\n",
    "#         one-liner\n",
    "        \n",
    "#         Args\n",
    "#         \"\"\"\n",
    "#         self.returns = returns\n",
    "#         self.benchmark_w =  benchmark_w\n",
    "#         self.experimental_w = experimental_w\n",
    "\n",
    "#         self.n_optimizations: int = len(self.benchmark_w)\n",
    "        \n",
    "#         self.n_sectors = len(self.returns)\n",
    "#         self.n_stocks = len(self.benchmark_w[0][0]) / self.n_sectors   # Per sector\n",
    "\n",
    "#         self.allocation_effects: list = None\n",
    "#         self.selection_effects: list = None\n",
    "\n",
    "        \n",
    "\n",
    "#     def analyzer_time_t(self, ret:list, we:list, wb:list):\n",
    "#         \"\"\"\n",
    "#         one-liner\n",
    "\n",
    "#         Args\n",
    "\n",
    "#         Returns\n",
    "#         \"\"\"\n",
    "#         # Returns and weights on sector level for  benchmark\n",
    "#         rb = np.array([wb[i*n_stocks:(i+1) * n_stocks]@ret[int(i*n_stocks):(i+1)*n_stocks] for i in range(n_sec)])\n",
    "#         wb = np.array([sum(wb[i*n_stocks:(i+1)*n_stocks]) for i in range(n_sec)])\n",
    "        \n",
    "#         # Returns and weights on sector level for portfolio\n",
    "#         re = np.array([we[i*n_stocks:(i+1)*n_stocks]@ret[int(i*n_stocks):(i+1)*n_stocks] for i in range(n_sec)])\n",
    "#         we = np.array([sum(we[i*n_stocks:(i+1)*n_stocks]) for i in range(n_sec)])\n",
    "\n",
    "#         # Total portfolio and benchmark return\n",
    "#         Re = np.dot(we,re)\n",
    "#         Rb = np.dot(wb,rb)\n",
    "\n",
    "#         # Naked allocation and selection effects\n",
    "#         sel_nkd = (1+we*re) / (1+ we*rb) -1\n",
    "#         all_nkd = (1 + (we-wb)*rb) /  (1+(we-wb)*Rb) -1\n",
    "\n",
    "#         # Q value, in three equations for simplicity\n",
    "#         q_top =  np.log(1+Re) - np.log(1+Rb) - sum(np.log((1+sel_nkd)*(1+all_nkd)))\n",
    "#         q_bottom = sum(np.log2(1+sel_nkd)) + sum(np.log2(1+all_nkd))\n",
    "#         q_tot =  q_top/q_bottom\n",
    "        \n",
    "#         # Optimized selection and allocation effects, on sector level.\n",
    "#         sel_opt = (1+sel_nkd) * np.e**(q_tot*np.log2(1+sel_nkd))\n",
    "#         all_opt = (1+all_nkd) * np.e**(q_tot*np.log2(1+all_nkd))\n",
    "\n",
    "#         # Returns allocation and slection in a list on sector level\n",
    "#         return [all_opt, sel_opt]\n",
    "\n",
    "\n",
    "\n",
    "#     def frequnecy_analyzer(self):\n",
    "#         \"\"\"\n",
    "#         One liner\n",
    "        \n",
    "#         Args\n",
    "        \n",
    "#         Returns\n",
    "#         \"\"\"\n",
    "#         return_array =  [pd.Series(stock) for sector in self.returns for stock in sector]\n",
    "#         return_df = pd.DataFrame(return_array)\n",
    "#         return_tdf = return_df.T\n",
    "\n",
    "#         relevant_return_list = [return_tdf.iloc[-self.n_optimizations+i] for i in range(self.n_optimizations)]\n",
    "#         # relevant_benW_list = self.benchmark_w\n",
    "\n",
    "#         # MOCK DATA SO FAR!!!\n",
    "#         total_n_stocks = self.n_stocks * self.n_sectors\n",
    "#         relevant_expW_list = [[np.repeat(1/total_n_stocks, total_n_stocks)] for i in range(self.n_optimizations)]\n",
    "\n",
    "#         allocation_list = []\n",
    "#         selection_list = []\n",
    "\n",
    "#         for time in range(self.n_optimizations):\n",
    "#             # print(relevant_expW_list[time][0])\n",
    "#             effects = analyzer_time_t(relevant_return_list[time], self.benchmark_w[time][0], relevant_expW_list[time][0])\n",
    "#             allocation_list.append(effects[0])\n",
    "#             selection_list.append(effects[1])\n",
    "        \n",
    "#         self.allocation_effects = np.concatenate(allocation_list)\n",
    "#         self.selection_effects = np.concatenate(selection_list)\n",
    "\n",
    "#         print(\"--Frequency analysis performed succesfully--\")"
   ]
  },
  {
   "cell_type": "code",
   "execution_count": 20,
   "metadata": {},
   "outputs": [
    {
     "data": {
      "text/plain": [
       "[array([2.34822419e-01, 1.19298980e-04, 4.34893492e-01, 3.30164791e-01]),\n",
       " 0.9982103538737593,\n",
       " np.float64(0.008650835847296144)]"
      ]
     },
     "execution_count": 20,
     "metadata": {},
     "output_type": "execute_result"
    }
   ],
   "source": [
    "benchmark.frequency_weights[9]"
   ]
  },
  {
   "cell_type": "code",
   "execution_count": 63,
   "metadata": {},
   "outputs": [
    {
     "name": "stdout",
     "output_type": "stream",
     "text": [
      "--Frequency analysis performed succesfully--\n"
     ]
    }
   ],
   "source": [
    "anal = MencheroOGA(data.returns, benchmark.frequency_weights, [])\n",
    "anal.frequnecy_analyzer()"
   ]
  },
  {
   "cell_type": "code",
   "execution_count": 68,
   "metadata": {},
   "outputs": [
    {
     "data": {
      "text/plain": [
       "np.float64(0.9817131870378915)"
      ]
     },
     "execution_count": 68,
     "metadata": {},
     "output_type": "execute_result"
    }
   ],
   "source": [
    "np.cumprod(anal.allocation_effects)[-1]"
   ]
  },
  {
   "cell_type": "code",
   "execution_count": 70,
   "metadata": {},
   "outputs": [
    {
     "data": {
      "text/plain": [
       "array([0.9426491 , 1.11218194, 0.94061982, 1.18255596, 0.9390196 ,\n",
       "       1.19938829, 0.97193216, 1.2967599 , 0.95283767, 1.25802975,\n",
       "       0.99914711, 1.33248867, 0.93774804, 1.17227577, 0.93882036,\n",
       "       1.18219066, 0.93815134, 1.16812928, 0.93588958, 1.16902119])"
      ]
     },
     "execution_count": 70,
     "metadata": {},
     "output_type": "execute_result"
    }
   ],
   "source": [
    "anal.selection_effects"
   ]
  },
  {
   "cell_type": "code",
   "execution_count": 69,
   "metadata": {},
   "outputs": [
    {
     "data": {
      "text/plain": [
       "array([0.9426491 , 1.04839731, 0.98614328, 1.16616962, 1.09505613,\n",
       "       1.3133975 , 1.27653327, 1.65535716, 1.57728666, 1.98427354,\n",
       "       1.98258117, 2.64176694, 2.47731177, 2.90409256, 2.72642122,\n",
       "       3.2231497 , 3.02380222, 3.53219192, 3.30574162, 3.86448201])"
      ]
     },
     "execution_count": 69,
     "metadata": {},
     "output_type": "execute_result"
    }
   ],
   "source": [
    "np.cumprod(anal.selection_effects)"
   ]
  },
  {
   "cell_type": "code",
   "execution_count": null,
   "metadata": {},
   "outputs": [],
   "source": []
  },
  {
   "cell_type": "code",
   "execution_count": 345,
   "metadata": {},
   "outputs": [],
   "source": [
    "# bomb = [[2,3],[1,5]]\n",
    "# np.concatenate(bomb)"
   ]
  },
  {
   "cell_type": "code",
   "execution_count": 346,
   "metadata": {},
   "outputs": [],
   "source": [
    "# [[np.repeat(0.11,4)] for i in range(10)]"
   ]
  }
 ],
 "metadata": {
  "kernelspec": {
   "display_name": "MyVenv",
   "language": "python",
   "name": "python3"
  },
  "language_info": {
   "codemirror_mode": {
    "name": "ipython",
    "version": 3
   },
   "file_extension": ".py",
   "mimetype": "text/x-python",
   "name": "python",
   "nbconvert_exporter": "python",
   "pygments_lexer": "ipython3",
   "version": "3.11.8"
  }
 },
 "nbformat": 4,
 "nbformat_minor": 2
}
