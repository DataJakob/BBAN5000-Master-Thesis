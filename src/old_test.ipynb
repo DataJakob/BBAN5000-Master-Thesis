{
 "cells": [
  {
   "cell_type": "code",
   "execution_count": 110,
   "metadata": {},
   "outputs": [],
   "source": [
    "import numpy as np\n",
    "import pandas as pd \n",
    "import matplotlib.pyplot as plt\n",
    "\n",
    "import yfinance as yf\n",
    "\n",
    "from scipy.optimize import Bounds\n",
    "from scipy.optimize import LinearConstraint\n",
    "from scipy.optimize import minimize\n",
    "\n",
    "from Data_Retriever import DataRetriever as DatRet\n",
    "from Markowitz_PT import MarkowitzPT as MPT"
   ]
  },
  {
   "cell_type": "markdown",
   "metadata": {},
   "source": [
    "<h1> Stock pool </h1>"
   ]
  },
  {
   "cell_type": "code",
   "execution_count": 111,
   "metadata": {},
   "outputs": [],
   "source": [
    "# Petroleum\n",
    "# EQNR 36.6, AKRBP 35.3, Subsea7 17.9, Vår energi 27.9\n",
    "\n",
    "# Food (Seafood)\n",
    "# Orkla 18, Mowi 21.2, Salmar 18.7, LSG 29.2\n",
    "\n",
    "# Materials\n",
    "# NHY 15.7, Yara 25.6, NSKOG 23.1, ELK 29.9\n",
    "\n",
    "# Technologies\n",
    "# TEL 19.8, NOD 13.8, ATEA 18.1, BOUV 19\n",
    "\n",
    "# Financials\n",
    "# STB 17.2, DNB 14, GJF 17.2, MING.OL 19.5\n",
    "\n",
    "# Shipping\n",
    "# WAWI 19.7, SNI 21.2, BELCO 26.8, ODF 19.3"
   ]
  },
  {
   "cell_type": "code",
   "execution_count": 112,
   "metadata": {},
   "outputs": [
    {
     "data": {
      "text/html": [
       "<div>\n",
       "<style scoped>\n",
       "    .dataframe tbody tr th:only-of-type {\n",
       "        vertical-align: middle;\n",
       "    }\n",
       "\n",
       "    .dataframe tbody tr th {\n",
       "        vertical-align: top;\n",
       "    }\n",
       "\n",
       "    .dataframe thead th {\n",
       "        text-align: right;\n",
       "    }\n",
       "</style>\n",
       "<table border=\"1\" class=\"dataframe\">\n",
       "  <thead>\n",
       "    <tr style=\"text-align: right;\">\n",
       "      <th></th>\n",
       "      <th>Petroleum</th>\n",
       "      <th>Materials</th>\n",
       "      <th>Food</th>\n",
       "    </tr>\n",
       "  </thead>\n",
       "  <tbody>\n",
       "    <tr>\n",
       "      <th>0</th>\n",
       "      <td>AKRBP.OL</td>\n",
       "      <td>NHY.OL</td>\n",
       "      <td>LSG.OL</td>\n",
       "    </tr>\n",
       "    <tr>\n",
       "      <th>1</th>\n",
       "      <td>EQNR.OL</td>\n",
       "      <td>NSKOG.OL</td>\n",
       "      <td>MOWI.OL</td>\n",
       "    </tr>\n",
       "    <tr>\n",
       "      <th>2</th>\n",
       "      <td>ODL.OL</td>\n",
       "      <td>RANA.OL</td>\n",
       "      <td>ORK.OL</td>\n",
       "    </tr>\n",
       "  </tbody>\n",
       "</table>\n",
       "</div>"
      ],
      "text/plain": [
       "  Petroleum Materials     Food\n",
       "0  AKRBP.OL    NHY.OL   LSG.OL\n",
       "1   EQNR.OL  NSKOG.OL  MOWI.OL\n",
       "2    ODL.OL   RANA.OL   ORK.OL"
      ]
     },
     "execution_count": 112,
     "metadata": {},
     "output_type": "execute_result"
    }
   ],
   "source": [
    "# Defining stock pool\n",
    "ticker_df =  pd.DataFrame()\n",
    "ticker_df[\"Petroleum\"] = [\"AKRBP.OL\", \"EQNR.OL\", \"ODL.OL\"]\n",
    "ticker_df[\"Materials\"] = [\"NHY.OL\", \"NSKOG.OL\", \"RANA.OL\"]\n",
    "ticker_df[\"Food\"] = [\"LSG.OL\", \"MOWI.OL\", \"ORK.OL\"]\n",
    "ticker_df"
   ]
  },
  {
   "cell_type": "code",
   "execution_count": 113,
   "metadata": {},
   "outputs": [
    {
     "name": "stderr",
     "output_type": "stream",
     "text": [
      "[*********************100%***********************]  1 of 1 completed"
     ]
    },
    {
     "name": "stderr",
     "output_type": "stream",
     "text": [
      "\n",
      "[*********************100%***********************]  1 of 1 completed\n",
      "[*********************100%***********************]  1 of 1 completed\n",
      "[*********************100%***********************]  1 of 1 completed\n",
      "[*********************100%***********************]  1 of 1 completed\n",
      "[*********************100%***********************]  1 of 1 completed\n",
      "[*********************100%***********************]  1 of 1 completed\n",
      "[*********************100%***********************]  1 of 1 completed\n",
      "[*********************100%***********************]  1 of 1 completed\n"
     ]
    },
    {
     "name": "stdout",
     "output_type": "stream",
     "text": [
      "--Frequency trading using MPT successfully performed--\n"
     ]
    }
   ],
   "source": [
    "# Retrieve data from yf API\n",
    "data = DatRet(ticker_df, \"2022-02-19\", \"2025-02-18\")\n",
    "data.retrieve_data()\n",
    "\n",
    "# Generate benchmark weights thorugh MPT using Sharpe ratio\n",
    "benchmark = MPT(data.returns, 252,10)\n",
    "benchmark.frequency_optimizing()"
   ]
  },
  {
   "cell_type": "code",
   "execution_count": null,
   "metadata": {},
   "outputs": [],
   "source": [
    "# flat_series_list = [series for row in data.returns for series in row]\n",
    "# df = pd.concat(flat_series_list,axis=1)"
   ]
  },
  {
   "cell_type": "code",
   "execution_count": 173,
   "metadata": {},
   "outputs": [
    {
     "data": {
      "text/plain": [
       "np.float64(0.004763640811149402)"
      ]
     },
     "execution_count": 173,
     "metadata": {},
     "output_type": "execute_result"
    }
   ],
   "source": [
    "sum(daily_ben_weights[0][0*3:(0+1)*3] * daily_returns[0][0*3:(0+1)*3])/ 0.5"
   ]
  },
  {
   "cell_type": "code",
   "execution_count": 161,
   "metadata": {},
   "outputs": [
    {
     "data": {
      "text/plain": [
       "np.float64(0.0025412885359612503)"
      ]
     },
     "execution_count": 161,
     "metadata": {},
     "output_type": "execute_result"
    }
   ],
   "source": [
    "#sector i\n",
    "i = 0\n",
    "#stock j\n",
    "j = 0\n",
    "# time trading days\n",
    "time = 11\n",
    "\n",
    "data.returns[i][j].iloc[-time].iloc[0]-1"
   ]
  },
  {
   "cell_type": "code",
   "execution_count": 142,
   "metadata": {},
   "outputs": [
    {
     "data": {
      "text/plain": [
       "[<matplotlib.lines.Line2D at 0x1c17b965090>]"
      ]
     },
     "execution_count": 142,
     "metadata": {},
     "output_type": "execute_result"
    },
    {
     "data": {
      "image/png": "[encoded data removed]",
      "text/plain": [
       "<Figure size 640x480 with 1 Axes>"
      ]
     },
     "metadata": {},
     "output_type": "display_data"
    }
   ],
   "source": [
    "daily_returns = []\n",
    "for time in range(1,10,1):\n",
    "    ind_day_ret = np.array([data.returns[i][j].iloc[-time].iloc[0] for i in  range(3) for j in range(3)]) -1\n",
    "    daily_returns.append(ind_day_ret[::])\n",
    "daily_returns = np.array(daily_returns[::-1])\n",
    "\n",
    "daily_ben_weights = benchmark.frequency_weights[:-1]\n",
    "daily_ben_weights = np.array([np.array(benchmark.frequency_weights[i][0]) for i in range(len(benchmark.frequency_weights))])[:-1]\n",
    "daily_exp_weights = np.repeat(1/9,9)\n",
    "\n",
    "\n",
    "# rl_perf = [daily_ben_weights[time]@daily_returns[time] for time in range(9)]\n",
    "rl_perf = [sum(daily_ben_weights[time]*daily_returns[time]) for time in range(9)]\n",
    "\n",
    "# mpt_perf = [daily_exp_weights@daily_returns[time] for time in range(9)]\n",
    "mpt_perf = [sum(daily_exp_weights*daily_returns[time]) for time in range(9)]\n",
    "\n",
    "# excess_ret = [(rl_perf[time]-mpt_perf[time])/rl_perf[time] for time in range(9)]\n",
    "excess_ret = [rl_perf[time] - mpt_perf[time] for time in range(9)]\n",
    "\n",
    "plt.plot(excess_ret)"
   ]
  },
  {
   "cell_type": "code",
   "execution_count": 117,
   "metadata": {},
   "outputs": [],
   "source": [
    "# bitch = []\n",
    "# for i in range(0, 9, 1):\n",
    "#     bitch.append(daily_exp_weights)"
   ]
  },
  {
   "cell_type": "code",
   "execution_count": 118,
   "metadata": {},
   "outputs": [],
   "source": [
    "# daily_exp_weights = bitch"
   ]
  },
  {
   "cell_type": "code",
   "execution_count": 119,
   "metadata": {},
   "outputs": [],
   "source": [
    "# def bhb_attribution(daily_returns, daily_ben_weights, daily_exp_weights):\n",
    "#     \"\"\"\n",
    "#     Calculates the Brinson, Hood, and Beebower (BHB) attribution effects: allocation, selection, and interaction.\n",
    "    \n",
    "#     Parameters:\n",
    "#     - daily_returns: list of np.arrays, each of shape (9,), daily returns for 9 stocks.\n",
    "#     - daily_ben_weights: list of np.arrays, each of shape (9,), benchmark weights for 9 stocks.\n",
    "#     - daily_exp_weights: list of np.arrays, each of shape (9,), portfolio weights for 9 stocks.\n",
    "    \n",
    "#     Returns:\n",
    "#     - allocation_effect: np.array of shape (time, 3), allocation effect per sector.\n",
    "#     - selection_effect: np.array of shape (time, 3), selection effect per sector.\n",
    "#     - interaction_effect: np.array of shape (time, 3), interaction effect per sector.\n",
    "#     - total_excess_return: np.array of shape (time,), total excess return per day.\n",
    "#     \"\"\"\n",
    "#     num_sectors = 3\n",
    "#     stocks_per_sector = 3\n",
    "    \n",
    "#     # Convert lists to NumPy arrays\n",
    "#     daily_returns = np.array(daily_returns)\n",
    "#     daily_ben_weights = np.array(daily_ben_weights)\n",
    "#     daily_exp_weights = np.array(daily_exp_weights)\n",
    "    \n",
    "#     # Initialize effect arrays\n",
    "#     allocation_effect = np.zeros((daily_returns.shape[0], num_sectors))\n",
    "#     selection_effect = np.zeros((daily_returns.shape[0], num_sectors))\n",
    "#     interaction_effect = np.zeros((daily_returns.shape[0], num_sectors))\n",
    "    \n",
    "#     # Compute attribution effects per sector\n",
    "#     for i in range(num_sectors):\n",
    "#         wb = np.sum(daily_ben_weights[:, i*stocks_per_sector:(i+1)*stocks_per_sector], axis=1)\n",
    "#         we = np.sum(daily_exp_weights[:, i*stocks_per_sector:(i+1)*stocks_per_sector], axis=1)\n",
    "#         rb = np.sum(daily_ben_weights[:, i*stocks_per_sector:(i+1)*stocks_per_sector] * daily_returns[:, i*stocks_per_sector:(i+1)*stocks_per_sector], axis=1)\n",
    "#         re = np.sum(daily_exp_weights[:, i*stocks_per_sector:(i+1)*stocks_per_sector] * daily_returns[:, i*stocks_per_sector:(i+1)*stocks_per_sector], axis=1)\n",
    "        \n",
    "#         allocation_effect[:, i] = rb * (we - wb)\n",
    "#         selection_effect[:, i] = wb * (re - rb)\n",
    "#         interaction_effect[:, i] = (we - wb) * (re - rb)\n",
    "    \n",
    "#     total_excess_return = np.sum(allocation_effect + selection_effect + interaction_effect, axis=1)\n",
    "    \n",
    "#     return allocation_effect, selection_effect, interaction_effect, total_excess_return\n"
   ]
  },
  {
   "cell_type": "code",
   "execution_count": 120,
   "metadata": {},
   "outputs": [],
   "source": [
    "# rix = bhb_attribution(daily_returns, daily_ben_weights, daily_exp_weights)"
   ]
  },
  {
   "cell_type": "code",
   "execution_count": null,
   "metadata": {},
   "outputs": [],
   "source": [
    "# result_list = [daily_exp_weights for _ in range(9)]\n",
    "# daily_exp_weights = np.array(result_list)"
   ]
  },
  {
   "cell_type": "code",
   "execution_count": 139,
   "metadata": {},
   "outputs": [],
   "source": [
    "def calculate_bhb(daily_ben_weights, daily_returns, daily_exp_weights):\n",
    "    \"\"\"\n",
    "    Calculate Brinson, Hood, and Beebower (BHB) attribution model.\n",
    "\n",
    "    Args:\n",
    "        daily_ben_weights (list): List of 9 benchmark weights.\n",
    "        daily_returns (list): List of 9 daily returns.\n",
    "        daily_exp_weights (list): List of 9 experimental portfolio weights.\n",
    "\n",
    "    Returns:\n",
    "        tuple: Allocation effect, selection effect, interaction effect, and total excess return.\n",
    "    \"\"\"\n",
    "    time_list = []\n",
    "    for time in range(0, 9,1):\n",
    "        allocation_effect = 0\n",
    "        selection_effect = 0\n",
    "        interaction_effect = 0\n",
    "        \n",
    "        # Divide portfolio into 3 sectors (0:3, 3:6, 6:9)\n",
    "        for i in range(3):\n",
    "            wb = sum(daily_ben_weights[time][i*3:(i+1)*3])\n",
    "            we = sum(daily_exp_weights[time][i*3:(i+1)*3])\n",
    "            rb = sum(np.array(daily_ben_weights[time][i*3:(i+1)*3]) * np.array(daily_returns[time][i*3:(i+1)*3]))/wb\n",
    "            re = sum(np.array(daily_exp_weights[time][i*3:(i+1)*3]) * np.array(daily_returns[time][i*3:(i+1)*3]))/we\n",
    "            \n",
    "            allocation_effect += rb * (we - wb)  # Allocation Effect\n",
    "            selection_effect += wb * (re - rb)  # Selection Effect\n",
    "            interaction_effect += (we - wb) * (re - rb)  # Interaction Effect\n",
    "        \n",
    "        total_excess_return = allocation_effect + selection_effect + interaction_effect\n",
    "        time_list.append([allocation_effect, selection_effect, interaction_effect, total_excess_return])\n",
    "    return time_list\n"
   ]
  },
  {
   "cell_type": "code",
   "execution_count": 140,
   "metadata": {},
   "outputs": [],
   "source": [
    "fox = calculate_bhb(daily_ben_weights,daily_returns, daily_exp_weights)"
   ]
  },
  {
   "cell_type": "code",
   "execution_count": 141,
   "metadata": {},
   "outputs": [
    {
     "data": {
      "text/plain": [
       "[[np.float64(-0.0007696374512249267),\n",
       "  np.float64(-0.002011543919875492),\n",
       "  np.float64(0.0002763050372582265),\n",
       "  np.float64(-0.002504876333842192)],\n",
       " [np.float64(0.0019300841601726745),\n",
       "  np.float64(-0.001125927142835592),\n",
       "  np.float64(1.873080633690632e-05),\n",
       "  np.float64(0.0008228878236739888)],\n",
       " [np.float64(0.00027268247211935896),\n",
       "  np.float64(0.007781419265215953),\n",
       "  np.float64(0.004885653855912291),\n",
       "  np.float64(0.012939755593247603)],\n",
       " [np.float64(-0.000904762628681623),\n",
       "  np.float64(0.001005289879081211),\n",
       "  np.float64(-0.000146385515319155),\n",
       "  np.float64(-4.585826491956702e-05)],\n",
       " [np.float64(-0.00019591003703849498),\n",
       "  np.float64(0.0010216819711555574),\n",
       "  np.float64(0.00048414461014765564),\n",
       "  np.float64(0.001309916544264718)],\n",
       " [np.float64(0.00110256936921531),\n",
       "  np.float64(-0.0028806867448029653),\n",
       "  np.float64(-0.0005172369046498397),\n",
       "  np.float64(-0.002295354280237495)],\n",
       " [np.float64(0.006999194832186832),\n",
       "  np.float64(-0.0016227837445927235),\n",
       "  np.float64(-0.0039406423530938695),\n",
       "  np.float64(0.0014357687345002389)],\n",
       " [np.float64(-0.0017297171994781662),\n",
       "  np.float64(-0.0033747452504209316),\n",
       "  np.float64(0.0003248895147843321),\n",
       "  np.float64(-0.004779572935114765)],\n",
       " [np.float64(-2.4376487364070323e-06),\n",
       "  np.float64(0.0014062588558006145),\n",
       "  np.float64(0.0001446093547010181),\n",
       "  np.float64(0.0015484305617652254)]]"
      ]
     },
     "execution_count": 141,
     "metadata": {},
     "output_type": "execute_result"
    }
   ],
   "source": [
    "fox"
   ]
  },
  {
   "cell_type": "code",
   "execution_count": 129,
   "metadata": {},
   "outputs": [
    {
     "data": {
      "text/plain": [
       "array([ 0.00014616,  0.00069653, -0.00210966, -0.00094797,  0.00350226,\n",
       "        0.0007298 , -0.00265801,  0.00109063,  0.00798134])"
      ]
     },
     "execution_count": 129,
     "metadata": {},
     "output_type": "execute_result"
    }
   ],
   "source": [
    "fox[3]"
   ]
  },
  {
   "cell_type": "code",
   "execution_count": 130,
   "metadata": {},
   "outputs": [
    {
     "data": {
      "text/plain": [
       "[np.float64(0.0025048763338421922),\n",
       " np.float64(-0.0008228878236739884),\n",
       " np.float64(-0.012939755593247605),\n",
       " np.float64(4.585826491956824e-05),\n",
       " np.float64(-0.0013099165442647187),\n",
       " np.float64(0.002295354280237494),\n",
       " np.float64(-0.0014357687345002423),\n",
       " np.float64(0.004779572935114766),\n",
       " np.float64(-0.0015484305617652259)]"
      ]
     },
     "execution_count": 130,
     "metadata": {},
     "output_type": "execute_result"
    }
   ],
   "source": [
    "excess_ret"
   ]
  },
  {
   "cell_type": "code",
   "execution_count": 137,
   "metadata": {},
   "outputs": [
    {
     "data": {
      "text/plain": [
       "np.float64(0.00014616215723790523)"
      ]
     },
     "execution_count": 137,
     "metadata": {},
     "output_type": "execute_result"
    }
   ],
   "source": [
    "fox[0][0]+fox[1][0]+fox[2][0]"
   ]
  },
  {
   "cell_type": "code",
   "execution_count": null,
   "metadata": {},
   "outputs": [
    {
     "name": "stdout",
     "output_type": "stream",
     "text": [
      "-0.006934288266357137\n",
      "0.0015404291477781572\n",
      "-0.009500069902821807\n",
      "-0.00014893929021400786\n"
     ]
    }
   ],
   "source": [
    "wb1 = np.sum(daily_ben_weights[0][:3])\n",
    "we1 = np.sum(daily_exp_weights[:3])\n",
    "rb1 = np.dot(daily_ben_weights[0][:3], daily_returns[0][:3])\n",
    "re1 = np.dot(daily_exp_weights[:3], daily_returns[0][:3])\n",
    "\n",
    "wb2 = np.sum(daily_ben_weights[0][3:6])\n",
    "we2 = np.sum(daily_exp_weights[3:6])\n",
    "rb2 = np.dot(daily_ben_weights[0][:3], daily_returns[0][3:6])\n",
    "re2 = np.dot(daily_exp_weights[:3], daily_returns[0][3:6])\n",
    "\n",
    "\n",
    "wb3 = np.sum(daily_ben_weights[0][6:9])\n",
    "we3 = np.sum(daily_exp_weights[6:9])\n",
    "rb3 = np.dot(daily_ben_weights[0][:3], daily_returns[0][6:9])\n",
    "re3 = np.dot(daily_exp_weights[:3], daily_returns[0][6:9])\n",
    "\n",
    "# Allocations:\n",
    "ae1 = rb1*(we1-wb1)\n",
    "ae2 = rb2*(we2-wb2)\n",
    "ae3 = rb3*(we3-wb3)\n",
    "allocation = ae1+ae2+ae3\n",
    "\n",
    "# Selections:\n",
    "se1 = wb1*(re1-rb1)\n",
    "se2 = wb2*(re2-rb2)\n",
    "se3 = wb3*(re3-rb3)\n",
    "selection = se1+se2+se3\n",
    "\n",
    "# Interaction:\n",
    "ie1 = (we1-wb1)*(re1-rb1)\n",
    "ie2 = (we2-wb2)*(re2-rb2)\n",
    "ie3 = (we3-wb3)*(re3-rb3)\n",
    "interaction = ie1 + ie2+ ie3\n",
    "\n",
    "print(allocation*100)\n",
    "print(selection*100)\n",
    "print(interaction*100)\n",
    "delta=allocation+selection+interaction\n",
    "print(delta)"
   ]
  },
  {
   "cell_type": "code",
   "execution_count": null,
   "metadata": {},
   "outputs": [
    {
     "data": {
      "text/plain": [
       "(np.float64(-0.0005328568492038127),\n",
       " np.float64(-0.0011743012428612075),\n",
       " np.float64(0.00036851326751202317),\n",
       " np.float64(-0.001338644824552997))"
      ]
     },
     "execution_count": 99,
     "metadata": {},
     "output_type": "execute_result"
    }
   ],
   "source": [
    "fox"
   ]
  },
  {
   "cell_type": "code",
   "execution_count": null,
   "metadata": {},
   "outputs": [
    {
     "name": "stdout",
     "output_type": "stream",
     "text": [
      "-1.000148939290214\n",
      "1.0024173639260476\n"
     ]
    }
   ],
   "source": [
    "print(delta-1)\n",
    "print(excess_ret[0]+1)"
   ]
  },
  {
   "cell_type": "code",
   "execution_count": null,
   "metadata": {},
   "outputs": [],
   "source": [
    "# class BHBAnalyzer():\n",
    "    \n",
    "#     def __init__(self, \n",
    "#                  benchmark_data=None,\n",
    "#                  experiment_data=None,\n",
    "#                  raw_data=None\n",
    "#                  ):\n",
    "#         \"\"\"\n",
    "#         Args:\n",
    "#             benchmark_data: NxM list from MPT\n",
    "#             experiment_data: NxM list from RL    \n",
    "#         \"\"\"\n",
    "#         self.benchmark_data =  benchmark_data\n",
    "#         self.experiment_data = experiment_data\n",
    "#         self.raw_data = raw_data\n",
    "\n",
    "#     def frequency_analyze():\n",
    "#         pass"
   ]
  },
  {
   "cell_type": "code",
   "execution_count": null,
   "metadata": {},
   "outputs": [],
   "source": []
  },
  {
   "cell_type": "code",
   "execution_count": null,
   "metadata": {},
   "outputs": [],
   "source": []
  },
  {
   "cell_type": "code",
   "execution_count": 175,
   "metadata": {},
   "outputs": [],
   "source": [
    "bix = [([ 0.00823047,  0.01370126,  0.0130293 , -0.03616219,  0.02566298,\n",
    "        0.00409279, -0.00648145,  0.0050832 , -0.01060751]), ([-0.02661896, -0.03045875, -0.00646206,  0.00863098, -0.00966187,\n",
    "        0.0013459 , -0.00278038, -0.00690293, -0.00575269]), ([ 0.03412279,  0.04317213, -0.00784931, -0.00030436,  0.        ,\n",
    "        0.00820786,  0.00557109,  0.01202032,  0.01161662]), ([-0.00122103, -0.00291036,  0.        ,  0.01397749, -0.0479395 ,\n",
    "       -0.0158312 , -0.01084988, -0.0134832 ,  0.01023254]), ([ 0.00647903,  0.0199882 , -0.01404054, -0.02517768,  0.03391307,\n",
    "        0.        ,  0.0063694 ,  0.00678736, -0.00462963]), ([ 0.0150775 ,  0.04884214,  0.00791141, -0.01558287, -0.09805651,\n",
    "       -0.02010722, -0.01553935, -0.01457857, -0.04880291]), ([-0.02290373, -0.03197153, -0.02056963,  0.02314246,  0.01371208,\n",
    "        0.00814125, -0.00369346, -0.00730923, -0.00191385]), ([-0.00816328, -0.00548827, -0.00162594,  0.01180294,  0.14048776,\n",
    "       -0.01478501,  0.00371749,  0.00278036,  0.        ])]"
   ]
  },
  {
   "cell_type": "code",
   "execution_count": null,
   "metadata": {},
   "outputs": [],
   "source": []
  },
  {
   "cell_type": "code",
   "execution_count": null,
   "metadata": {},
   "outputs": [],
   "source": []
  },
  {
   "cell_type": "code",
   "execution_count": 222,
   "metadata": {},
   "outputs": [
    {
     "data": {
      "text/plain": [
       "8"
      ]
     },
     "execution_count": 222,
     "metadata": {},
     "output_type": "execute_result"
    }
   ],
   "source": [
    "len(bix)"
   ]
  },
  {
   "cell_type": "code",
   "execution_count": 219,
   "metadata": {},
   "outputs": [
    {
     "data": {
      "text/plain": [
       "array([4.99169276e-05, 7.25906796e-04, 0.00000000e+00])"
      ]
     },
     "execution_count": 219,
     "metadata": {},
     "output_type": "execute_result"
    }
   ],
   "source": [
    "time = 7\n",
    "sps = 3\n",
    "#sec = i\n",
    "i = 2\n",
    "\n",
    "daily_ben_weights[time][i*sps:(i+1)*sps] * bix[time][i*sps:(i+1)*sps]"
   ]
  },
  {
   "cell_type": "code",
   "execution_count": 189,
   "metadata": {},
   "outputs": [
    {
     "data": {
      "text/plain": [
       "array([0.03231707, 0.02430611, 0.13828008])"
      ]
     },
     "execution_count": 189,
     "metadata": {},
     "output_type": "execute_result"
    }
   ],
   "source": [
    "daily_ben_weights[0][3:6]"
   ]
  },
  {
   "cell_type": "code",
   "execution_count": 202,
   "metadata": {},
   "outputs": [
    {
     "data": {
      "text/plain": [
       "array([0.0006853 , 0.00126587, 0.00065867])"
      ]
     },
     "execution_count": 202,
     "metadata": {},
     "output_type": "execute_result"
    }
   ],
   "source": [
    "daily_ben_weights[time][i*sps:(i+1)*sps] * bix[time][i*sps:(i+1)*sps]"
   ]
  },
  {
   "cell_type": "code",
   "execution_count": 199,
   "metadata": {},
   "outputs": [
    {
     "data": {
      "text/plain": [
       "array([0.03231707])"
      ]
     },
     "execution_count": 199,
     "metadata": {},
     "output_type": "execute_result"
    }
   ],
   "source": [
    "daily_ben_weights[0][3:4]"
   ]
  },
  {
   "cell_type": "code",
   "execution_count": 201,
   "metadata": {},
   "outputs": [
    {
     "data": {
      "text/plain": [
       "array([0.08326435, 0.0923911 , 0.05055328])"
      ]
     },
     "execution_count": 201,
     "metadata": {},
     "output_type": "execute_result"
    }
   ],
   "source": [
    "daily_ben_weights[time][i*sps:(i+1)*sps]"
   ]
  }
 ],
 "metadata": {
  "kernelspec": {
   "display_name": "MyVenv",
   "language": "python",
   "name": "python3"
  },
  "language_info": {
   "codemirror_mode": {
    "name": "ipython",
    "version": 3
   },
   "file_extension": ".py",
   "mimetype": "text/x-python",
   "name": "python",
   "nbconvert_exporter": "python",
   "pygments_lexer": "ipython3",
   "version": "3.11.8"
  }
 },
 "nbformat": 4,
 "nbformat_minor": 2
}
