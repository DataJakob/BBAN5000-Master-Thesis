{
 "cells": [
  {
   "cell_type": "code",
   "execution_count": 1,
   "id": "f6bf3bc9",
   "metadata": {},
   "outputs": [],
   "source": [
    "import numpy as np\n",
    "import pandas as pd"
   ]
  },
  {
   "cell_type": "code",
   "execution_count": 2,
   "id": "671d1e97",
   "metadata": {},
   "outputs": [],
   "source": [
    "alfa = pd.read_csv(\"EndResults/run0/attribution.csv\")\n",
    "bravo = pd.read_csv(\"EndResults/run1/attribution.csv\")\n",
    "charlie = pd.read_csv(\"EndResults/run2/attribution.csv\")\n",
    "delta = pd.read_csv(\"EndResults/run3/attribution.csv\")"
   ]
  },
  {
   "cell_type": "code",
   "execution_count": 3,
   "id": "12a281d5",
   "metadata": {},
   "outputs": [],
   "source": [
    "runs = [alfa, bravo, charlie, delta]"
   ]
  },
  {
   "cell_type": "code",
   "execution_count": 4,
   "id": "830edd0b",
   "metadata": {},
   "outputs": [
    {
     "data": {
      "text/html": [
       "<div>\n",
       "<style scoped>\n",
       "    .dataframe tbody tr th:only-of-type {\n",
       "        vertical-align: middle;\n",
       "    }\n",
       "\n",
       "    .dataframe tbody tr th {\n",
       "        vertical-align: top;\n",
       "    }\n",
       "\n",
       "    .dataframe thead th {\n",
       "        text-align: right;\n",
       "    }\n",
       "</style>\n",
       "<table border=\"1\" class=\"dataframe\">\n",
       "  <thead>\n",
       "    <tr style=\"text-align: right;\">\n",
       "      <th></th>\n",
       "      <th>0</th>\n",
       "      <th>1</th>\n",
       "    </tr>\n",
       "  </thead>\n",
       "  <tbody>\n",
       "    <tr>\n",
       "      <th>0</th>\n",
       "      <td>[array([ 0.27, -0.14,  0.44, -0.17, -0.22, -0....</td>\n",
       "      <td>[array([ 0.63, -0.44,  0.52, -0.09, -0.08, -0....</td>\n",
       "    </tr>\n",
       "    <tr>\n",
       "      <th>1</th>\n",
       "      <td>[array([-0.09,  0.04, -0.23, -0.12, -0.25, -0....</td>\n",
       "      <td>[array([-0.21, -0.23,  0.34, -0.11, -0.12,  0....</td>\n",
       "    </tr>\n",
       "    <tr>\n",
       "      <th>2</th>\n",
       "      <td>[array([-0.06,  0.15, -0.36, -0.35, -0.19,  0....</td>\n",
       "      <td>[array([ 0.01, -0.08,  0.18,  0.15, -0.25, -0....</td>\n",
       "    </tr>\n",
       "    <tr>\n",
       "      <th>3</th>\n",
       "      <td>[array([-0.18, -0.17, -0.19, -0.28, -0.05, -0....</td>\n",
       "      <td>[array([ 0.01, -0.39,  0.38, -0.03,  0.26,  0....</td>\n",
       "    </tr>\n",
       "    <tr>\n",
       "      <th>4</th>\n",
       "      <td>[array([-0.01,  0.28, -0.58, -0.07, -0.01, -0....</td>\n",
       "      <td>[array([-0.43, -0.21,  0.09, -0.1 ,  0.33, -0....</td>\n",
       "    </tr>\n",
       "  </tbody>\n",
       "</table>\n",
       "</div>"
      ],
      "text/plain": [
       "                                                   0  \\\n",
       "0  [array([ 0.27, -0.14,  0.44, -0.17, -0.22, -0....   \n",
       "1  [array([-0.09,  0.04, -0.23, -0.12, -0.25, -0....   \n",
       "2  [array([-0.06,  0.15, -0.36, -0.35, -0.19,  0....   \n",
       "3  [array([-0.18, -0.17, -0.19, -0.28, -0.05, -0....   \n",
       "4  [array([-0.01,  0.28, -0.58, -0.07, -0.01, -0....   \n",
       "\n",
       "                                                   1  \n",
       "0  [array([ 0.63, -0.44,  0.52, -0.09, -0.08, -0....  \n",
       "1  [array([-0.21, -0.23,  0.34, -0.11, -0.12,  0....  \n",
       "2  [array([ 0.01, -0.08,  0.18,  0.15, -0.25, -0....  \n",
       "3  [array([ 0.01, -0.39,  0.38, -0.03,  0.26,  0....  \n",
       "4  [array([-0.43, -0.21,  0.09, -0.1 ,  0.33, -0....  "
      ]
     },
     "execution_count": 4,
     "metadata": {},
     "output_type": "execute_result"
    }
   ],
   "source": [
    "# run\n",
    "# cols: all / sel\n",
    "# col[0]: mu / sig / cum\n",
    "alfa"
   ]
  },
  {
   "cell_type": "code",
   "execution_count": 5,
   "id": "77f9a57f",
   "metadata": {},
   "outputs": [],
   "source": [
    "mean_all = []\n",
    "std_all = []\n",
    "cum_all = []\n",
    "\n",
    "mean_sel = []\n",
    "std_sel = []\n",
    "cum_sel = []\n",
    "\n",
    "for i in range(0,4,1): # runs\n",
    "    for j in range(0, 5, 1): # algs\n",
    "        # for y in range(0,3,1): # stat\n",
    "        hotel = runs[i].iloc[j, 0]\n",
    "        hotel = hotel.replace('array', 'np.array')\n",
    "        hotel = eval(hotel, {\"np\":np})\n",
    "        fox = runs[i].iloc[j, 1]\n",
    "        fox = fox.replace('array', 'np.array')\n",
    "        fox = eval(fox, {\"np\":np})\n",
    "        mean_sel.append(fox[0])\n",
    "        std_sel.append(fox[1])\n",
    "        cum_sel.append(fox[2])\n",
    "        mean_all.append(hotel[0])\n",
    "        std_all.append(hotel[1])\n",
    "        cum_all.append(hotel[2])"
   ]
  },
  {
   "cell_type": "code",
   "execution_count": 26,
   "id": "bbd92a81",
   "metadata": {},
   "outputs": [],
   "source": [
    "papa = [[cum_sel[i+j] for i in range(0,20,5)] for j in range(5)]"
   ]
  },
  {
   "cell_type": "code",
   "execution_count": 27,
   "id": "371deb28",
   "metadata": {},
   "outputs": [
    {
     "data": {
      "text/plain": [
       "array([[-0.595 , -1.685 ,  0.36  ,  0.175 , -0.0575,  0.285 ],\n",
       "       [ 1.5125, -1.2175, -3.97  ,  1.4275, -1.095 , -0.57  ],\n",
       "       [-1.535 , -1.1575, -3.09  , -1.0775,  0.27  , -1.17  ],\n",
       "       [-0.8375, -0.995 , -0.56  ,  1.4175,  0.53  , -0.075 ],\n",
       "       [-1.965 , -0.3575,  2.2075, -0.42  ,  0.18  , -0.2975]])"
      ]
     },
     "execution_count": 27,
     "metadata": {},
     "output_type": "execute_result"
    }
   ],
   "source": [
    "np.mean(papa, axis=1)"
   ]
  },
  {
   "cell_type": "code",
   "execution_count": null,
   "id": "ccf45471",
   "metadata": {},
   "outputs": [],
   "source": []
  }
 ],
 "metadata": {
  "kernelspec": {
   "display_name": "MyVenv",
   "language": "python",
   "name": "python3"
  },
  "language_info": {
   "codemirror_mode": {
    "name": "ipython",
    "version": 3
   },
   "file_extension": ".py",
   "mimetype": "text/x-python",
   "name": "python",
   "nbconvert_exporter": "python",
   "pygments_lexer": "ipython3",
   "version": "3.11.8"
  }
 },
 "nbformat": 4,
 "nbformat_minor": 5
}
